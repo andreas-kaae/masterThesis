{
 "cells": [
  {
   "cell_type": "code",
   "execution_count": 1,
   "id": "innovative-import",
   "metadata": {},
   "outputs": [],
   "source": [
    "# imports\n",
    "import pandas as pd\n",
    "import numpy as np\n",
    "import matplotlib.pyplot as plt\n",
    "import datetime\n",
    "from collections import OrderedDict\n",
    "import pickle\n",
    "import pickle5\n",
    "import seaborn as sns\n",
    "import folium\n",
    "\n",
    "## block warning\n",
    "import warnings\n",
    "warnings.filterwarnings('ignore')"
   ]
  },
  {
   "cell_type": "code",
   "execution_count": 3,
   "id": "smoking-notice",
   "metadata": {},
   "outputs": [
    {
     "data": {
      "text/html": [
       "<div>\n",
       "<style scoped>\n",
       "    .dataframe tbody tr th:only-of-type {\n",
       "        vertical-align: middle;\n",
       "    }\n",
       "\n",
       "    .dataframe tbody tr th {\n",
       "        vertical-align: top;\n",
       "    }\n",
       "\n",
       "    .dataframe thead th {\n",
       "        text-align: right;\n",
       "    }\n",
       "</style>\n",
       "<table border=\"1\" class=\"dataframe\">\n",
       "  <thead>\n",
       "    <tr style=\"text-align: right;\">\n",
       "      <th></th>\n",
       "      <th>life_time</th>\n",
       "      <th>datetime_start</th>\n",
       "      <th>datetime_end</th>\n",
       "      <th>latitude</th>\n",
       "      <th>longitude</th>\n",
       "      <th>distance_center_km</th>\n",
       "      <th>Station_Name</th>\n",
       "      <th>weekday_b</th>\n",
       "      <th>weekday_b_name</th>\n",
       "      <th>hour_b</th>\n",
       "      <th>...</th>\n",
       "      <th>near_inactivity_4H</th>\n",
       "      <th>near_charge_events_4H</th>\n",
       "      <th>near_charge_time_5H</th>\n",
       "      <th>near_charge_energy_5H</th>\n",
       "      <th>near_inactivity_5H</th>\n",
       "      <th>near_charge_events_5H</th>\n",
       "      <th>near_charge_time_6H</th>\n",
       "      <th>near_charge_energy_6H</th>\n",
       "      <th>near_inactivity_6H</th>\n",
       "      <th>near_charge_events_6H</th>\n",
       "    </tr>\n",
       "  </thead>\n",
       "  <tbody>\n",
       "    <tr>\n",
       "      <th>0</th>\n",
       "      <td>928.5</td>\n",
       "      <td>2018-01-31 19:51:00</td>\n",
       "      <td>2018-02-01 11:19:30</td>\n",
       "      <td>40.018482</td>\n",
       "      <td>-105.281066</td>\n",
       "      <td>0.152203</td>\n",
       "      <td>COMM VITALITY / 1104 SPRUCE1</td>\n",
       "      <td>2</td>\n",
       "      <td>Wednesday</td>\n",
       "      <td>19</td>\n",
       "      <td>...</td>\n",
       "      <td>0.0</td>\n",
       "      <td>0</td>\n",
       "      <td>0.0</td>\n",
       "      <td>0.0</td>\n",
       "      <td>0.0</td>\n",
       "      <td>0</td>\n",
       "      <td>0.0</td>\n",
       "      <td>0.0</td>\n",
       "      <td>0.0</td>\n",
       "      <td>0</td>\n",
       "    </tr>\n",
       "    <tr>\n",
       "      <th>1</th>\n",
       "      <td>363.5</td>\n",
       "      <td>2018-02-01 14:03:00</td>\n",
       "      <td>2018-02-01 20:06:30</td>\n",
       "      <td>40.018482</td>\n",
       "      <td>-105.281066</td>\n",
       "      <td>0.152203</td>\n",
       "      <td>COMM VITALITY / 1104 SPRUCE1</td>\n",
       "      <td>3</td>\n",
       "      <td>Thursday</td>\n",
       "      <td>14</td>\n",
       "      <td>...</td>\n",
       "      <td>0.0</td>\n",
       "      <td>0</td>\n",
       "      <td>0.0</td>\n",
       "      <td>0.0</td>\n",
       "      <td>0.0</td>\n",
       "      <td>0</td>\n",
       "      <td>0.0</td>\n",
       "      <td>0.0</td>\n",
       "      <td>0.0</td>\n",
       "      <td>0</td>\n",
       "    </tr>\n",
       "    <tr>\n",
       "      <th>2</th>\n",
       "      <td>6828.5</td>\n",
       "      <td>2018-02-01 21:15:00</td>\n",
       "      <td>2018-02-06 15:03:30</td>\n",
       "      <td>40.018482</td>\n",
       "      <td>-105.281066</td>\n",
       "      <td>0.152203</td>\n",
       "      <td>COMM VITALITY / 1104 SPRUCE1</td>\n",
       "      <td>3</td>\n",
       "      <td>Thursday</td>\n",
       "      <td>21</td>\n",
       "      <td>...</td>\n",
       "      <td>0.0</td>\n",
       "      <td>0</td>\n",
       "      <td>0.0</td>\n",
       "      <td>0.0</td>\n",
       "      <td>0.0</td>\n",
       "      <td>0</td>\n",
       "      <td>0.0</td>\n",
       "      <td>0.0</td>\n",
       "      <td>0.0</td>\n",
       "      <td>0</td>\n",
       "    </tr>\n",
       "    <tr>\n",
       "      <th>3</th>\n",
       "      <td>5871.5</td>\n",
       "      <td>2018-02-06 15:27:00</td>\n",
       "      <td>2018-02-10 17:18:30</td>\n",
       "      <td>40.018482</td>\n",
       "      <td>-105.281066</td>\n",
       "      <td>0.152203</td>\n",
       "      <td>COMM VITALITY / 1104 SPRUCE1</td>\n",
       "      <td>1</td>\n",
       "      <td>Tuesday</td>\n",
       "      <td>15</td>\n",
       "      <td>...</td>\n",
       "      <td>0.0</td>\n",
       "      <td>0</td>\n",
       "      <td>0.0</td>\n",
       "      <td>0.0</td>\n",
       "      <td>0.0</td>\n",
       "      <td>0</td>\n",
       "      <td>0.0</td>\n",
       "      <td>0.0</td>\n",
       "      <td>0.0</td>\n",
       "      <td>0</td>\n",
       "    </tr>\n",
       "    <tr>\n",
       "      <th>4</th>\n",
       "      <td>1454.5</td>\n",
       "      <td>2018-02-10 18:26:00</td>\n",
       "      <td>2018-02-11 18:40:30</td>\n",
       "      <td>40.018482</td>\n",
       "      <td>-105.281066</td>\n",
       "      <td>0.152203</td>\n",
       "      <td>COMM VITALITY / 1104 SPRUCE1</td>\n",
       "      <td>5</td>\n",
       "      <td>Saturday</td>\n",
       "      <td>18</td>\n",
       "      <td>...</td>\n",
       "      <td>0.0</td>\n",
       "      <td>0</td>\n",
       "      <td>0.0</td>\n",
       "      <td>0.0</td>\n",
       "      <td>0.0</td>\n",
       "      <td>0</td>\n",
       "      <td>0.0</td>\n",
       "      <td>0.0</td>\n",
       "      <td>0.0</td>\n",
       "      <td>0</td>\n",
       "    </tr>\n",
       "  </tbody>\n",
       "</table>\n",
       "<p>5 rows × 63 columns</p>\n",
       "</div>"
      ],
      "text/plain": [
       "   life_time      datetime_start        datetime_end   latitude   longitude  \\\n",
       "0      928.5 2018-01-31 19:51:00 2018-02-01 11:19:30  40.018482 -105.281066   \n",
       "1      363.5 2018-02-01 14:03:00 2018-02-01 20:06:30  40.018482 -105.281066   \n",
       "2     6828.5 2018-02-01 21:15:00 2018-02-06 15:03:30  40.018482 -105.281066   \n",
       "3     5871.5 2018-02-06 15:27:00 2018-02-10 17:18:30  40.018482 -105.281066   \n",
       "4     1454.5 2018-02-10 18:26:00 2018-02-11 18:40:30  40.018482 -105.281066   \n",
       "\n",
       "   distance_center_km                  Station_Name  weekday_b weekday_b_name  \\\n",
       "0            0.152203  COMM VITALITY / 1104 SPRUCE1          2      Wednesday   \n",
       "1            0.152203  COMM VITALITY / 1104 SPRUCE1          3       Thursday   \n",
       "2            0.152203  COMM VITALITY / 1104 SPRUCE1          3       Thursday   \n",
       "3            0.152203  COMM VITALITY / 1104 SPRUCE1          1        Tuesday   \n",
       "4            0.152203  COMM VITALITY / 1104 SPRUCE1          5       Saturday   \n",
       "\n",
       "   hour_b  ...  near_inactivity_4H  near_charge_events_4H  \\\n",
       "0      19  ...                 0.0                      0   \n",
       "1      14  ...                 0.0                      0   \n",
       "2      21  ...                 0.0                      0   \n",
       "3      15  ...                 0.0                      0   \n",
       "4      18  ...                 0.0                      0   \n",
       "\n",
       "   near_charge_time_5H  near_charge_energy_5H  near_inactivity_5H  \\\n",
       "0                  0.0                    0.0                 0.0   \n",
       "1                  0.0                    0.0                 0.0   \n",
       "2                  0.0                    0.0                 0.0   \n",
       "3                  0.0                    0.0                 0.0   \n",
       "4                  0.0                    0.0                 0.0   \n",
       "\n",
       "   near_charge_events_5H  near_charge_time_6H  near_charge_energy_6H  \\\n",
       "0                      0                  0.0                    0.0   \n",
       "1                      0                  0.0                    0.0   \n",
       "2                      0                  0.0                    0.0   \n",
       "3                      0                  0.0                    0.0   \n",
       "4                      0                  0.0                    0.0   \n",
       "\n",
       "   near_inactivity_6H  near_charge_events_6H  \n",
       "0                 0.0                      0  \n",
       "1                 0.0                      0  \n",
       "2                 0.0                      0  \n",
       "3                 0.0                      0  \n",
       "4                 0.0                      0  \n",
       "\n",
       "[5 rows x 63 columns]"
      ]
     },
     "execution_count": 3,
     "metadata": {},
     "output_type": "execute_result"
    }
   ],
   "source": [
    "# under_utilization data\n",
    "with open(\"../data/under_utilization_combinedStations_laggedV5.pkl\", \"rb\") as fh:\n",
    "    df = pickle5.load(fh)\n",
    "    \n",
    "df.head()"
   ]
  },
  {
   "cell_type": "code",
   "execution_count": 4,
   "id": "textile-scout",
   "metadata": {},
   "outputs": [],
   "source": [
    "## Limit to only top 10 stations\n",
    "temp = df.groupby(['Station_Name']).count().latitude # group the data for each station\n",
    "names4 = temp.sort_values(ascending=False)[0:4]\n",
    "names4 = names4.index.values\n",
    "names8 = temp.sort_values(ascending=False)[0:8]\n",
    "names8 = names8.index.values"
   ]
  },
  {
   "cell_type": "code",
   "execution_count": 5,
   "id": "outside-confidentiality",
   "metadata": {},
   "outputs": [],
   "source": [
    "names = df['Station_Name'].unique()"
   ]
  },
  {
   "cell_type": "code",
   "execution_count": 6,
   "id": "directed-maine",
   "metadata": {},
   "outputs": [],
   "source": [
    "coordinate_dict4 = {}\n",
    "for name in names4:\n",
    "    temp = df[df['Station_Name'] == name]\n",
    "    coordinate_dict4[name] = [temp.latitude.unique()[0], temp.longitude.unique()[0]]\n",
    "    \n",
    "coordinate_dict8 = {}\n",
    "for name in names8:\n",
    "    temp = df[df['Station_Name'] == name]\n",
    "    coordinate_dict8[name] = [temp.latitude.unique()[0], temp.longitude.unique()[0]]\n",
    "    \n",
    "coordinate_dict17 = {}\n",
    "for name in df['Station_Name'].unique():\n",
    "    temp = df[df['Station_Name'] == name]\n",
    "    coordinate_dict17[name] = [temp.latitude.unique()[0], temp.longitude.unique()[0]]"
   ]
  },
  {
   "cell_type": "markdown",
   "id": "front-capability",
   "metadata": {},
   "source": [
    "### Map for all stations"
   ]
  },
  {
   "cell_type": "code",
   "execution_count": 7,
   "id": "hungarian-aruba",
   "metadata": {},
   "outputs": [
    {
     "data": {
      "text/html": [
       "<div style=\"width:100%;\"><div style=\"position:relative;width:100%;height:0;padding-bottom:60%;\"><iframe src=\"about:blank\" style=\"position:absolute;width:100%;height:100%;left:0;top:0;border:none !important;\" data-html=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 onload=\"this.contentDocument.open();this.contentDocument.write(atob(this.getAttribute('data-html')));this.contentDocument.close();\" allowfullscreen webkitallowfullscreen mozallowfullscreen></iframe></div></div>"
      ],
      "text/plain": [
       "<folium.folium.Map at 0x270ff2b1da0>"
      ]
     },
     "execution_count": 7,
     "metadata": {},
     "output_type": "execute_result"
    }
   ],
   "source": [
    "map_B = folium.Map([40.0, -105.2705], zoom_start=14)\n",
    "for name in coordinate_dict17:\n",
    "    folium.Marker([coordinate_dict17[name][0] , coordinate_dict17[name][1]], popup=name).add_to(map_B)\n",
    "map_B"
   ]
  },
  {
   "cell_type": "markdown",
   "id": "romance-armenia",
   "metadata": {},
   "source": [
    "Determine what stations are outside center and inside center."
   ]
  },
  {
   "cell_type": "code",
   "execution_count": 8,
   "id": "involved-serbia",
   "metadata": {},
   "outputs": [],
   "source": [
    "outside = ['BOULDER / BASELINE ST1','BOULDER / ALPINE ST1', 'BOULDER / N BOULDER REC 1',\n",
    "           'COMM VITALITY / BOULDER JCTN', 'BOULDER / JUNCTION ST1', 'BOULDER / EAST REC',\n",
    "           'BOULDER / REC CENTER', 'BOULDERJUNCTION / JUNCTION ST1']\n",
    "inside = list(set(names) - set(outside))"
   ]
  },
  {
   "cell_type": "markdown",
   "id": "million-moral",
   "metadata": {},
   "source": [
    "**Outside city center**"
   ]
  },
  {
   "cell_type": "code",
   "execution_count": 9,
   "id": "mysterious-wiring",
   "metadata": {},
   "outputs": [
    {
     "data": {
      "text/html": [
       "<div style=\"width:100%;\"><div style=\"position:relative;width:100%;height:0;padding-bottom:60%;\"><iframe src=\"about:blank\" style=\"position:absolute;width:100%;height:100%;left:0;top:0;border:none !important;\" data-html=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 onload=\"this.contentDocument.open();this.contentDocument.write(atob(this.getAttribute('data-html')));this.contentDocument.close();\" allowfullscreen webkitallowfullscreen mozallowfullscreen></iframe></div></div>"
      ],
      "text/plain": [
       "<folium.folium.Map at 0x270ff30b6a0>"
      ]
     },
     "execution_count": 9,
     "metadata": {},
     "output_type": "execute_result"
    }
   ],
   "source": [
    "map_B = folium.Map([40.01, -105.2705], zoom_start=12, control_scale=True,\n",
    "                   width=400, heigh=450)\n",
    "# Adding points ontop of the map\n",
    "[folium.CircleMarker(\n",
    "                     location=[coordinate_dict17[name][0] , coordinate_dict17[name][1]], #Given all relevant coordinates \n",
    "                     radius=5, #setting the radius of the marker to 1\n",
    "                     color='blue',\n",
    "                     fill_color='white') #selecting the prefered color of the datapoints\n",
    "                     .add_to(map_B) #adding the points to the map\n",
    "                     for name in outside] # adding all the point by using a for-loop\n",
    "\n",
    "\n",
    "    \n",
    "nam = 'BOULDER / BASELINE ST1'\n",
    "folium.Marker(location = [coordinate_dict17[nam][0],\n",
    "              coordinate_dict17[nam][1]-0.003],\n",
    "              icon=folium.DivIcon(html=\"<b>3<b>\")\n",
    "             ).add_to(map_B)\n",
    "\n",
    "nam = 'BOULDER / ALPINE ST1'\n",
    "folium.Marker(location = [coordinate_dict17[nam][0],\n",
    "              coordinate_dict17[nam][1]-0.003],\n",
    "              icon=folium.DivIcon(html=\"<b>1<b>\")\n",
    "             ).add_to(map_B)\n",
    "\n",
    "nam =  'BOULDER / N BOULDER REC 1'\n",
    "folium.Marker(location = [coordinate_dict17[nam][0],\n",
    "              coordinate_dict17[nam][1]-0.003],\n",
    "              icon=folium.DivIcon(html=\"<b>8<b>\")\n",
    "             ).add_to(map_B)\n",
    "\n",
    "nam =  'COMM VITALITY / BOULDER JCTN'\n",
    "folium.Marker(location = [coordinate_dict17[nam][0]+0.003,\n",
    "              coordinate_dict17[nam][1]+0.003],\n",
    "              icon=folium.DivIcon(html=\"<b>18<b>\")\n",
    "             ).add_to(map_B)\n",
    "\n",
    "nam =  'BOULDERJUNCTION / JUNCTION ST1'\n",
    "folium.Marker(location = [coordinate_dict17[nam][0]-0.002,\n",
    "              coordinate_dict17[nam][1]-0.004],\n",
    "              icon=folium.DivIcon(html=\"<b>10<b>\")\n",
    "             ).add_to(map_B)\n",
    "\n",
    "nam =  'BOULDER / JUNCTION ST1'\n",
    "folium.Marker(location = [coordinate_dict17[nam][0]-0.001,\n",
    "              coordinate_dict17[nam][1]+0.006],\n",
    "              icon=folium.DivIcon(html=\"<b>7<b>\")\n",
    "             ).add_to(map_B)\n",
    "\n",
    "nam =  'BOULDER / EAST REC'\n",
    "folium.Marker(location = [coordinate_dict17[nam][0],\n",
    "              coordinate_dict17[nam][1]-0.003],\n",
    "              icon=folium.DivIcon(html=\"<b>5<b>\")\n",
    "             ).add_to(map_B)\n",
    "\n",
    "nam =  'BOULDER / REC CENTER'\n",
    "folium.Marker(location = [coordinate_dict17[nam][0],\n",
    "              coordinate_dict17[nam][1]-0.003],\n",
    "              icon=folium.DivIcon(html=\"<b>9<b>\")\n",
    "             ).add_to(map_B)\n",
    "map_B"
   ]
  },
  {
   "cell_type": "code",
   "execution_count": 10,
   "id": "phantom-weight",
   "metadata": {},
   "outputs": [],
   "source": [
    "#map_B.save('../Visualization/BoulderMap_outskirts.html')"
   ]
  },
  {
   "cell_type": "markdown",
   "id": "portuguese-lounge",
   "metadata": {},
   "source": [
    "**Inside city center**"
   ]
  },
  {
   "cell_type": "code",
   "execution_count": 11,
   "id": "wireless-apparel",
   "metadata": {},
   "outputs": [
    {
     "data": {
      "text/html": [
       "<div style=\"width:100%;\"><div style=\"position:relative;width:100%;height:0;padding-bottom:60%;\"><iframe src=\"about:blank\" style=\"position:absolute;width:100%;height:100%;left:0;top:0;border:none !important;\" data-html=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 onload=\"this.contentDocument.open();this.contentDocument.write(atob(this.getAttribute('data-html')));this.contentDocument.close();\" allowfullscreen webkitallowfullscreen mozallowfullscreen></iframe></div></div>"
      ],
      "text/plain": [
       "<folium.folium.Map at 0x270ff34cac8>"
      ]
     },
     "execution_count": 11,
     "metadata": {},
     "output_type": "execute_result"
    }
   ],
   "source": [
    "map_B = folium.Map([40.018, -105.279157], zoom_start=15, control_scale=True,\n",
    "                   width=400, heigh=450)\n",
    "# Adding points ontop of the map\n",
    "[folium.CircleMarker(\n",
    "                     location=[coordinate_dict17[name][0] , coordinate_dict17[name][1]], #Given all relevant coordinates \n",
    "                     radius=5, #setting the radius of the marker to 1\n",
    "                     color='blue',\n",
    "                     fill_color='white') #selecting the prefered color of the datapoints\n",
    "                     .add_to(map_B) #adding the points to the map\n",
    "                     for name in inside] # adding all the point by using a for-loop\n",
    "\n",
    "\n",
    "    \n",
    "nam = 'COMM VITALITY / 1104 SPRUCE1'\n",
    "folium.Marker(location = [coordinate_dict17[nam][0],\n",
    "              coordinate_dict17[nam][1]-0.0009],\n",
    "              icon=folium.DivIcon(html=\"<b>13<b>\")\n",
    "             ).add_to(map_B)\n",
    "\n",
    "nam = 'BOULDER / BOULDER PARK'\n",
    "folium.Marker(location = [coordinate_dict17[nam][0]-0.0004,\n",
    "              coordinate_dict17[nam][1]-0.0002],\n",
    "              icon=folium.DivIcon(html=\"<b>4<b>\")\n",
    "             ).add_to(map_B)\n",
    "\n",
    "nam =  'COMM VITALITY / 1500PEARL'\n",
    "folium.Marker(location = [coordinate_dict17[nam][0],\n",
    "              coordinate_dict17[nam][1]-0.0007],\n",
    "              icon=folium.DivIcon(html=\"<b>15<b>\")\n",
    "             ).add_to(map_B)\n",
    "\n",
    "nam =  'COMM VITALITY / 1100WALNUT1'\n",
    "folium.Marker(location = [coordinate_dict17[nam][0],\n",
    "              coordinate_dict17[nam][1]+0.0007],\n",
    "              icon=folium.DivIcon(html=\"<b>11<b>\")\n",
    "             ).add_to(map_B)\n",
    "\n",
    "nam =  'COMM VITALITY / 2200 BROADWAY1'\n",
    "folium.Marker(location = [coordinate_dict17[nam][0],\n",
    "              coordinate_dict17[nam][1]+0.0007],\n",
    "              icon=folium.DivIcon(html=\"<b>16<b>\")\n",
    "             ).add_to(map_B)\n",
    "\n",
    "nam =  'BOULDER / FACILITIES ST1'\n",
    "folium.Marker(location = [coordinate_dict17[nam][0]-0.0004,\n",
    "              coordinate_dict17[nam][1]+0.0003],\n",
    "              icon=folium.DivIcon(html=\"<b>6<b>\")\n",
    "             ).add_to(map_B)\n",
    "\n",
    "nam =  'BOULDER / ATRIUM ST1'\n",
    "folium.Marker(location = [coordinate_dict17[nam][0]+0.0005,\n",
    "              coordinate_dict17[nam][1]-0.0003],\n",
    "              icon=folium.DivIcon(html=\"<b>2<b>\")\n",
    "             ).add_to(map_B)\n",
    "\n",
    "nam =  'COMM VITALITY / 1000WALNUT'\n",
    "folium.Marker(location = [coordinate_dict17[nam][0]-0.0004,\n",
    "              coordinate_dict17[nam][1]+0.0003],\n",
    "              icon=folium.DivIcon(html=\"<b>12<b>\")\n",
    "             ).add_to(map_B)\n",
    "\n",
    "nam =  'COMM VITALITY / 1400 WALNUT1'\n",
    "folium.Marker(location = [coordinate_dict17[nam][0]-0.0004,\n",
    "              coordinate_dict17[nam][1]+0.0003],\n",
    "              icon=folium.DivIcon(html=\"<b>14<b>\")\n",
    "             ).add_to(map_B)\n",
    "map_B"
   ]
  },
  {
   "cell_type": "code",
   "execution_count": 12,
   "id": "vertical-champion",
   "metadata": {},
   "outputs": [],
   "source": [
    "#map_B.save('../Visualization/BoulderMap_center.html')"
   ]
  },
  {
   "cell_type": "markdown",
   "id": "handed-blond",
   "metadata": {},
   "source": [
    "### Map for the four station"
   ]
  },
  {
   "cell_type": "code",
   "execution_count": 14,
   "id": "organizational-messaging",
   "metadata": {},
   "outputs": [],
   "source": [
    "names4_short = ['1000 WALNUT', 'N BOULDER', '1104 SPRUCE', 'BASELINE']"
   ]
  },
  {
   "cell_type": "code",
   "execution_count": 15,
   "id": "centered-journalism",
   "metadata": {},
   "outputs": [
    {
     "data": {
      "text/html": [
       "<div style=\"width:100%;\"><div style=\"position:relative;width:100%;height:0;padding-bottom:60%;\"><iframe src=\"about:blank\" style=\"position:absolute;width:100%;height:100%;left:0;top:0;border:none !important;\" data-html=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 onload=\"this.contentDocument.open();this.contentDocument.write(atob(this.getAttribute('data-html')));this.contentDocument.close();\" allowfullscreen webkitallowfullscreen mozallowfullscreen></iframe></div></div>"
      ],
      "text/plain": [
       "<folium.folium.Map at 0x270ff3025c0>"
      ]
     },
     "execution_count": 15,
     "metadata": {},
     "output_type": "execute_result"
    }
   ],
   "source": [
    "map_B = folium.Map([40.03, -105.2705], tiles=\"OpenStreetMap\", zoom_start=12.45, control_scale=True,\n",
    "                   width=400, height= 450)\n",
    "# Adding points ontop of the map\n",
    "[folium.CircleMarker(\n",
    "                     location=[coordinate_dict4[name][0] , coordinate_dict4[name][1]], #Given all relevant coordinates \n",
    "                     radius=5, #setting the radius of the marker to 1\n",
    "                     color='red',\n",
    "                     fill_color='white') #selecting the prefered color of the datapoints\n",
    "                     .add_to(map_B) #adding the points to the map\n",
    "                     for name in coordinate_dict4] # adding all the point by using a for-loop\n",
    "\n",
    "nam = 'COMM VITALITY / 1000WALNUT'\n",
    "folium.Marker(location = [coordinate_dict4[nam][0]-0.004,\n",
    "              coordinate_dict4[nam][1]-0.023],\n",
    "              icon=folium.DivIcon(html=\"<b>1000_WALNUT<b>\")\n",
    "             ).add_to(map_B)\n",
    "\n",
    "nam = 'COMM VITALITY / 1104 SPRUCE1'\n",
    "folium.Marker(location = [coordinate_dict4[nam][0]+0.005,\n",
    "              coordinate_dict4[nam][1]-0.012],\n",
    "              icon=folium.DivIcon(html=\"<b>1104_SPRUCE<b>\")\n",
    "             ).add_to(map_B)\n",
    "\n",
    "nam = 'BOULDER / N BOULDER REC 1'\n",
    "folium.Marker(location = [coordinate_dict4[nam][0]+0.005,\n",
    "              coordinate_dict4[nam][1]-0.01],\n",
    "              icon=folium.DivIcon(html=\"<b>N_BOULDER<b>\")\n",
    "             ).add_to(map_B)\n",
    "\n",
    "nam = 'BOULDER / BASELINE ST1'\n",
    "folium.Marker(location = [coordinate_dict4[nam][0]-0.003,\n",
    "              coordinate_dict4[nam][1]-0.008],\n",
    "              icon=folium.DivIcon(html=\"<b>BASELINE<b>\")\n",
    "             ).add_to(map_B)\n",
    "map_B"
   ]
  },
  {
   "cell_type": "code",
   "execution_count": 16,
   "id": "promising-jefferson",
   "metadata": {},
   "outputs": [],
   "source": [
    "#map_B.save('../Visualization/BoulderMap4stat.html')"
   ]
  },
  {
   "cell_type": "code",
   "execution_count": 17,
   "id": "planned-scientist",
   "metadata": {},
   "outputs": [
    {
     "data": {
      "text/html": [
       "<div style=\"width:100%;\"><div style=\"position:relative;width:100%;height:0;padding-bottom:60%;\"><iframe src=\"about:blank\" style=\"position:absolute;width:100%;height:100%;left:0;top:0;border:none !important;\" data-html=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 onload=\"this.contentDocument.open();this.contentDocument.write(atob(this.getAttribute('data-html')));this.contentDocument.close();\" allowfullscreen webkitallowfullscreen mozallowfullscreen></iframe></div></div>"
      ],
      "text/plain": [
       "<folium.folium.Map at 0x270ff34c2e8>"
      ]
     },
     "execution_count": 17,
     "metadata": {},
     "output_type": "execute_result"
    }
   ],
   "source": [
    "map_B = folium.Map([40.02, -105.26], tiles=\"OpenStreetMap\", zoom_start=12.45, control_scale=True,\n",
    "                   width=400, height= 450)\n",
    "# Adding points ontop of the map\n",
    "[folium.CircleMarker(\n",
    "                     location=[coordinate_dict17[name][0] , coordinate_dict17[name][1]], #Given all relevant coordinates \n",
    "                     radius=3, #setting the radius of the marker to 1\n",
    "                     color='blue',\n",
    "                     fill_color='white') #selecting the prefered color of the datapoints\n",
    "                     .add_to(map_B) #adding the points to the map\n",
    "                     for name in coordinate_dict17] # adding all the point by using a for-loop\n",
    "map_B"
   ]
  },
  {
   "cell_type": "code",
   "execution_count": null,
   "id": "postal-sociology",
   "metadata": {},
   "outputs": [],
   "source": [
    "#map_B.save('../Visualization/BoulderMap.html')"
   ]
  },
  {
   "cell_type": "code",
   "execution_count": null,
   "id": "found-waters",
   "metadata": {},
   "outputs": [],
   "source": []
  }
 ],
 "metadata": {
  "kernelspec": {
   "display_name": "Python 3",
   "language": "python",
   "name": "python3"
  },
  "language_info": {
   "codemirror_mode": {
    "name": "ipython",
    "version": 3
   },
   "file_extension": ".py",
   "mimetype": "text/x-python",
   "name": "python",
   "nbconvert_exporter": "python",
   "pygments_lexer": "ipython3",
   "version": "3.7.3"
  }
 },
 "nbformat": 4,
 "nbformat_minor": 5
}
