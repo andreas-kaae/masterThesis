{
 "cells": [
  {
   "cell_type": "code",
   "execution_count": 1,
   "id": "recovered-denmark",
   "metadata": {},
   "outputs": [],
   "source": [
    "## imports \n",
    "import pandas as pd\n",
    "import numpy as np\n",
    "import matplotlib.pyplot as plt\n",
    "import seaborn as sns\n",
    "from scipy.stats import mode\n",
    "import folium\n",
    "import datetime\n",
    "import altair as alt\n",
    "from collections import OrderedDict\n",
    "from matplotlib.ticker import PercentFormatter\n",
    "import pickle5\n",
    "%matplotlib inline"
   ]
  },
  {
   "cell_type": "code",
   "execution_count": 2,
   "id": "engaging-perfume",
   "metadata": {},
   "outputs": [
    {
     "data": {
      "text/html": [
       "<div>\n",
       "<style scoped>\n",
       "    .dataframe tbody tr th:only-of-type {\n",
       "        vertical-align: middle;\n",
       "    }\n",
       "\n",
       "    .dataframe tbody tr th {\n",
       "        vertical-align: top;\n",
       "    }\n",
       "\n",
       "    .dataframe thead th {\n",
       "        text-align: right;\n",
       "    }\n",
       "</style>\n",
       "<table border=\"1\" class=\"dataframe\">\n",
       "  <thead>\n",
       "    <tr style=\"text-align: right;\">\n",
       "      <th></th>\n",
       "      <th>Station_Name</th>\n",
       "      <th>Station_Address</th>\n",
       "      <th>City</th>\n",
       "      <th>State_Province</th>\n",
       "      <th>Postal_Code</th>\n",
       "      <th>Transaction_Date</th>\n",
       "      <th>Transaction_Start_Time</th>\n",
       "      <th>Charging_Time__minutes_</th>\n",
       "      <th>Energy__kWh_</th>\n",
       "      <th>GHG_Savings__kg_</th>\n",
       "      <th>...</th>\n",
       "      <th>Transaction_Date_Datetime</th>\n",
       "      <th>start_Datetime</th>\n",
       "      <th>end_Datetime</th>\n",
       "      <th>year</th>\n",
       "      <th>idle_time_minutes</th>\n",
       "      <th>latitude</th>\n",
       "      <th>longitude</th>\n",
       "      <th>weekday</th>\n",
       "      <th>weekday_name</th>\n",
       "      <th>distance_center_km</th>\n",
       "    </tr>\n",
       "  </thead>\n",
       "  <tbody>\n",
       "    <tr>\n",
       "      <th>0</th>\n",
       "      <td>COMM VITALITY / 1104 SPRUCE1</td>\n",
       "      <td>1100 Spruce St</td>\n",
       "      <td>Boulder</td>\n",
       "      <td>Colorado</td>\n",
       "      <td>80302</td>\n",
       "      <td>2018/01/31 00:00:00+00</td>\n",
       "      <td>2021/01/21 17:43:00+00</td>\n",
       "      <td>128.0</td>\n",
       "      <td>2.84</td>\n",
       "      <td>1.19</td>\n",
       "      <td>...</td>\n",
       "      <td>2018-01-31 00:00:00+00:00</td>\n",
       "      <td>2018-01-31 17:43:00</td>\n",
       "      <td>2018-01-31 19:51:00</td>\n",
       "      <td>2018</td>\n",
       "      <td>929.0</td>\n",
       "      <td>40.018482</td>\n",
       "      <td>-105.281066</td>\n",
       "      <td>2</td>\n",
       "      <td>Wednesday</td>\n",
       "      <td>0.152203</td>\n",
       "    </tr>\n",
       "    <tr>\n",
       "      <th>1</th>\n",
       "      <td>COMM VITALITY / 1000WALNUT1</td>\n",
       "      <td>900 Walnut St</td>\n",
       "      <td>Boulder</td>\n",
       "      <td>Colorado</td>\n",
       "      <td>80302</td>\n",
       "      <td>2018/01/31 00:00:00+00</td>\n",
       "      <td>2021/01/21 17:16:00+00</td>\n",
       "      <td>68.0</td>\n",
       "      <td>5.66</td>\n",
       "      <td>2.38</td>\n",
       "      <td>...</td>\n",
       "      <td>2018-01-31 00:00:00+00:00</td>\n",
       "      <td>2018-01-31 17:16:00</td>\n",
       "      <td>2018-01-31 18:24:00</td>\n",
       "      <td>2018</td>\n",
       "      <td>228.0</td>\n",
       "      <td>40.015994</td>\n",
       "      <td>-105.282473</td>\n",
       "      <td>2</td>\n",
       "      <td>Wednesday</td>\n",
       "      <td>0.378654</td>\n",
       "    </tr>\n",
       "    <tr>\n",
       "      <th>2</th>\n",
       "      <td>BOULDER / REC CENTER ST2</td>\n",
       "      <td>1305-1335 Gillaspie Dr</td>\n",
       "      <td>Boulder</td>\n",
       "      <td>Colorado</td>\n",
       "      <td>80305</td>\n",
       "      <td>2018/01/31 00:00:00+00</td>\n",
       "      <td>2021/01/21 13:52:00+00</td>\n",
       "      <td>73.0</td>\n",
       "      <td>3.94</td>\n",
       "      <td>1.65</td>\n",
       "      <td>...</td>\n",
       "      <td>2018-01-31 00:00:00+00:00</td>\n",
       "      <td>2018-01-31 13:52:00</td>\n",
       "      <td>2018-01-31 15:05:00</td>\n",
       "      <td>2018</td>\n",
       "      <td>2356.0</td>\n",
       "      <td>39.974881</td>\n",
       "      <td>-105.249219</td>\n",
       "      <td>2</td>\n",
       "      <td>Wednesday</td>\n",
       "      <td>5.638648</td>\n",
       "    </tr>\n",
       "    <tr>\n",
       "      <th>3</th>\n",
       "      <td>BOULDER / BASELINE ST1</td>\n",
       "      <td>900 Baseline Rd</td>\n",
       "      <td>Boulder</td>\n",
       "      <td>Colorado</td>\n",
       "      <td>80302</td>\n",
       "      <td>2018/01/31 00:00:00+00</td>\n",
       "      <td>2021/01/21 13:54:00+00</td>\n",
       "      <td>40.0</td>\n",
       "      <td>4.42</td>\n",
       "      <td>1.86</td>\n",
       "      <td>...</td>\n",
       "      <td>2018-01-31 00:00:00+00:00</td>\n",
       "      <td>2018-01-31 13:54:00</td>\n",
       "      <td>2018-01-31 14:34:00</td>\n",
       "      <td>2018</td>\n",
       "      <td>1259.0</td>\n",
       "      <td>40.000148</td>\n",
       "      <td>-105.282437</td>\n",
       "      <td>2</td>\n",
       "      <td>Wednesday</td>\n",
       "      <td>2.096847</td>\n",
       "    </tr>\n",
       "    <tr>\n",
       "      <th>4</th>\n",
       "      <td>BOULDER / BASELINE ST1</td>\n",
       "      <td>900 Baseline Rd</td>\n",
       "      <td>Boulder</td>\n",
       "      <td>Colorado</td>\n",
       "      <td>80302</td>\n",
       "      <td>2018/01/31 00:00:00+00</td>\n",
       "      <td>2021/01/21 11:51:00+00</td>\n",
       "      <td>42.0</td>\n",
       "      <td>4.60</td>\n",
       "      <td>1.93</td>\n",
       "      <td>...</td>\n",
       "      <td>2018-01-31 00:00:00+00:00</td>\n",
       "      <td>2018-01-31 11:51:00</td>\n",
       "      <td>2018-01-31 12:33:00</td>\n",
       "      <td>2018</td>\n",
       "      <td>81.0</td>\n",
       "      <td>40.000148</td>\n",
       "      <td>-105.282437</td>\n",
       "      <td>2</td>\n",
       "      <td>Wednesday</td>\n",
       "      <td>2.096847</td>\n",
       "    </tr>\n",
       "  </tbody>\n",
       "</table>\n",
       "<p>5 rows × 24 columns</p>\n",
       "</div>"
      ],
      "text/plain": [
       "                   Station_Name         Station_Address     City  \\\n",
       "0  COMM VITALITY / 1104 SPRUCE1          1100 Spruce St  Boulder   \n",
       "1   COMM VITALITY / 1000WALNUT1           900 Walnut St  Boulder   \n",
       "2      BOULDER / REC CENTER ST2  1305-1335 Gillaspie Dr  Boulder   \n",
       "3        BOULDER / BASELINE ST1         900 Baseline Rd  Boulder   \n",
       "4        BOULDER / BASELINE ST1         900 Baseline Rd  Boulder   \n",
       "\n",
       "  State_Province  Postal_Code        Transaction_Date  Transaction_Start_Time  \\\n",
       "0       Colorado        80302  2018/01/31 00:00:00+00  2021/01/21 17:43:00+00   \n",
       "1       Colorado        80302  2018/01/31 00:00:00+00  2021/01/21 17:16:00+00   \n",
       "2       Colorado        80305  2018/01/31 00:00:00+00  2021/01/21 13:52:00+00   \n",
       "3       Colorado        80302  2018/01/31 00:00:00+00  2021/01/21 13:54:00+00   \n",
       "4       Colorado        80302  2018/01/31 00:00:00+00  2021/01/21 11:51:00+00   \n",
       "\n",
       "   Charging_Time__minutes_  Energy__kWh_  GHG_Savings__kg_  ...  \\\n",
       "0                    128.0          2.84              1.19  ...   \n",
       "1                     68.0          5.66              2.38  ...   \n",
       "2                     73.0          3.94              1.65  ...   \n",
       "3                     40.0          4.42              1.86  ...   \n",
       "4                     42.0          4.60              1.93  ...   \n",
       "\n",
       "   Transaction_Date_Datetime      start_Datetime        end_Datetime  year  \\\n",
       "0  2018-01-31 00:00:00+00:00 2018-01-31 17:43:00 2018-01-31 19:51:00  2018   \n",
       "1  2018-01-31 00:00:00+00:00 2018-01-31 17:16:00 2018-01-31 18:24:00  2018   \n",
       "2  2018-01-31 00:00:00+00:00 2018-01-31 13:52:00 2018-01-31 15:05:00  2018   \n",
       "3  2018-01-31 00:00:00+00:00 2018-01-31 13:54:00 2018-01-31 14:34:00  2018   \n",
       "4  2018-01-31 00:00:00+00:00 2018-01-31 11:51:00 2018-01-31 12:33:00  2018   \n",
       "\n",
       "  idle_time_minutes   latitude   longitude  weekday  weekday_name  \\\n",
       "0             929.0  40.018482 -105.281066        2     Wednesday   \n",
       "1             228.0  40.015994 -105.282473        2     Wednesday   \n",
       "2            2356.0  39.974881 -105.249219        2     Wednesday   \n",
       "3            1259.0  40.000148 -105.282437        2     Wednesday   \n",
       "4              81.0  40.000148 -105.282437        2     Wednesday   \n",
       "\n",
       "   distance_center_km  \n",
       "0            0.152203  \n",
       "1            0.378654  \n",
       "2            5.638648  \n",
       "3            2.096847  \n",
       "4            2.096847  \n",
       "\n",
       "[5 rows x 24 columns]"
      ]
     },
     "execution_count": 2,
     "metadata": {},
     "output_type": "execute_result"
    }
   ],
   "source": [
    "# get data - charging times\n",
    "df = pd.read_pickle(\"../data/Electric_Vehicle_Charging_Station_Energy_Consumption_cleaned_covid.pkl\")\n",
    "df.head()"
   ]
  },
  {
   "cell_type": "markdown",
   "id": "beginning-cabinet",
   "metadata": {},
   "source": [
    "## Histogram and charging times"
   ]
  },
  {
   "cell_type": "code",
   "execution_count": 3,
   "id": "brilliant-block",
   "metadata": {},
   "outputs": [
    {
     "data": {
      "image/png": "[encoded data removed]",
      "text/plain": [
       "<Figure size 396x288 with 1 Axes>"
      ]
     },
     "metadata": {
      "needs_background": "light"
     },
     "output_type": "display_data"
    }
   ],
   "source": [
    "data = df['Charging_Time__minutes_']/60\n",
    "\n",
    "fig, ax = plt.subplots(figsize=(5.5,4))\n",
    "\n",
    "ax.grid(True)\n",
    "ax.set_axisbelow(True)\n",
    "ax.hist(data,weights=np.ones(len(data))/len(data), bins=100, color='grey', edgecolor='k')\n",
    "fig.gca().yaxis.set_major_formatter(PercentFormatter(1))\n",
    "#ax.axvline(1.5)\n",
    "ax.set_xlabel('Plug-in time (hours)')\n",
    "ax.set_ylabel(\"Percentage\")\n",
    "#plt.savefig('../visualization/chargtime_histogram.pgf',bbox_inches='tight')\n",
    "plt.show()"
   ]
  },
  {
   "cell_type": "code",
   "execution_count": 4,
   "id": "theoretical-discovery",
   "metadata": {},
   "outputs": [
    {
     "name": "stdout",
     "output_type": "stream",
     "text": [
      "0-2h: 66.84765649379017\n",
      "2-6h: 0.31573363290270234\n",
      "6+h: 0.01578980215939587\n"
     ]
    }
   ],
   "source": [
    "print(\"0-2h:\", len(df[df['Charging_Time__minutes_'] <= 2*60])/len(df)*100)\n",
    "print(\"2-6h:\", len(df[(df['Charging_Time__minutes_'] > 2*60) & (df['Charging_Time__minutes_'] <= 6*60)])/len(df))\n",
    "print(\"6+h:\", len(df[df['Charging_Time__minutes_'] > 6*60])/len(df))"
   ]
  },
  {
   "cell_type": "markdown",
   "id": "related-canal",
   "metadata": {},
   "source": [
    "## Life-times"
   ]
  },
  {
   "cell_type": "code",
   "execution_count": 5,
   "id": "unable-abortion",
   "metadata": {},
   "outputs": [],
   "source": [
    "with open(\"../data/under_utilization_combinedStations.pkl\", \"rb\") as fh:\n",
    "    df = pickle5.load(fh)"
   ]
  },
  {
   "cell_type": "code",
   "execution_count": 6,
   "id": "expensive-banana",
   "metadata": {},
   "outputs": [
    {
     "data": {
      "text/plain": [
       "(12711, 10)"
      ]
     },
     "execution_count": 6,
     "metadata": {},
     "output_type": "execute_result"
    }
   ],
   "source": [
    "df.shape"
   ]
  },
  {
   "cell_type": "code",
   "execution_count": 7,
   "id": "remarkable-firmware",
   "metadata": {},
   "outputs": [
    {
     "data": {
      "image/png": "[encoded data removed]",
      "text/plain": [
       "<Figure size 504x288 with 1 Axes>"
      ]
     },
     "metadata": {
      "needs_background": "light"
     },
     "output_type": "display_data"
    }
   ],
   "source": [
    "data = df['life_time']/60\n",
    "\n",
    "fig, ax = plt.subplots(figsize=(7,4))\n",
    "\n",
    "ax.grid(True)\n",
    "ax.set_axisbelow(True)\n",
    "ax.hist(data,weights=np.ones(len(data))/len(data), bins=100, color='grey', edgecolor='k')\n",
    "fig.gca().yaxis.set_major_formatter(PercentFormatter(1))\n",
    "#ax.axvline(1.5)\n",
    "ax.set_xlabel('Survival time (hours)')\n",
    "ax.set_ylabel(\"Percentage\")\n",
    "plt.show()"
   ]
  },
  {
   "cell_type": "code",
   "execution_count": 8,
   "id": "hearing-circle",
   "metadata": {},
   "outputs": [
    {
     "name": "stdout",
     "output_type": "stream",
     "text": [
      "Max survival time: 1508.0916666666667\n"
     ]
    }
   ],
   "source": [
    "print(\"Max survival time:\", max(data))"
   ]
  },
  {
   "cell_type": "code",
   "execution_count": 9,
   "id": "challenging-segment",
   "metadata": {},
   "outputs": [
    {
     "name": "stdout",
     "output_type": "stream",
     "text": [
      "Percentage of observations with life-time above 100h 1.5970419321847218\n",
      "Percentage of observations with life-time below 2h 25.02556840531823\n",
      "Percentage of observations with life-time 2-10h 24.199512233498545\n",
      "Percentage of observations with life-time 10-24h 34.6628904098812\n",
      "Percentage of observations with life-time above 24h 16.112028951302023\n"
     ]
    }
   ],
   "source": [
    "print(\"Percentage of observations with life-time above 100h\",len(data[data>100])/len(data)*100)\n",
    "print(\"Percentage of observations with life-time below 2h\",len(data[data<=2])/len(data)*100)\n",
    "print(\"Percentage of observations with life-time 2-10h\",len(data[(data>2) & (data<=10)])/len(data)*100)\n",
    "print(\"Percentage of observations with life-time 10-24h\", len(data[(data>10) & (data<=24)])/len(data)*100)\n",
    "print(\"Percentage of observations with life-time above 24h\",len(data[data>24])/len(data)*100)"
   ]
  },
  {
   "cell_type": "code",
   "execution_count": 10,
   "id": "separate-rouge",
   "metadata": {},
   "outputs": [
    {
     "name": "stdout",
     "output_type": "stream",
     "text": [
      "Observationa above 24 h accounts for 57.78504566571117\n"
     ]
    }
   ],
   "source": [
    "print(\"Observationa above 24 h accounts for\", sum(data[data>24])/sum(data)*100)"
   ]
  },
  {
   "cell_type": "code",
   "execution_count": 11,
   "id": "boring-preview",
   "metadata": {},
   "outputs": [
    {
     "name": "stderr",
     "output_type": "stream",
     "text": [
      "No handles with labels found to put in legend.\n"
     ]
    },
    {
     "data": {
      "image/png": "[encoded data removed]",
      "text/plain": [
       "<Figure size 504x288 with 1 Axes>"
      ]
     },
     "metadata": {
      "needs_background": "light"
     },
     "output_type": "display_data"
    }
   ],
   "source": [
    "data = df['life_time']/60\n",
    "data = data[data < 100]\n",
    "\n",
    "fig, ax = plt.subplots(figsize=(7,4))\n",
    "\n",
    "ax.grid(True)\n",
    "ax.set_axisbelow(True)\n",
    "ax.hist(data,weights=np.ones(len(data))/len(data), bins=100, color='grey', edgecolor='k')\n",
    "fig.gca().yaxis.set_major_formatter(PercentFormatter(1))\n",
    "ax.legend()\n",
    "ax.set_xlabel('Idle time (hours)')\n",
    "ax.set_ylabel(\"Percentage\")\n",
    "#plt.savefig('../visualization/survivaltime_histogram.pgf',bbox_inches='tight')\n",
    "plt.show()"
   ]
  },
  {
   "cell_type": "markdown",
   "id": "arctic-program",
   "metadata": {},
   "source": [
    "Make a definition to label observations which segment they belong to."
   ]
  },
  {
   "cell_type": "code",
   "execution_count": 12,
   "id": "demographic-infrastructure",
   "metadata": {},
   "outputs": [],
   "source": [
    "def segment_label(X):\n",
    "    if X <= 2*60:\n",
    "        return '2H'\n",
    "    if (X > 2*60) and (X <= 8*60):\n",
    "        return '2H-8H'\n",
    "    if (X > 8*60) and (X <= 24*60):\n",
    "        return '8H-24H'\n",
    "    if (X > 24*60):\n",
    "        return '24H+'"
   ]
  },
  {
   "cell_type": "code",
   "execution_count": 13,
   "id": "consistent-report",
   "metadata": {},
   "outputs": [],
   "source": [
    "df['segment'] = df['life_time'].apply(segment_label)"
   ]
  },
  {
   "cell_type": "code",
   "execution_count": 14,
   "id": "obvious-density",
   "metadata": {},
   "outputs": [
    {
     "data": {
      "text/plain": [
       "8H-24H    4740\n",
       "2H        3181\n",
       "2H-8H     2742\n",
       "24H+      2048\n",
       "Name: segment, dtype: int64"
      ]
     },
     "execution_count": 14,
     "metadata": {},
     "output_type": "execute_result"
    }
   ],
   "source": [
    "df['segment'].value_counts()"
   ]
  },
  {
   "cell_type": "markdown",
   "id": "adjacent-costume",
   "metadata": {},
   "source": [
    "## Plot"
   ]
  },
  {
   "cell_type": "code",
   "execution_count": 15,
   "id": "practical-location",
   "metadata": {},
   "outputs": [],
   "source": [
    "weekdays = ['Monday','Tuesday','Wednesday','Thursday','Friday','Saturday','Sunday']"
   ]
  },
  {
   "cell_type": "code",
   "execution_count": 19,
   "id": "graduate-adams",
   "metadata": {},
   "outputs": [
    {
     "data": {
      "image/png": "[encoded data removed]",
      "text/plain": [
       "<Figure size 648x360 with 8 Axes>"
      ]
     },
     "metadata": {
      "needs_background": "light"
     },
     "output_type": "display_data"
    }
   ],
   "source": [
    "hours = np.arange(0,24)\n",
    "segments = df.segment.unique()\n",
    "\n",
    "fig, axs = plt.subplots(1,7, figsize=(9,5), sharey=True, sharex = True)\n",
    "\n",
    "wid = 1 # width for bars\n",
    "colors = [\"#F7C45F\", \"#D65353\", \"#5A7C60\", \"#28364A\"] # set colors\n",
    "\n",
    "for i in range(0,len(weekdays)):\n",
    "    segments = df.segment.unique()\n",
    "\n",
    "    ## Create dictionary for segments\n",
    "    keyDict = {'2H','2H-8H','8H-24H','24H+'}\n",
    "    seg_dict = dict([(key, []) for key in keyDict])\n",
    "    seg_dict_perc = dict([(key, []) for key in keyDict])\n",
    "\n",
    "    temp = df[df['weekday_b_name'] == weekdays[i]]\n",
    "    \n",
    "    for hour in hours:\n",
    "        temp2 = temp[temp['hour_b'] == hour]\n",
    "        counts = temp2['segment'].value_counts()\n",
    "\n",
    "        ## Check if a segment is in the counts\n",
    "        for seg in segments:\n",
    "            if seg in counts.index:\n",
    "                seg_dict[seg].append(counts[seg])\n",
    "                seg_dict_perc[seg].append(counts[seg]/sum(counts))\n",
    "            else:\n",
    "                seg_dict[seg].append(0)\n",
    "                seg_dict_perc[seg].append(0)\n",
    "    \n",
    "    ## Plot\n",
    "    axs[i].bar(hours, seg_dict_perc['2H'], label='0H-2H', width=wid, color=colors[0])\n",
    "    axs[i].bar(hours, seg_dict_perc['2H-8H'], bottom=seg_dict_perc['2H'], label='2H-8H', width=wid, color=colors[1])\n",
    "    axs[i].bar(hours, seg_dict_perc['8H-24H'], bottom=[seg_dict_perc['2H'][i] +\n",
    "                                               seg_dict_perc['2H-8H'][i] for i in range(len(seg_dict_perc['2H']))], label='8H-24H', width=wid, color=colors[2])\n",
    "    axs[i].bar(hours, seg_dict_perc['24H+'], bottom=[seg_dict_perc['2H'][i] + \n",
    "                                             seg_dict_perc['2H-8H'][i] + \n",
    "                                             seg_dict_perc['8H-24H'][i] for i in range(len(seg_dict_perc['2H']))], label='24H+', width=wid, color=colors[3])\n",
    "    #axs[i].axis('off')\n",
    "    axs[i].set_title(weekdays[i])\n",
    "    axs[i].set_xticks(np.arange(0,24, step=6))\n",
    "    axs[i].spines['top'].set_visible(False)\n",
    "    axs[i].spines['right'].set_visible(False)\n",
    "    axs[i].spines['left'].set_visible(False)\n",
    "    axs[i].spines['bottom'].set_visible(False)\n",
    "    axs[i].xaxis.set_ticks_position('none') \n",
    "    axs[i].yaxis.set_ticks_position('none') \n",
    "\n",
    "axs[1].legend(loc='upper center', bbox_to_anchor=(6.5, 0.65), frameon=False, prop={\"size\":10})\n",
    "#plt.suptitle(\"Distribution of survival times over the week\", size = 14)\n",
    "## Set common x-axis and y-axis\n",
    "fig.gca().yaxis.set_major_formatter(PercentFormatter(1))\n",
    "fig.add_subplot(111, frameon=False)\n",
    "plt.tick_params(labelcolor='none', top=False, bottom=False, left=False, right=False)\n",
    "plt.xlabel(\"Time of day\", size=12)\n",
    "plt.subplots_adjust(wspace=0, hspace=0) # adjust spacing between plots\n",
    "plt.savefig(\"../visualization/areaplot.pdf\", bbox_inches='tight')\n",
    "plt.show()"
   ]
  }
 ],
 "metadata": {
  "kernelspec": {
   "display_name": "Python 3",
   "language": "python",
   "name": "python3"
  },
  "language_info": {
   "codemirror_mode": {
    "name": "ipython",
    "version": 3
   },
   "file_extension": ".py",
   "mimetype": "text/x-python",
   "name": "python",
   "nbconvert_exporter": "python",
   "pygments_lexer": "ipython3",
   "version": "3.7.3"
  }
 },
 "nbformat": 4,
 "nbformat_minor": 5
}
