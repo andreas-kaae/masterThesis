{
 "cells": [
  {
   "cell_type": "code",
   "execution_count": 35,
   "id": "african-pocket",
   "metadata": {},
   "outputs": [],
   "source": [
    "import pandas as pd\n",
    "import numpy as np \n",
    "import pickle5\n",
    "import matplotlib.pyplot as plt\n",
    "import datetime\n",
    "from pysurvival.models.semi_parametric import CoxPHModel\n",
    "from pysurvival.utils.display import display_loss_values\n",
    "from sklearn.preprocessing import StandardScaler\n",
    "from pysurvival.utils.display import compare_to_actual\n",
    "from pysurvival.utils import save_model, load_model\n",
    "from pysurvival.utils.sklearn_adapter import sklearn_adapter\n",
    "from sklearn.model_selection import GridSearchCV, KFold\n",
    "from sklearn.model_selection import cross_val_score, cross_val_predict\n",
    "from sklearn.metrics import mean_squared_error\n",
    "from sklearn.metrics import auc, r2_score"
   ]
  },
  {
   "cell_type": "code",
   "execution_count": 36,
   "id": "prescribed-method",
   "metadata": {},
   "outputs": [
    {
     "data": {
      "text/html": [
       "<div>\n",
       "<style scoped>\n",
       "    .dataframe tbody tr th:only-of-type {\n",
       "        vertical-align: middle;\n",
       "    }\n",
       "\n",
       "    .dataframe tbody tr th {\n",
       "        vertical-align: top;\n",
       "    }\n",
       "\n",
       "    .dataframe thead th {\n",
       "        text-align: right;\n",
       "    }\n",
       "</style>\n",
       "<table border=\"1\" class=\"dataframe\">\n",
       "  <thead>\n",
       "    <tr style=\"text-align: right;\">\n",
       "      <th></th>\n",
       "      <th>life_time</th>\n",
       "      <th>datetime_start</th>\n",
       "      <th>datetime_end</th>\n",
       "      <th>latitude</th>\n",
       "      <th>longitude</th>\n",
       "      <th>distance_center_km</th>\n",
       "      <th>Station_Name</th>\n",
       "      <th>weekday_b</th>\n",
       "      <th>weekday_b_name</th>\n",
       "      <th>hour_b</th>\n",
       "      <th>...</th>\n",
       "      <th>near_inactivity_6H</th>\n",
       "      <th>near_charge_events_6H</th>\n",
       "      <th>service</th>\n",
       "      <th>entertainment</th>\n",
       "      <th>food</th>\n",
       "      <th>childcare</th>\n",
       "      <th>medical</th>\n",
       "      <th>education</th>\n",
       "      <th>parking</th>\n",
       "      <th>waste-management</th>\n",
       "    </tr>\n",
       "  </thead>\n",
       "  <tbody>\n",
       "    <tr>\n",
       "      <th>0</th>\n",
       "      <td>928.5</td>\n",
       "      <td>2018-01-31 19:51:00</td>\n",
       "      <td>2018-02-01 11:19:30</td>\n",
       "      <td>40.018482</td>\n",
       "      <td>-105.281066</td>\n",
       "      <td>0.152203</td>\n",
       "      <td>COMM VITALITY / 1104 SPRUCE1</td>\n",
       "      <td>2</td>\n",
       "      <td>Wednesday</td>\n",
       "      <td>19</td>\n",
       "      <td>...</td>\n",
       "      <td>0.0</td>\n",
       "      <td>0</td>\n",
       "      <td>0.057343</td>\n",
       "      <td>0.109796</td>\n",
       "      <td>0.073649</td>\n",
       "      <td>3.517121</td>\n",
       "      <td>0.466518</td>\n",
       "      <td>0.631771</td>\n",
       "      <td>0.021832</td>\n",
       "      <td>1.145959</td>\n",
       "    </tr>\n",
       "    <tr>\n",
       "      <th>1</th>\n",
       "      <td>363.5</td>\n",
       "      <td>2018-02-01 14:03:00</td>\n",
       "      <td>2018-02-01 20:06:30</td>\n",
       "      <td>40.018482</td>\n",
       "      <td>-105.281066</td>\n",
       "      <td>0.152203</td>\n",
       "      <td>COMM VITALITY / 1104 SPRUCE1</td>\n",
       "      <td>3</td>\n",
       "      <td>Thursday</td>\n",
       "      <td>14</td>\n",
       "      <td>...</td>\n",
       "      <td>0.0</td>\n",
       "      <td>0</td>\n",
       "      <td>0.057343</td>\n",
       "      <td>0.109796</td>\n",
       "      <td>0.073649</td>\n",
       "      <td>3.517121</td>\n",
       "      <td>0.466518</td>\n",
       "      <td>0.631771</td>\n",
       "      <td>0.021832</td>\n",
       "      <td>1.145959</td>\n",
       "    </tr>\n",
       "    <tr>\n",
       "      <th>2</th>\n",
       "      <td>6828.5</td>\n",
       "      <td>2018-02-01 21:15:00</td>\n",
       "      <td>2018-02-06 15:03:30</td>\n",
       "      <td>40.018482</td>\n",
       "      <td>-105.281066</td>\n",
       "      <td>0.152203</td>\n",
       "      <td>COMM VITALITY / 1104 SPRUCE1</td>\n",
       "      <td>3</td>\n",
       "      <td>Thursday</td>\n",
       "      <td>21</td>\n",
       "      <td>...</td>\n",
       "      <td>0.0</td>\n",
       "      <td>0</td>\n",
       "      <td>0.057343</td>\n",
       "      <td>0.109796</td>\n",
       "      <td>0.073649</td>\n",
       "      <td>3.517121</td>\n",
       "      <td>0.466518</td>\n",
       "      <td>0.631771</td>\n",
       "      <td>0.021832</td>\n",
       "      <td>1.145959</td>\n",
       "    </tr>\n",
       "  </tbody>\n",
       "</table>\n",
       "<p>3 rows × 71 columns</p>\n",
       "</div>"
      ],
      "text/plain": [
       "   life_time      datetime_start        datetime_end   latitude   longitude  \\\n",
       "0      928.5 2018-01-31 19:51:00 2018-02-01 11:19:30  40.018482 -105.281066   \n",
       "1      363.5 2018-02-01 14:03:00 2018-02-01 20:06:30  40.018482 -105.281066   \n",
       "2     6828.5 2018-02-01 21:15:00 2018-02-06 15:03:30  40.018482 -105.281066   \n",
       "\n",
       "   distance_center_km                  Station_Name  weekday_b weekday_b_name  \\\n",
       "0            0.152203  COMM VITALITY / 1104 SPRUCE1          2      Wednesday   \n",
       "1            0.152203  COMM VITALITY / 1104 SPRUCE1          3       Thursday   \n",
       "2            0.152203  COMM VITALITY / 1104 SPRUCE1          3       Thursday   \n",
       "\n",
       "   hour_b  ...  near_inactivity_6H  near_charge_events_6H   service  \\\n",
       "0      19  ...                 0.0                      0  0.057343   \n",
       "1      14  ...                 0.0                      0  0.057343   \n",
       "2      21  ...                 0.0                      0  0.057343   \n",
       "\n",
       "   entertainment      food  childcare   medical  education   parking  \\\n",
       "0       0.109796  0.073649   3.517121  0.466518   0.631771  0.021832   \n",
       "1       0.109796  0.073649   3.517121  0.466518   0.631771  0.021832   \n",
       "2       0.109796  0.073649   3.517121  0.466518   0.631771  0.021832   \n",
       "\n",
       "   waste-management  \n",
       "0          1.145959  \n",
       "1          1.145959  \n",
       "2          1.145959  \n",
       "\n",
       "[3 rows x 71 columns]"
      ]
     },
     "execution_count": 36,
     "metadata": {},
     "output_type": "execute_result"
    }
   ],
   "source": [
    "# under_utilization data\n",
    "with open(\"../data/ut_poiV6.pkl\", \"rb\") as fh:\n",
    "    df = pickle5.load(fh)\n",
    "    \n",
    "df.head(3)"
   ]
  },
  {
   "cell_type": "code",
   "execution_count": 37,
   "id": "neutral-freight",
   "metadata": {},
   "outputs": [
    {
     "data": {
      "text/plain": [
       "(12711, 71)"
      ]
     },
     "execution_count": 37,
     "metadata": {},
     "output_type": "execute_result"
    }
   ],
   "source": [
    "df.shape"
   ]
  },
  {
   "cell_type": "markdown",
   "id": "offshore-destination",
   "metadata": {},
   "source": [
    "### Remove events\n",
    "The features we have constructed means that we automatically will loose some data. To use the lagged feature we need to remove the 3 first observations. In the code below we check if the sum of the 3 first life times are above 3 hours. If they are then we do not need to remove additinal variables due to the 3 hours."
   ]
  },
  {
   "cell_type": "code",
   "execution_count": 38,
   "id": "black-joint",
   "metadata": {},
   "outputs": [],
   "source": [
    "names = df['Station_Name'].unique()"
   ]
  },
  {
   "cell_type": "code",
   "execution_count": 39,
   "id": "integral-header",
   "metadata": {},
   "outputs": [
    {
     "name": "stdout",
     "output_type": "stream",
     "text": [
      "The station has the lagged\n",
      "BOULDER / REC CENTER\n",
      "The station has the lagged\n",
      "BOULDER / ATRIUM ST1\n",
      "The station has the lagged\n",
      "BOULDER / ALPINE ST1\n",
      "The station has the lagged\n",
      "COMM VITALITY / 1400 WALNUT1\n",
      "The station has the lagged\n",
      "BOULDER / FACILITIES ST1\n",
      "The station has the lagged\n",
      "COMM VITALITY / 1500PEARL\n",
      "The station has the lagged\n",
      "BOULDER / JUNCTION ST1\n",
      "The station has the lagged\n",
      "COMM VITALITY / BOULDER JCTN\n",
      "The station has the lagged\n",
      "COMM VITALITY / 1100WALNUT1\n",
      "The station has the lagged\n",
      "BOULDER / BOULDER PARK\n",
      "The station has the lagged\n",
      "COMM VITALITY / 2200 BROADWAY1\n",
      "The station has the lagged\n",
      "BOULDER / EAST REC\n",
      "The station has the lagged\n",
      "BOULDERJUNCTION / JUNCTION ST1\n"
     ]
    }
   ],
   "source": [
    "for name in names:\n",
    "    temp = df[df['Station_Name'] == name]\n",
    "    rows = temp[temp['lag3'].isna()]\n",
    "    if rows.life_time.sum() < 3*60:\n",
    "        print(\"The station has the lagged\")\n",
    "        print(name)\n",
    "\n",
    "# remove rows\n",
    "df = df.dropna()"
   ]
  },
  {
   "cell_type": "code",
   "execution_count": 40,
   "id": "upper-clear",
   "metadata": {},
   "outputs": [
    {
     "data": {
      "text/plain": [
       "(12699, 71)"
      ]
     },
     "execution_count": 40,
     "metadata": {},
     "output_type": "execute_result"
    }
   ],
   "source": [
    "df.shape"
   ]
  },
  {
   "cell_type": "markdown",
   "id": "quarterly-sellers",
   "metadata": {},
   "source": [
    "### Remove outliers\n",
    "Use boxplot outlier definition"
   ]
  },
  {
   "cell_type": "code",
   "execution_count": 41,
   "id": "friendly-ending",
   "metadata": {},
   "outputs": [
    {
     "name": "stdout",
     "output_type": "stream",
     "text": [
      "COMM VITALITY / 1104 SPRUCE1: 57 (4.4 %)\n",
      "COMM VITALITY / 1000WALNUT: 48 (3.32 %)\n",
      "BOULDER / REC CENTER: 40 (3.51 %)\n",
      "BOULDER / BASELINE ST1: 42 (3.53 %)\n",
      "BOULDER / ATRIUM ST1: 65 (6.58 %)\n",
      "BOULDER / ALPINE ST1: 32 (8.96 %)\n",
      "COMM VITALITY / 1400 WALNUT1: 38 (7.29 %)\n",
      "BOULDER / FACILITIES ST1: 84 (16.28 %)\n",
      "COMM VITALITY / 1500PEARL: 41 (4.5 %)\n",
      "BOULDER / JUNCTION ST1: 35 (9.97 %)\n",
      "COMM VITALITY / BOULDER JCTN: 40 (5.28 %)\n",
      "COMM VITALITY / 1100WALNUT1: 39 (3.51 %)\n",
      "BOULDER / N BOULDER REC 1: 29 (2.07 %)\n",
      "BOULDER / BOULDER PARK: 8 (4.55 %)\n",
      "COMM VITALITY / 2200 BROADWAY1: 0 (0.0 %)\n",
      "BOULDER / EAST REC: 23 (5.42 %)\n",
      "BOULDERJUNCTION / JUNCTION ST1: 3 (3.0 %)\n",
      "\n",
      "The total amount of lost events: 624 (4.91 %)\n"
     ]
    }
   ],
   "source": [
    "# remove outliers\n",
    "drop_index = [] # list of indexes to keep\n",
    "names = df['Station_Name'].unique()\n",
    "\n",
    "for name in names:\n",
    "    temp = df[df['Station_Name'] == name]\n",
    "    # Get interquantile ranges\n",
    "    Q1, Q3 = temp.life_time.quantile([0.25, 0.75])\n",
    "    IQR = Q3-Q1\n",
    "    minimum = Q1 - 1.5*IQR\n",
    "    maximum = Q3 + 1.5*IQR\n",
    "    # Define observations which should be removed\n",
    "    temp2 = df[(df['life_time'] < minimum) | (df['life_time'] > maximum) &\n",
    "                  (df['Station_Name'] == name)]\n",
    "    print(\"{n}: {s} ({p} %)\".format(n=name, \n",
    "                                    s=temp2.shape[0], \n",
    "                                    p=round((temp2.shape[0]/temp.shape[0])*100,2)))\n",
    "    # Add the indexes which should be dropped\n",
    "    drop_index.extend(list(temp2.index))\n",
    "    \n",
    "print(\"\\nThe total amount of lost events: {n} ({p} %)\".format(n=len(drop_index), \n",
    "                                                              p=round(len(drop_index)/df.shape[0]*100,2)))\n",
    "\n",
    "df = df.drop(drop_index)\n",
    "df = df.reset_index(drop=True)"
   ]
  },
  {
   "cell_type": "code",
   "execution_count": 42,
   "id": "czech-carrier",
   "metadata": {},
   "outputs": [
    {
     "data": {
      "text/plain": [
       "(12075, 71)"
      ]
     },
     "execution_count": 42,
     "metadata": {},
     "output_type": "execute_result"
    }
   ],
   "source": [
    "df.shape"
   ]
  },
  {
   "cell_type": "markdown",
   "id": "raised-heating",
   "metadata": {},
   "source": [
    "### Focus stations"
   ]
  },
  {
   "cell_type": "code",
   "execution_count": 43,
   "id": "preceding-olympus",
   "metadata": {},
   "outputs": [],
   "source": [
    "station_subset = ['BOULDER / N BOULDER REC 1', 'COMM VITALITY / 1000WALNUT', \n",
    "        'COMM VITALITY / 1104 SPRUCE1', 'BOULDER / BASELINE ST1']\n",
    "df = df[df['Station_Name'].isin(station_subset)]\n",
    "df['statN'] = df['Station_Name']"
   ]
  },
  {
   "cell_type": "code",
   "execution_count": 44,
   "id": "gross-surface",
   "metadata": {},
   "outputs": [
    {
     "data": {
      "text/plain": [
       "(5157, 72)"
      ]
     },
     "execution_count": 44,
     "metadata": {},
     "output_type": "execute_result"
    }
   ],
   "source": [
    "df.shape"
   ]
  },
  {
   "cell_type": "markdown",
   "id": "experimental-drunk",
   "metadata": {},
   "source": [
    "### Prepare data for SA"
   ]
  },
  {
   "cell_type": "markdown",
   "id": "typical-chance",
   "metadata": {},
   "source": [
    "As we are doing SA we need a column which specifies if an event occured at the given time. As all data observations in the dataset are events it is a very simple procedure"
   ]
  },
  {
   "cell_type": "code",
   "execution_count": 45,
   "id": "interesting-shower",
   "metadata": {},
   "outputs": [],
   "source": [
    "df['event'] = np.ones(len(df))"
   ]
  },
  {
   "cell_type": "markdown",
   "id": "modular-capacity",
   "metadata": {},
   "source": [
    "### Modeling functions"
   ]
  },
  {
   "cell_type": "code",
   "execution_count": 46,
   "id": "confident-somerset",
   "metadata": {},
   "outputs": [],
   "source": [
    "## To test model\n",
    "def test_model(y_test, y_pred):\n",
    "    MAE = metrics.mean_absolute_error(y_test, y_pred)\n",
    "    print('MAE (Mean Absolute Error):', MAE)\n",
    "    MSE = metrics.mean_squared_error(y_test, y_pred)\n",
    "    print('MSE (Mean Squared Error):', MSE)\n",
    "    RMSE = np.sqrt(metrics.mean_squared_error(y_test, y_pred))\n",
    "    print('RMSE (Root Mean Squared Error):', RMSE)\n",
    "    return MAE, RMSE, MSE"
   ]
  },
  {
   "cell_type": "code",
   "execution_count": 47,
   "id": "signal-culture",
   "metadata": {},
   "outputs": [],
   "source": [
    "def plot_compare(y_train, y_pred_train, y_test, y_pred_test):\n",
    "    fig, (ax1, ax2) = plt.subplots(1,2)\n",
    "    plt.rcParams['figure.figsize'] = (9, 4)\n",
    "    ## Train plot\n",
    "    ax1.scatter(y_pred_train, y_train, color='k', alpha=0.1)\n",
    "    lim_max = max([max(y_train), max(y_pred_train)])\n",
    "    ax1.axline((-50,-50),(lim_max,lim_max), color='red')\n",
    "    ax1.set_ylabel(\"Real survival times (min)\")\n",
    "    ax1.set_xlabel(\"Predicted survival times (min)\")\n",
    "    ax1.set_title(\"Predicted vs. real values - Train data\")\n",
    "    ax1.set_ylim(-50,lim_max)\n",
    "    ax1.set_xlim(-50,lim_max)\n",
    "    ## Test plot\n",
    "    ax2.scatter(y_pred_test, y_test, color='k', alpha=0.1)\n",
    "    lim_max = max([max(y_test), max(y_pred_test)])\n",
    "    ax2.axline((-50,-50),(lim_max,lim_max), color='red')\n",
    "    ax2.set_ylabel(\"Real survival times (min)\")\n",
    "    ax2.set_xlabel(\"Predicted survival times (min)\")\n",
    "    ax2.set_title(\"Predicted vs. real values - Test data\")\n",
    "    ax2.set_ylim(-50,lim_max)\n",
    "    ax2.set_xlim(-50,lim_max)\n",
    "    plt.tight_layout()\n",
    "    plt.show()"
   ]
  },
  {
   "cell_type": "code",
   "execution_count": 48,
   "id": "necessary-assistant",
   "metadata": {},
   "outputs": [],
   "source": [
    "def hour_label(X):\n",
    "    if (X >= 7) & (X <= 10):\n",
    "        return 'Morning'\n",
    "    elif (X >= 11) & (X <= 14):\n",
    "        return 'Midday'\n",
    "    elif (X >= 15) & (X <= 18):\n",
    "        return 'Afternoon'\n",
    "    elif (X >= 19) or (X < 1):\n",
    "        return 'Evening'\n",
    "    elif (X >= 1) & (X <= 6):\n",
    "        return 'Night'"
   ]
  },
  {
   "cell_type": "code",
   "execution_count": 49,
   "id": "south-aging",
   "metadata": {},
   "outputs": [],
   "source": [
    "df['tod'] = df['hour_b'].apply(hour_label)"
   ]
  },
  {
   "cell_type": "code",
   "execution_count": 50,
   "id": "cultural-stupid",
   "metadata": {},
   "outputs": [],
   "source": [
    "def weekend(X):\n",
    "    if (X == 'Saturday') or (X == 'Sunday'):\n",
    "        return 1\n",
    "    else:\n",
    "        return 0"
   ]
  },
  {
   "cell_type": "code",
   "execution_count": 51,
   "id": "suffering-insertion",
   "metadata": {},
   "outputs": [],
   "source": [
    "df['weekend'] = df['weekday_b_name'].apply(weekend)"
   ]
  },
  {
   "cell_type": "markdown",
   "id": "scenic-mills",
   "metadata": {},
   "source": [
    "## Modeling features"
   ]
  },
  {
   "cell_type": "code",
   "execution_count": 52,
   "id": "dressed-vegetation",
   "metadata": {},
   "outputs": [],
   "source": [
    "## M1\n",
    "features1 = ['weekday_b_name_Monday', 'weekday_b_name_Saturday',\n",
    "             'weekday_b_name_Sunday', 'weekday_b_name_Thursday',\n",
    "             'weekday_b_name_Tuesday', 'weekday_b_name_Wednesday', 'tod_Evening', 'tod_Midday', 'tod_Morning',\n",
    "       'tod_Night','Station_Name_BOULDER / N BOULDER REC 1',\n",
    "       'Station_Name_COMM VITALITY / 1000WALNUT',\n",
    "       'Station_Name_COMM VITALITY / 1104 SPRUCE1'] # dow + tod\n",
    "\n",
    "## M2\n",
    "features2_cat = ['weekday_b_name_Monday', 'weekday_b_name_Saturday',\n",
    "             'weekday_b_name_Sunday', 'weekday_b_name_Thursday',\n",
    "             'weekday_b_name_Tuesday', 'weekday_b_name_Wednesday', 'tod_Evening', 'tod_Midday', 'tod_Morning',\n",
    "       'tod_Night','Station_Name_BOULDER / N BOULDER REC 1',\n",
    "       'Station_Name_COMM VITALITY / 1000WALNUT',\n",
    "       'Station_Name_COMM VITALITY / 1104 SPRUCE1'] # dow + agg. tod\n",
    "features2_con = ['charge_time_4H', 'charge_energy_4H']\n",
    "\n",
    "## M3\n",
    "features3_cat = ['weekday_b_name_Monday', 'weekday_b_name_Saturday',\n",
    "             'weekday_b_name_Sunday', 'weekday_b_name_Thursday',\n",
    "             'weekday_b_name_Tuesday', 'weekday_b_name_Wednesday','tod_Evening', 'tod_Midday', 'tod_Morning',\n",
    "       'tod_Night','Station_Name_BOULDER / N BOULDER REC 1',\n",
    "       'Station_Name_COMM VITALITY / 1000WALNUT',\n",
    "       'Station_Name_COMM VITALITY / 1104 SPRUCE1']  \n",
    "features3_con = ['near_charge_time_4H', 'near_charge_energy_4H'] # dow + agg. tod + lag\n",
    "\n",
    "## M4\n",
    "features4_cat = ['weekday_b_name_Monday', 'weekday_b_name_Saturday',\n",
    "             'weekday_b_name_Sunday', 'weekday_b_name_Thursday',\n",
    "             'weekday_b_name_Tuesday', 'weekday_b_name_Wednesday','tod_Evening', 'tod_Midday', 'tod_Morning',\n",
    "       'tod_Night', 'Station_Name_BOULDER / N BOULDER REC 1',\n",
    "       'Station_Name_COMM VITALITY / 1000WALNUT',\n",
    "       'Station_Name_COMM VITALITY / 1104 SPRUCE1']\n",
    "features4_con = ['lag1', 'lag2', 'lag3'] # dow + agg. tod + lag + activ.\n",
    "\n",
    "## M5\n",
    "## M4\n",
    "features5_cat = ['weekday_b_name_Monday', 'weekday_b_name_Saturday',\n",
    "             'weekday_b_name_Sunday', 'weekday_b_name_Thursday',\n",
    "             'weekday_b_name_Tuesday', 'weekday_b_name_Wednesday','tod_Evening', 'tod_Midday', 'tod_Morning',\n",
    "       'tod_Night', 'Station_Name_BOULDER / N BOULDER REC 1',\n",
    "       'Station_Name_COMM VITALITY / 1000WALNUT',\n",
    "       'Station_Name_COMM VITALITY / 1104 SPRUCE1']\n",
    "features5_con = ['lag1', 'lag2', 'lag3','near_charge_time_4H', 'near_charge_energy_4H',\n",
    "                 'charge_time_4H', 'charge_energy_4H'] # dow + agg. tod + lag + activ."
   ]
  },
  {
   "cell_type": "markdown",
   "id": "protecting-commercial",
   "metadata": {},
   "source": [
    "### Weekend + weekday"
   ]
  },
  {
   "cell_type": "code",
   "execution_count": 55,
   "id": "royal-wayne",
   "metadata": {},
   "outputs": [],
   "source": [
    "from lifelines import KaplanMeierFitter\n",
    "from lifelines.statistics import logrank_test"
   ]
  },
  {
   "cell_type": "code",
   "execution_count": 56,
   "id": "skilled-chancellor",
   "metadata": {},
   "outputs": [
    {
     "data": {
      "image/png": "[encoded data removed]",
      "text/plain": [
       "<Figure size 432x216 with 1 Axes>"
      ]
     },
     "metadata": {
      "needs_background": "light"
     },
     "output_type": "display_data"
    }
   ],
   "source": [
    "kmf_weekday = KaplanMeierFitter()\n",
    "kmf_weekend = KaplanMeierFitter()\n",
    "\n",
    "df_weekday = df[df['weekend'] == 0]\n",
    "df_weekend = df[df['weekend'] == 1]\n",
    "\n",
    "# Fit the data\n",
    "kmf_weekday.fit(durations=df_weekday['life_time'],\n",
    "              event_observed = df_weekday['event'], label=\"Weekday\")\n",
    "kmf_weekend.fit(durations=df_weekend['life_time'],\n",
    "              event_observed = df_weekend['event'], label=\"Weekend\")\n",
    "\n",
    "# log rank test\n",
    "results = logrank_test(df_weekday.life_time,\n",
    "                       df_weekend.life_time,\n",
    "                       event_observed_A = df_weekday.event,\n",
    "                       event_observed_B = df_weekend.event)\n",
    "\n",
    "## Plot\n",
    "plt.figure(figsize=(6,3))\n",
    "kmf_weekday.plot(color='blue')\n",
    "kmf_weekend.plot(color='black')\n",
    "plt.text(2040,0.5,'p-value = ' + str(format(results.p_value,'.3f')))\n",
    "plt.xlabel(\"Idle time (minutes)\")\n",
    "plt.ylabel(\"Survival probability\")\n",
    "plt.grid()\n",
    "plt.ylim([0,1])\n",
    "plt.xlim([0,2800])\n",
    "#plt.title(\"Survival graphs of weekday and weekend\")\n",
    "plt.savefig('../visualization/KM_curve_weekdayWeekend.pdf',bbox_inches='tight')\n",
    "plt.show()"
   ]
  },
  {
   "cell_type": "markdown",
   "id": "severe-values",
   "metadata": {},
   "source": [
    "#### Weekdays"
   ]
  },
  {
   "cell_type": "code",
   "execution_count": 57,
   "id": "smart-programming",
   "metadata": {},
   "outputs": [
    {
     "data": {
      "image/png": "[encoded data removed]",
      "text/plain": [
       "<Figure size 432x216 with 1 Axes>"
      ]
     },
     "metadata": {
      "needs_background": "light"
     },
     "output_type": "display_data"
    }
   ],
   "source": [
    "days = ['Monday','Tuesday','Wednesday','Thursday',\n",
    "        'Friday','Saturday','Sunday']\n",
    "colorD = ['black','blue','green','purple','orange','red','grey']\n",
    "\n",
    "plt.figure(figsize=(6,3))\n",
    "for i in range(len(days)):\n",
    "    kmf = KaplanMeierFitter()\n",
    "    \n",
    "    df_temp = df[df['weekday_b_name'] == days[i]]\n",
    "    \n",
    "    # Fit the data\n",
    "    kmf.fit(durations=df_temp['life_time'], event_observed=df_temp['event'],\n",
    "            label = days[i])\n",
    "    kmf.plot(color=colorD[i])\n",
    "plt.xlabel(\"Idle time (minutes)\")\n",
    "plt.ylabel(\"Survival probability\")\n",
    "plt.ylim([0,1])\n",
    "plt.xlim([0,2800])\n",
    "plt.grid()\n",
    "plt.savefig('../visualization/KM_curve_DOW.pdf',bbox_inches='tight')\n",
    "plt.show()"
   ]
  },
  {
   "cell_type": "markdown",
   "id": "inappropriate-extra",
   "metadata": {},
   "source": [
    "#### TOD"
   ]
  },
  {
   "cell_type": "code",
   "execution_count": 58,
   "id": "parental-firewall",
   "metadata": {},
   "outputs": [
    {
     "data": {
      "image/png": "[encoded data removed]",
      "text/plain": [
       "<Figure size 432x216 with 1 Axes>"
      ]
     },
     "metadata": {
      "needs_background": "light"
     },
     "output_type": "display_data"
    }
   ],
   "source": [
    "kmf_t1 = KaplanMeierFitter()\n",
    "kmf_t2 = KaplanMeierFitter()\n",
    "kmf_t3 = KaplanMeierFitter()\n",
    "kmf_t4 = KaplanMeierFitter()\n",
    "kmf_t5 = KaplanMeierFitter()\n",
    "\n",
    "\n",
    "df_t1 = df[df['tod'] == 'Morning']\n",
    "df_t2 = df[df['tod'] == 'Midday']\n",
    "df_t3 = df[df['tod'] == 'Afternoon']\n",
    "df_t4 = df[df['tod'] == 'Evening']\n",
    "df_t5 = df[df['tod'] == 'Night']\n",
    "\n",
    "\n",
    "# Fit the data\n",
    "kmf_t1.fit(durations=df_t1['life_time'], event_observed=df_t1['event'],\n",
    "           label = df_t1['tod'].unique()[0])\n",
    "kmf_t2.fit(durations=df_t2['life_time'], event_observed=df_t2['event'],\n",
    "           label = df_t2['tod'].unique()[0])\n",
    "kmf_t3.fit(durations=df_t3['life_time'], event_observed=df_t3['event'],\n",
    "           label = df_t3['tod'].unique()[0])\n",
    "kmf_t4.fit(durations=df_t4['life_time'], event_observed=df_t4['event'],\n",
    "           label = df_t4['tod'].unique()[0])\n",
    "kmf_t5.fit(durations=df_t5['life_time'], event_observed=df_t5['event'],\n",
    "           label = df_t5['tod'].unique()[0])\n",
    "\n",
    "# ## Plot\n",
    "plt.figure(figsize=(6,3))\n",
    "kmf_t1.plot(color='black')\n",
    "kmf_t2.plot(color='blue')\n",
    "kmf_t3.plot(color='red')\n",
    "kmf_t4.plot(color='green')\n",
    "kmf_t5.plot(color='orange')\n",
    "# plt.vlines(2*60,0,1)\n",
    "# plt.vlines(8*60,0,1)\n",
    "# plt.vlines(24*60,0,1)\n",
    "plt.ylim([0,1])\n",
    "plt.xlim([0,2800])\n",
    "plt.grid()\n",
    "plt.xlabel(\"Idle time (minutes)\")\n",
    "plt.ylabel(\"Survival probability\")\n",
    "plt.savefig('../visualization/KM_curve_tod.pdf',bbox_inches='tight')\n",
    "plt.show()"
   ]
  },
  {
   "cell_type": "markdown",
   "id": "organized-prescription",
   "metadata": {},
   "source": [
    "#### Station Name"
   ]
  },
  {
   "cell_type": "code",
   "execution_count": 59,
   "id": "superb-activation",
   "metadata": {},
   "outputs": [],
   "source": [
    "dictt = {'BOULDER / ALPINE ST1': 'ALPINE',\n",
    " 'BOULDER / ATRIUM ST1': 'ATRIUM',\n",
    " 'BOULDER / BASELINE ST1': 'BASELINE',\n",
    " 'BOULDER / BOULDER PARK': 'BOULDER PARK',\n",
    " 'BOULDER / EAST REC': 'EAST',\n",
    " 'BOULDER / FACILITIES ST1': 'FACILITIES',\n",
    " 'BOULDER / JUNCTION ST1': 'B. JUNCTION',\n",
    " 'BOULDER / N BOULDER REC 1': 'N BOULDER',\n",
    " 'BOULDER / REC CENTER': 'REC CENTER',\n",
    " 'BOULDERJUNCTION / JUNCTION ST1': 'BJ. JUNCTION',\n",
    " 'COMM VITALITY / 1000WALNUT': '1000 WALNUT',\n",
    " 'COMM VITALITY / 1100WALNUT1': '1100 WALNUT',\n",
    " 'COMM VITALITY / 1104 SPRUCE1': '1104 SPRUCE',\n",
    " 'COMM VITALITY / 1400 WALNUT1': '1400 WALNUT',\n",
    " 'COMM VITALITY / 1500PEARL': '1500 PEARL',\n",
    " 'COMM VITALITY / 2200 BROADWAY1': '2200 BROADWAY',\n",
    " 'COMM VITALITY / BOULDER JCTN': 'BOULDER JCTN'}"
   ]
  },
  {
   "cell_type": "code",
   "execution_count": 60,
   "id": "statistical-search",
   "metadata": {},
   "outputs": [],
   "source": [
    "df = df[df['tod'] != 'Night']"
   ]
  },
  {
   "cell_type": "code",
   "execution_count": 61,
   "id": "rural-negative",
   "metadata": {},
   "outputs": [
    {
     "data": {
      "image/png": "[encoded data removed]",
      "text/plain": [
       "<Figure size 432x216 with 1 Axes>"
      ]
     },
     "metadata": {
      "needs_background": "light"
     },
     "output_type": "display_data"
    }
   ],
   "source": [
    "kmf_s1 = KaplanMeierFitter()\n",
    "kmf_s2 = KaplanMeierFitter()\n",
    "kmf_s3 = KaplanMeierFitter()\n",
    "kmf_s4 = KaplanMeierFitter()\n",
    "\n",
    "df_s1 = df[df['statN'] == 'BOULDER / BASELINE ST1']\n",
    "df_s2 = df[df['statN'] == 'COMM VITALITY / 1000WALNUT']\n",
    "df_s3 = df[df['statN'] == 'COMM VITALITY / 1104 SPRUCE1']\n",
    "df_s4 = df[df['statN'] == 'BOULDER / N BOULDER REC 1']\n",
    "\n",
    "# Fit the data\n",
    "kmf_s1.fit(durations=df_s1['life_time'], event_observed=df_s1['event'],\n",
    "           label = dictt[df_s1['statN'].unique()[0]])\n",
    "kmf_s2.fit(durations=df_s2['life_time'], event_observed=df_s2['event'],\n",
    "           label = dictt[df_s2['statN'].unique()[0]])\n",
    "kmf_s3.fit(durations=df_s3['life_time'], event_observed=df_s3['event'],\n",
    "           label = dictt[df_s3['statN'].unique()[0]])\n",
    "kmf_s4.fit(durations=df_s4['life_time'], event_observed=df_s4['event'],\n",
    "           label = dictt[df_s4['statN'].unique()[0]])\n",
    "\n",
    "# ## Plot\n",
    "plt.figure(figsize=(6,3))\n",
    "kmf_s1.plot(color='black')\n",
    "kmf_s2.plot(color='blue')\n",
    "kmf_s3.plot(color='red')\n",
    "kmf_s4.plot(color='green')\n",
    "plt.grid()\n",
    "plt.xlabel(\"Idle time (minutes)\")\n",
    "plt.ylabel(\"Survival probability\")\n",
    "plt.ylim([0,1])\n",
    "plt.xlim([0,2800])\n",
    "plt.savefig('../visualization/KM_curve_stations.pdf',bbox_inches='tight')\n",
    "plt.show()"
   ]
  },
  {
   "cell_type": "code",
   "execution_count": 62,
   "id": "ruled-introduction",
   "metadata": {},
   "outputs": [
    {
     "name": "stdout",
     "output_type": "stream",
     "text": [
      "BASELINE: 0.8572695035460989\n",
      "1000WALNUT: 0.8008626887131562\n",
      "1104 SPRUCE1 0.8164915117219078\n",
      "REC1: 0.7363367799113736\n"
     ]
    }
   ],
   "source": [
    "print(\"BASELINE:\",kmf_s1.predict(60))\n",
    "print(\"1000WALNUT:\",kmf_s2.predict(60))\n",
    "print(\"1104 SPRUCE1\",kmf_s3.predict(60))\n",
    "print(\"REC1:\",kmf_s4.predict(60))"
   ]
  },
  {
   "cell_type": "code",
   "execution_count": 63,
   "id": "massive-spanish",
   "metadata": {},
   "outputs": [
    {
     "name": "stdout",
     "output_type": "stream",
     "text": [
      "Mean vacancy time\n",
      "BASELINE: 668.0\n",
      "1000WALNUT: 476.0\n",
      "1104 SPRUCE1 548.0\n",
      "REC1: 333.0\n"
     ]
    }
   ],
   "source": [
    "print(\"Mean vacancy time\")\n",
    "print(\"BASELINE:\", round(np.mean(df_s1['life_time']),0))\n",
    "print(\"1000WALNUT:\",round(np.mean(df_s2['life_time']),0))\n",
    "print(\"1104 SPRUCE1\",round(np.mean(df_s3['life_time']),0))\n",
    "print(\"REC1:\",round(np.mean(df_s4['life_time']),0))"
   ]
  },
  {
   "cell_type": "code",
   "execution_count": 64,
   "id": "lonely-location",
   "metadata": {},
   "outputs": [
    {
     "name": "stdout",
     "output_type": "stream",
     "text": [
      "Number of events\n",
      "BASELINE: 1128\n",
      "1000WALNUT: 1391\n",
      "1104 SPRUCE1 1237\n",
      "REC1: 1354\n"
     ]
    }
   ],
   "source": [
    "print(\"Number of events\")\n",
    "print(\"BASELINE:\", len(df_s1))\n",
    "print(\"1000WALNUT:\", len(df_s2))\n",
    "print(\"1104 SPRUCE1\",len(df_s3))\n",
    "print(\"REC1:\", len(df_s4))"
   ]
  },
  {
   "cell_type": "code",
   "execution_count": 65,
   "id": "electoral-census",
   "metadata": {},
   "outputs": [
    {
     "data": {
      "text/plain": [
       "5110"
      ]
     },
     "execution_count": 65,
     "metadata": {},
     "output_type": "execute_result"
    }
   ],
   "source": [
    "1128+1391+1237+1354"
   ]
  },
  {
   "cell_type": "code",
   "execution_count": null,
   "id": "chemical-textbook",
   "metadata": {},
   "outputs": [],
   "source": []
  }
 ],
 "metadata": {
  "kernelspec": {
   "display_name": "Python 3",
   "language": "python",
   "name": "python3"
  },
  "language_info": {
   "codemirror_mode": {
    "name": "ipython",
    "version": 3
   },
   "file_extension": ".py",
   "mimetype": "text/x-python",
   "name": "python",
   "nbconvert_exporter": "python",
   "pygments_lexer": "ipython3",
   "version": "3.7.3"
  }
 },
 "nbformat": 4,
 "nbformat_minor": 5
}
