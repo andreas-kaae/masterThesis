{
 "cells": [
  {
   "cell_type": "code",
   "execution_count": 1,
   "id": "sunset-jackson",
   "metadata": {},
   "outputs": [],
   "source": [
    "## imports \n",
    "import pandas as pd\n",
    "import numpy as np\n",
    "import matplotlib.pyplot as plt\n",
    "import seaborn as sns\n",
    "from scipy.stats import mode\n",
    "import folium\n",
    "import datetime\n",
    "import altair as alt\n",
    "from collections import OrderedDict\n",
    "from matplotlib.ticker import PercentFormatter\n",
    "import pickle5\n",
    "# matplotlib options\n",
    "#plt.style.use('ggplot')\n",
    "%matplotlib inline"
   ]
  },
  {
   "cell_type": "code",
   "execution_count": 2,
   "id": "posted-kennedy",
   "metadata": {},
   "outputs": [],
   "source": [
    "# under_utilization data\n",
    "with open(\"../Data/Boulder/under_utilization_combinedStations_laggedV5.pkl\", \"rb\") as fh:\n",
    "    df = pickle5.load(fh)"
   ]
  },
  {
   "cell_type": "code",
   "execution_count": 3,
   "id": "affecting-intelligence",
   "metadata": {},
   "outputs": [
    {
     "name": "stdout",
     "output_type": "stream",
     "text": [
      "COMM VITALITY / 1104 SPRUCE1: 58 (4.47 %)\n",
      "COMM VITALITY / 1000WALNUT: 49 (3.38 %)\n",
      "BOULDER / REC CENTER: 40 (3.51 %)\n",
      "BOULDER / BASELINE ST1: 42 (3.52 %)\n",
      "BOULDER / ATRIUM ST1: 65 (6.58 %)\n",
      "BOULDER / ALPINE ST1: 32 (8.96 %)\n",
      "COMM VITALITY / 1400 WALNUT1: 38 (7.29 %)\n",
      "BOULDER / FACILITIES ST1: 84 (16.28 %)\n",
      "COMM VITALITY / 1500PEARL: 41 (4.5 %)\n",
      "BOULDER / JUNCTION ST1: 35 (9.97 %)\n",
      "COMM VITALITY / BOULDER JCTN: 40 (5.28 %)\n",
      "COMM VITALITY / 1100WALNUT1: 39 (3.51 %)\n",
      "BOULDER / N BOULDER REC 1: 29 (2.06 %)\n",
      "BOULDER / BOULDER PARK: 8 (4.55 %)\n",
      "COMM VITALITY / 2200 BROADWAY1: 0 (0.0 %)\n",
      "BOULDER / EAST REC: 23 (5.42 %)\n",
      "BOULDERJUNCTION / JUNCTION ST1: 3 (3.0 %)\n",
      "\n",
      "The total amount of lost events: 626 (4.92 %)\n"
     ]
    }
   ],
   "source": [
    "# remove outliers\n",
    "drop_index = [] # list of indexes to keep\n",
    "names = df['Station_Name'].unique()\n",
    "\n",
    "for name in names:\n",
    "    temp = df[df['Station_Name'] == name]\n",
    "    # Get interquantile ranges\n",
    "    Q1, Q3 = temp.life_time.quantile([0.25, 0.75])\n",
    "    IQR = Q3-Q1\n",
    "    minimum = Q1 - 1.5*IQR\n",
    "    maximum = Q3 + 1.5*IQR\n",
    "    # Define observations which should be removed\n",
    "    temp2 = df[(df['life_time'] < minimum) | (df['life_time'] > maximum) &\n",
    "                  (df['Station_Name'] == name)]\n",
    "    print(\"{n}: {s} ({p} %)\".format(n=name, \n",
    "                                    s=temp2.shape[0], \n",
    "                                    p=round((temp2.shape[0]/temp.shape[0])*100,2)))\n",
    "    # Add the indexes which should be dropped\n",
    "    drop_index.extend(list(temp2.index))\n",
    "    \n",
    "print(\"\\nThe total amount of lost events: {n} ({p} %)\".format(n=len(drop_index), \n",
    "                                                              p=round(len(drop_index)/df.shape[0]*100,2)))\n",
    "\n",
    "df = df.drop(drop_index)\n",
    "df = df.reset_index(drop=True)"
   ]
  },
  {
   "cell_type": "markdown",
   "id": "handled-joshua",
   "metadata": {},
   "source": [
    "## Counts for stations"
   ]
  },
  {
   "cell_type": "code",
   "execution_count": 4,
   "id": "spoken-better",
   "metadata": {},
   "outputs": [],
   "source": [
    "dictt = {'BOULDER / ALPINE ST1': 'ALPINE',\n",
    " 'BOULDER / ATRIUM ST1': 'ATRIUM',\n",
    " 'BOULDER / BASELINE ST1': 'BASELINE',\n",
    " 'BOULDER / BOULDER PARK': 'BOULDER PARK',\n",
    " 'BOULDER / EAST REC': 'EAST',\n",
    " 'BOULDER / FACILITIES ST1': 'FACILITIES',\n",
    " 'BOULDER / JUNCTION ST1': 'JUNCTION',\n",
    " 'BOULDER / N BOULDER REC 1': 'N BOULDER',\n",
    " 'BOULDER / REC CENTER': 'REC CENTER',\n",
    " 'BOULDERJUNCTION / JUNCTION ST1': 'JUNCTION',\n",
    " 'COMM VITALITY / 1000WALNUT': '1000 WALNUT',\n",
    " 'COMM VITALITY / 1100WALNUT1': '1100 WALNUT',\n",
    " 'COMM VITALITY / 1104 SPRUCE1': '1104 SPRUCE',\n",
    " 'COMM VITALITY / 1400 WALNUT1': '1400 WALNUT',\n",
    " 'COMM VITALITY / 1500PEARL': '1500 PEARL',\n",
    " 'COMM VITALITY / 2200 BROADWAY1': '2200 BROADWAY',\n",
    " 'COMM VITALITY / BOULDER JCTN': 'BOULDER JCTN'}"
   ]
  },
  {
   "cell_type": "code",
   "execution_count": 5,
   "id": "indian-student",
   "metadata": {},
   "outputs": [],
   "source": [
    "stations_new = ['ALPINE', 'ATRIUM', 'BASELINE', 'BOULDER PARK',\n",
    "                'EAST', 'FACILITIES', 'B. JUNCTION', 'N BOULDER',\n",
    "                'REC CENTER', 'BJ. JUNCTION', '1000 WALNUT', '1100 WALNUT', '1104 SPRUCE',\n",
    "                '1400 WALNUT', '1500 PEARL', '2200 BROADWAY', 'BOULDER JCTN']"
   ]
  },
  {
   "cell_type": "code",
   "execution_count": 7,
   "id": "basic-tribute",
   "metadata": {},
   "outputs": [
    {
     "data": {
      "image/png": "[encoded data removed]",
      "text/plain": [
       "<Figure size 576x360 with 1 Axes>"
      ]
     },
     "metadata": {
      "needs_background": "light"
     },
     "output_type": "display_data"
    }
   ],
   "source": [
    "temp = df.groupby(['Station_Name']).count().latitude # group the data for each station\n",
    "plt.rcParams['figure.figsize'] = (8,5) # Figure size\n",
    "ax = sns.barplot(x=temp.values, y=stations_new, color='w', edgecolor='k')\n",
    "#ax.axvline(31*10,color=\"Red\", label=\"Minimum sample size\")\n",
    "#ax.axvline(1000, color=\"Blue\", label=\"1000 sample size\")\n",
    "ax.set_xlabel(\"Number of events\")\n",
    "#ax.axvline(31*3,color=\"green\", label=\"Minimum sample size, Applied stat....\")\n",
    "#ax.legend()\n",
    "ax.set_ylabel(\"\")\n",
    "#ax.set_title(\"Observation count for each station\")\n",
    "plt.savefig('../visualization/event_counts_stations.pdf',bbox_inches='tight')\n",
    "plt.show()"
   ]
  },
  {
   "cell_type": "markdown",
   "id": "marked-delta",
   "metadata": {},
   "source": [
    "The 4 stations with most events."
   ]
  },
  {
   "cell_type": "code",
   "execution_count": 8,
   "id": "interstate-coalition",
   "metadata": {},
   "outputs": [],
   "source": [
    "stations4 = []\n",
    "\n",
    "for i in range(0,len(temp)):\n",
    "    if temp[i] >= 1100:\n",
    "        stations4.append(temp.keys()[i])"
   ]
  },
  {
   "cell_type": "code",
   "execution_count": 10,
   "id": "congressional-compensation",
   "metadata": {},
   "outputs": [],
   "source": [
    "df4 = df[df['Station_Name'].isin(stations4)]"
   ]
  },
  {
   "cell_type": "markdown",
   "id": "logical-photographer",
   "metadata": {},
   "source": [
    "## Time of day"
   ]
  },
  {
   "cell_type": "code",
   "execution_count": 22,
   "id": "proof-warner",
   "metadata": {},
   "outputs": [
    {
     "data": {
      "image/png": "[encoded data removed]",
      "text/plain": [
       "<Figure size 432x216 with 1 Axes>"
      ]
     },
     "metadata": {
      "needs_background": "light"
     },
     "output_type": "display_data"
    }
   ],
   "source": [
    "#plt.rcParams['figure.figsize'] = (10,3)\n",
    "fig, axs = plt.subplots(figsize=(6,3))\n",
    "hour_of_day = np.arange(0,24)\n",
    "medians1 = []\n",
    "lower_q1 = []\n",
    "upper_q1 = []\n",
    "\n",
    "for hour in range(0,24):\n",
    "    temp1 = df4[df4['hour_b'] == hour]\n",
    "    medians1.append(temp1.life_time.median())\n",
    "    lower_q1.append(temp1.life_time.quantile(0.25))\n",
    "    upper_q1.append(temp1.life_time.quantile(0.75))\n",
    "\n",
    "axs.scatter(hour_of_day, medians1, marker='x', color='k', label='Median')\n",
    "axs.scatter(hour_of_day, lower_q1, marker='.', color='b', label='25% quantile')\n",
    "axs.scatter(hour_of_day, upper_q1, marker='.', color='r', label='75% quantile')\n",
    "axs.set_xlabel('Hour of day')\n",
    "axs.set_ylabel('Idle time (minutes)')\n",
    "axs.legend(loc='center left', bbox_to_anchor=(1, 0.5))\n",
    "axs.set_axisbelow(True)\n",
    "#axs.set_title(\"[0-8] hours\")\n",
    "plt.grid()\n",
    "plt.savefig('../visualization/tod_quantiles.pdf',bbox_inches='tight')\n",
    "plt.show()"
   ]
  },
  {
   "cell_type": "code",
   "execution_count": 23,
   "id": "focused-norman",
   "metadata": {},
   "outputs": [
    {
     "data": {
      "image/png": "[encoded data removed]",
      "text/plain": [
       "<Figure size 432x288 with 1 Axes>"
      ]
     },
     "metadata": {
      "needs_background": "light"
     },
     "output_type": "display_data"
    }
   ],
   "source": [
    "fig, axs = plt.subplots(figsize=(6,4))\n",
    "\n",
    "axs.hist(df4.hour_b, color='w', edgecolor='k', bins=24)\n",
    "axs.set_xlabel(\"Hour of day\")\n",
    "axs.set_ylabel(\"Number of events\")\n",
    "axs.set_xlim(-0.2,23.2)\n",
    "plt.grid()\n",
    "axs.set_axisbelow(True)\n",
    "plt.savefig('../visualization/tod_counts.pdf',bbox_inches='tight')\n",
    "plt.show()"
   ]
  },
  {
   "cell_type": "markdown",
   "id": "active-details",
   "metadata": {},
   "source": [
    "## Day of week"
   ]
  },
  {
   "cell_type": "code",
   "execution_count": 24,
   "id": "sacred-soviet",
   "metadata": {},
   "outputs": [
    {
     "data": {
      "text/plain": [
       "['Monday', 'Thuesday', 'Wednesday', 'Thursday', 'Friday', 'Saturday', 'Sunday']"
      ]
     },
     "execution_count": 24,
     "metadata": {},
     "output_type": "execute_result"
    }
   ],
   "source": [
    "['Monday','Thuesday','Wednesday','Thursday','Friday','Saturday','Sunday']"
   ]
  },
  {
   "cell_type": "code",
   "execution_count": 25,
   "id": "public-expansion",
   "metadata": {},
   "outputs": [
    {
     "name": "stderr",
     "output_type": "stream",
     "text": [
      "C:\\Anaconda\\lib\\site-packages\\ipykernel_launcher.py:19: UserWarning: FixedFormatter should only be used together with FixedLocator\n"
     ]
    },
    {
     "data": {
      "image/png": "[encoded data removed]",
      "text/plain": [
       "<Figure size 432x216 with 1 Axes>"
      ]
     },
     "metadata": {
      "needs_background": "light"
     },
     "output_type": "display_data"
    }
   ],
   "source": [
    "#plt.rcParams['figure.figsize'] = (10,3)\n",
    "fig, axs = plt.subplots(figsize=(6,3))\n",
    "dow = ['Monday','Thuesday','Wednesday','Thursday','Friday','Saturday','Sunday']\n",
    "medians1 = []\n",
    "lower_q1 = []\n",
    "upper_q1 = []\n",
    "\n",
    "for hour in range(0,7):\n",
    "    temp1 = df8[df8['weekday_b'] == hour]\n",
    "    medians1.append(temp1.life_time.median())\n",
    "    lower_q1.append(temp1.life_time.quantile(0.25))\n",
    "    upper_q1.append(temp1.life_time.quantile(0.75))\n",
    "\n",
    "axs.scatter(dow, medians1, marker='x', color='k', label='Median')\n",
    "axs.scatter(dow, lower_q1, marker='.', color='b', label='25% quantile')\n",
    "axs.scatter(dow, upper_q1, marker='.', color='r', label='75% quantile')\n",
    "axs.set_xlabel('Day of week')\n",
    "axs.set_ylabel('Idle time (minutes)')\n",
    "axs.set_xticklabels(dow,rotation=30)\n",
    "axs.legend(loc='center left', bbox_to_anchor=(1, 0.5))\n",
    "axs.set_axisbelow(True)\n",
    "plt.grid()\n",
    "plt.savefig('../visualization/dow_quantiles.pdf',bbox_inches='tight')\n",
    "plt.show()"
   ]
  },
  {
   "cell_type": "code",
   "execution_count": 26,
   "id": "organic-carter",
   "metadata": {},
   "outputs": [
    {
     "data": {
      "image/png": "[encoded data removed]",
      "text/plain": [
       "<Figure size 432x144 with 1 Axes>"
      ]
     },
     "metadata": {
      "needs_background": "light"
     },
     "output_type": "display_data"
    }
   ],
   "source": [
    "fig, axs = plt.subplots(figsize=(6,2))\n",
    "weekdays = ['Monday', 'Tuesday', 'Wednesday', 'Thursday', 'Friday', 'Saturday', 'Sunday']\n",
    "counts = df8.groupby('weekday_b').count().life_time.values\n",
    "sns.barplot(y=weekdays, x=counts, color='w', edgecolor='k')\n",
    "#axs.set_title(\"8+ hours\")\n",
    "axs.set_xlabel(\"Number of events\")\n",
    "plt.savefig('../visualization/dow_counts.pdf',bbox_inches='tight')\n",
    "plt.show()"
   ]
  },
  {
   "cell_type": "code",
   "execution_count": null,
   "id": "rocky-nebraska",
   "metadata": {},
   "outputs": [],
   "source": []
  },
  {
   "cell_type": "code",
   "execution_count": null,
   "id": "headed-stylus",
   "metadata": {},
   "outputs": [],
   "source": []
  }
 ],
 "metadata": {
  "kernelspec": {
   "display_name": "Python 3",
   "language": "python",
   "name": "python3"
  },
  "language_info": {
   "codemirror_mode": {
    "name": "ipython",
    "version": 3
   },
   "file_extension": ".py",
   "mimetype": "text/x-python",
   "name": "python",
   "nbconvert_exporter": "python",
   "pygments_lexer": "ipython3",
   "version": "3.7.3"
  }
 },
 "nbformat": 4,
 "nbformat_minor": 5
}
