{
 "cells": [
  {
   "cell_type": "markdown",
   "id": "responsible-charm",
   "metadata": {},
   "source": [
    "To get the data openstreet map is used. A bounding box which have the corner coordinates for the square of the desired area is used to get the POIs. The coordinates for Boulder are found via google maps and the link below downloads the data:\n",
    "https://overpass-api.de/api/map?bbox=-105.32,39.95,-105.2,40.08"
   ]
  },
  {
   "cell_type": "code",
   "execution_count": 1,
   "id": "piano-fiction",
   "metadata": {},
   "outputs": [],
   "source": [
    "## Load packages\n",
    "import gzip\n",
    "import xml.etree.ElementTree as ET\n",
    "\n",
    "import seaborn as sns\n",
    "from matplotlib import pyplot as plt\n",
    "import pandas as pd\n",
    "import pickle5\n",
    "import folium\n"
   ]
  },
  {
   "cell_type": "code",
   "execution_count": 2,
   "id": "eligible-principal",
   "metadata": {},
   "outputs": [],
   "source": [
    "def pick_from_dict(d, keys):\n",
    "    return {key: d[key] for key in keys}\n",
    "def merge_dicts(d1, d2):\n",
    "    return dict(set(d1.items() | set(d2.items())))"
   ]
  },
  {
   "cell_type": "code",
   "execution_count": 3,
   "id": "classical-affairs",
   "metadata": {},
   "outputs": [],
   "source": [
    "def get_amenity(node):\n",
    "    return {'amenity': next(filter(lambda child: child.attrib.get('k') == 'amenity', node)).attrib['v']}\n",
    "    \n",
    "    \n",
    "def has_amenity_child(node):\n",
    "    return any(child.attrib.get('k') == 'amenity' for child in node)\n",
    "\n",
    "\n",
    "def get_pois(root):\n",
    "    return pd.DataFrame(\n",
    "        map(lambda node: merge_dicts(get_amenity(node), pick_from_dict(node.attrib, ['lat', 'lon', 'timestamp'])),\n",
    "            filter(has_amenity_child, root.findall('node')))\n",
    "    ).assign(timestamp=lambda d: pd.to_datetime(d.timestamp))\\\n",
    "    .sort_values(by='amenity')\\\n",
    "    .assign(lat=lambda df: df.lat.astype(float), lon=lambda df: df.lon.astype(float))"
   ]
  },
  {
   "cell_type": "code",
   "execution_count": 4,
   "id": "desirable-appointment",
   "metadata": {},
   "outputs": [
    {
     "data": {
      "text/html": [
       "<div>\n",
       "<style scoped>\n",
       "    .dataframe tbody tr th:only-of-type {\n",
       "        vertical-align: middle;\n",
       "    }\n",
       "\n",
       "    .dataframe tbody tr th {\n",
       "        vertical-align: top;\n",
       "    }\n",
       "\n",
       "    .dataframe thead th {\n",
       "        text-align: right;\n",
       "    }\n",
       "</style>\n",
       "<table border=\"1\" class=\"dataframe\">\n",
       "  <thead>\n",
       "    <tr style=\"text-align: right;\">\n",
       "      <th></th>\n",
       "      <th>amenity</th>\n",
       "      <th>lon</th>\n",
       "      <th>lat</th>\n",
       "      <th>timestamp</th>\n",
       "    </tr>\n",
       "  </thead>\n",
       "  <tbody>\n",
       "    <tr>\n",
       "      <th>1076</th>\n",
       "      <td>animal_boarding</td>\n",
       "      <td>-105.200844</td>\n",
       "      <td>40.073078</td>\n",
       "      <td>2019-04-21 06:44:06+00:00</td>\n",
       "    </tr>\n",
       "    <tr>\n",
       "      <th>1542</th>\n",
       "      <td>arts_centre</td>\n",
       "      <td>-105.200539</td>\n",
       "      <td>40.070944</td>\n",
       "      <td>2018-05-20 18:35:18+00:00</td>\n",
       "    </tr>\n",
       "    <tr>\n",
       "      <th>914</th>\n",
       "      <td>arts_centre</td>\n",
       "      <td>-105.256395</td>\n",
       "      <td>40.016853</td>\n",
       "      <td>2019-09-07 13:29:54+00:00</td>\n",
       "    </tr>\n",
       "    <tr>\n",
       "      <th>1397</th>\n",
       "      <td>atm</td>\n",
       "      <td>-105.252741</td>\n",
       "      <td>40.036770</td>\n",
       "      <td>2017-09-03 22:43:11+00:00</td>\n",
       "    </tr>\n",
       "    <tr>\n",
       "      <th>153</th>\n",
       "      <td>atm</td>\n",
       "      <td>-105.266879</td>\n",
       "      <td>40.008351</td>\n",
       "      <td>2013-02-01 23:50:13+00:00</td>\n",
       "    </tr>\n",
       "  </tbody>\n",
       "</table>\n",
       "</div>"
      ],
      "text/plain": [
       "              amenity         lon        lat                 timestamp\n",
       "1076  animal_boarding -105.200844  40.073078 2019-04-21 06:44:06+00:00\n",
       "1542      arts_centre -105.200539  40.070944 2018-05-20 18:35:18+00:00\n",
       "914       arts_centre -105.256395  40.016853 2019-09-07 13:29:54+00:00\n",
       "1397              atm -105.252741  40.036770 2017-09-03 22:43:11+00:00\n",
       "153               atm -105.266879  40.008351 2013-02-01 23:50:13+00:00"
      ]
     },
     "execution_count": 4,
     "metadata": {},
     "output_type": "execute_result"
    }
   ],
   "source": [
    "df_pois = get_pois(ET.parse('../data/poi_map').getroot())\n",
    "df_pois.head()"
   ]
  },
  {
   "cell_type": "code",
   "execution_count": 5,
   "id": "finished-spirituality",
   "metadata": {},
   "outputs": [
    {
     "data": {
      "text/plain": [
       "(1936, 4)"
      ]
     },
     "execution_count": 5,
     "metadata": {},
     "output_type": "execute_result"
    }
   ],
   "source": [
    "df_pois.shape"
   ]
  },
  {
   "cell_type": "markdown",
   "id": "objective-capitol",
   "metadata": {},
   "source": [
    "## Aggregation of POI's"
   ]
  },
  {
   "cell_type": "code",
   "execution_count": 6,
   "id": "center-table",
   "metadata": {},
   "outputs": [
    {
     "name": "stdout",
     "output_type": "stream",
     "text": [
      "Number of different POI's: 69\n"
     ]
    }
   ],
   "source": [
    "print(\"Number of different POI's: {}\".format(len(df_pois['amenity'].unique())))"
   ]
  },
  {
   "cell_type": "code",
   "execution_count": 7,
   "id": "introductory-resident",
   "metadata": {},
   "outputs": [
    {
     "data": {
      "text/plain": [
       "array(['animal_boarding', 'arts_centre', 'atm', 'bank', 'bar', 'bbq',\n",
       "       'bench', 'bicycle_parking', 'bicycle_rental',\n",
       "       'bicycle_repair_station', 'bus_station', 'cafe', 'cafeteria',\n",
       "       'car_rental', 'car_sharing', 'car_wash', 'charging_station',\n",
       "       'childcare', 'clinic', 'clock', 'college', 'compost',\n",
       "       'compressed_air', 'courthouse', 'coworking_space', 'dentist',\n",
       "       'doctors', 'dojo', 'drinking_water', 'driving_school', 'fast_food',\n",
       "       'financial_advice', 'fire_station', 'food_court', 'fountain',\n",
       "       'fuel', 'hospital', 'ice_cream', 'kindergarten', 'library',\n",
       "       'loading_dock', 'marketplace', 'music_school', 'nightclub',\n",
       "       'parking', 'parking_entrance', 'pharmacy', 'place_of_worship',\n",
       "       'police', 'polling_station', 'post_box', 'post_office',\n",
       "       'prep_school', 'pub', 'public_bookcase', 'recycling', 'restaurant',\n",
       "       'school', 'shelter', 'ski_rental', 'social_facility', 'taxi',\n",
       "       'telephone', 'theatre', 'toilets', 'vending_machine', 'veterinary',\n",
       "       'waste_basket', 'waste_disposal'], dtype=object)"
      ]
     },
     "execution_count": 7,
     "metadata": {},
     "output_type": "execute_result"
    }
   ],
   "source": [
    "df_pois['amenity'].unique()"
   ]
  },
  {
   "cell_type": "markdown",
   "id": "changing-solomon",
   "metadata": {},
   "source": [
    "There are 69 so we need to choose the ones that we think would be relevant. "
   ]
  },
  {
   "cell_type": "code",
   "execution_count": 8,
   "id": "caring-touch",
   "metadata": {},
   "outputs": [],
   "source": [
    "def aggregate_amenities(df):\n",
    "    def _reverse_get(dct, value):\n",
    "        return next(key for key in dct if value in dct[key]) if any(value in dct[key] for key in dct) else 'other' \n",
    "    \n",
    "    return df.assign(\n",
    "        amenity_aggtype=df.amenity.apply(lambda amenity: _reverse_get({\n",
    "            'entertainment': ['theatre', 'swingerclub', 'swimming_pool', 'stripclub', 'social_facility', 'pub', 'nightclub', 'music_venue', 'internet_cafe', 'hookah_lounge', 'games', 'gambling', 'gallery', 'erotic', 'community_centre', 'cinema', 'casino', 'bar', 'brothel','club'],\n",
    "            'service': ['traffic_school', 'driving_school', 'townhall', 'studio', 'student_accomodation', 'post_box', 'post_depot', 'post_office','place_of_worship', 'photo', 'library', 'ferry_terminal', 'embassy', 'coworking_space', 'courthouse', 'bank', 'police'],\n",
    "            #'charging': ['charging_station'],\n",
    "            #'rental': ['car_sharing', 'bicycle_rental', 'car_rental'],\n",
    "            #'parking': ['parking_space', 'parking_entrance', 'parking'],\n",
    "            'food': ['wine_storage', 'food_court','cafeteria','wine', 'restaurant', 'marketplace', 'ice_cream', 'feeding_place', 'fast_food', 'deli', 'biergarten', 'cafe'],\n",
    "            'childcare': ['childcare','kindergarten'],\n",
    "            'education': ['university', 'prep_school','school', 'research_institute', 'preschool', 'college',],\n",
    "            #'events': ['events_venue', 'events_centre', 'event_venue', 'conference_centre',],\n",
    "            'medical': ['pharmacy', 'hospital', 'clinic',  'doctors', 'dentist', ],\n",
    "            'waste-management':['recycling','waste_disposal','waste_transfer_station']\n",
    "        }, amenity))\n",
    "    )\n"
   ]
  },
  {
   "cell_type": "code",
   "execution_count": 9,
   "id": "useful-portrait",
   "metadata": {},
   "outputs": [
    {
     "data": {
      "text/html": [
       "<div>\n",
       "<style scoped>\n",
       "    .dataframe tbody tr th:only-of-type {\n",
       "        vertical-align: middle;\n",
       "    }\n",
       "\n",
       "    .dataframe tbody tr th {\n",
       "        vertical-align: top;\n",
       "    }\n",
       "\n",
       "    .dataframe thead th {\n",
       "        text-align: right;\n",
       "    }\n",
       "</style>\n",
       "<table border=\"1\" class=\"dataframe\">\n",
       "  <thead>\n",
       "    <tr style=\"text-align: right;\">\n",
       "      <th></th>\n",
       "      <th>amenity</th>\n",
       "      <th>lon</th>\n",
       "      <th>lat</th>\n",
       "      <th>timestamp</th>\n",
       "      <th>amenity_aggtype</th>\n",
       "    </tr>\n",
       "  </thead>\n",
       "  <tbody>\n",
       "    <tr>\n",
       "      <th>1076</th>\n",
       "      <td>animal_boarding</td>\n",
       "      <td>-105.200844</td>\n",
       "      <td>40.073078</td>\n",
       "      <td>2019-04-21 06:44:06+00:00</td>\n",
       "      <td>other</td>\n",
       "    </tr>\n",
       "    <tr>\n",
       "      <th>1542</th>\n",
       "      <td>arts_centre</td>\n",
       "      <td>-105.200539</td>\n",
       "      <td>40.070944</td>\n",
       "      <td>2018-05-20 18:35:18+00:00</td>\n",
       "      <td>other</td>\n",
       "    </tr>\n",
       "    <tr>\n",
       "      <th>914</th>\n",
       "      <td>arts_centre</td>\n",
       "      <td>-105.256395</td>\n",
       "      <td>40.016853</td>\n",
       "      <td>2019-09-07 13:29:54+00:00</td>\n",
       "      <td>other</td>\n",
       "    </tr>\n",
       "    <tr>\n",
       "      <th>1397</th>\n",
       "      <td>atm</td>\n",
       "      <td>-105.252741</td>\n",
       "      <td>40.036770</td>\n",
       "      <td>2017-09-03 22:43:11+00:00</td>\n",
       "      <td>other</td>\n",
       "    </tr>\n",
       "    <tr>\n",
       "      <th>153</th>\n",
       "      <td>atm</td>\n",
       "      <td>-105.266879</td>\n",
       "      <td>40.008351</td>\n",
       "      <td>2013-02-01 23:50:13+00:00</td>\n",
       "      <td>other</td>\n",
       "    </tr>\n",
       "  </tbody>\n",
       "</table>\n",
       "</div>"
      ],
      "text/plain": [
       "              amenity         lon        lat                 timestamp  \\\n",
       "1076  animal_boarding -105.200844  40.073078 2019-04-21 06:44:06+00:00   \n",
       "1542      arts_centre -105.200539  40.070944 2018-05-20 18:35:18+00:00   \n",
       "914       arts_centre -105.256395  40.016853 2019-09-07 13:29:54+00:00   \n",
       "1397              atm -105.252741  40.036770 2017-09-03 22:43:11+00:00   \n",
       "153               atm -105.266879  40.008351 2013-02-01 23:50:13+00:00   \n",
       "\n",
       "     amenity_aggtype  \n",
       "1076           other  \n",
       "1542           other  \n",
       "914            other  \n",
       "1397           other  \n",
       "153            other  "
      ]
     },
     "execution_count": 9,
     "metadata": {},
     "output_type": "execute_result"
    }
   ],
   "source": [
    "df = aggregate_amenities(df_pois)\n",
    "df.head()"
   ]
  },
  {
   "cell_type": "code",
   "execution_count": 10,
   "id": "better-horror",
   "metadata": {},
   "outputs": [
    {
     "data": {
      "image/png": "[encoded data removed]",
      "text/plain": [
       "<Figure size 432x288 with 1 Axes>"
      ]
     },
     "metadata": {
      "needs_background": "light"
     },
     "output_type": "display_data"
    }
   ],
   "source": [
    "temp = df.groupby(['amenity_aggtype']).count().lat\n",
    "temp = temp.sort_values(ascending=False)\n",
    "plt.rcParams[\"figure.figsize\"] = (6,4)\n",
    "sns.barplot(x=temp.values,y=temp.index, color='white',edgecolor='k')\n",
    "plt.grid()\n",
    "plt.show()"
   ]
  },
  {
   "cell_type": "markdown",
   "id": "adapted-rwanda",
   "metadata": {},
   "source": [
    "When we remove the other category:"
   ]
  },
  {
   "cell_type": "code",
   "execution_count": 11,
   "id": "experimental-boston",
   "metadata": {},
   "outputs": [
    {
     "data": {
      "image/png": "[encoded data removed]",
      "text/plain": [
       "<Figure size 432x288 with 1 Axes>"
      ]
     },
     "metadata": {
      "needs_background": "light"
     },
     "output_type": "display_data"
    }
   ],
   "source": [
    "temp = temp[1:]\n",
    "sns.barplot(x=temp.values,y=temp.index, color='white',edgecolor='k')\n",
    "plt.grid()\n",
    "plt.ylabel(\"\")\n",
    "plt.xlabel(\"# POI's\")\n",
    "plt.show()"
   ]
  },
  {
   "cell_type": "code",
   "execution_count": 12,
   "id": "conventional-withdrawal",
   "metadata": {},
   "outputs": [],
   "source": [
    "df_POI = df[df['amenity_aggtype'] != 'other']"
   ]
  },
  {
   "cell_type": "code",
   "execution_count": 13,
   "id": "parliamentary-graph",
   "metadata": {},
   "outputs": [
    {
     "name": "stdout",
     "output_type": "stream",
     "text": [
      "service: ['bank' 'courthouse' 'coworking_space' 'driving_school' 'library'\n",
      " 'place_of_worship' 'police' 'post_box' 'post_office']\n",
      "\n",
      "\n",
      "entertainment: ['bar' 'nightclub' 'pub' 'social_facility' 'theatre']\n",
      "\n",
      "\n",
      "food: ['cafe' 'cafeteria' 'fast_food' 'food_court' 'ice_cream' 'marketplace'\n",
      " 'restaurant']\n",
      "\n",
      "\n",
      "childcare: ['childcare' 'kindergarten']\n",
      "\n",
      "\n",
      "medical: ['clinic' 'dentist' 'doctors' 'hospital' 'pharmacy']\n",
      "\n",
      "\n",
      "education: ['college' 'prep_school' 'school']\n",
      "\n",
      "\n",
      "waste-management: ['recycling' 'waste_disposal']\n",
      "\n",
      "\n"
     ]
    }
   ],
   "source": [
    "## Check which categories are in which\n",
    "for typ in df_POI['amenity_aggtype'].unique():\n",
    "    temp = df_POI[df_POI['amenity_aggtype'] == typ]\n",
    "    print(\"{}: {}\".format(typ,temp['amenity'].unique()))\n",
    "    print(\"\\n\")"
   ]
  },
  {
   "cell_type": "markdown",
   "id": "stupid-metro",
   "metadata": {},
   "source": [
    "We thus end up with 7 POI categories. "
   ]
  },
  {
   "cell_type": "markdown",
   "id": "south-state",
   "metadata": {},
   "source": [
    "### Merging with Boulder dataframe"
   ]
  },
  {
   "cell_type": "code",
   "execution_count": 151,
   "id": "hidden-saudi",
   "metadata": {},
   "outputs": [
    {
     "data": {
      "text/html": [
       "<div>\n",
       "<style scoped>\n",
       "    .dataframe tbody tr th:only-of-type {\n",
       "        vertical-align: middle;\n",
       "    }\n",
       "\n",
       "    .dataframe tbody tr th {\n",
       "        vertical-align: top;\n",
       "    }\n",
       "\n",
       "    .dataframe thead th {\n",
       "        text-align: right;\n",
       "    }\n",
       "</style>\n",
       "<table border=\"1\" class=\"dataframe\">\n",
       "  <thead>\n",
       "    <tr style=\"text-align: right;\">\n",
       "      <th></th>\n",
       "      <th>life_time</th>\n",
       "      <th>datetime_start</th>\n",
       "      <th>datetime_end</th>\n",
       "      <th>latitude</th>\n",
       "      <th>longitude</th>\n",
       "      <th>distance_center_km</th>\n",
       "      <th>Station_Name</th>\n",
       "      <th>weekday_b</th>\n",
       "      <th>weekday_b_name</th>\n",
       "      <th>hour_b</th>\n",
       "      <th>...</th>\n",
       "      <th>near_inactivity_4H</th>\n",
       "      <th>near_charge_events_4H</th>\n",
       "      <th>near_charge_time_5H</th>\n",
       "      <th>near_charge_energy_5H</th>\n",
       "      <th>near_inactivity_5H</th>\n",
       "      <th>near_charge_events_5H</th>\n",
       "      <th>near_charge_time_6H</th>\n",
       "      <th>near_charge_energy_6H</th>\n",
       "      <th>near_inactivity_6H</th>\n",
       "      <th>near_charge_events_6H</th>\n",
       "    </tr>\n",
       "  </thead>\n",
       "  <tbody>\n",
       "    <tr>\n",
       "      <th>0</th>\n",
       "      <td>928.5</td>\n",
       "      <td>2018-01-31 19:51:00</td>\n",
       "      <td>2018-02-01 11:19:30</td>\n",
       "      <td>40.018482</td>\n",
       "      <td>-105.281066</td>\n",
       "      <td>0.152203</td>\n",
       "      <td>COMM VITALITY / 1104 SPRUCE1</td>\n",
       "      <td>2</td>\n",
       "      <td>Wednesday</td>\n",
       "      <td>19</td>\n",
       "      <td>...</td>\n",
       "      <td>0.0</td>\n",
       "      <td>0</td>\n",
       "      <td>0.0</td>\n",
       "      <td>0.0</td>\n",
       "      <td>0.0</td>\n",
       "      <td>0</td>\n",
       "      <td>0.0</td>\n",
       "      <td>0.0</td>\n",
       "      <td>0.0</td>\n",
       "      <td>0</td>\n",
       "    </tr>\n",
       "    <tr>\n",
       "      <th>1</th>\n",
       "      <td>363.5</td>\n",
       "      <td>2018-02-01 14:03:00</td>\n",
       "      <td>2018-02-01 20:06:30</td>\n",
       "      <td>40.018482</td>\n",
       "      <td>-105.281066</td>\n",
       "      <td>0.152203</td>\n",
       "      <td>COMM VITALITY / 1104 SPRUCE1</td>\n",
       "      <td>3</td>\n",
       "      <td>Thursday</td>\n",
       "      <td>14</td>\n",
       "      <td>...</td>\n",
       "      <td>0.0</td>\n",
       "      <td>0</td>\n",
       "      <td>0.0</td>\n",
       "      <td>0.0</td>\n",
       "      <td>0.0</td>\n",
       "      <td>0</td>\n",
       "      <td>0.0</td>\n",
       "      <td>0.0</td>\n",
       "      <td>0.0</td>\n",
       "      <td>0</td>\n",
       "    </tr>\n",
       "    <tr>\n",
       "      <th>2</th>\n",
       "      <td>6828.5</td>\n",
       "      <td>2018-02-01 21:15:00</td>\n",
       "      <td>2018-02-06 15:03:30</td>\n",
       "      <td>40.018482</td>\n",
       "      <td>-105.281066</td>\n",
       "      <td>0.152203</td>\n",
       "      <td>COMM VITALITY / 1104 SPRUCE1</td>\n",
       "      <td>3</td>\n",
       "      <td>Thursday</td>\n",
       "      <td>21</td>\n",
       "      <td>...</td>\n",
       "      <td>0.0</td>\n",
       "      <td>0</td>\n",
       "      <td>0.0</td>\n",
       "      <td>0.0</td>\n",
       "      <td>0.0</td>\n",
       "      <td>0</td>\n",
       "      <td>0.0</td>\n",
       "      <td>0.0</td>\n",
       "      <td>0.0</td>\n",
       "      <td>0</td>\n",
       "    </tr>\n",
       "    <tr>\n",
       "      <th>3</th>\n",
       "      <td>5871.5</td>\n",
       "      <td>2018-02-06 15:27:00</td>\n",
       "      <td>2018-02-10 17:18:30</td>\n",
       "      <td>40.018482</td>\n",
       "      <td>-105.281066</td>\n",
       "      <td>0.152203</td>\n",
       "      <td>COMM VITALITY / 1104 SPRUCE1</td>\n",
       "      <td>1</td>\n",
       "      <td>Tuesday</td>\n",
       "      <td>15</td>\n",
       "      <td>...</td>\n",
       "      <td>0.0</td>\n",
       "      <td>0</td>\n",
       "      <td>0.0</td>\n",
       "      <td>0.0</td>\n",
       "      <td>0.0</td>\n",
       "      <td>0</td>\n",
       "      <td>0.0</td>\n",
       "      <td>0.0</td>\n",
       "      <td>0.0</td>\n",
       "      <td>0</td>\n",
       "    </tr>\n",
       "    <tr>\n",
       "      <th>4</th>\n",
       "      <td>1454.5</td>\n",
       "      <td>2018-02-10 18:26:00</td>\n",
       "      <td>2018-02-11 18:40:30</td>\n",
       "      <td>40.018482</td>\n",
       "      <td>-105.281066</td>\n",
       "      <td>0.152203</td>\n",
       "      <td>COMM VITALITY / 1104 SPRUCE1</td>\n",
       "      <td>5</td>\n",
       "      <td>Saturday</td>\n",
       "      <td>18</td>\n",
       "      <td>...</td>\n",
       "      <td>0.0</td>\n",
       "      <td>0</td>\n",
       "      <td>0.0</td>\n",
       "      <td>0.0</td>\n",
       "      <td>0.0</td>\n",
       "      <td>0</td>\n",
       "      <td>0.0</td>\n",
       "      <td>0.0</td>\n",
       "      <td>0.0</td>\n",
       "      <td>0</td>\n",
       "    </tr>\n",
       "  </tbody>\n",
       "</table>\n",
       "<p>5 rows × 63 columns</p>\n",
       "</div>"
      ],
      "text/plain": [
       "   life_time      datetime_start        datetime_end   latitude   longitude  \\\n",
       "0      928.5 2018-01-31 19:51:00 2018-02-01 11:19:30  40.018482 -105.281066   \n",
       "1      363.5 2018-02-01 14:03:00 2018-02-01 20:06:30  40.018482 -105.281066   \n",
       "2     6828.5 2018-02-01 21:15:00 2018-02-06 15:03:30  40.018482 -105.281066   \n",
       "3     5871.5 2018-02-06 15:27:00 2018-02-10 17:18:30  40.018482 -105.281066   \n",
       "4     1454.5 2018-02-10 18:26:00 2018-02-11 18:40:30  40.018482 -105.281066   \n",
       "\n",
       "   distance_center_km                  Station_Name  weekday_b weekday_b_name  \\\n",
       "0            0.152203  COMM VITALITY / 1104 SPRUCE1          2      Wednesday   \n",
       "1            0.152203  COMM VITALITY / 1104 SPRUCE1          3       Thursday   \n",
       "2            0.152203  COMM VITALITY / 1104 SPRUCE1          3       Thursday   \n",
       "3            0.152203  COMM VITALITY / 1104 SPRUCE1          1        Tuesday   \n",
       "4            0.152203  COMM VITALITY / 1104 SPRUCE1          5       Saturday   \n",
       "\n",
       "   hour_b  ...  near_inactivity_4H  near_charge_events_4H  \\\n",
       "0      19  ...                 0.0                      0   \n",
       "1      14  ...                 0.0                      0   \n",
       "2      21  ...                 0.0                      0   \n",
       "3      15  ...                 0.0                      0   \n",
       "4      18  ...                 0.0                      0   \n",
       "\n",
       "   near_charge_time_5H  near_charge_energy_5H  near_inactivity_5H  \\\n",
       "0                  0.0                    0.0                 0.0   \n",
       "1                  0.0                    0.0                 0.0   \n",
       "2                  0.0                    0.0                 0.0   \n",
       "3                  0.0                    0.0                 0.0   \n",
       "4                  0.0                    0.0                 0.0   \n",
       "\n",
       "   near_charge_events_5H  near_charge_time_6H  near_charge_energy_6H  \\\n",
       "0                      0                  0.0                    0.0   \n",
       "1                      0                  0.0                    0.0   \n",
       "2                      0                  0.0                    0.0   \n",
       "3                      0                  0.0                    0.0   \n",
       "4                      0                  0.0                    0.0   \n",
       "\n",
       "   near_inactivity_6H  near_charge_events_6H  \n",
       "0                 0.0                      0  \n",
       "1                 0.0                      0  \n",
       "2                 0.0                      0  \n",
       "3                 0.0                      0  \n",
       "4                 0.0                      0  \n",
       "\n",
       "[5 rows x 63 columns]"
      ]
     },
     "execution_count": 151,
     "metadata": {},
     "output_type": "execute_result"
    }
   ],
   "source": [
    "with open(\"../data/under_utilization_combinedStations_laggedV5.pkl\", \"rb\") as fh:\n",
    "    df = pickle5.load(fh)\n",
    "    \n",
    "df.head()"
   ]
  },
  {
   "cell_type": "code",
   "execution_count": 152,
   "id": "according-blank",
   "metadata": {},
   "outputs": [],
   "source": [
    "poi_labels = df_POI['amenity_aggtype'].unique()\n",
    "station_names = df['Station_Name'].unique()"
   ]
  },
  {
   "cell_type": "code",
   "execution_count": 153,
   "id": "round-purple",
   "metadata": {},
   "outputs": [],
   "source": [
    "from math import sin, cos, sqrt, atan2, radians\n",
    "def distance_latlong(la1,lo1,la2,lo2):\n",
    "    R = 6373\n",
    "    \n",
    "    lat1 = radians(la1)\n",
    "    lon1 = radians(lo1)\n",
    "    lat2 = radians(la2)\n",
    "    lon2 = radians(lo2)\n",
    "    \n",
    "    dlon = lon2 - lon1\n",
    "    dlat = lat2 - lat1\n",
    "\n",
    "    a = sin(dlat / 2)**2 + cos(lat1) * cos(lat2) * sin(dlon / 2)**2\n",
    "    c = 2 * atan2(sqrt(a), sqrt(1 - a))\n",
    "\n",
    "    distance = R * c\n",
    "    return distance # in km"
   ]
  },
  {
   "cell_type": "code",
   "execution_count": 154,
   "id": "raised-softball",
   "metadata": {},
   "outputs": [
    {
     "name": "stdout",
     "output_type": "stream",
     "text": [
      "COMM VITALITY / 1104 SPRUCE1\n",
      "COMM VITALITY / 1000WALNUT\n",
      "BOULDER / REC CENTER\n",
      "BOULDER / BASELINE ST1\n",
      "BOULDER / ATRIUM ST1\n",
      "BOULDER / ALPINE ST1\n",
      "COMM VITALITY / 1400 WALNUT1\n",
      "BOULDER / FACILITIES ST1\n",
      "COMM VITALITY / 1500PEARL\n",
      "BOULDER / JUNCTION ST1\n",
      "COMM VITALITY / BOULDER JCTN\n",
      "COMM VITALITY / 1100WALNUT1\n",
      "BOULDER / N BOULDER REC 1\n",
      "BOULDER / BOULDER PARK\n",
      "COMM VITALITY / 2200 BROADWAY1\n",
      "BOULDER / EAST REC\n",
      "BOULDERJUNCTION / JUNCTION ST1\n"
     ]
    }
   ],
   "source": [
    "dictt = {}\n",
    "for stat in station_names: # iterate over every station\n",
    "    dictt[stat] = {}\n",
    "    temp_stat = df[df['Station_Name'] == stat]\n",
    "    # get station lat and long coordinates\n",
    "    lat_stat = temp_stat.latitude.unique()[0]\n",
    "    long_stat = temp_stat.longitude.unique()[0]\n",
    "    print(stat)\n",
    "    for POI in poi_labels: # iterate over every POI category\n",
    "        #dictt[stat][POI] = {}\n",
    "        temp_poi = df_POI[df_POI['amenity_aggtype'] == POI]\n",
    "        # initialize shortest distance\n",
    "        shortest_distance = 1000000\n",
    "        shortest_index = None\n",
    "        shortest_lat = None\n",
    "        shortest_long = None\n",
    "        for index, row in temp_poi.iterrows():\n",
    "            # get POI point lat and long coordinates\n",
    "            lat_poi = row.lat\n",
    "            long_poi = row.lon\n",
    "            # calculated distance from station to point\n",
    "            dist = distance_latlong(lat_stat,long_stat, lat_poi, long_poi)\n",
    "            if dist < shortest_distance: # if distance is shorter we update\n",
    "                shortest_distance = dist\n",
    "                shortest_index = index\n",
    "                shortest_lat = lat_poi\n",
    "                shortest_long = long_poi\n",
    "    \n",
    "        dictt[stat][POI] = {'dist':shortest_distance, 'idx':shortest_index,\n",
    "                            'lat':shortest_lat, 'long':shortest_long}"
   ]
  },
  {
   "cell_type": "code",
   "execution_count": 155,
   "id": "juvenile-sponsorship",
   "metadata": {},
   "outputs": [],
   "source": [
    "stat_df_order = df['Station_Name']\n",
    "for poi in poi_labels:\n",
    "    temp = []\n",
    "    for i in range(len(stat_df_order)):\n",
    "        dist = dictt[stat_df_order[i]][poi]['dist']\n",
    "        temp.append(dist)\n",
    "    df[poi] = temp"
   ]
  },
  {
   "cell_type": "code",
   "execution_count": 156,
   "id": "military-municipality",
   "metadata": {},
   "outputs": [],
   "source": [
    "#df.to_pickle(\"../data/ut_poiV6.pkl\")"
   ]
  },
  {
   "cell_type": "markdown",
   "id": "diagnostic-flower",
   "metadata": {},
   "source": [
    "### Exploration of POI for the 4 stations"
   ]
  },
  {
   "cell_type": "code",
   "execution_count": 125,
   "id": "happy-meaning",
   "metadata": {},
   "outputs": [],
   "source": [
    "station_subset = ['BOULDER / N BOULDER REC 1', 'COMM VITALITY / 1000WALNUT', \n",
    "                  'COMM VITALITY / 1104 SPRUCE1', 'BOULDER / BASELINE ST1']\n",
    "df_sub = df[df['Station_Name'].isin(station_subset)]"
   ]
  },
  {
   "cell_type": "code",
   "execution_count": 126,
   "id": "medieval-cartridge",
   "metadata": {},
   "outputs": [
    {
     "name": "stdout",
     "output_type": "stream",
     "text": [
      "BOULDER / N BOULDER REC 1\n",
      "service: 0.77 km\n",
      "entertainment: 1.47 km\n",
      "food: 0.77 km\n",
      "childcare: 1.99 km\n",
      "medical: 0.24 km\n",
      "education: 1.82 km\n",
      "parking: 1.23 km\n",
      "waste-management: 0.4 km\n",
      "\n",
      "\n",
      "COMM VITALITY / 1000WALNUT\n",
      "service: 0.19 km\n",
      "entertainment: 0.01 km\n",
      "food: 0.04 km\n",
      "childcare: 3.8 km\n",
      "medical: 0.57 km\n",
      "education: 0.33 km\n",
      "parking: 0.03 km\n",
      "waste-management: 1.13 km\n",
      "\n",
      "\n",
      "COMM VITALITY / 1104 SPRUCE1\n",
      "service: 0.06 km\n",
      "entertainment: 0.11 km\n",
      "food: 0.07 km\n",
      "childcare: 3.52 km\n",
      "medical: 0.47 km\n",
      "education: 0.63 km\n",
      "parking: 0.02 km\n",
      "waste-management: 1.15 km\n",
      "\n",
      "\n",
      "BOULDER / BASELINE ST1\n",
      "service: 0.29 km\n",
      "entertainment: 1.18 km\n",
      "food: 0.95 km\n",
      "childcare: 2.68 km\n",
      "medical: 1.82 km\n",
      "education: 1.03 km\n",
      "parking: 1.08 km\n",
      "waste-management: 0.13 km\n",
      "\n",
      "\n"
     ]
    }
   ],
   "source": [
    "for stat in station_subset:\n",
    "    print(stat)\n",
    "    for poi in poi_labels:\n",
    "        print(\"{}: {} km\".format(poi,round(dictt[stat][poi]['dist'],2)))\n",
    "        \n",
    "    print(\"\\n\")"
   ]
  }
 ],
 "metadata": {
  "kernelspec": {
   "display_name": "Python 3",
   "language": "python",
   "name": "python3"
  },
  "language_info": {
   "codemirror_mode": {
    "name": "ipython",
    "version": 3
   },
   "file_extension": ".py",
   "mimetype": "text/x-python",
   "name": "python",
   "nbconvert_exporter": "python",
   "pygments_lexer": "ipython3",
   "version": "3.7.3"
  }
 },
 "nbformat": 4,
 "nbformat_minor": 5
}
