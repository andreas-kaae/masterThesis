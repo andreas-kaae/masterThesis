{
 "cells": [
  {
   "cell_type": "code",
   "execution_count": 1,
   "metadata": {},
   "outputs": [],
   "source": [
    "## imports \n",
    "import pandas as pd\n",
    "import numpy as np\n",
    "import datetime\n",
    "import math"
   ]
  },
  {
   "cell_type": "markdown",
   "metadata": {},
   "source": [
    "## The data\n",
    "\n",
    "The dataset is gathered from [Boulder open data](https://open-data.bouldercolorado.gov/datasets/053aadbad62c4ef784d1fbece60adedd_0/data) which is in Colorado, USA. It contains differenct EV charges in the area, with location, start time, charging time, energy (kWh) and more. Spans from 1/1/18 - 31/12/2020. "
   ]
  },
  {
   "cell_type": "code",
   "execution_count": 2,
   "metadata": {},
   "outputs": [
    {
     "data": {
      "text/html": [
       "<div>\n",
       "<style scoped>\n",
       "    .dataframe tbody tr th:only-of-type {\n",
       "        vertical-align: middle;\n",
       "    }\n",
       "\n",
       "    .dataframe tbody tr th {\n",
       "        vertical-align: top;\n",
       "    }\n",
       "\n",
       "    .dataframe thead th {\n",
       "        text-align: right;\n",
       "    }\n",
       "</style>\n",
       "<table border=\"1\" class=\"dataframe\">\n",
       "  <thead>\n",
       "    <tr style=\"text-align: right;\">\n",
       "      <th></th>\n",
       "      <th>Station_Name</th>\n",
       "      <th>Station_Address</th>\n",
       "      <th>City</th>\n",
       "      <th>State_Province</th>\n",
       "      <th>Postal_Code</th>\n",
       "      <th>Transaction_Date</th>\n",
       "      <th>Transaction_Start_Time</th>\n",
       "      <th>Charging_Time__minutes_</th>\n",
       "      <th>Energy__kWh_</th>\n",
       "      <th>GHG_Savings__kg_</th>\n",
       "      <th>Gasoline_Savings__gallons_</th>\n",
       "      <th>Port_Type</th>\n",
       "      <th>ObjectId</th>\n",
       "    </tr>\n",
       "  </thead>\n",
       "  <tbody>\n",
       "    <tr>\n",
       "      <th>0</th>\n",
       "      <td>COMM VITALITY / 1104 SPRUCE1</td>\n",
       "      <td>1100 Spruce St</td>\n",
       "      <td>Boulder</td>\n",
       "      <td>Colorado</td>\n",
       "      <td>80302</td>\n",
       "      <td>2018/01/31 00:00:00+00</td>\n",
       "      <td>2021/01/21 17:43:00+00</td>\n",
       "      <td>128</td>\n",
       "      <td>2.84</td>\n",
       "      <td>1.19</td>\n",
       "      <td>0.36</td>\n",
       "      <td>Level 2</td>\n",
       "      <td>1</td>\n",
       "    </tr>\n",
       "    <tr>\n",
       "      <th>1</th>\n",
       "      <td>COMM VITALITY / 1000WALNUT1</td>\n",
       "      <td>900 Walnut St</td>\n",
       "      <td>Boulder</td>\n",
       "      <td>Colorado</td>\n",
       "      <td>80302</td>\n",
       "      <td>2018/01/31 00:00:00+00</td>\n",
       "      <td>2021/01/21 17:16:00+00</td>\n",
       "      <td>68</td>\n",
       "      <td>5.66</td>\n",
       "      <td>2.38</td>\n",
       "      <td>0.71</td>\n",
       "      <td>Level 2</td>\n",
       "      <td>2</td>\n",
       "    </tr>\n",
       "    <tr>\n",
       "      <th>2</th>\n",
       "      <td>BOULDER / REC CENTER ST2</td>\n",
       "      <td>1305-1335 Gillaspie Dr</td>\n",
       "      <td>Boulder</td>\n",
       "      <td>Colorado</td>\n",
       "      <td>80305</td>\n",
       "      <td>2018/01/31 00:00:00+00</td>\n",
       "      <td>2021/01/21 13:52:00+00</td>\n",
       "      <td>73</td>\n",
       "      <td>3.94</td>\n",
       "      <td>1.65</td>\n",
       "      <td>0.49</td>\n",
       "      <td>Level 2</td>\n",
       "      <td>3</td>\n",
       "    </tr>\n",
       "    <tr>\n",
       "      <th>3</th>\n",
       "      <td>COMM VITALITY / 1500PEARL1</td>\n",
       "      <td>1500 Pearl St</td>\n",
       "      <td>Boulder</td>\n",
       "      <td>Colorado</td>\n",
       "      <td>80302</td>\n",
       "      <td>2018/01/31 00:00:00+00</td>\n",
       "      <td>2021/01/21 14:47:00+00</td>\n",
       "      <td>-</td>\n",
       "      <td>NaN</td>\n",
       "      <td>NaN</td>\n",
       "      <td>NaN</td>\n",
       "      <td>Level 2</td>\n",
       "      <td>4</td>\n",
       "    </tr>\n",
       "    <tr>\n",
       "      <th>4</th>\n",
       "      <td>BOULDER / BASELINE ST1</td>\n",
       "      <td>900 Baseline Rd</td>\n",
       "      <td>Boulder</td>\n",
       "      <td>Colorado</td>\n",
       "      <td>80302</td>\n",
       "      <td>2018/01/31 00:00:00+00</td>\n",
       "      <td>2021/01/21 13:54:00+00</td>\n",
       "      <td>40</td>\n",
       "      <td>4.42</td>\n",
       "      <td>1.86</td>\n",
       "      <td>0.55</td>\n",
       "      <td>Level 2</td>\n",
       "      <td>5</td>\n",
       "    </tr>\n",
       "  </tbody>\n",
       "</table>\n",
       "</div>"
      ],
      "text/plain": [
       "                   Station_Name         Station_Address     City  \\\n",
       "0  COMM VITALITY / 1104 SPRUCE1          1100 Spruce St  Boulder   \n",
       "1   COMM VITALITY / 1000WALNUT1           900 Walnut St  Boulder   \n",
       "2      BOULDER / REC CENTER ST2  1305-1335 Gillaspie Dr  Boulder   \n",
       "3    COMM VITALITY / 1500PEARL1           1500 Pearl St  Boulder   \n",
       "4        BOULDER / BASELINE ST1         900 Baseline Rd  Boulder   \n",
       "\n",
       "  State_Province  Postal_Code        Transaction_Date  Transaction_Start_Time  \\\n",
       "0       Colorado        80302  2018/01/31 00:00:00+00  2021/01/21 17:43:00+00   \n",
       "1       Colorado        80302  2018/01/31 00:00:00+00  2021/01/21 17:16:00+00   \n",
       "2       Colorado        80305  2018/01/31 00:00:00+00  2021/01/21 13:52:00+00   \n",
       "3       Colorado        80302  2018/01/31 00:00:00+00  2021/01/21 14:47:00+00   \n",
       "4       Colorado        80302  2018/01/31 00:00:00+00  2021/01/21 13:54:00+00   \n",
       "\n",
       "  Charging_Time__minutes_  Energy__kWh_  GHG_Savings__kg_  \\\n",
       "0                     128          2.84              1.19   \n",
       "1                      68          5.66              2.38   \n",
       "2                      73          3.94              1.65   \n",
       "3                -                  NaN               NaN   \n",
       "4                      40          4.42              1.86   \n",
       "\n",
       "   Gasoline_Savings__gallons_ Port_Type  ObjectId  \n",
       "0                        0.36   Level 2         1  \n",
       "1                        0.71   Level 2         2  \n",
       "2                        0.49   Level 2         3  \n",
       "3                         NaN   Level 2         4  \n",
       "4                        0.55   Level 2         5  "
      ]
     },
     "execution_count": 2,
     "metadata": {},
     "output_type": "execute_result"
    }
   ],
   "source": [
    "df = pd.read_csv(\"../data/Electric_Vehicle_Charging_Station_Energy_Consumption.csv\")\n",
    "df.head()"
   ]
  },
  {
   "cell_type": "code",
   "execution_count": 3,
   "metadata": {},
   "outputs": [
    {
     "data": {
      "text/plain": [
       "(22580, 13)"
      ]
     },
     "execution_count": 3,
     "metadata": {},
     "output_type": "execute_result"
    }
   ],
   "source": [
    "df.shape"
   ]
  },
  {
   "cell_type": "markdown",
   "metadata": {},
   "source": [
    "### Remove nan values"
   ]
  },
  {
   "cell_type": "markdown",
   "metadata": {},
   "source": [
    "Remove nan values for the `Charging_Time__minutes_` and replace , with ."
   ]
  },
  {
   "cell_type": "code",
   "execution_count": 26,
   "metadata": {},
   "outputs": [
    {
     "name": "stdout",
     "output_type": "stream",
     "text": [
      "(20837, 13)\n",
      "1743 rows of data are lost.\n"
     ]
    }
   ],
   "source": [
    "df = df[(df['Charging_Time__minutes_'] != '     -       ') &\n",
    "        (df['Charging_Time__minutes_'] != '    -      ') &\n",
    "        (df['Charging_Time__minutes_'] != '   -     ') &\n",
    "        (df['Charging_Time__minutes_'] != '  -    ') &\n",
    "        (df['Charging_Time__minutes_'] != ' -   ')] # Remove \"nan\" values\n",
    "\n",
    "df['Charging_Time__minutes_'] = df['Charging_Time__minutes_'].str.replace(',','.', regex=True) # Replace , with . in the strings\n",
    "\n",
    "print(df.shape)\n",
    "print(22580-df.shape[0], \"rows of data are lost.\")"
   ]
  },
  {
   "cell_type": "markdown",
   "metadata": {},
   "source": [
    "Remove the remaining nan values for `Enerygy__kWh`."
   ]
  },
  {
   "cell_type": "code",
   "execution_count": 27,
   "metadata": {},
   "outputs": [],
   "source": [
    "df = df[df['Energy__kWh_'].notna()]"
   ]
  },
  {
   "cell_type": "markdown",
   "metadata": {},
   "source": [
    "### Convert column types"
   ]
  },
  {
   "cell_type": "code",
   "execution_count": 28,
   "metadata": {},
   "outputs": [],
   "source": [
    "# convert to float64\n",
    "df['Charging_Time__minutes_'] = df['Charging_Time__minutes_'].astype(np.float64)"
   ]
  },
  {
   "cell_type": "markdown",
   "metadata": {},
   "source": [
    "### Remove values that does make sense\n",
    "\n",
    "**Remove charging times**\n",
    "- Charging times has to be bigger than 2 minutes and smaller than 24 hours.\n",
    "\n",
    "I choose 2 minutes as if a car is charged for this little time we assume that the driver changed his/hers mind and the data is therefore not relevant."
   ]
  },
  {
   "cell_type": "code",
   "execution_count": 29,
   "metadata": {},
   "outputs": [
    {
     "name": "stdout",
     "output_type": "stream",
     "text": [
      "Observations lost: 249\n"
     ]
    }
   ],
   "source": [
    "print(\"Observations lost:\", df[df['Charging_Time__minutes_'] <= 2].shape[0])\n",
    "df = df[df['Charging_Time__minutes_'] > 2]"
   ]
  },
  {
   "cell_type": "markdown",
   "metadata": {},
   "source": [
    "The 24 hours limit is choosen as most sessions lasts a few hours and charging sessions longer than 24 hours could be due to a minipulation error from the customer."
   ]
  },
  {
   "cell_type": "code",
   "execution_count": 30,
   "metadata": {},
   "outputs": [
    {
     "data": {
      "text/html": [
       "<div>\n",
       "<style scoped>\n",
       "    .dataframe tbody tr th:only-of-type {\n",
       "        vertical-align: middle;\n",
       "    }\n",
       "\n",
       "    .dataframe tbody tr th {\n",
       "        vertical-align: top;\n",
       "    }\n",
       "\n",
       "    .dataframe thead th {\n",
       "        text-align: right;\n",
       "    }\n",
       "</style>\n",
       "<table border=\"1\" class=\"dataframe\">\n",
       "  <thead>\n",
       "    <tr style=\"text-align: right;\">\n",
       "      <th></th>\n",
       "      <th>Station_Name</th>\n",
       "      <th>Station_Address</th>\n",
       "      <th>City</th>\n",
       "      <th>State_Province</th>\n",
       "      <th>Postal_Code</th>\n",
       "      <th>Transaction_Date</th>\n",
       "      <th>Transaction_Start_Time</th>\n",
       "      <th>Charging_Time__minutes_</th>\n",
       "      <th>Energy__kWh_</th>\n",
       "      <th>GHG_Savings__kg_</th>\n",
       "      <th>Gasoline_Savings__gallons_</th>\n",
       "      <th>Port_Type</th>\n",
       "      <th>ObjectId</th>\n",
       "    </tr>\n",
       "  </thead>\n",
       "  <tbody>\n",
       "    <tr>\n",
       "      <th>22479</th>\n",
       "      <td>BOULDER / BOULDER PARK S2</td>\n",
       "      <td>1739 Broadway</td>\n",
       "      <td>Boulder</td>\n",
       "      <td>Colorado</td>\n",
       "      <td>80302</td>\n",
       "      <td>2020/12/22 00:00:00+00</td>\n",
       "      <td>2021/01/21 20:22:00+00</td>\n",
       "      <td>1532.18</td>\n",
       "      <td>85.2</td>\n",
       "      <td>35.784</td>\n",
       "      <td>10.693</td>\n",
       "      <td>Level 2</td>\n",
       "      <td>22480</td>\n",
       "    </tr>\n",
       "  </tbody>\n",
       "</table>\n",
       "</div>"
      ],
      "text/plain": [
       "                    Station_Name Station_Address     City State_Province  \\\n",
       "22479  BOULDER / BOULDER PARK S2   1739 Broadway  Boulder       Colorado   \n",
       "\n",
       "       Postal_Code        Transaction_Date  Transaction_Start_Time  \\\n",
       "22479        80302  2020/12/22 00:00:00+00  2021/01/21 20:22:00+00   \n",
       "\n",
       "       Charging_Time__minutes_  Energy__kWh_  GHG_Savings__kg_  \\\n",
       "22479                  1532.18          85.2            35.784   \n",
       "\n",
       "       Gasoline_Savings__gallons_ Port_Type  ObjectId  \n",
       "22479                      10.693   Level 2     22480  "
      ]
     },
     "execution_count": 30,
     "metadata": {},
     "output_type": "execute_result"
    }
   ],
   "source": [
    "df[df['Charging_Time__minutes_'] > 24*60]"
   ]
  },
  {
   "cell_type": "code",
   "execution_count": 31,
   "metadata": {},
   "outputs": [
    {
     "name": "stdout",
     "output_type": "stream",
     "text": [
      "Observations lost: 1\n"
     ]
    }
   ],
   "source": [
    "print(\"Observations lost:\", df[df['Charging_Time__minutes_'] > 24*60].shape[0])\n",
    "df = df[df['Charging_Time__minutes_'] < 24*60]"
   ]
  },
  {
   "cell_type": "markdown",
   "metadata": {},
   "source": [
    "**Energy usage**\n",
    "- Energy consumption has to be postive and less than 100 kWh.\n",
    "\n",
    "The procdure for the charging times also ensures that we have no observations with negative or 0 energy usage."
   ]
  },
  {
   "cell_type": "code",
   "execution_count": 32,
   "metadata": {},
   "outputs": [
    {
     "name": "stdout",
     "output_type": "stream",
     "text": [
      "Observations lost: 0\n"
     ]
    }
   ],
   "source": [
    "print(\"Observations lost:\", df[df['Energy__kWh_'] <= 0].shape[0])\n",
    "df = df[df['Energy__kWh_'] > 0]"
   ]
  },
  {
   "cell_type": "markdown",
   "metadata": {},
   "source": [
    "Furthermore a the upper limit is choosen as it is similar to the highest capacity of the Tesla Model S which is the EV with the biggest battery amongst the moest widespread models (p. 33, *A review of electric vehicle load open data...*)."
   ]
  },
  {
   "cell_type": "code",
   "execution_count": 33,
   "metadata": {},
   "outputs": [
    {
     "name": "stdout",
     "output_type": "stream",
     "text": [
      "Observations lost: 0\n"
     ]
    }
   ],
   "source": [
    "print(\"Observations lost:\", df[df['Energy__kWh_'] >= 100].shape[0])\n",
    "df = df[df['Energy__kWh_'] < 100]"
   ]
  },
  {
   "cell_type": "markdown",
   "metadata": {},
   "source": [
    "### Datetime transformation"
   ]
  },
  {
   "cell_type": "markdown",
   "metadata": {},
   "source": [
    "In the dataframe the date of the transaction is saved under `Transaction_Date`, where the time is not specified. The excat start time of the transaction is specified under the `Transaction_Start_Time`. I assume that the charging station is idle when the `Charging_Time__minutes_`has passed after the `Transaction_Start_Time`. "
   ]
  },
  {
   "cell_type": "code",
   "execution_count": 34,
   "metadata": {},
   "outputs": [],
   "source": [
    "# convert start time to datetime\n",
    "df['start_Time_Datetime'] = pd.to_datetime(df['Transaction_Start_Time'])\n",
    "# convert transaction date to datetime\n",
    "df['Transaction_Date_Datetime'] = pd.to_datetime(df['Transaction_Date'])\n",
    "# reset index of dataframe:\n",
    "df = df.reset_index(drop=True)"
   ]
  },
  {
   "cell_type": "code",
   "execution_count": 35,
   "metadata": {},
   "outputs": [],
   "source": [
    "# combine time and date and add the charging time to form the start and end time\n",
    "end_times = []\n",
    "start_times = []\n",
    "for i in range(0,len(df)):\n",
    "    dt = df.loc[i]['Transaction_Date_Datetime'].date() # get the date\n",
    "    tm = df.loc[i]['start_Time_Datetime'].time() # get the time\n",
    "    new_datetime = datetime.datetime.combine(dt,tm) # combine date and time into new datetime object\n",
    "    start_times.append(new_datetime) # append start time\n",
    "    add_minutes = df.loc[i]['Charging_Time__minutes_'] # get charging minutes\n",
    "    end_times.append(new_datetime + datetime.timedelta(minutes=add_minutes)) # add charging minutes to time)\n",
    "\n",
    "df['start_Datetime'] = start_times\n",
    "df['end_Datetime'] = end_times"
   ]
  },
  {
   "cell_type": "markdown",
   "metadata": {},
   "source": [
    "## Remove observations from 2020\n",
    "Due to the Covid-19 pandemic the amount of charging observations was drastically reduced in 2020. The idle times will also be influenced by this pandemic and the data for this year might not be usable as this is not considered \"normal\" behaviour."
   ]
  },
  {
   "cell_type": "code",
   "execution_count": 36,
   "metadata": {},
   "outputs": [
    {
     "name": "stdout",
     "output_type": "stream",
     "text": [
      "Observations lost: 4502\n",
      "Charging stations lost: 5\n"
     ]
    }
   ],
   "source": [
    "df_covid = df\n",
    "df_covid['year'] = df_covid.start_Datetime.dt.year\n",
    "df_covid = df_covid[df_covid['year'] < 2020]\n",
    "print(\"Observations lost:\", df.shape[0]-df_covid.shape[0])\n",
    "print(\"Charging stations lost:\", len(df.Station_Name.unique()) - \n",
    "      len(df_covid.Station_Name.unique()))"
   ]
  },
  {
   "cell_type": "code",
   "execution_count": 37,
   "metadata": {},
   "outputs": [],
   "source": [
    "df = df_covid"
   ]
  },
  {
   "cell_type": "markdown",
   "metadata": {},
   "source": [
    "## Idle time\n",
    "The idle time for an observation, *i*, is defined as the time between that observations end time and the next observations, *i+1*, start time. The last recorded observation for each of the charging stations therefore has no value."
   ]
  },
  {
   "cell_type": "code",
   "execution_count": 38,
   "metadata": {},
   "outputs": [],
   "source": [
    "# create a dictionary which contains the idle time for every index of an observation\n",
    "idle_dict = dict.fromkeys(df.index)"
   ]
  },
  {
   "cell_type": "code",
   "execution_count": 39,
   "metadata": {},
   "outputs": [],
   "source": [
    "# calculate idle time and save in dictionary\n",
    "last_obs = [] # list for the last observations\n",
    "names = df.Station_Name.unique()\n",
    "for name in names: \n",
    "    temp = temp = df[df['Station_Name'] == name] # Slice dateframe for charging station\n",
    "    temp = temp.sort_values(by='start_Datetime') # sort by the start time\n",
    "    ind = temp.index # get index of temporary dataframe\n",
    "    for i in range(0,len(ind)):\n",
    "        if i == len(ind)-1: # if last observation\n",
    "            last_obs.append(ind[i])\n",
    "        else:\n",
    "            time_diff = temp.loc[ind[i+1]]['start_Datetime'] - temp.loc[ind[i]]['end_Datetime']\n",
    "            idle_dict[ind[i]] = time_diff.total_seconds()/60 # Append idle"
   ]
  },
  {
   "cell_type": "code",
   "execution_count": 40,
   "metadata": {},
   "outputs": [],
   "source": [
    "df['idle_time_minutes'] = idle_dict.values()\n",
    "df['idle_time_minutes'] = df['idle_time_minutes'].astype(np.float64) # change to float"
   ]
  },
  {
   "cell_type": "markdown",
   "metadata": {},
   "source": [
    "To perform analysis we have to remove the rows with no/nan idle time."
   ]
  },
  {
   "cell_type": "code",
   "execution_count": 41,
   "metadata": {},
   "outputs": [
    {
     "name": "stdout",
     "output_type": "stream",
     "text": [
      "Rows removed: 22\n"
     ]
    }
   ],
   "source": [
    "print(\"Rows removed:\", df.isnull().sum().idle_time_minutes)\n",
    "df = df[df['idle_time_minutes'].notna()]"
   ]
  },
  {
   "cell_type": "markdown",
   "metadata": {},
   "source": [
    "Some idletimes are however below 0."
   ]
  },
  {
   "cell_type": "code",
   "execution_count": 42,
   "metadata": {},
   "outputs": [
    {
     "name": "stdout",
     "output_type": "stream",
     "text": [
      "Observations with negative idle time: 2249\n"
     ]
    }
   ],
   "source": [
    "print(\"Observations with negative idle time:\", df[df['idle_time_minutes'] < 0].shape[0])"
   ]
  },
  {
   "cell_type": "code",
   "execution_count": 43,
   "metadata": {},
   "outputs": [
    {
     "data": {
      "text/html": [
       "<div>\n",
       "<style scoped>\n",
       "    .dataframe tbody tr th:only-of-type {\n",
       "        vertical-align: middle;\n",
       "    }\n",
       "\n",
       "    .dataframe tbody tr th {\n",
       "        vertical-align: top;\n",
       "    }\n",
       "\n",
       "    .dataframe thead th {\n",
       "        text-align: right;\n",
       "    }\n",
       "</style>\n",
       "<table border=\"1\" class=\"dataframe\">\n",
       "  <thead>\n",
       "    <tr style=\"text-align: right;\">\n",
       "      <th></th>\n",
       "      <th>index</th>\n",
       "      <th>Station_Name</th>\n",
       "      <th>Station_Address</th>\n",
       "      <th>City</th>\n",
       "      <th>State_Province</th>\n",
       "      <th>Postal_Code</th>\n",
       "      <th>Transaction_Date</th>\n",
       "      <th>Transaction_Start_Time</th>\n",
       "      <th>Charging_Time__minutes_</th>\n",
       "      <th>Energy__kWh_</th>\n",
       "      <th>GHG_Savings__kg_</th>\n",
       "      <th>Gasoline_Savings__gallons_</th>\n",
       "      <th>Port_Type</th>\n",
       "      <th>ObjectId</th>\n",
       "      <th>start_Time_Datetime</th>\n",
       "      <th>Transaction_Date_Datetime</th>\n",
       "      <th>start_Datetime</th>\n",
       "      <th>end_Datetime</th>\n",
       "      <th>year</th>\n",
       "      <th>idle_time_minutes</th>\n",
       "    </tr>\n",
       "  </thead>\n",
       "  <tbody>\n",
       "    <tr>\n",
       "      <th>5</th>\n",
       "      <td>27</td>\n",
       "      <td>COMM VITALITY / 1000WALNUT1</td>\n",
       "      <td>900 Walnut St</td>\n",
       "      <td>Boulder</td>\n",
       "      <td>Colorado</td>\n",
       "      <td>80302</td>\n",
       "      <td>2018/02/02 00:00:00+00</td>\n",
       "      <td>2021/01/21 11:31:00+00</td>\n",
       "      <td>118.0</td>\n",
       "      <td>6.52</td>\n",
       "      <td>2.74</td>\n",
       "      <td>0.82</td>\n",
       "      <td>Level 2</td>\n",
       "      <td>29</td>\n",
       "      <td>2021-01-21 11:31:00+00:00</td>\n",
       "      <td>2018-02-02 00:00:00+00:00</td>\n",
       "      <td>2018-02-02 11:31:00</td>\n",
       "      <td>2018-02-02 13:29:00</td>\n",
       "      <td>2018</td>\n",
       "      <td>129.0</td>\n",
       "    </tr>\n",
       "    <tr>\n",
       "      <th>6</th>\n",
       "      <td>22</td>\n",
       "      <td>COMM VITALITY / 1000WALNUT1</td>\n",
       "      <td>900 Walnut St</td>\n",
       "      <td>Boulder</td>\n",
       "      <td>Colorado</td>\n",
       "      <td>80302</td>\n",
       "      <td>2018/02/02 00:00:00+00</td>\n",
       "      <td>2021/01/21 15:38:00+00</td>\n",
       "      <td>133.0</td>\n",
       "      <td>14.06</td>\n",
       "      <td>5.91</td>\n",
       "      <td>1.77</td>\n",
       "      <td>Level 2</td>\n",
       "      <td>24</td>\n",
       "      <td>2021-01-21 15:38:00+00:00</td>\n",
       "      <td>2018-02-02 00:00:00+00:00</td>\n",
       "      <td>2018-02-02 15:38:00</td>\n",
       "      <td>2018-02-02 17:51:00</td>\n",
       "      <td>2018</td>\n",
       "      <td>-10.0</td>\n",
       "    </tr>\n",
       "    <tr>\n",
       "      <th>7</th>\n",
       "      <td>19</td>\n",
       "      <td>COMM VITALITY / 1000WALNUT1</td>\n",
       "      <td>900 Walnut St</td>\n",
       "      <td>Boulder</td>\n",
       "      <td>Colorado</td>\n",
       "      <td>80302</td>\n",
       "      <td>2018/02/02 00:00:00+00</td>\n",
       "      <td>2021/01/21 17:41:00+00</td>\n",
       "      <td>155.0</td>\n",
       "      <td>14.66</td>\n",
       "      <td>6.16</td>\n",
       "      <td>1.84</td>\n",
       "      <td>Level 2</td>\n",
       "      <td>21</td>\n",
       "      <td>2021-01-21 17:41:00+00:00</td>\n",
       "      <td>2018-02-02 00:00:00+00:00</td>\n",
       "      <td>2018-02-02 17:41:00</td>\n",
       "      <td>2018-02-02 20:16:00</td>\n",
       "      <td>2018</td>\n",
       "      <td>-142.0</td>\n",
       "    </tr>\n",
       "    <tr>\n",
       "      <th>8</th>\n",
       "      <td>20</td>\n",
       "      <td>COMM VITALITY / 1000WALNUT1</td>\n",
       "      <td>900 Walnut St</td>\n",
       "      <td>Boulder</td>\n",
       "      <td>Colorado</td>\n",
       "      <td>80302</td>\n",
       "      <td>2018/02/02 00:00:00+00</td>\n",
       "      <td>2021/01/21 17:54:00+00</td>\n",
       "      <td>117.0</td>\n",
       "      <td>8.63</td>\n",
       "      <td>3.63</td>\n",
       "      <td>1.08</td>\n",
       "      <td>Level 2</td>\n",
       "      <td>22</td>\n",
       "      <td>2021-01-21 17:54:00+00:00</td>\n",
       "      <td>2018-02-02 00:00:00+00:00</td>\n",
       "      <td>2018-02-02 17:54:00</td>\n",
       "      <td>2018-02-02 19:51:00</td>\n",
       "      <td>2018</td>\n",
       "      <td>44.0</td>\n",
       "    </tr>\n",
       "  </tbody>\n",
       "</table>\n",
       "</div>"
      ],
      "text/plain": [
       "   index                 Station_Name Station_Address     City State_Province  \\\n",
       "5     27  COMM VITALITY / 1000WALNUT1   900 Walnut St  Boulder       Colorado   \n",
       "6     22  COMM VITALITY / 1000WALNUT1   900 Walnut St  Boulder       Colorado   \n",
       "7     19  COMM VITALITY / 1000WALNUT1   900 Walnut St  Boulder       Colorado   \n",
       "8     20  COMM VITALITY / 1000WALNUT1   900 Walnut St  Boulder       Colorado   \n",
       "\n",
       "   Postal_Code        Transaction_Date  Transaction_Start_Time  \\\n",
       "5        80302  2018/02/02 00:00:00+00  2021/01/21 11:31:00+00   \n",
       "6        80302  2018/02/02 00:00:00+00  2021/01/21 15:38:00+00   \n",
       "7        80302  2018/02/02 00:00:00+00  2021/01/21 17:41:00+00   \n",
       "8        80302  2018/02/02 00:00:00+00  2021/01/21 17:54:00+00   \n",
       "\n",
       "   Charging_Time__minutes_  Energy__kWh_  GHG_Savings__kg_  \\\n",
       "5                    118.0          6.52              2.74   \n",
       "6                    133.0         14.06              5.91   \n",
       "7                    155.0         14.66              6.16   \n",
       "8                    117.0          8.63              3.63   \n",
       "\n",
       "   Gasoline_Savings__gallons_ Port_Type  ObjectId       start_Time_Datetime  \\\n",
       "5                        0.82   Level 2        29 2021-01-21 11:31:00+00:00   \n",
       "6                        1.77   Level 2        24 2021-01-21 15:38:00+00:00   \n",
       "7                        1.84   Level 2        21 2021-01-21 17:41:00+00:00   \n",
       "8                        1.08   Level 2        22 2021-01-21 17:54:00+00:00   \n",
       "\n",
       "  Transaction_Date_Datetime      start_Datetime        end_Datetime  year  \\\n",
       "5 2018-02-02 00:00:00+00:00 2018-02-02 11:31:00 2018-02-02 13:29:00  2018   \n",
       "6 2018-02-02 00:00:00+00:00 2018-02-02 15:38:00 2018-02-02 17:51:00  2018   \n",
       "7 2018-02-02 00:00:00+00:00 2018-02-02 17:41:00 2018-02-02 20:16:00  2018   \n",
       "8 2018-02-02 00:00:00+00:00 2018-02-02 17:54:00 2018-02-02 19:51:00  2018   \n",
       "\n",
       "   idle_time_minutes  \n",
       "5              129.0  \n",
       "6              -10.0  \n",
       "7             -142.0  \n",
       "8               44.0  "
      ]
     },
     "execution_count": 43,
     "metadata": {},
     "output_type": "execute_result"
    }
   ],
   "source": [
    "temp = df[df['Station_Name'] == 'COMM VITALITY / 1000WALNUT1'].sort_values(by='start_Datetime')\n",
    "temp = temp.reset_index()\n",
    "temp.loc[5:8]"
   ]
  },
  {
   "cell_type": "code",
   "execution_count": 44,
   "metadata": {},
   "outputs": [
    {
     "name": "stdout",
     "output_type": "stream",
     "text": [
      "Idle times:\n",
      " 7   -142.0\n",
      "8     44.0\n",
      "Name: idle_time_minutes, dtype: float64 \n",
      "\n",
      "Start times:\n",
      " 7   2018-02-02 17:41:00\n",
      "8   2018-02-02 17:54:00\n",
      "Name: start_Datetime, dtype: datetime64[ns] \n",
      "\n",
      "Charging times:\n",
      " 7    155.0\n",
      "8    117.0\n",
      "Name: Charging_Time__minutes_, dtype: float64\n"
     ]
    }
   ],
   "source": [
    "print(\"Idle times:\\n\",temp.loc[7:8].idle_time_minutes,\"\\n\")\n",
    "print(\"Start times:\\n\",temp.loc[7:8].start_Datetime,\"\\n\")\n",
    "print(\"Charging times:\\n\",temp.loc[7:8].Charging_Time__minutes_)"
   ]
  },
  {
   "cell_type": "markdown",
   "metadata": {},
   "source": [
    "The example above shows that something is wrong. The first observations starts at 17:41 and has a charging time of 155 minutes. It is therefor not idle before 20:16, but the next car starts charging at 17:54.\n",
    "\n",
    "After doubble checking the data (link in the example above) it appears that it is due to some technical errors from the way the data is recorded. The observations are therefore removed."
   ]
  },
  {
   "cell_type": "code",
   "execution_count": 45,
   "metadata": {},
   "outputs": [],
   "source": [
    "#df = df[df['idle_time_minutes'] >= 0]\n",
    "#df.shape"
   ]
  },
  {
   "cell_type": "markdown",
   "metadata": {},
   "source": [
    "## Coordinates\n",
    "The dataset does not provide us with excat coordinates for each station name but instead with an adress. Therefore [google maps](https://www.google.com/maps/) is used to look up each adresse and retrieve the coordinates. "
   ]
  },
  {
   "cell_type": "code",
   "execution_count": 46,
   "metadata": {},
   "outputs": [
    {
     "name": "stdout",
     "output_type": "stream",
     "text": [
      "COMM VITALITY / 1104 SPRUCE1\n",
      "Address: ['1100 Spruce St']\n",
      "City: ['Boulder']\n",
      "State: ['Colorado']\n",
      "Postal_code [80302] \n",
      "\n",
      "COMM VITALITY / 1000WALNUT1\n",
      "Address: ['900 Walnut St']\n",
      "City: ['Boulder']\n",
      "State: ['Colorado']\n",
      "Postal_code [80302] \n",
      "\n",
      "BOULDER / REC CENTER ST2\n",
      "Address: ['1305-1335 Gillaspie Dr' '1360 Gillaspie Dr']\n",
      "City: ['Boulder']\n",
      "State: ['Colorado']\n",
      "Postal_code [80305] \n",
      "\n",
      "BOULDER / BASELINE ST1\n",
      "Address: ['900 Baseline Rd' '600 Baseline Rd']\n",
      "City: ['Boulder']\n",
      "State: ['Colorado']\n",
      "Postal_code [80302] \n",
      "\n",
      "BOULDER / ATRIUM ST1\n",
      "Address: ['1770 13th St']\n",
      "City: ['Boulder']\n",
      "State: ['Colorado']\n",
      "Postal_code [80302] \n",
      "\n",
      "BOULDER / ALPINE ST1\n",
      "Address: ['1275 Alpine Ave']\n",
      "City: ['Boulder']\n",
      "State: ['Colorado']\n",
      "Postal_code [80304] \n",
      "\n",
      "COMM VITALITY / 1000WALNUT2\n",
      "Address: ['900 Walnut St' '949-959 Walnut St']\n",
      "City: ['Boulder']\n",
      "State: ['Colorado']\n",
      "Postal_code [80302] \n",
      "\n",
      "COMM VITALITY / 1400 WALNUT1\n",
      "Address: ['1400 Walnut St']\n",
      "City: ['Boulder']\n",
      "State: ['Colorado']\n",
      "Postal_code [80302] \n",
      "\n",
      "BOULDER / FACILITIES ST1\n",
      "Address: ['1745 14th street']\n",
      "City: ['Boulder']\n",
      "State: ['Colorado']\n",
      "Postal_code [80302] \n",
      "\n",
      "BOULDER / REC CENTER ST1\n",
      "Address: ['1280-1290 Berea Dr' '1360 Gillaspie Dr']\n",
      "City: ['Boulder']\n",
      "State: ['Colorado']\n",
      "Postal_code [80305] \n",
      "\n",
      "COMM VITALITY / 1500PEARL1\n",
      "Address: ['1500 Pearl St']\n",
      "City: ['Boulder']\n",
      "State: ['Colorado']\n",
      "Postal_code [80302] \n",
      "\n",
      "BOULDER / JUNCTION ST1\n",
      "Address: ['2280 Junction Pl']\n",
      "City: ['Boulder']\n",
      "State: ['Colorado']\n",
      "Postal_code [80301] \n",
      "\n",
      "COMM VITALITY / 1500PEARL2\n",
      "Address: ['1500 Pearl St']\n",
      "City: ['Boulder']\n",
      "State: ['Colorado']\n",
      "Postal_code [80302] \n",
      "\n",
      "COMM VITALITY / BOULDER JCTN\n",
      "Address: ['2052 Junction Pl']\n",
      "City: ['Boulder']\n",
      "State: ['Colorado']\n",
      "Postal_code [80301] \n",
      "\n",
      "COMM VITALITY / 1100WALNUT1\n",
      "Address: ['1100 Walnut']\n",
      "City: ['Boulder']\n",
      "State: ['Colorado']\n",
      "Postal_code [80302] \n",
      "\n",
      "BOULDER / N BOULDER REC 1\n",
      "Address: ['3172 Broadway']\n",
      "City: ['Boulder']\n",
      "State: ['Colorado']\n",
      "Postal_code [80304] \n",
      "\n",
      "BOULDER / BOULDER PARK S2\n",
      "Address: ['1739 Broadway']\n",
      "City: ['Boulder']\n",
      "State: ['Colorado']\n",
      "Postal_code [80302] \n",
      "\n",
      "BOULDER / BOULDER PARK S1\n",
      "Address: ['1739 Broadway']\n",
      "City: ['Boulder']\n",
      "State: ['Colorado']\n",
      "Postal_code [80302] \n",
      "\n",
      "COMM VITALITY / 2200 BROADWAY1\n",
      "Address: ['2150 13th St']\n",
      "City: ['Boulder']\n",
      "State: ['Colorado']\n",
      "Postal_code [80302] \n",
      "\n",
      "BOULDER / EAST REC\n",
      "Address: ['5660 Sioux Dr']\n",
      "City: ['Boulder']\n",
      "State: ['Colorado']\n",
      "Postal_code [80303] \n",
      "\n",
      "BOULDER / ANNEX ST1\n",
      "Address: []\n",
      "City: []\n",
      "State: []\n",
      "Postal_code [] \n",
      "\n",
      "BOULDERJUNCTION / JUNCTION ST1\n",
      "Address: ['2280 Junction Pl']\n",
      "City: ['Boulder']\n",
      "State: ['Colorado']\n",
      "Postal_code [80301] \n",
      "\n"
     ]
    }
   ],
   "source": [
    "for name in names:\n",
    "    temp = df[df['Station_Name'] == name]\n",
    "    print(name)\n",
    "    print(\"Address:\", temp.Station_Address.unique())\n",
    "    print(\"City:\", temp.City.unique())\n",
    "    print(\"State:\", temp.State_Province.unique())\n",
    "    print(\"Postal_code\", temp.Postal_Code.unique(),\"\\n\")"
   ]
  },
  {
   "cell_type": "code",
   "execution_count": 47,
   "metadata": {},
   "outputs": [],
   "source": [
    "# the coordinates below are gathered from google maps\n",
    "coordinate_dict = {'COMM VITALITY / 1104 SPRUCE1': [40.018481961484376, -105.28106600728856],\n",
    "                  'COMM VITALITY / 1000WALNUT1': [40.01599429161985, -105.28247311646552],\n",
    "                   'BOULDER / REC CENTER ST2': [39.97488130864729, -105.24921913913307],\n",
    "                   'BOULDER / BASELINE ST1': [40.000148228895775, -105.2824371990558],\n",
    "                   'BOULDER / ATRIUM ST1' : [40.015504096823335, -105.27723026116516],\n",
    "                   'BOULDER / ALPINE ST1' : [40.02618558388287, -105.28078346640017],\n",
    "                   'COMM VITALITY / 1000WALNUT2': [40.01606168623948, -105.28247453106862],\n",
    "                   'COMM VITALITY / 1400 WALNUT1': [40.01707529163262, -105.27642310718852],\n",
    "                   'BOULDER / FACILITIES ST1': [40.015368570009656, -105.27686715248305],\n",
    "                   'BOULDER / REC CENTER ST1': [39.97473577002263, -105.2486322603292],\n",
    "                   'COMM VITALITY / 1500PEARL1': [40.01850960088779+0.0001, -105.27575240968494],\n",
    "                   'COMM VITALITY / 1500PEARL2': [40.01850960088779, -105.27575240968494],\n",
    "                   'BOULDER / JUNCTION ST1': [40.02430279407053, -105.25178386118644],\n",
    "                   'COMM VITALITY / BOULDER JCTN': [40.0260763826729, -105.2508954999583],\n",
    "                   'COMM VITALITY / 1100WALNUT1': [40.01646322020759, -105.28058263149846],\n",
    "                   'BOULDER / N BOULDER REC 1': [40.03280509665776, -105.28100769708102],\n",
    "                   'BOULDER / BOULDER PARK S2': [40.01456428047208+0.0001, -105.27929534336563],\n",
    "                   'BOULDER / BOULDER PARK S1': [40.01456428047208, -105.27929534336563],\n",
    "                   'COMM VITALITY / 2200 BROADWAY1': [40.020085389964436, -105.27899882466563],\n",
    "                   'BOULDER / EAST REC': [39.99223898595327, -105.22007446761407],\n",
    "                   'BOULDER / ANNEX ST1': [40.02397978680573, -105.18270995242484],\n",
    "                   'BOULDERJUNCTION / JUNCTION ST1': [40.025028, -105.250873],\n",
    "                   'BOULDER / RESERVOIR ST1': [40.07206066731993+0.0001, -105.22884562487955],\n",
    "                   'BOULDER / RESERVOIR ST2': [40.07206066731993, -105.22884562487955],\n",
    "                   'BOULDER / CARPENTER PARK1': [40.01338145833486+0.0001, -105.25423010835927],\n",
    "                   'BOULDER / CARPENTER PARK2': [40.01338145833486, -105.25423010835927],\n",
    "                   'BOULDER / AIRPORT ST1': [40.03736647327974, -105.23060803081994]\n",
    "                  }"
   ]
  },
  {
   "cell_type": "code",
   "execution_count": 48,
   "metadata": {},
   "outputs": [
    {
     "name": "stderr",
     "output_type": "stream",
     "text": [
      "C:\\Anaconda\\lib\\site-packages\\ipykernel_launcher.py:9: SettingWithCopyWarning: \n",
      "A value is trying to be set on a copy of a slice from a DataFrame.\n",
      "Try using .loc[row_indexer,col_indexer] = value instead\n",
      "\n",
      "See the caveats in the documentation: https://pandas.pydata.org/pandas-docs/stable/user_guide/indexing.html#returning-a-view-versus-a-copy\n",
      "  if __name__ == '__main__':\n",
      "C:\\Anaconda\\lib\\site-packages\\ipykernel_launcher.py:10: SettingWithCopyWarning: \n",
      "A value is trying to be set on a copy of a slice from a DataFrame.\n",
      "Try using .loc[row_indexer,col_indexer] = value instead\n",
      "\n",
      "See the caveats in the documentation: https://pandas.pydata.org/pandas-docs/stable/user_guide/indexing.html#returning-a-view-versus-a-copy\n",
      "  # Remove the CWD from sys.path while we load stuff.\n"
     ]
    }
   ],
   "source": [
    "# Construct vector with coordinates for every observation\n",
    "longitudes = []\n",
    "latitudes = []\n",
    "for i in range(0,len(df)):\n",
    "    latitudes.append(coordinate_dict[df.iloc[i].Station_Name][0])\n",
    "    longitudes.append(coordinate_dict[df.iloc[i].Station_Name][1])\n",
    "\n",
    "# add to dataframe\n",
    "df['latitude'] = latitudes \n",
    "df['longitude'] = longitudes"
   ]
  },
  {
   "cell_type": "markdown",
   "metadata": {},
   "source": [
    "## Add weekday\n",
    "For both analysis and modelling the specific weekday of an event can be describing. The column `weekday` is therefore added with the relevant information. The start time of the event is used as the `weekday`. Accordingly to the column a week starts with 0 = monday and ends with sunday = 6."
   ]
  },
  {
   "cell_type": "code",
   "execution_count": 49,
   "metadata": {},
   "outputs": [
    {
     "name": "stderr",
     "output_type": "stream",
     "text": [
      "C:\\Anaconda\\lib\\site-packages\\ipykernel_launcher.py:1: SettingWithCopyWarning: \n",
      "A value is trying to be set on a copy of a slice from a DataFrame.\n",
      "Try using .loc[row_indexer,col_indexer] = value instead\n",
      "\n",
      "See the caveats in the documentation: https://pandas.pydata.org/pandas-docs/stable/user_guide/indexing.html#returning-a-view-versus-a-copy\n",
      "  \"\"\"Entry point for launching an IPython kernel.\n"
     ]
    }
   ],
   "source": [
    "df['weekday'] = df.start_Datetime.dt.dayofweek"
   ]
  },
  {
   "cell_type": "code",
   "execution_count": 50,
   "metadata": {},
   "outputs": [],
   "source": [
    "def dayNameFromWeekday(weekday):\n",
    "    if weekday == 0:\n",
    "        return \"Monday\"\n",
    "    if weekday == 1:\n",
    "        return \"Tuesday\"\n",
    "    if weekday == 2:\n",
    "        return \"Wednesday\"\n",
    "    if weekday == 3:\n",
    "        return \"Thursday\"\n",
    "    if weekday == 4:\n",
    "        return \"Friday\"\n",
    "    if weekday == 5:\n",
    "        return \"Saturday\"\n",
    "    if weekday == 6:\n",
    "        return \"Sunday\""
   ]
  },
  {
   "cell_type": "code",
   "execution_count": 51,
   "metadata": {},
   "outputs": [
    {
     "name": "stderr",
     "output_type": "stream",
     "text": [
      "C:\\Anaconda\\lib\\site-packages\\ipykernel_launcher.py:1: SettingWithCopyWarning: \n",
      "A value is trying to be set on a copy of a slice from a DataFrame.\n",
      "Try using .loc[row_indexer,col_indexer] = value instead\n",
      "\n",
      "See the caveats in the documentation: https://pandas.pydata.org/pandas-docs/stable/user_guide/indexing.html#returning-a-view-versus-a-copy\n",
      "  \"\"\"Entry point for launching an IPython kernel.\n"
     ]
    }
   ],
   "source": [
    "df['weekday_name'] = df['weekday'].apply(dayNameFromWeekday)"
   ]
  },
  {
   "cell_type": "code",
   "execution_count": 52,
   "metadata": {},
   "outputs": [
    {
     "data": {
      "text/html": [
       "<div>\n",
       "<style scoped>\n",
       "    .dataframe tbody tr th:only-of-type {\n",
       "        vertical-align: middle;\n",
       "    }\n",
       "\n",
       "    .dataframe tbody tr th {\n",
       "        vertical-align: top;\n",
       "    }\n",
       "\n",
       "    .dataframe thead th {\n",
       "        text-align: right;\n",
       "    }\n",
       "</style>\n",
       "<table border=\"1\" class=\"dataframe\">\n",
       "  <thead>\n",
       "    <tr style=\"text-align: right;\">\n",
       "      <th></th>\n",
       "      <th>Station_Name</th>\n",
       "      <th>Station_Address</th>\n",
       "      <th>City</th>\n",
       "      <th>State_Province</th>\n",
       "      <th>Postal_Code</th>\n",
       "      <th>Transaction_Date</th>\n",
       "      <th>Transaction_Start_Time</th>\n",
       "      <th>Charging_Time__minutes_</th>\n",
       "      <th>Energy__kWh_</th>\n",
       "      <th>GHG_Savings__kg_</th>\n",
       "      <th>...</th>\n",
       "      <th>start_Time_Datetime</th>\n",
       "      <th>Transaction_Date_Datetime</th>\n",
       "      <th>start_Datetime</th>\n",
       "      <th>end_Datetime</th>\n",
       "      <th>year</th>\n",
       "      <th>idle_time_minutes</th>\n",
       "      <th>latitude</th>\n",
       "      <th>longitude</th>\n",
       "      <th>weekday</th>\n",
       "      <th>weekday_name</th>\n",
       "    </tr>\n",
       "  </thead>\n",
       "  <tbody>\n",
       "    <tr>\n",
       "      <th>0</th>\n",
       "      <td>COMM VITALITY / 1104 SPRUCE1</td>\n",
       "      <td>1100 Spruce St</td>\n",
       "      <td>Boulder</td>\n",
       "      <td>Colorado</td>\n",
       "      <td>80302</td>\n",
       "      <td>2018/01/31 00:00:00+00</td>\n",
       "      <td>2021/01/21 17:43:00+00</td>\n",
       "      <td>128.0</td>\n",
       "      <td>2.84</td>\n",
       "      <td>1.19</td>\n",
       "      <td>...</td>\n",
       "      <td>2021-01-21 17:43:00+00:00</td>\n",
       "      <td>2018-01-31 00:00:00+00:00</td>\n",
       "      <td>2018-01-31 17:43:00</td>\n",
       "      <td>2018-01-31 19:51:00</td>\n",
       "      <td>2018</td>\n",
       "      <td>929.0</td>\n",
       "      <td>40.018482</td>\n",
       "      <td>-105.281066</td>\n",
       "      <td>2</td>\n",
       "      <td>Wednesday</td>\n",
       "    </tr>\n",
       "    <tr>\n",
       "      <th>1</th>\n",
       "      <td>COMM VITALITY / 1000WALNUT1</td>\n",
       "      <td>900 Walnut St</td>\n",
       "      <td>Boulder</td>\n",
       "      <td>Colorado</td>\n",
       "      <td>80302</td>\n",
       "      <td>2018/01/31 00:00:00+00</td>\n",
       "      <td>2021/01/21 17:16:00+00</td>\n",
       "      <td>68.0</td>\n",
       "      <td>5.66</td>\n",
       "      <td>2.38</td>\n",
       "      <td>...</td>\n",
       "      <td>2021-01-21 17:16:00+00:00</td>\n",
       "      <td>2018-01-31 00:00:00+00:00</td>\n",
       "      <td>2018-01-31 17:16:00</td>\n",
       "      <td>2018-01-31 18:24:00</td>\n",
       "      <td>2018</td>\n",
       "      <td>228.0</td>\n",
       "      <td>40.015994</td>\n",
       "      <td>-105.282473</td>\n",
       "      <td>2</td>\n",
       "      <td>Wednesday</td>\n",
       "    </tr>\n",
       "    <tr>\n",
       "      <th>2</th>\n",
       "      <td>BOULDER / REC CENTER ST2</td>\n",
       "      <td>1305-1335 Gillaspie Dr</td>\n",
       "      <td>Boulder</td>\n",
       "      <td>Colorado</td>\n",
       "      <td>80305</td>\n",
       "      <td>2018/01/31 00:00:00+00</td>\n",
       "      <td>2021/01/21 13:52:00+00</td>\n",
       "      <td>73.0</td>\n",
       "      <td>3.94</td>\n",
       "      <td>1.65</td>\n",
       "      <td>...</td>\n",
       "      <td>2021-01-21 13:52:00+00:00</td>\n",
       "      <td>2018-01-31 00:00:00+00:00</td>\n",
       "      <td>2018-01-31 13:52:00</td>\n",
       "      <td>2018-01-31 15:05:00</td>\n",
       "      <td>2018</td>\n",
       "      <td>2356.0</td>\n",
       "      <td>39.974881</td>\n",
       "      <td>-105.249219</td>\n",
       "      <td>2</td>\n",
       "      <td>Wednesday</td>\n",
       "    </tr>\n",
       "    <tr>\n",
       "      <th>3</th>\n",
       "      <td>BOULDER / BASELINE ST1</td>\n",
       "      <td>900 Baseline Rd</td>\n",
       "      <td>Boulder</td>\n",
       "      <td>Colorado</td>\n",
       "      <td>80302</td>\n",
       "      <td>2018/01/31 00:00:00+00</td>\n",
       "      <td>2021/01/21 13:54:00+00</td>\n",
       "      <td>40.0</td>\n",
       "      <td>4.42</td>\n",
       "      <td>1.86</td>\n",
       "      <td>...</td>\n",
       "      <td>2021-01-21 13:54:00+00:00</td>\n",
       "      <td>2018-01-31 00:00:00+00:00</td>\n",
       "      <td>2018-01-31 13:54:00</td>\n",
       "      <td>2018-01-31 14:34:00</td>\n",
       "      <td>2018</td>\n",
       "      <td>1259.0</td>\n",
       "      <td>40.000148</td>\n",
       "      <td>-105.282437</td>\n",
       "      <td>2</td>\n",
       "      <td>Wednesday</td>\n",
       "    </tr>\n",
       "    <tr>\n",
       "      <th>4</th>\n",
       "      <td>BOULDER / BASELINE ST1</td>\n",
       "      <td>900 Baseline Rd</td>\n",
       "      <td>Boulder</td>\n",
       "      <td>Colorado</td>\n",
       "      <td>80302</td>\n",
       "      <td>2018/01/31 00:00:00+00</td>\n",
       "      <td>2021/01/21 11:51:00+00</td>\n",
       "      <td>42.0</td>\n",
       "      <td>4.60</td>\n",
       "      <td>1.93</td>\n",
       "      <td>...</td>\n",
       "      <td>2021-01-21 11:51:00+00:00</td>\n",
       "      <td>2018-01-31 00:00:00+00:00</td>\n",
       "      <td>2018-01-31 11:51:00</td>\n",
       "      <td>2018-01-31 12:33:00</td>\n",
       "      <td>2018</td>\n",
       "      <td>81.0</td>\n",
       "      <td>40.000148</td>\n",
       "      <td>-105.282437</td>\n",
       "      <td>2</td>\n",
       "      <td>Wednesday</td>\n",
       "    </tr>\n",
       "  </tbody>\n",
       "</table>\n",
       "<p>5 rows × 23 columns</p>\n",
       "</div>"
      ],
      "text/plain": [
       "                   Station_Name         Station_Address     City  \\\n",
       "0  COMM VITALITY / 1104 SPRUCE1          1100 Spruce St  Boulder   \n",
       "1   COMM VITALITY / 1000WALNUT1           900 Walnut St  Boulder   \n",
       "2      BOULDER / REC CENTER ST2  1305-1335 Gillaspie Dr  Boulder   \n",
       "3        BOULDER / BASELINE ST1         900 Baseline Rd  Boulder   \n",
       "4        BOULDER / BASELINE ST1         900 Baseline Rd  Boulder   \n",
       "\n",
       "  State_Province  Postal_Code        Transaction_Date  Transaction_Start_Time  \\\n",
       "0       Colorado        80302  2018/01/31 00:00:00+00  2021/01/21 17:43:00+00   \n",
       "1       Colorado        80302  2018/01/31 00:00:00+00  2021/01/21 17:16:00+00   \n",
       "2       Colorado        80305  2018/01/31 00:00:00+00  2021/01/21 13:52:00+00   \n",
       "3       Colorado        80302  2018/01/31 00:00:00+00  2021/01/21 13:54:00+00   \n",
       "4       Colorado        80302  2018/01/31 00:00:00+00  2021/01/21 11:51:00+00   \n",
       "\n",
       "   Charging_Time__minutes_  Energy__kWh_  GHG_Savings__kg_  ...  \\\n",
       "0                    128.0          2.84              1.19  ...   \n",
       "1                     68.0          5.66              2.38  ...   \n",
       "2                     73.0          3.94              1.65  ...   \n",
       "3                     40.0          4.42              1.86  ...   \n",
       "4                     42.0          4.60              1.93  ...   \n",
       "\n",
       "        start_Time_Datetime Transaction_Date_Datetime      start_Datetime  \\\n",
       "0 2021-01-21 17:43:00+00:00 2018-01-31 00:00:00+00:00 2018-01-31 17:43:00   \n",
       "1 2021-01-21 17:16:00+00:00 2018-01-31 00:00:00+00:00 2018-01-31 17:16:00   \n",
       "2 2021-01-21 13:52:00+00:00 2018-01-31 00:00:00+00:00 2018-01-31 13:52:00   \n",
       "3 2021-01-21 13:54:00+00:00 2018-01-31 00:00:00+00:00 2018-01-31 13:54:00   \n",
       "4 2021-01-21 11:51:00+00:00 2018-01-31 00:00:00+00:00 2018-01-31 11:51:00   \n",
       "\n",
       "         end_Datetime  year idle_time_minutes   latitude   longitude  weekday  \\\n",
       "0 2018-01-31 19:51:00  2018             929.0  40.018482 -105.281066        2   \n",
       "1 2018-01-31 18:24:00  2018             228.0  40.015994 -105.282473        2   \n",
       "2 2018-01-31 15:05:00  2018            2356.0  39.974881 -105.249219        2   \n",
       "3 2018-01-31 14:34:00  2018            1259.0  40.000148 -105.282437        2   \n",
       "4 2018-01-31 12:33:00  2018              81.0  40.000148 -105.282437        2   \n",
       "\n",
       "   weekday_name  \n",
       "0     Wednesday  \n",
       "1     Wednesday  \n",
       "2     Wednesday  \n",
       "3     Wednesday  \n",
       "4     Wednesday  \n",
       "\n",
       "[5 rows x 23 columns]"
      ]
     },
     "execution_count": 52,
     "metadata": {},
     "output_type": "execute_result"
    }
   ],
   "source": [
    "df.head()"
   ]
  },
  {
   "cell_type": "markdown",
   "metadata": {},
   "source": [
    "### Save dataframe"
   ]
  },
  {
   "cell_type": "code",
   "execution_count": 56,
   "metadata": {},
   "outputs": [],
   "source": [
    "#df.to_csv(\"../data/Electric_Vehicle_Charging_Station_Energy_Consumption_cleaned.csv\",index=False)"
   ]
  },
  {
   "cell_type": "markdown",
   "metadata": {},
   "source": [
    "Use pickle as this saves the dataframe with the datetime formats."
   ]
  },
  {
   "cell_type": "code",
   "execution_count": 57,
   "metadata": {},
   "outputs": [],
   "source": [
    "#df.to_pickle(\"../data/Electric_Vehicle_Charging_Station_Energy_Consumption_cleaned.pkl\")"
   ]
  },
  {
   "cell_type": "code",
   "execution_count": 58,
   "metadata": {},
   "outputs": [
    {
     "data": {
      "text/plain": [
       "(16023, 24)"
      ]
     },
     "execution_count": 58,
     "metadata": {},
     "output_type": "execute_result"
    }
   ],
   "source": [
    "df.shape"
   ]
  },
  {
   "cell_type": "code",
   "execution_count": null,
   "metadata": {},
   "outputs": [],
   "source": []
  }
 ],
 "metadata": {
  "kernelspec": {
   "display_name": "Python 3",
   "language": "python",
   "name": "python3"
  },
  "language_info": {
   "codemirror_mode": {
    "name": "ipython",
    "version": 3
   },
   "file_extension": ".py",
   "mimetype": "text/x-python",
   "name": "python",
   "nbconvert_exporter": "python",
   "pygments_lexer": "ipython3",
   "version": "3.7.3"
  }
 },
 "nbformat": 4,
 "nbformat_minor": 2
}
