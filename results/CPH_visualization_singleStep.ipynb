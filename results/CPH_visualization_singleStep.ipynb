{
 "cells": [
  {
   "cell_type": "code",
   "execution_count": 1,
   "id": "african-pocket",
   "metadata": {},
   "outputs": [],
   "source": [
    "import pandas as pd\n",
    "import numpy as np \n",
    "import pickle5\n",
    "import matplotlib.pyplot as plt\n",
    "import datetime\n",
    "from pysurvival.models.semi_parametric import CoxPHModel\n",
    "from pysurvival.utils.display import display_loss_values\n",
    "from sklearn.preprocessing import StandardScaler\n",
    "from pysurvival.utils.display import compare_to_actual\n",
    "from pysurvival.utils import save_model, load_model\n",
    "from pysurvival.utils.sklearn_adapter import sklearn_adapter\n",
    "from sklearn.model_selection import GridSearchCV, KFold\n",
    "from sklearn.model_selection import cross_val_score, cross_val_predict\n",
    "from sklearn.metrics import mean_squared_error\n",
    "from sklearn.metrics import auc, r2_score\n",
    "from pysurvival.utils.metrics import concordance_index"
   ]
  },
  {
   "cell_type": "code",
   "execution_count": 2,
   "id": "prescribed-method",
   "metadata": {},
   "outputs": [
    {
     "data": {
      "text/html": [
       "<div>\n",
       "<style scoped>\n",
       "    .dataframe tbody tr th:only-of-type {\n",
       "        vertical-align: middle;\n",
       "    }\n",
       "\n",
       "    .dataframe tbody tr th {\n",
       "        vertical-align: top;\n",
       "    }\n",
       "\n",
       "    .dataframe thead th {\n",
       "        text-align: right;\n",
       "    }\n",
       "</style>\n",
       "<table border=\"1\" class=\"dataframe\">\n",
       "  <thead>\n",
       "    <tr style=\"text-align: right;\">\n",
       "      <th></th>\n",
       "      <th>life_time</th>\n",
       "      <th>datetime_start</th>\n",
       "      <th>datetime_end</th>\n",
       "      <th>latitude</th>\n",
       "      <th>longitude</th>\n",
       "      <th>distance_center_km</th>\n",
       "      <th>Station_Name</th>\n",
       "      <th>weekday_b</th>\n",
       "      <th>weekday_b_name</th>\n",
       "      <th>hour_b</th>\n",
       "      <th>...</th>\n",
       "      <th>near_inactivity_6H</th>\n",
       "      <th>near_charge_events_6H</th>\n",
       "      <th>service</th>\n",
       "      <th>entertainment</th>\n",
       "      <th>food</th>\n",
       "      <th>childcare</th>\n",
       "      <th>medical</th>\n",
       "      <th>education</th>\n",
       "      <th>parking</th>\n",
       "      <th>waste-management</th>\n",
       "    </tr>\n",
       "  </thead>\n",
       "  <tbody>\n",
       "    <tr>\n",
       "      <th>0</th>\n",
       "      <td>928.5</td>\n",
       "      <td>2018-01-31 19:51:00</td>\n",
       "      <td>2018-02-01 11:19:30</td>\n",
       "      <td>40.018482</td>\n",
       "      <td>-105.281066</td>\n",
       "      <td>0.152203</td>\n",
       "      <td>COMM VITALITY / 1104 SPRUCE1</td>\n",
       "      <td>2</td>\n",
       "      <td>Wednesday</td>\n",
       "      <td>19</td>\n",
       "      <td>...</td>\n",
       "      <td>0.0</td>\n",
       "      <td>0</td>\n",
       "      <td>0.057343</td>\n",
       "      <td>0.109796</td>\n",
       "      <td>0.073649</td>\n",
       "      <td>3.517121</td>\n",
       "      <td>0.466518</td>\n",
       "      <td>0.631771</td>\n",
       "      <td>0.021832</td>\n",
       "      <td>1.145959</td>\n",
       "    </tr>\n",
       "    <tr>\n",
       "      <th>1</th>\n",
       "      <td>363.5</td>\n",
       "      <td>2018-02-01 14:03:00</td>\n",
       "      <td>2018-02-01 20:06:30</td>\n",
       "      <td>40.018482</td>\n",
       "      <td>-105.281066</td>\n",
       "      <td>0.152203</td>\n",
       "      <td>COMM VITALITY / 1104 SPRUCE1</td>\n",
       "      <td>3</td>\n",
       "      <td>Thursday</td>\n",
       "      <td>14</td>\n",
       "      <td>...</td>\n",
       "      <td>0.0</td>\n",
       "      <td>0</td>\n",
       "      <td>0.057343</td>\n",
       "      <td>0.109796</td>\n",
       "      <td>0.073649</td>\n",
       "      <td>3.517121</td>\n",
       "      <td>0.466518</td>\n",
       "      <td>0.631771</td>\n",
       "      <td>0.021832</td>\n",
       "      <td>1.145959</td>\n",
       "    </tr>\n",
       "    <tr>\n",
       "      <th>2</th>\n",
       "      <td>6828.5</td>\n",
       "      <td>2018-02-01 21:15:00</td>\n",
       "      <td>2018-02-06 15:03:30</td>\n",
       "      <td>40.018482</td>\n",
       "      <td>-105.281066</td>\n",
       "      <td>0.152203</td>\n",
       "      <td>COMM VITALITY / 1104 SPRUCE1</td>\n",
       "      <td>3</td>\n",
       "      <td>Thursday</td>\n",
       "      <td>21</td>\n",
       "      <td>...</td>\n",
       "      <td>0.0</td>\n",
       "      <td>0</td>\n",
       "      <td>0.057343</td>\n",
       "      <td>0.109796</td>\n",
       "      <td>0.073649</td>\n",
       "      <td>3.517121</td>\n",
       "      <td>0.466518</td>\n",
       "      <td>0.631771</td>\n",
       "      <td>0.021832</td>\n",
       "      <td>1.145959</td>\n",
       "    </tr>\n",
       "  </tbody>\n",
       "</table>\n",
       "<p>3 rows × 71 columns</p>\n",
       "</div>"
      ],
      "text/plain": [
       "   life_time      datetime_start        datetime_end   latitude   longitude  \\\n",
       "0      928.5 2018-01-31 19:51:00 2018-02-01 11:19:30  40.018482 -105.281066   \n",
       "1      363.5 2018-02-01 14:03:00 2018-02-01 20:06:30  40.018482 -105.281066   \n",
       "2     6828.5 2018-02-01 21:15:00 2018-02-06 15:03:30  40.018482 -105.281066   \n",
       "\n",
       "   distance_center_km                  Station_Name  weekday_b weekday_b_name  \\\n",
       "0            0.152203  COMM VITALITY / 1104 SPRUCE1          2      Wednesday   \n",
       "1            0.152203  COMM VITALITY / 1104 SPRUCE1          3       Thursday   \n",
       "2            0.152203  COMM VITALITY / 1104 SPRUCE1          3       Thursday   \n",
       "\n",
       "   hour_b  ...  near_inactivity_6H  near_charge_events_6H   service  \\\n",
       "0      19  ...                 0.0                      0  0.057343   \n",
       "1      14  ...                 0.0                      0  0.057343   \n",
       "2      21  ...                 0.0                      0  0.057343   \n",
       "\n",
       "   entertainment      food  childcare   medical  education   parking  \\\n",
       "0       0.109796  0.073649   3.517121  0.466518   0.631771  0.021832   \n",
       "1       0.109796  0.073649   3.517121  0.466518   0.631771  0.021832   \n",
       "2       0.109796  0.073649   3.517121  0.466518   0.631771  0.021832   \n",
       "\n",
       "   waste-management  \n",
       "0          1.145959  \n",
       "1          1.145959  \n",
       "2          1.145959  \n",
       "\n",
       "[3 rows x 71 columns]"
      ]
     },
     "execution_count": 2,
     "metadata": {},
     "output_type": "execute_result"
    }
   ],
   "source": [
    "with open(\"../data/ut_poiV6.pkl\", \"rb\") as fh:\n",
    "    df = pickle5.load(fh)\n",
    "    \n",
    "df.head(3)"
   ]
  },
  {
   "cell_type": "code",
   "execution_count": 3,
   "id": "neutral-freight",
   "metadata": {},
   "outputs": [
    {
     "data": {
      "text/plain": [
       "(12711, 71)"
      ]
     },
     "execution_count": 3,
     "metadata": {},
     "output_type": "execute_result"
    }
   ],
   "source": [
    "df.shape"
   ]
  },
  {
   "cell_type": "markdown",
   "id": "offshore-destination",
   "metadata": {},
   "source": [
    "### Remove events"
   ]
  },
  {
   "cell_type": "code",
   "execution_count": 4,
   "id": "black-joint",
   "metadata": {},
   "outputs": [],
   "source": [
    "names = df['Station_Name'].unique()"
   ]
  },
  {
   "cell_type": "code",
   "execution_count": 5,
   "id": "integral-header",
   "metadata": {},
   "outputs": [
    {
     "name": "stdout",
     "output_type": "stream",
     "text": [
      "The station has the lagged\n",
      "BOULDER / REC CENTER\n",
      "The station has the lagged\n",
      "BOULDER / ATRIUM ST1\n",
      "The station has the lagged\n",
      "BOULDER / ALPINE ST1\n",
      "The station has the lagged\n",
      "COMM VITALITY / 1400 WALNUT1\n",
      "The station has the lagged\n",
      "BOULDER / FACILITIES ST1\n",
      "The station has the lagged\n",
      "COMM VITALITY / 1500PEARL\n",
      "The station has the lagged\n",
      "BOULDER / JUNCTION ST1\n",
      "The station has the lagged\n",
      "COMM VITALITY / BOULDER JCTN\n",
      "The station has the lagged\n",
      "COMM VITALITY / 1100WALNUT1\n",
      "The station has the lagged\n",
      "BOULDER / BOULDER PARK\n",
      "The station has the lagged\n",
      "COMM VITALITY / 2200 BROADWAY1\n",
      "The station has the lagged\n",
      "BOULDER / EAST REC\n",
      "The station has the lagged\n",
      "BOULDERJUNCTION / JUNCTION ST1\n"
     ]
    }
   ],
   "source": [
    "for name in names:\n",
    "    temp = df[df['Station_Name'] == name]\n",
    "    rows = temp[temp['lag3'].isna()]\n",
    "    if rows.life_time.sum() < 3*60:\n",
    "        print(\"The station has the lagged\")\n",
    "        print(name)\n",
    "\n",
    "# remove rows\n",
    "df = df.dropna()"
   ]
  },
  {
   "cell_type": "code",
   "execution_count": 6,
   "id": "upper-clear",
   "metadata": {},
   "outputs": [
    {
     "data": {
      "text/plain": [
       "(12699, 71)"
      ]
     },
     "execution_count": 6,
     "metadata": {},
     "output_type": "execute_result"
    }
   ],
   "source": [
    "df.shape"
   ]
  },
  {
   "cell_type": "markdown",
   "id": "quarterly-sellers",
   "metadata": {},
   "source": [
    "### Remove outliers\n",
    "Use boxplot outlier definition"
   ]
  },
  {
   "cell_type": "code",
   "execution_count": 7,
   "id": "friendly-ending",
   "metadata": {},
   "outputs": [
    {
     "name": "stdout",
     "output_type": "stream",
     "text": [
      "COMM VITALITY / 1104 SPRUCE1: 57 (4.4 %)\n",
      "COMM VITALITY / 1000WALNUT: 48 (3.32 %)\n",
      "BOULDER / REC CENTER: 40 (3.51 %)\n",
      "BOULDER / BASELINE ST1: 42 (3.53 %)\n",
      "BOULDER / ATRIUM ST1: 65 (6.58 %)\n",
      "BOULDER / ALPINE ST1: 32 (8.96 %)\n",
      "COMM VITALITY / 1400 WALNUT1: 38 (7.29 %)\n",
      "BOULDER / FACILITIES ST1: 84 (16.28 %)\n",
      "COMM VITALITY / 1500PEARL: 41 (4.5 %)\n",
      "BOULDER / JUNCTION ST1: 35 (9.97 %)\n",
      "COMM VITALITY / BOULDER JCTN: 40 (5.28 %)\n",
      "COMM VITALITY / 1100WALNUT1: 39 (3.51 %)\n",
      "BOULDER / N BOULDER REC 1: 29 (2.07 %)\n",
      "BOULDER / BOULDER PARK: 8 (4.55 %)\n",
      "COMM VITALITY / 2200 BROADWAY1: 0 (0.0 %)\n",
      "BOULDER / EAST REC: 23 (5.42 %)\n",
      "BOULDERJUNCTION / JUNCTION ST1: 3 (3.0 %)\n",
      "\n",
      "The total amount of lost events: 624 (4.91 %)\n"
     ]
    }
   ],
   "source": [
    "# remove outliers\n",
    "drop_index = [] # list of indexes to keep\n",
    "names = df['Station_Name'].unique()\n",
    "\n",
    "for name in names:\n",
    "    temp = df[df['Station_Name'] == name]\n",
    "    # Get interquantile ranges\n",
    "    Q1, Q3 = temp.life_time.quantile([0.25, 0.75])\n",
    "    IQR = Q3-Q1\n",
    "    minimum = Q1 - 1.5*IQR\n",
    "    maximum = Q3 + 1.5*IQR\n",
    "    # Define observations which should be removed\n",
    "    temp2 = df[(df['life_time'] < minimum) | (df['life_time'] > maximum) &\n",
    "                  (df['Station_Name'] == name)]\n",
    "    print(\"{n}: {s} ({p} %)\".format(n=name, \n",
    "                                    s=temp2.shape[0], \n",
    "                                    p=round((temp2.shape[0]/temp.shape[0])*100,2)))\n",
    "    # Add the indexes which should be dropped\n",
    "    drop_index.extend(list(temp2.index))\n",
    "    \n",
    "print(\"\\nThe total amount of lost events: {n} ({p} %)\".format(n=len(drop_index), \n",
    "                                                              p=round(len(drop_index)/df.shape[0]*100,2)))\n",
    "\n",
    "df = df.drop(drop_index)\n",
    "df = df.reset_index(drop=True)"
   ]
  },
  {
   "cell_type": "code",
   "execution_count": 8,
   "id": "czech-carrier",
   "metadata": {},
   "outputs": [
    {
     "data": {
      "text/plain": [
       "(12075, 71)"
      ]
     },
     "execution_count": 8,
     "metadata": {},
     "output_type": "execute_result"
    }
   ],
   "source": [
    "df.shape"
   ]
  },
  {
   "cell_type": "markdown",
   "id": "raised-heating",
   "metadata": {},
   "source": [
    "### Focus stations"
   ]
  },
  {
   "cell_type": "code",
   "execution_count": 9,
   "id": "preceding-olympus",
   "metadata": {},
   "outputs": [],
   "source": [
    "station_subset = ['BOULDER / N BOULDER REC 1', 'COMM VITALITY / 1000WALNUT', \n",
    "        'COMM VITALITY / 1104 SPRUCE1', 'BOULDER / BASELINE ST1']\n",
    "\n",
    "df = df[df['Station_Name'].isin(station_subset)]"
   ]
  },
  {
   "cell_type": "markdown",
   "id": "experimental-drunk",
   "metadata": {},
   "source": [
    "### Prepare data for SA"
   ]
  },
  {
   "cell_type": "markdown",
   "id": "typical-chance",
   "metadata": {},
   "source": [
    "As we are doing SA we need a column which specifies if an event occured at the given time. As all data observations in the dataset are events it is a very simple procedure"
   ]
  },
  {
   "cell_type": "code",
   "execution_count": 10,
   "id": "interesting-shower",
   "metadata": {},
   "outputs": [],
   "source": [
    "df['event'] = np.ones(len(df))"
   ]
  },
  {
   "cell_type": "code",
   "execution_count": 11,
   "id": "necessary-assistant",
   "metadata": {},
   "outputs": [],
   "source": [
    "def hour_label(X):\n",
    "    if (X >= 7) & (X <= 10):\n",
    "        return 'Morning'\n",
    "    elif (X >= 11) & (X <= 14):\n",
    "        return 'Midday'\n",
    "    elif (X >= 15) & (X <= 18):\n",
    "        return 'Afternoon'\n",
    "    elif (X >= 19) or (X < 1):\n",
    "        return 'Evening'\n",
    "    elif (X >= 1) & (X <= 6):\n",
    "        return 'Night'"
   ]
  },
  {
   "cell_type": "code",
   "execution_count": 12,
   "id": "south-aging",
   "metadata": {},
   "outputs": [],
   "source": [
    "df['tod'] = df['hour_b'].apply(hour_label)"
   ]
  },
  {
   "cell_type": "code",
   "execution_count": 13,
   "id": "logical-breakfast",
   "metadata": {},
   "outputs": [],
   "source": [
    "df = df[df['tod'] != 'Night']"
   ]
  },
  {
   "cell_type": "markdown",
   "id": "daily-investing",
   "metadata": {},
   "source": [
    "### Adding dummies\n",
    "We define `X`, the features, `T`, the time column and `E` the event columns. First though we need to dummify the categorical variables."
   ]
  },
  {
   "cell_type": "code",
   "execution_count": 14,
   "id": "hairy-development",
   "metadata": {},
   "outputs": [],
   "source": [
    "# Categorical features\n",
    "columns_categorical = ['weekday_b_name','tod','hour_b','Station_Name']"
   ]
  },
  {
   "cell_type": "code",
   "execution_count": 15,
   "id": "solar-compound",
   "metadata": {},
   "outputs": [],
   "source": [
    "df_orig = df\n",
    "df = pd.get_dummies(df, columns=columns_categorical, drop_first=True)"
   ]
  },
  {
   "cell_type": "markdown",
   "id": "scenic-mills",
   "metadata": {},
   "source": [
    "## Modeling features"
   ]
  },
  {
   "cell_type": "markdown",
   "id": "macro-performer",
   "metadata": {},
   "source": [
    "To make coding easier the names of the models are changed:\n",
    "- M1: Baseline\n",
    "- M5: Full"
   ]
  },
  {
   "cell_type": "code",
   "execution_count": 16,
   "id": "dressed-vegetation",
   "metadata": {},
   "outputs": [],
   "source": [
    "time_column = 'life_time'\n",
    "event_column = 'event'\n",
    "\n",
    "## M1\n",
    "features1 = ['weekday_b_name_Monday', 'weekday_b_name_Saturday',\n",
    "             'weekday_b_name_Sunday', 'weekday_b_name_Thursday',\n",
    "             'weekday_b_name_Tuesday', 'weekday_b_name_Wednesday',\n",
    "             'tod_Evening','tod_Midday', 'tod_Morning',\n",
    "             'Station_Name_BOULDER / N BOULDER REC 1',\n",
    "             'Station_Name_COMM VITALITY / 1000WALNUT',\n",
    "             'Station_Name_COMM VITALITY / 1104 SPRUCE1'] # dow + tod\n",
    "\n",
    "## M5\n",
    "features5_cat = ['weekday_b_name_Monday', 'weekday_b_name_Saturday',\n",
    "                 'weekday_b_name_Sunday', 'weekday_b_name_Thursday',\n",
    "                 'weekday_b_name_Tuesday', 'weekday_b_name_Wednesday',\n",
    "                 'tod_Evening','tod_Midday', 'tod_Morning',\n",
    "                 'Station_Name_BOULDER / N BOULDER REC 1',\n",
    "                 'Station_Name_COMM VITALITY / 1000WALNUT',\n",
    "                 'Station_Name_COMM VITALITY / 1104 SPRUCE1']\n",
    "features5_con = ['lag1', 'lag2', 'lag3','near_charge_time_4H', 'near_charge_energy_4H',\n",
    "                 'charge_time_4H', 'charge_energy_4H','service', 'entertainment', 'food', \n",
    "                 'childcare', 'medical', 'education', 'waste-management'] # dow + agg. tod + lag + activ."
   ]
  },
  {
   "cell_type": "code",
   "execution_count": 17,
   "id": "indonesian-parcel",
   "metadata": {},
   "outputs": [],
   "source": [
    "# dictionary to save results in \n",
    "results = {}\n",
    "\n",
    "#data split\n",
    "split = 0.8\n",
    "\n",
    "# order data\n",
    "df = df.sort_values(by=['datetime_start'])\n",
    "df = df.reset_index(drop=True)\n",
    "df_orig = df_orig.sort_values(by=['datetime_start'])\n",
    "df_orig = df_orig.reset_index(drop=True)"
   ]
  },
  {
   "cell_type": "markdown",
   "id": "stock-remains",
   "metadata": {},
   "source": [
    "#### CPH - Full"
   ]
  },
  {
   "cell_type": "code",
   "execution_count": 18,
   "id": "continent-chemistry",
   "metadata": {},
   "outputs": [
    {
     "name": "stdout",
     "output_type": "stream",
     "text": [
      "Model fitted\n"
     ]
    }
   ],
   "source": [
    "# define data\n",
    "X = df[features5_cat + features5_con]\n",
    "\n",
    "X_train, X_test = np.split(X, [int(split * len(df))])\n",
    "T_train, T_test = np.split(df[time_column], [int(split * len(df))])\n",
    "E_train, E_test = np.split(df[event_column], [int(split * len(df))])\n",
    "\n",
    "scaler = StandardScaler()\n",
    "X_train[features5_con] = scaler.fit_transform(X_train[features5_con])\n",
    "X_test[features5_con] = scaler.transform(X_test[features5_con])\n",
    "\n",
    "\n",
    "### Get predictions\n",
    "reg = CoxPHModel()\n",
    "reg.fit(X_train, T_train, E_train, lr=0.01, l2_reg=0.01,\n",
    "        init_method='zeros', max_iter=800, verbose=False)\n",
    "print(\"Model fitted\")   \n",
    "\n",
    "surv = reg.predict_survival(x=X_test)\n",
    "haza = reg.predict_hazard(x=X_test)"
   ]
  },
  {
   "cell_type": "code",
   "execution_count": 19,
   "id": "hearing-poetry",
   "metadata": {},
   "outputs": [],
   "source": [
    "coef_df = pd.DataFrame(columns=(['feature','coefficients']))\n",
    "coef_df['feature'] = X_test.columns\n",
    "coef_df['coefficients'] = reg.weights\n",
    "coef_df = coef_df.sort_values(by=['coefficients'])"
   ]
  },
  {
   "cell_type": "code",
   "execution_count": 20,
   "id": "finite-memphis",
   "metadata": {},
   "outputs": [
    {
     "data": {
      "text/html": [
       "<div>\n",
       "<style scoped>\n",
       "    .dataframe tbody tr th:only-of-type {\n",
       "        vertical-align: middle;\n",
       "    }\n",
       "\n",
       "    .dataframe tbody tr th {\n",
       "        vertical-align: top;\n",
       "    }\n",
       "\n",
       "    .dataframe thead th {\n",
       "        text-align: right;\n",
       "    }\n",
       "</style>\n",
       "<table border=\"1\" class=\"dataframe\">\n",
       "  <thead>\n",
       "    <tr style=\"text-align: right;\">\n",
       "      <th></th>\n",
       "      <th>feature</th>\n",
       "      <th>coefficients</th>\n",
       "    </tr>\n",
       "  </thead>\n",
       "  <tbody>\n",
       "    <tr>\n",
       "      <th>6</th>\n",
       "      <td>tod_Evening</td>\n",
       "      <td>-0.147311</td>\n",
       "    </tr>\n",
       "    <tr>\n",
       "      <th>23</th>\n",
       "      <td>medical</td>\n",
       "      <td>-0.115711</td>\n",
       "    </tr>\n",
       "    <tr>\n",
       "      <th>13</th>\n",
       "      <td>lag2</td>\n",
       "      <td>-0.082482</td>\n",
       "    </tr>\n",
       "    <tr>\n",
       "      <th>2</th>\n",
       "      <td>weekday_b_name_Sunday</td>\n",
       "      <td>-0.065069</td>\n",
       "    </tr>\n",
       "    <tr>\n",
       "      <th>0</th>\n",
       "      <td>weekday_b_name_Monday</td>\n",
       "      <td>-0.053225</td>\n",
       "    </tr>\n",
       "  </tbody>\n",
       "</table>\n",
       "</div>"
      ],
      "text/plain": [
       "                  feature  coefficients\n",
       "6             tod_Evening     -0.147311\n",
       "23                medical     -0.115711\n",
       "13                   lag2     -0.082482\n",
       "2   weekday_b_name_Sunday     -0.065069\n",
       "0   weekday_b_name_Monday     -0.053225"
      ]
     },
     "execution_count": 20,
     "metadata": {},
     "output_type": "execute_result"
    }
   ],
   "source": [
    "coef_df.head(5)"
   ]
  },
  {
   "cell_type": "code",
   "execution_count": 21,
   "id": "sustainable-retreat",
   "metadata": {},
   "outputs": [
    {
     "data": {
      "text/html": [
       "<div>\n",
       "<style scoped>\n",
       "    .dataframe tbody tr th:only-of-type {\n",
       "        vertical-align: middle;\n",
       "    }\n",
       "\n",
       "    .dataframe tbody tr th {\n",
       "        vertical-align: top;\n",
       "    }\n",
       "\n",
       "    .dataframe thead th {\n",
       "        text-align: right;\n",
       "    }\n",
       "</style>\n",
       "<table border=\"1\" class=\"dataframe\">\n",
       "  <thead>\n",
       "    <tr style=\"text-align: right;\">\n",
       "      <th></th>\n",
       "      <th>feature</th>\n",
       "      <th>coefficients</th>\n",
       "    </tr>\n",
       "  </thead>\n",
       "  <tbody>\n",
       "    <tr>\n",
       "      <th>10</th>\n",
       "      <td>Station_Name_COMM VITALITY / 1000WALNUT</td>\n",
       "      <td>0.049323</td>\n",
       "    </tr>\n",
       "    <tr>\n",
       "      <th>19</th>\n",
       "      <td>service</td>\n",
       "      <td>0.069089</td>\n",
       "    </tr>\n",
       "    <tr>\n",
       "      <th>9</th>\n",
       "      <td>Station_Name_BOULDER / N BOULDER REC 1</td>\n",
       "      <td>0.086594</td>\n",
       "    </tr>\n",
       "    <tr>\n",
       "      <th>8</th>\n",
       "      <td>tod_Morning</td>\n",
       "      <td>0.158344</td>\n",
       "    </tr>\n",
       "    <tr>\n",
       "      <th>7</th>\n",
       "      <td>tod_Midday</td>\n",
       "      <td>0.159898</td>\n",
       "    </tr>\n",
       "  </tbody>\n",
       "</table>\n",
       "</div>"
      ],
      "text/plain": [
       "                                    feature  coefficients\n",
       "10  Station_Name_COMM VITALITY / 1000WALNUT      0.049323\n",
       "19                                  service      0.069089\n",
       "9    Station_Name_BOULDER / N BOULDER REC 1      0.086594\n",
       "8                               tod_Morning      0.158344\n",
       "7                                tod_Midday      0.159898"
      ]
     },
     "execution_count": 21,
     "metadata": {},
     "output_type": "execute_result"
    }
   ],
   "source": [
    "coef_df.tail(5)"
   ]
  },
  {
   "cell_type": "code",
   "execution_count": 23,
   "id": "premium-chain",
   "metadata": {},
   "outputs": [],
   "source": [
    "time = reg.times"
   ]
  },
  {
   "cell_type": "code",
   "execution_count": 24,
   "id": "furnished-abortion",
   "metadata": {},
   "outputs": [],
   "source": [
    "new_col = ['tod','weekday_b_name','Station_Name'] \n",
    "X_test = X_test.merge(df_orig[new_col], left_index=True, right_index=True)\n",
    "X_test = X_test.reset_index()"
   ]
  },
  {
   "cell_type": "markdown",
   "id": "sapphire-intensity",
   "metadata": {},
   "source": [
    "#### Survival curves for TOD, seperate curves for each station"
   ]
  },
  {
   "cell_type": "code",
   "execution_count": 25,
   "id": "premier-glance",
   "metadata": {},
   "outputs": [
    {
     "data": {
      "image/png": "[encoded data removed]",
      "text/plain": [
       "<Figure size 720x432 with 4 Axes>"
      ]
     },
     "metadata": {
      "needs_background": "light"
     },
     "output_type": "display_data"
    }
   ],
   "source": [
    "days = ['Monday', 'Tuesday', 'Wednesday', 'Thursday', 'Friday', 'Saturday', 'Sunday']\n",
    "tods = ['Morning', 'Midday', 'Afternoon', 'Evening']#, 'Night']\n",
    "\n",
    "fig, axs = plt.subplots(2,2, figsize=(10,6), sharex=True, sharey=True)\n",
    "i = 0\n",
    "j = 0\n",
    "\n",
    "temp1 = X_test[X_test['Station_Name'] == 'BOULDER / N BOULDER REC 1']\n",
    "temp2 = X_test[X_test['Station_Name'] == 'COMM VITALITY / 1000WALNUT']\n",
    "temp3 = X_test[X_test['Station_Name'] == 'BOULDER / BASELINE ST1']\n",
    "temp4 = X_test[X_test['Station_Name'] == 'COMM VITALITY / 1104 SPRUCE1']\n",
    "\n",
    "N = 2\n",
    "\n",
    "for tod in tods:\n",
    "    idx1 = temp1[(temp1['tod'] == tod)].index\n",
    "    temp_surv1 = surv[idx1]\n",
    "    mean1 = []\n",
    "    upper1 = []\n",
    "    lower1 = []\n",
    "\n",
    "    idx2 = temp2[(temp2['tod'] == tod)].index\n",
    "    temp_surv2 = surv[idx2]\n",
    "    mean2 = []\n",
    "    upper2 = []\n",
    "    lower2 = []\n",
    "    \n",
    "    idx3 = temp3[(temp3['tod'] == tod)].index\n",
    "    temp_surv3 = surv[idx3]\n",
    "    mean3 = []\n",
    "    upper3 = []\n",
    "    lower3 = []\n",
    "    \n",
    "    idx4 = temp4[(temp4['tod'] == tod)].index\n",
    "    temp_surv4 = surv[idx4]\n",
    "    mean4 = []\n",
    "    upper4 = []\n",
    "    lower4 = []\n",
    "\n",
    "    for k in range(len(time)):\n",
    "        ## REC 1\n",
    "        vals1 = temp_surv1[:,k]\n",
    "        mean1.append(np.mean(vals1))\n",
    "        std1 = np.std(vals1)\n",
    "        upper1.append(np.mean(vals1)+std1*N)\n",
    "        lower1.append(np.mean(vals1)-std1*N)\n",
    "        ## 1000WALNUT\n",
    "        vals2 = temp_surv2[:,k]\n",
    "        mean2.append(np.mean(vals2))\n",
    "        std2 = np.std(vals2)\n",
    "        upper2.append(np.mean(vals2)+std2*N)\n",
    "        lower2.append(np.mean(vals2)-std2*N)\n",
    "        ## BASELINE ST1\n",
    "        vals3 = temp_surv3[:,k]\n",
    "        mean3.append(np.mean(vals3))\n",
    "        std3 = np.std(vals3)\n",
    "        upper3.append(np.mean(vals3)+std3*N)\n",
    "        lower3.append(np.mean(vals3)-std3*N)\n",
    "        ## 1104 SPRUCE1\n",
    "        vals4 = temp_surv4[:,k]\n",
    "        mean4.append(np.mean(vals4))\n",
    "        std4 = np.std(vals4)\n",
    "        upper4.append(np.mean(vals4)+std4*N)\n",
    "        lower4.append(np.mean(vals4)-std4*N)\n",
    "        \n",
    "    axs[i,j].grid()\n",
    "    axs[i,j].fill_between(x=time,y1=lower1,y2=upper1, alpha=0.2, color='k')\n",
    "    axs[i,j].plot(time,mean1, label='N BOULDER', color='k')\n",
    "    \n",
    "    axs[i,j].fill_between(x=time,y1=lower2,y2=upper2, alpha=0.2, color='b')\n",
    "    axs[i,j].plot(time,mean2, label='1000WALNUT', color='b')\n",
    "    \n",
    "    axs[i,j].fill_between(x=time,y1=lower3,y2=upper3, alpha=0.2, color='g')\n",
    "    axs[i,j].plot(time,mean3, label='BASELINE', color='g')\n",
    "    \n",
    "    axs[i,j].fill_between(x=time,y1=lower4,y2=upper4, alpha=0.2, color='r')\n",
    "    axs[i,j].plot(time,mean4, label='1104 SPRUCE', color='r')\n",
    "    \n",
    "    axs[i,j].set_title(\"{}\".format(tod))\n",
    "    axs[i,j].legend()\n",
    "\n",
    "    j += 1\n",
    "    if j == 2:\n",
    "        j = 0\n",
    "        i = 1\n",
    "\n",
    "axs[1,0].set_xlabel(\"Idle time (minutes)\")\n",
    "axs[1,1].set_xlabel(\"Idle time (minutes)\")\n",
    "axs[0,0].set_ylabel(\"Survival probability\")\n",
    "axs[1,0].set_ylabel(\"Survival probability\")\n",
    "plt.tight_layout()\n",
    "plt.savefig('../visualization/SA_TOD_singleStep.pdf',bbox_inches='tight')\n",
    "plt.show()"
   ]
  },
  {
   "cell_type": "markdown",
   "id": "naval-vulnerability",
   "metadata": {},
   "source": [
    "#### Without TOD seperated data"
   ]
  },
  {
   "cell_type": "code",
   "execution_count": 27,
   "id": "surgical-lafayette",
   "metadata": {},
   "outputs": [
    {
     "data": {
      "image/png": "[encoded data removed]",
      "text/plain": [
       "<Figure size 432x288 with 1 Axes>"
      ]
     },
     "metadata": {
      "needs_background": "light"
     },
     "output_type": "display_data"
    }
   ],
   "source": [
    "days = ['Monday', 'Tuesday', 'Wednesday', 'Thursday', 'Friday', 'Saturday', 'Sunday']\n",
    "tods = ['Morning', 'Midday', 'Afternoon', 'Evening']#, 'Night']\n",
    "\n",
    "temp1 = X_test[X_test['Station_Name'] == 'BOULDER / N BOULDER REC 1']\n",
    "temp2 = X_test[X_test['Station_Name'] == 'COMM VITALITY / 1000WALNUT']\n",
    "temp3 = X_test[X_test['Station_Name'] == 'BOULDER / BASELINE ST1']\n",
    "temp4 = X_test[X_test['Station_Name'] == 'COMM VITALITY / 1104 SPRUCE1']\n",
    "\n",
    "N = 2\n",
    "\n",
    "mean1 = []\n",
    "upper1 = []\n",
    "lower1 = []\n",
    "mean2 = []\n",
    "upper2 = []\n",
    "lower2 = []\n",
    "mean3 = []\n",
    "upper3 = []\n",
    "lower3 = []\n",
    "mean4 = []\n",
    "upper4 = []\n",
    "lower4 = []\n",
    "\n",
    "surv1 = surv[temp1.index]\n",
    "surv2 = surv[temp2.index]\n",
    "surv3 = surv[temp3.index]\n",
    "surv4 = surv[temp4.index]\n",
    "\n",
    "for k in range(len(time)):\n",
    "    ## REC 1\n",
    "    vals1 = surv1[:,k]\n",
    "    mean1.append(np.mean(vals1))\n",
    "    std1 = np.std(vals1)\n",
    "    upper1.append(np.mean(vals1)+std1*N)\n",
    "    lower1.append(np.mean(vals1)-std1*N)\n",
    "    ## 1000WALNUT\n",
    "    vals2 = surv2[:,k]\n",
    "    mean2.append(np.mean(vals2))\n",
    "    std2 = np.std(vals2)\n",
    "    upper2.append(np.mean(vals2)+std2*N)\n",
    "    lower2.append(np.mean(vals2)-std2*N)\n",
    "    ## BASELINE ST1\n",
    "    vals3 = surv3[:,k]\n",
    "    mean3.append(np.mean(vals3))\n",
    "    std3 = np.std(vals3)\n",
    "    upper3.append(np.mean(vals3)+std3*N)\n",
    "    lower3.append(np.mean(vals3)-std3*N)\n",
    "    ## 1104 SPRUCE1\n",
    "    vals4 = surv4[:,k]\n",
    "    mean4.append(np.mean(vals4))\n",
    "    std4 = np.std(vals4)\n",
    "    upper4.append(np.mean(vals4)+std4*N)\n",
    "    lower4.append(np.mean(vals4)-std4*N)\n",
    "    \n",
    "# plot\n",
    "plt.fill_between(x=time,y1=lower1,y2=upper1, alpha=0.2, color='k')\n",
    "plt.plot(time,mean1, label='N BOULDER', color='k')\n",
    "\n",
    "plt.fill_between(x=time,y1=lower2,y2=upper2, alpha=0.2, color='b')\n",
    "plt.plot(time,mean2, label='1000WALNUT', color='b')\n",
    "\n",
    "plt.fill_between(x=time,y1=lower3,y2=upper3, alpha=0.2, color='g')\n",
    "plt.plot(time,mean3, label='BASELINE', color='g')\n",
    "\n",
    "plt.fill_between(x=time,y1=lower4,y2=upper4, alpha=0.2, color='r')\n",
    "plt.plot(time,mean4, label='1104 SPRUCE', color='r')\n",
    "plt.legend()\n",
    "\n",
    "#plt.title(\"Short (<4H)\")\n",
    "plt.grid()\n",
    "plt.xlabel(\"Idle time (minutes)\")\n",
    "plt.ylabel(\"Survival probability\")\n",
    "# plt.tight_layout()\n",
    "plt.savefig('../visualization/SA_singleStep.pdf',bbox_inches='tight')\n",
    "plt.show()"
   ]
  },
  {
   "cell_type": "markdown",
   "id": "presidential-conference",
   "metadata": {},
   "source": [
    "### Get table"
   ]
  },
  {
   "cell_type": "code",
   "execution_count": 29,
   "id": "supreme-shape",
   "metadata": {},
   "outputs": [],
   "source": [
    "hour_steps = [0.5*60,1*60,2*60,4*60,8*60]\n",
    "hour_steps_idx = []\n",
    "for hour in hour_steps:\n",
    "    #print(hour)\n",
    "    temp = []\n",
    "    for i in range(len(time)):\n",
    "        if (time[i] >= hour) and (time[i] < hour+2):\n",
    "            #print(\"{}H\".format(hour/60))\n",
    "            #print(i,time[i])\n",
    "            temp.append(i)\n",
    "    if len(temp) > 1:\n",
    "        hour_steps_idx.append(int(np.float_(temp[0])))\n",
    "    else:\n",
    "        hour_steps_idx.append(temp)\n"
   ]
  },
  {
   "cell_type": "code",
   "execution_count": 30,
   "id": "international-attention",
   "metadata": {},
   "outputs": [
    {
     "data": {
      "text/plain": [
       "[30, 60, 120, 238, [432]]"
      ]
     },
     "execution_count": 30,
     "metadata": {},
     "output_type": "execute_result"
    }
   ],
   "source": [
    "hour_steps_idx"
   ]
  },
  {
   "cell_type": "code",
   "execution_count": 31,
   "id": "combined-sydney",
   "metadata": {},
   "outputs": [],
   "source": [
    "hour_steps_idx = [30, 60, 120, 238, 433]"
   ]
  },
  {
   "cell_type": "code",
   "execution_count": 32,
   "id": "prospective-service",
   "metadata": {},
   "outputs": [
    {
     "name": "stdout",
     "output_type": "stream",
     "text": [
      "---------- Morning ----------\n",
      "BOULDER / N BOULDER REC 1\n",
      "0.5 (30.0): mean: 0.79  std: 0.04\n",
      "1.0 (60): mean: 0.66  std: 0.04\n",
      "2.0 (120): mean: 0.46  std: 0.06\n",
      "4.0 (240): mean: 0.27  std: 0.06\n",
      "8.0 (480): mean: 0.15  std: 0.04\n",
      "COMM VITALITY / 1000WALNUT\n",
      "0.5 (30.0): mean: 0.85  std: 0.04\n",
      "1.0 (60): mean: 0.75  std: 0.06\n",
      "2.0 (120): mean: 0.59  std: 0.08\n",
      "4.0 (240): mean: 0.41  std: 0.1\n",
      "8.0 (480): mean: 0.28  std: 0.1\n",
      "COMM VITALITY / 1104 SPRUCE1\n",
      "0.5 (30.0): mean: 0.87  std: 0.02\n",
      "1.0 (60): mean: 0.78  std: 0.04\n",
      "2.0 (120): mean: 0.64  std: 0.06\n",
      "4.0 (240): mean: 0.47  std: 0.08\n",
      "8.0 (480): mean: 0.34  std: 0.08\n",
      "BOULDER / BASELINE ST1\n",
      "0.5 (30.0): mean: 0.91  std: 0.02\n",
      "1.0 (60): mean: 0.84  std: 0.04\n",
      "2.0 (120): mean: 0.73  std: 0.08\n",
      "4.0 (240): mean: 0.59  std: 0.1\n",
      "8.0 (480): mean: 0.47  std: 0.12\n",
      "\n",
      "\n",
      "---------- Midday ----------\n",
      "BOULDER / N BOULDER REC 1\n",
      "0.5 (30.0): mean: 0.8  std: 0.04\n",
      "1.0 (60): mean: 0.68  std: 0.06\n",
      "2.0 (120): mean: 0.49  std: 0.08\n",
      "4.0 (240): mean: 0.3  std: 0.08\n",
      "8.0 (480): mean: 0.17  std: 0.06\n",
      "COMM VITALITY / 1000WALNUT\n",
      "0.5 (30.0): mean: 0.85  std: 0.02\n",
      "1.0 (60): mean: 0.75  std: 0.04\n",
      "2.0 (120): mean: 0.59  std: 0.06\n",
      "4.0 (240): mean: 0.41  std: 0.08\n",
      "8.0 (480): mean: 0.27  std: 0.08\n",
      "COMM VITALITY / 1104 SPRUCE1\n",
      "0.5 (30.0): mean: 0.88  std: 0.02\n",
      "1.0 (60): mean: 0.8  std: 0.04\n",
      "2.0 (120): mean: 0.66  std: 0.06\n",
      "4.0 (240): mean: 0.49  std: 0.08\n",
      "8.0 (480): mean: 0.36  std: 0.08\n",
      "BOULDER / BASELINE ST1\n",
      "0.5 (30.0): mean: 0.91  std: 0.02\n",
      "1.0 (60): mean: 0.85  std: 0.04\n",
      "2.0 (120): mean: 0.74  std: 0.06\n",
      "4.0 (240): mean: 0.6  std: 0.08\n",
      "8.0 (480): mean: 0.48  std: 0.08\n",
      "\n",
      "\n",
      "---------- Afternoon ----------\n",
      "BOULDER / N BOULDER REC 1\n",
      "0.5 (30.0): mean: 0.86  std: 0.02\n",
      "1.0 (60): mean: 0.76  std: 0.04\n",
      "2.0 (120): mean: 0.61  std: 0.06\n",
      "4.0 (240): mean: 0.43  std: 0.08\n",
      "8.0 (480): mean: 0.3  std: 0.08\n",
      "COMM VITALITY / 1000WALNUT\n",
      "0.5 (30.0): mean: 0.89  std: 0.02\n",
      "1.0 (60): mean: 0.82  std: 0.04\n",
      "2.0 (120): mean: 0.69  std: 0.06\n",
      "4.0 (240): mean: 0.54  std: 0.08\n",
      "8.0 (480): mean: 0.41  std: 0.1\n",
      "COMM VITALITY / 1104 SPRUCE1\n",
      "0.5 (30.0): mean: 0.91  std: 0.02\n",
      "1.0 (60): mean: 0.85  std: 0.04\n",
      "2.0 (120): mean: 0.74  std: 0.06\n",
      "4.0 (240): mean: 0.6  std: 0.08\n",
      "8.0 (480): mean: 0.48  std: 0.08\n",
      "BOULDER / BASELINE ST1\n",
      "0.5 (30.0): mean: 0.94  std: 0.02\n",
      "1.0 (60): mean: 0.89  std: 0.04\n",
      "2.0 (120): mean: 0.81  std: 0.06\n",
      "4.0 (240): mean: 0.7  std: 0.08\n",
      "8.0 (480): mean: 0.59  std: 0.1\n",
      "\n",
      "\n",
      "---------- Evening ----------\n",
      "BOULDER / N BOULDER REC 1\n",
      "0.5 (30.0): mean: 0.89  std: 0.02\n",
      "1.0 (60): mean: 0.82  std: 0.04\n",
      "2.0 (120): mean: 0.7  std: 0.06\n",
      "4.0 (240): mean: 0.54  std: 0.06\n",
      "8.0 (480): mean: 0.41  std: 0.08\n",
      "COMM VITALITY / 1000WALNUT\n",
      "0.5 (30.0): mean: 0.92  std: 0.02\n",
      "1.0 (60): mean: 0.86  std: 0.04\n",
      "2.0 (120): mean: 0.76  std: 0.04\n",
      "4.0 (240): mean: 0.62  std: 0.06\n",
      "8.0 (480): mean: 0.5  std: 0.08\n",
      "COMM VITALITY / 1104 SPRUCE1\n",
      "0.5 (30.0): mean: 0.93  std: 0.02\n",
      "1.0 (60): mean: 0.88  std: 0.02\n",
      "2.0 (120): mean: 0.8  std: 0.04\n",
      "4.0 (240): mean: 0.68  std: 0.06\n",
      "8.0 (480): mean: 0.58  std: 0.08\n",
      "BOULDER / BASELINE ST1\n",
      "0.5 (30.0): mean: 0.94  std: 0.02\n",
      "1.0 (60): mean: 0.9  std: 0.02\n",
      "2.0 (120): mean: 0.83  std: 0.04\n",
      "4.0 (240): mean: 0.73  std: 0.06\n",
      "8.0 (480): mean: 0.64  std: 0.08\n",
      "\n",
      "\n"
     ]
    }
   ],
   "source": [
    "for t in tods:\n",
    "    print(10*'-',t,10*'-')\n",
    "    for stat in station_subset:\n",
    "        temp = X_test[(X_test['tod'] == t) & (X_test['Station_Name'] == stat)]\n",
    "        temp_surv = surv[temp.index]\n",
    "        print(stat)\n",
    "        for i in range(len(hour_steps)):\n",
    "            h_surv = temp_surv[:,hour_steps_idx[i]]\n",
    "            m = round(np.mean(h_surv),2)\n",
    "            std = round(np.std(h_surv),2)*2\n",
    "            print(\"{} ({}): mean: {}  std: {}\".format(hour_steps[i]/60,hour_steps[i],m,std))\n",
    "    print(\"\\n\")"
   ]
  },
  {
   "cell_type": "code",
   "execution_count": null,
   "id": "beginning-bahrain",
   "metadata": {},
   "outputs": [],
   "source": []
  }
 ],
 "metadata": {
  "kernelspec": {
   "display_name": "Python 3",
   "language": "python",
   "name": "python3"
  },
  "language_info": {
   "codemirror_mode": {
    "name": "ipython",
    "version": 3
   },
   "file_extension": ".py",
   "mimetype": "text/x-python",
   "name": "python",
   "nbconvert_exporter": "python",
   "pygments_lexer": "ipython3",
   "version": "3.7.3"
  }
 },
 "nbformat": 4,
 "nbformat_minor": 5
}
