{
 "cells": [
  {
   "cell_type": "code",
   "execution_count": 109,
   "id": "linear-sunrise",
   "metadata": {},
   "outputs": [],
   "source": [
    "# imports\n",
    "import pandas as pd\n",
    "import numpy as np\n",
    "import matplotlib.pyplot as plt\n",
    "import datetime\n",
    "from collections import OrderedDict\n",
    "import pickle\n",
    "import pickle5\n",
    "import seaborn as sns\n",
    "from sklearn.model_selection import train_test_split\n",
    "from sklearn.metrics import r2_score   \n",
    "from sklearn import metrics\n",
    "from sklearn.preprocessing import StandardScaler\n",
    "import folium\n",
    "from sklearn.model_selection import RandomizedSearchCV, GridSearchCV, cross_val_score, cross_val_predict\n",
    "import statsmodels.api as sm\n",
    "\n",
    "## block warning\n",
    "import warnings\n",
    "warnings.filterwarnings('ignore')"
   ]
  },
  {
   "cell_type": "code",
   "execution_count": 110,
   "id": "straight-termination",
   "metadata": {},
   "outputs": [
    {
     "data": {
      "text/html": [
       "<div>\n",
       "<style scoped>\n",
       "    .dataframe tbody tr th:only-of-type {\n",
       "        vertical-align: middle;\n",
       "    }\n",
       "\n",
       "    .dataframe tbody tr th {\n",
       "        vertical-align: top;\n",
       "    }\n",
       "\n",
       "    .dataframe thead th {\n",
       "        text-align: right;\n",
       "    }\n",
       "</style>\n",
       "<table border=\"1\" class=\"dataframe\">\n",
       "  <thead>\n",
       "    <tr style=\"text-align: right;\">\n",
       "      <th></th>\n",
       "      <th>life_time</th>\n",
       "      <th>datetime_start</th>\n",
       "      <th>datetime_end</th>\n",
       "      <th>latitude</th>\n",
       "      <th>longitude</th>\n",
       "      <th>distance_center_km</th>\n",
       "      <th>Station_Name</th>\n",
       "      <th>weekday_b</th>\n",
       "      <th>weekday_b_name</th>\n",
       "      <th>hour_b</th>\n",
       "      <th>...</th>\n",
       "      <th>near_inactivity_6H</th>\n",
       "      <th>near_charge_events_6H</th>\n",
       "      <th>service</th>\n",
       "      <th>entertainment</th>\n",
       "      <th>food</th>\n",
       "      <th>childcare</th>\n",
       "      <th>medical</th>\n",
       "      <th>education</th>\n",
       "      <th>parking</th>\n",
       "      <th>waste-management</th>\n",
       "    </tr>\n",
       "  </thead>\n",
       "  <tbody>\n",
       "    <tr>\n",
       "      <th>0</th>\n",
       "      <td>928.5</td>\n",
       "      <td>2018-01-31 19:51:00</td>\n",
       "      <td>2018-02-01 11:19:30</td>\n",
       "      <td>40.018482</td>\n",
       "      <td>-105.281066</td>\n",
       "      <td>0.152203</td>\n",
       "      <td>COMM VITALITY / 1104 SPRUCE1</td>\n",
       "      <td>2</td>\n",
       "      <td>Wednesday</td>\n",
       "      <td>19</td>\n",
       "      <td>...</td>\n",
       "      <td>0.0</td>\n",
       "      <td>0</td>\n",
       "      <td>0.057343</td>\n",
       "      <td>0.109796</td>\n",
       "      <td>0.073649</td>\n",
       "      <td>3.517121</td>\n",
       "      <td>0.466518</td>\n",
       "      <td>0.631771</td>\n",
       "      <td>0.021832</td>\n",
       "      <td>1.145959</td>\n",
       "    </tr>\n",
       "    <tr>\n",
       "      <th>1</th>\n",
       "      <td>363.5</td>\n",
       "      <td>2018-02-01 14:03:00</td>\n",
       "      <td>2018-02-01 20:06:30</td>\n",
       "      <td>40.018482</td>\n",
       "      <td>-105.281066</td>\n",
       "      <td>0.152203</td>\n",
       "      <td>COMM VITALITY / 1104 SPRUCE1</td>\n",
       "      <td>3</td>\n",
       "      <td>Thursday</td>\n",
       "      <td>14</td>\n",
       "      <td>...</td>\n",
       "      <td>0.0</td>\n",
       "      <td>0</td>\n",
       "      <td>0.057343</td>\n",
       "      <td>0.109796</td>\n",
       "      <td>0.073649</td>\n",
       "      <td>3.517121</td>\n",
       "      <td>0.466518</td>\n",
       "      <td>0.631771</td>\n",
       "      <td>0.021832</td>\n",
       "      <td>1.145959</td>\n",
       "    </tr>\n",
       "    <tr>\n",
       "      <th>2</th>\n",
       "      <td>6828.5</td>\n",
       "      <td>2018-02-01 21:15:00</td>\n",
       "      <td>2018-02-06 15:03:30</td>\n",
       "      <td>40.018482</td>\n",
       "      <td>-105.281066</td>\n",
       "      <td>0.152203</td>\n",
       "      <td>COMM VITALITY / 1104 SPRUCE1</td>\n",
       "      <td>3</td>\n",
       "      <td>Thursday</td>\n",
       "      <td>21</td>\n",
       "      <td>...</td>\n",
       "      <td>0.0</td>\n",
       "      <td>0</td>\n",
       "      <td>0.057343</td>\n",
       "      <td>0.109796</td>\n",
       "      <td>0.073649</td>\n",
       "      <td>3.517121</td>\n",
       "      <td>0.466518</td>\n",
       "      <td>0.631771</td>\n",
       "      <td>0.021832</td>\n",
       "      <td>1.145959</td>\n",
       "    </tr>\n",
       "    <tr>\n",
       "      <th>3</th>\n",
       "      <td>5871.5</td>\n",
       "      <td>2018-02-06 15:27:00</td>\n",
       "      <td>2018-02-10 17:18:30</td>\n",
       "      <td>40.018482</td>\n",
       "      <td>-105.281066</td>\n",
       "      <td>0.152203</td>\n",
       "      <td>COMM VITALITY / 1104 SPRUCE1</td>\n",
       "      <td>1</td>\n",
       "      <td>Tuesday</td>\n",
       "      <td>15</td>\n",
       "      <td>...</td>\n",
       "      <td>0.0</td>\n",
       "      <td>0</td>\n",
       "      <td>0.057343</td>\n",
       "      <td>0.109796</td>\n",
       "      <td>0.073649</td>\n",
       "      <td>3.517121</td>\n",
       "      <td>0.466518</td>\n",
       "      <td>0.631771</td>\n",
       "      <td>0.021832</td>\n",
       "      <td>1.145959</td>\n",
       "    </tr>\n",
       "    <tr>\n",
       "      <th>4</th>\n",
       "      <td>1454.5</td>\n",
       "      <td>2018-02-10 18:26:00</td>\n",
       "      <td>2018-02-11 18:40:30</td>\n",
       "      <td>40.018482</td>\n",
       "      <td>-105.281066</td>\n",
       "      <td>0.152203</td>\n",
       "      <td>COMM VITALITY / 1104 SPRUCE1</td>\n",
       "      <td>5</td>\n",
       "      <td>Saturday</td>\n",
       "      <td>18</td>\n",
       "      <td>...</td>\n",
       "      <td>0.0</td>\n",
       "      <td>0</td>\n",
       "      <td>0.057343</td>\n",
       "      <td>0.109796</td>\n",
       "      <td>0.073649</td>\n",
       "      <td>3.517121</td>\n",
       "      <td>0.466518</td>\n",
       "      <td>0.631771</td>\n",
       "      <td>0.021832</td>\n",
       "      <td>1.145959</td>\n",
       "    </tr>\n",
       "  </tbody>\n",
       "</table>\n",
       "<p>5 rows × 71 columns</p>\n",
       "</div>"
      ],
      "text/plain": [
       "   life_time      datetime_start        datetime_end   latitude   longitude  \\\n",
       "0      928.5 2018-01-31 19:51:00 2018-02-01 11:19:30  40.018482 -105.281066   \n",
       "1      363.5 2018-02-01 14:03:00 2018-02-01 20:06:30  40.018482 -105.281066   \n",
       "2     6828.5 2018-02-01 21:15:00 2018-02-06 15:03:30  40.018482 -105.281066   \n",
       "3     5871.5 2018-02-06 15:27:00 2018-02-10 17:18:30  40.018482 -105.281066   \n",
       "4     1454.5 2018-02-10 18:26:00 2018-02-11 18:40:30  40.018482 -105.281066   \n",
       "\n",
       "   distance_center_km                  Station_Name  weekday_b weekday_b_name  \\\n",
       "0            0.152203  COMM VITALITY / 1104 SPRUCE1          2      Wednesday   \n",
       "1            0.152203  COMM VITALITY / 1104 SPRUCE1          3       Thursday   \n",
       "2            0.152203  COMM VITALITY / 1104 SPRUCE1          3       Thursday   \n",
       "3            0.152203  COMM VITALITY / 1104 SPRUCE1          1        Tuesday   \n",
       "4            0.152203  COMM VITALITY / 1104 SPRUCE1          5       Saturday   \n",
       "\n",
       "   hour_b  ...  near_inactivity_6H  near_charge_events_6H   service  \\\n",
       "0      19  ...                 0.0                      0  0.057343   \n",
       "1      14  ...                 0.0                      0  0.057343   \n",
       "2      21  ...                 0.0                      0  0.057343   \n",
       "3      15  ...                 0.0                      0  0.057343   \n",
       "4      18  ...                 0.0                      0  0.057343   \n",
       "\n",
       "   entertainment      food  childcare   medical  education   parking  \\\n",
       "0       0.109796  0.073649   3.517121  0.466518   0.631771  0.021832   \n",
       "1       0.109796  0.073649   3.517121  0.466518   0.631771  0.021832   \n",
       "2       0.109796  0.073649   3.517121  0.466518   0.631771  0.021832   \n",
       "3       0.109796  0.073649   3.517121  0.466518   0.631771  0.021832   \n",
       "4       0.109796  0.073649   3.517121  0.466518   0.631771  0.021832   \n",
       "\n",
       "   waste-management  \n",
       "0          1.145959  \n",
       "1          1.145959  \n",
       "2          1.145959  \n",
       "3          1.145959  \n",
       "4          1.145959  \n",
       "\n",
       "[5 rows x 71 columns]"
      ]
     },
     "execution_count": 110,
     "metadata": {},
     "output_type": "execute_result"
    }
   ],
   "source": [
    "with open(\"../data/ut_poiV6.pkl\", \"rb\") as fh:\n",
    "    df = pickle5.load(fh)\n",
    "    \n",
    "df.head()"
   ]
  },
  {
   "cell_type": "code",
   "execution_count": 111,
   "id": "unlikely-radius",
   "metadata": {},
   "outputs": [
    {
     "data": {
      "text/plain": [
       "(12711, 71)"
      ]
     },
     "execution_count": 111,
     "metadata": {},
     "output_type": "execute_result"
    }
   ],
   "source": [
    "df.shape"
   ]
  },
  {
   "cell_type": "markdown",
   "id": "continuous-mistress",
   "metadata": {},
   "source": [
    "### Remove events"
   ]
  },
  {
   "cell_type": "code",
   "execution_count": 112,
   "id": "allied-biodiversity",
   "metadata": {},
   "outputs": [],
   "source": [
    "names = df['Station_Name'].unique()"
   ]
  },
  {
   "cell_type": "code",
   "execution_count": 113,
   "id": "declared-zimbabwe",
   "metadata": {},
   "outputs": [
    {
     "name": "stdout",
     "output_type": "stream",
     "text": [
      "The station has the lagged\n",
      "BOULDER / REC CENTER\n",
      "The station has the lagged\n",
      "BOULDER / ATRIUM ST1\n",
      "The station has the lagged\n",
      "BOULDER / ALPINE ST1\n",
      "The station has the lagged\n",
      "COMM VITALITY / 1400 WALNUT1\n",
      "The station has the lagged\n",
      "BOULDER / FACILITIES ST1\n",
      "The station has the lagged\n",
      "COMM VITALITY / 1500PEARL\n",
      "The station has the lagged\n",
      "BOULDER / JUNCTION ST1\n",
      "The station has the lagged\n",
      "COMM VITALITY / BOULDER JCTN\n",
      "The station has the lagged\n",
      "COMM VITALITY / 1100WALNUT1\n",
      "The station has the lagged\n",
      "BOULDER / BOULDER PARK\n",
      "The station has the lagged\n",
      "COMM VITALITY / 2200 BROADWAY1\n",
      "The station has the lagged\n",
      "BOULDER / EAST REC\n",
      "The station has the lagged\n",
      "BOULDERJUNCTION / JUNCTION ST1\n"
     ]
    }
   ],
   "source": [
    "for name in names:\n",
    "    temp = df[df['Station_Name'] == name]\n",
    "    rows = temp[temp['lag3'].isna()]\n",
    "    if rows.life_time.sum() < 3*60:\n",
    "        print(\"The station has the lagged\")\n",
    "        print(name)\n",
    "\n",
    "# remove rows\n",
    "df = df.dropna()"
   ]
  },
  {
   "cell_type": "code",
   "execution_count": 114,
   "id": "extreme-arrangement",
   "metadata": {},
   "outputs": [
    {
     "data": {
      "text/plain": [
       "(12699, 71)"
      ]
     },
     "execution_count": 114,
     "metadata": {},
     "output_type": "execute_result"
    }
   ],
   "source": [
    "df.shape"
   ]
  },
  {
   "cell_type": "code",
   "execution_count": 115,
   "id": "upper-blend",
   "metadata": {},
   "outputs": [],
   "source": [
    "## Limit to only top 10 stations\n",
    "temp = df.groupby(['Station_Name']).count().latitude # group the data for each station\n",
    "names10 = temp.sort_values(ascending=False)[0:10]\n",
    "names10 = names10.index.values\n",
    "\n",
    "df = df[df['Station_Name'].isin(names10)]\n",
    "df = df.reset_index(drop=True)"
   ]
  },
  {
   "cell_type": "code",
   "execution_count": 116,
   "id": "polar-green",
   "metadata": {},
   "outputs": [
    {
     "data": {
      "text/plain": [
       "(10762, 71)"
      ]
     },
     "execution_count": 116,
     "metadata": {},
     "output_type": "execute_result"
    }
   ],
   "source": [
    "df.shape"
   ]
  },
  {
   "cell_type": "markdown",
   "id": "peaceful-pound",
   "metadata": {},
   "source": [
    "## Remove outliers\n",
    "Use boxplot outlier definition"
   ]
  },
  {
   "cell_type": "code",
   "execution_count": 117,
   "id": "cardiovascular-bolivia",
   "metadata": {},
   "outputs": [
    {
     "name": "stdout",
     "output_type": "stream",
     "text": [
      "COMM VITALITY / 1104 SPRUCE1: 57 (4.4 %)\n",
      "COMM VITALITY / 1000WALNUT: 48 (3.32 %)\n",
      "BOULDER / REC CENTER: 40 (3.51 %)\n",
      "BOULDER / BASELINE ST1: 42 (3.53 %)\n",
      "BOULDER / ATRIUM ST1: 65 (6.58 %)\n",
      "COMM VITALITY / 1400 WALNUT1: 38 (7.29 %)\n",
      "COMM VITALITY / 1500PEARL: 41 (4.5 %)\n",
      "COMM VITALITY / BOULDER JCTN: 40 (5.28 %)\n",
      "COMM VITALITY / 1100WALNUT1: 39 (3.51 %)\n",
      "BOULDER / N BOULDER REC 1: 29 (2.07 %)\n",
      "\n",
      "The total amount of lost events: 439 (4.08 %)\n"
     ]
    }
   ],
   "source": [
    "# remove outliers\n",
    "drop_index = [] # list of indexes to keep\n",
    "names = df['Station_Name'].unique()\n",
    "\n",
    "for name in names:\n",
    "    temp = df[df['Station_Name'] == name]\n",
    "    # Get interquantile ranges\n",
    "    Q1, Q3 = temp.life_time.quantile([0.25, 0.75])\n",
    "    IQR = Q3-Q1\n",
    "    minimum = Q1 - 1.5*IQR\n",
    "    maximum = Q3 + 1.5*IQR\n",
    "    # Define observations which should be removed\n",
    "    temp2 = df[(df['life_time'] < minimum) | (df['life_time'] > maximum) &\n",
    "                  (df['Station_Name'] == name)]\n",
    "    print(\"{n}: {s} ({p} %)\".format(n=name, \n",
    "                                    s=temp2.shape[0], \n",
    "                                    p=round((temp2.shape[0]/temp.shape[0])*100,2)))\n",
    "    # Add the indexes which should be dropped\n",
    "    drop_index.extend(list(temp2.index))\n",
    "    \n",
    "print(\"\\nThe total amount of lost events: {n} ({p} %)\".format(n=len(drop_index), \n",
    "                                                              p=round(len(drop_index)/df.shape[0]*100,2)))\n",
    "\n",
    "df = df.drop(drop_index)\n",
    "df = df.reset_index(drop=True)"
   ]
  },
  {
   "cell_type": "code",
   "execution_count": 118,
   "id": "circular-rouge",
   "metadata": {},
   "outputs": [
    {
     "data": {
      "text/plain": [
       "(10323, 71)"
      ]
     },
     "execution_count": 118,
     "metadata": {},
     "output_type": "execute_result"
    }
   ],
   "source": [
    "df.shape"
   ]
  },
  {
   "cell_type": "markdown",
   "id": "flush-copyright",
   "metadata": {},
   "source": [
    "# Modeling"
   ]
  },
  {
   "cell_type": "code",
   "execution_count": 119,
   "id": "abroad-edmonton",
   "metadata": {},
   "outputs": [],
   "source": [
    "def mean_absolute_percentage_error(y_true, y_pred): \n",
    "    y_true, y_pred = np.array(y_true), np.array(y_pred)\n",
    "    return np.mean(np.abs((y_true - y_pred) / y_true))*100"
   ]
  },
  {
   "cell_type": "code",
   "execution_count": 120,
   "id": "suited-pavilion",
   "metadata": {},
   "outputs": [],
   "source": [
    "## To test model\n",
    "def test_model(y_test, y_pred):\n",
    "    MAE = metrics.mean_absolute_error(y_test, y_pred)\n",
    "    #print('MAE (Mean Absolute Error):', MAE)\n",
    "    MSE = metrics.mean_squared_error(y_test, y_pred)\n",
    "    #print('MSE (Mean Squared Error):', MSE)\n",
    "    RMSE = np.sqrt(metrics.mean_squared_error(y_test, y_pred))\n",
    "    #print('RMSE (Root Mean Squared Error):', RMSE)\n",
    "    MAPE = mean_absolute_percentage_error(y_test, y_pred)\n",
    "    \n",
    "    NRMSE = RMSE/np.mean(y_test)\n",
    "    return MAE, RMSE, MSE, MAPE, NRMSE"
   ]
  },
  {
   "cell_type": "markdown",
   "id": "caring-killer",
   "metadata": {},
   "source": [
    "### Prepare data"
   ]
  },
  {
   "cell_type": "markdown",
   "id": "appointed-confidentiality",
   "metadata": {},
   "source": [
    "Add aggregated features for modeling purposes. "
   ]
  },
  {
   "cell_type": "code",
   "execution_count": 121,
   "id": "julian-wesley",
   "metadata": {},
   "outputs": [],
   "source": [
    "def hour_label(X):\n",
    "    if (X >= 7) & (X <= 10):\n",
    "        return 'Morning'\n",
    "    elif (X >= 11) & (X <= 14):\n",
    "        return 'Midday'\n",
    "    elif (X >= 15) & (X <= 18):\n",
    "        return 'Afternoon'\n",
    "    elif (X >= 19) or (X < 1):\n",
    "        return 'Evening'\n",
    "    elif (X >= 1) & (X <= 6):\n",
    "        return 'Night'"
   ]
  },
  {
   "cell_type": "code",
   "execution_count": 122,
   "id": "aquatic-definition",
   "metadata": {},
   "outputs": [],
   "source": [
    "## Add time of day and day of week\n",
    "df['tod'] = df['hour_b'].apply(hour_label)"
   ]
  },
  {
   "cell_type": "code",
   "execution_count": 123,
   "id": "valid-serve",
   "metadata": {},
   "outputs": [],
   "source": [
    "df = df[df['tod'] != 'Night']"
   ]
  },
  {
   "cell_type": "markdown",
   "id": "acting-algeria",
   "metadata": {},
   "source": [
    "Limit to 4 stations"
   ]
  },
  {
   "cell_type": "code",
   "execution_count": 124,
   "id": "smooth-boundary",
   "metadata": {},
   "outputs": [],
   "source": [
    "station_subset = ['BOULDER / N BOULDER REC 1', 'COMM VITALITY / 1000WALNUT', \n",
    "        'COMM VITALITY / 1104 SPRUCE1', 'BOULDER / BASELINE ST1']\n",
    "df_stat = df[df['Station_Name'].isin(station_subset)]"
   ]
  },
  {
   "cell_type": "markdown",
   "id": "serious-primary",
   "metadata": {},
   "source": [
    "Add dummies"
   ]
  },
  {
   "cell_type": "code",
   "execution_count": 125,
   "id": "lasting-socket",
   "metadata": {},
   "outputs": [],
   "source": [
    "# Categorical features\n",
    "columns_categorical = ['weekday_b_name','tod','hour_b','Station_Name']\n",
    "df_stat = pd.get_dummies(df_stat, columns=columns_categorical, drop_first=True)"
   ]
  },
  {
   "cell_type": "markdown",
   "id": "virgin-cloud",
   "metadata": {},
   "source": [
    "To make coding easier the names of the models are changed:\n",
    "- M1: Baseline\n",
    "- M5: Full"
   ]
  },
  {
   "cell_type": "code",
   "execution_count": 187,
   "id": "mexican-segment",
   "metadata": {},
   "outputs": [],
   "source": [
    "## M1\n",
    "lt = ['life_time']\n",
    "features1 = ['weekday_b_name_Monday', 'weekday_b_name_Saturday',\n",
    "             'weekday_b_name_Sunday', 'weekday_b_name_Thursday',\n",
    "             'weekday_b_name_Tuesday', 'weekday_b_name_Wednesday',\n",
    "             'tod_Evening','tod_Midday', 'tod_Morning',\n",
    "             'Station_Name_BOULDER / N BOULDER REC 1',\n",
    "             'Station_Name_COMM VITALITY / 1000WALNUT',\n",
    "             'Station_Name_COMM VITALITY / 1104 SPRUCE1'] # dow + tod\n",
    "\n",
    "\n",
    "## M5\n",
    "features5_cat = ['weekday_b_name_Monday', 'weekday_b_name_Saturday',\n",
    "             'weekday_b_name_Sunday', 'weekday_b_name_Thursday',\n",
    "             'weekday_b_name_Tuesday', 'weekday_b_name_Wednesday',\n",
    "             'tod_Evening','tod_Midday', 'tod_Morning',\n",
    "             'Station_Name_BOULDER / N BOULDER REC 1',\n",
    "             'Station_Name_COMM VITALITY / 1000WALNUT',\n",
    "             'Station_Name_COMM VITALITY / 1104 SPRUCE1'] # dow + agg. tod + lag + activ.\n",
    "features5_con = ['lag1', 'lag2', 'lag3','near_charge_time_4H', 'near_charge_energy_4H',\n",
    "                 'charge_time_4H', 'charge_energy_4H']#,'service', 'entertainment', 'food','medical']"
   ]
  },
  {
   "cell_type": "markdown",
   "id": "immune-watts",
   "metadata": {},
   "source": [
    "Test train split"
   ]
  },
  {
   "cell_type": "code",
   "execution_count": 188,
   "id": "alike-serbia",
   "metadata": {},
   "outputs": [],
   "source": [
    "split = 0.8"
   ]
  },
  {
   "cell_type": "markdown",
   "id": "positive-substance",
   "metadata": {},
   "source": [
    "## Quantile regression - Linear Regression"
   ]
  },
  {
   "cell_type": "markdown",
   "id": "encouraging-nicaragua",
   "metadata": {},
   "source": [
    "#### Get/split data"
   ]
  },
  {
   "cell_type": "code",
   "execution_count": 189,
   "id": "industrial-diary",
   "metadata": {},
   "outputs": [],
   "source": [
    "df_stat = df_stat.sort_values(by=['datetime_start'])\n",
    "\n",
    "df1 = df_stat[lt+features1]\n",
    "df_train1, df_test1 = np.split(df1, [int(split*len(df1))])\n",
    "\n",
    "df5 = df_stat[lt+features5_cat+features5_con]\n",
    "df_train5, df_test5 = np.split(df5, [int(split*len(df5))])\n",
    "scaler = StandardScaler()\n",
    "df_train5[features5_con] = scaler.fit_transform(df_train5[features5_con])\n",
    "df_test5[features5_con] = scaler.transform(df_test5[features5_con])"
   ]
  },
  {
   "cell_type": "markdown",
   "id": "varying-examination",
   "metadata": {},
   "source": [
    "#### Baseline"
   ]
  },
  {
   "cell_type": "code",
   "execution_count": 190,
   "id": "liked-portfolio",
   "metadata": {},
   "outputs": [],
   "source": [
    "quantile_labels = ['5th','25th','50th','75th','95th']\n",
    "qr_M1 = pd.DataFrame(columns=quantile_labels+['true'])\n",
    "qr_M1['true'] = df_test1['life_time']"
   ]
  },
  {
   "cell_type": "code",
   "execution_count": 191,
   "id": "appointed-cleaning",
   "metadata": {},
   "outputs": [],
   "source": [
    "quantiles = [0.05, 0.25, 0.5, 0.75, 0.95]\n",
    "for i in range(len(quantiles)):\n",
    "    reg = sm.QuantReg(df_train1['life_time'],df_train1[features1]).fit(q=quantiles[i])\n",
    "    pred = reg.predict(df_test1[features1])\n",
    "    qr_M1[quantile_labels[i]] = pred"
   ]
  },
  {
   "cell_type": "markdown",
   "id": "varying-palace",
   "metadata": {},
   "source": [
    "#### Full"
   ]
  },
  {
   "cell_type": "code",
   "execution_count": 192,
   "id": "nutritional-living",
   "metadata": {},
   "outputs": [],
   "source": [
    "quantile_labels = ['5th','25th','50th','75th','95th']\n",
    "qr_M5 = pd.DataFrame(columns=quantile_labels+['true'])\n",
    "qr_M5['true'] = df_test5['life_time']"
   ]
  },
  {
   "cell_type": "code",
   "execution_count": 193,
   "id": "indonesian-affair",
   "metadata": {},
   "outputs": [],
   "source": [
    "quantiles = [0.05, 0.25, 0.5, 0.75, 0.95]\n",
    "for i in range(len(quantiles)):\n",
    "    reg = sm.QuantReg(df_train5[lt],df_train5[features5_cat+features5_con]).fit(q=quantiles[i])\n",
    "    pred = reg.predict(df_test5[features5_cat+features5_con])\n",
    "    qr_M5[quantile_labels[i]] = pred"
   ]
  },
  {
   "cell_type": "code",
   "execution_count": 194,
   "id": "joined-counter",
   "metadata": {},
   "outputs": [
    {
     "data": {
      "text/html": [
       "<div>\n",
       "<style scoped>\n",
       "    .dataframe tbody tr th:only-of-type {\n",
       "        vertical-align: middle;\n",
       "    }\n",
       "\n",
       "    .dataframe tbody tr th {\n",
       "        vertical-align: top;\n",
       "    }\n",
       "\n",
       "    .dataframe thead th {\n",
       "        text-align: right;\n",
       "    }\n",
       "</style>\n",
       "<table border=\"1\" class=\"dataframe\">\n",
       "  <thead>\n",
       "    <tr style=\"text-align: right;\">\n",
       "      <th></th>\n",
       "      <th>5th</th>\n",
       "      <th>25th</th>\n",
       "      <th>50th</th>\n",
       "      <th>75th</th>\n",
       "      <th>95th</th>\n",
       "      <th>true</th>\n",
       "    </tr>\n",
       "  </thead>\n",
       "  <tbody>\n",
       "    <tr>\n",
       "      <th>4701</th>\n",
       "      <td>9.268582</td>\n",
       "      <td>82.344892</td>\n",
       "      <td>206.956588</td>\n",
       "      <td>536.152606</td>\n",
       "      <td>1525.844540</td>\n",
       "      <td>139.5</td>\n",
       "    </tr>\n",
       "    <tr>\n",
       "      <th>2383</th>\n",
       "      <td>8.467028</td>\n",
       "      <td>76.659390</td>\n",
       "      <td>184.216183</td>\n",
       "      <td>453.425568</td>\n",
       "      <td>1515.206833</td>\n",
       "      <td>1162.5</td>\n",
       "    </tr>\n",
       "    <tr>\n",
       "      <th>4702</th>\n",
       "      <td>10.508735</td>\n",
       "      <td>86.789209</td>\n",
       "      <td>208.807318</td>\n",
       "      <td>524.650403</td>\n",
       "      <td>1515.875844</td>\n",
       "      <td>1356.5</td>\n",
       "    </tr>\n",
       "    <tr>\n",
       "      <th>9985</th>\n",
       "      <td>7.037257</td>\n",
       "      <td>30.203100</td>\n",
       "      <td>97.668971</td>\n",
       "      <td>234.650316</td>\n",
       "      <td>1268.177755</td>\n",
       "      <td>76.5</td>\n",
       "    </tr>\n",
       "    <tr>\n",
       "      <th>984</th>\n",
       "      <td>7.126313</td>\n",
       "      <td>59.706734</td>\n",
       "      <td>164.462950</td>\n",
       "      <td>703.669272</td>\n",
       "      <td>1376.403304</td>\n",
       "      <td>149.5</td>\n",
       "    </tr>\n",
       "    <tr>\n",
       "      <th>...</th>\n",
       "      <td>...</td>\n",
       "      <td>...</td>\n",
       "      <td>...</td>\n",
       "      <td>...</td>\n",
       "      <td>...</td>\n",
       "      <td>...</td>\n",
       "    </tr>\n",
       "    <tr>\n",
       "      <th>10321</th>\n",
       "      <td>12.210338</td>\n",
       "      <td>57.224683</td>\n",
       "      <td>138.910172</td>\n",
       "      <td>400.165266</td>\n",
       "      <td>1436.224381</td>\n",
       "      <td>66.5</td>\n",
       "    </tr>\n",
       "    <tr>\n",
       "      <th>1236</th>\n",
       "      <td>16.895307</td>\n",
       "      <td>114.587903</td>\n",
       "      <td>251.029090</td>\n",
       "      <td>700.689448</td>\n",
       "      <td>1773.022015</td>\n",
       "      <td>99.5</td>\n",
       "    </tr>\n",
       "    <tr>\n",
       "      <th>1237</th>\n",
       "      <td>11.192926</td>\n",
       "      <td>73.515270</td>\n",
       "      <td>168.060709</td>\n",
       "      <td>690.343651</td>\n",
       "      <td>1402.268158</td>\n",
       "      <td>1411.5</td>\n",
       "    </tr>\n",
       "    <tr>\n",
       "      <th>10322</th>\n",
       "      <td>6.363855</td>\n",
       "      <td>20.562947</td>\n",
       "      <td>72.038124</td>\n",
       "      <td>425.927768</td>\n",
       "      <td>1101.425834</td>\n",
       "      <td>1033.5</td>\n",
       "    </tr>\n",
       "    <tr>\n",
       "      <th>4881</th>\n",
       "      <td>15.511322</td>\n",
       "      <td>86.708299</td>\n",
       "      <td>196.295326</td>\n",
       "      <td>471.715909</td>\n",
       "      <td>1465.307586</td>\n",
       "      <td>43.5</td>\n",
       "    </tr>\n",
       "  </tbody>\n",
       "</table>\n",
       "<p>1022 rows × 6 columns</p>\n",
       "</div>"
      ],
      "text/plain": [
       "             5th        25th        50th        75th         95th    true\n",
       "4701    9.268582   82.344892  206.956588  536.152606  1525.844540   139.5\n",
       "2383    8.467028   76.659390  184.216183  453.425568  1515.206833  1162.5\n",
       "4702   10.508735   86.789209  208.807318  524.650403  1515.875844  1356.5\n",
       "9985    7.037257   30.203100   97.668971  234.650316  1268.177755    76.5\n",
       "984     7.126313   59.706734  164.462950  703.669272  1376.403304   149.5\n",
       "...          ...         ...         ...         ...          ...     ...\n",
       "10321  12.210338   57.224683  138.910172  400.165266  1436.224381    66.5\n",
       "1236   16.895307  114.587903  251.029090  700.689448  1773.022015    99.5\n",
       "1237   11.192926   73.515270  168.060709  690.343651  1402.268158  1411.5\n",
       "10322   6.363855   20.562947   72.038124  425.927768  1101.425834  1033.5\n",
       "4881   15.511322   86.708299  196.295326  471.715909  1465.307586    43.5\n",
       "\n",
       "[1022 rows x 6 columns]"
      ]
     },
     "execution_count": 194,
     "metadata": {},
     "output_type": "execute_result"
    }
   ],
   "source": [
    "qr_M5"
   ]
  },
  {
   "cell_type": "markdown",
   "id": "alone-fever",
   "metadata": {},
   "source": [
    "### Evaluate predictions"
   ]
  },
  {
   "cell_type": "code",
   "execution_count": 152,
   "id": "under-rouge",
   "metadata": {},
   "outputs": [],
   "source": [
    "y_test1 = df_test1['life_time']"
   ]
  },
  {
   "cell_type": "code",
   "execution_count": 153,
   "id": "pregnant-dependence",
   "metadata": {},
   "outputs": [],
   "source": [
    "def ICP(q1, q2, true):\n",
    "    if (true >= q1) and (true <= q2):\n",
    "        return 1\n",
    "    else:\n",
    "        return 0"
   ]
  },
  {
   "cell_type": "code",
   "execution_count": 154,
   "id": "civilian-inspection",
   "metadata": {},
   "outputs": [],
   "source": [
    "#### 5%-95%\n",
    "## M1\n",
    "qr_M1['MIL5-95'] = qr_M1['95th']-qr_M1['5th']\n",
    "qr_M1 = qr_M1.reset_index()\n",
    "# Get ICP\n",
    "temp = []\n",
    "for i in range(len(y_test1)):\n",
    "    row = qr_M1.loc[i]\n",
    "    temp.append(ICP(row['5th'], row['95th'], row['true']))\n",
    "qr_M1['ICP5-95'] = temp\n",
    "\n",
    "## M5\n",
    "qr_M5['MIL5-95'] = qr_M5['95th']-qr_M5['5th']\n",
    "qr_M5 = qr_M5.reset_index()\n",
    "# Get ICP\n",
    "temp = []\n",
    "for i in range(len(y_test1)):\n",
    "    row = qr_M5.loc[i]\n",
    "    temp.append(ICP(row['5th'], row['95th'], row['true']))\n",
    "qr_M5['ICP5-95'] = temp\n",
    "\n",
    "\n",
    "#### 25%-75%\n",
    "## M1\n",
    "qr_M1['MIL25-75'] = qr_M1['75th']-qr_M1['25th']\n",
    "# Get ICP\n",
    "temp = []\n",
    "for i in range(len(y_test1)):\n",
    "    row = qr_M1.loc[i]\n",
    "    temp.append(ICP(row['25th'], row['75th'], row['true']))\n",
    "qr_M1['ICP25-75'] = temp\n",
    "\n",
    "## M5\n",
    "qr_M5['MIL25-75'] = qr_M5['75th']-qr_M5['25th']\n",
    "# Get ICP\n",
    "temp = []\n",
    "for i in range(len(y_test1)):\n",
    "    row = qr_M5.loc[i]\n",
    "    temp.append(ICP(row['25th'], row['75th'], row['true']))\n",
    "qr_M5['ICP25-75'] = temp\n"
   ]
  },
  {
   "cell_type": "code",
   "execution_count": 155,
   "id": "flush-enemy",
   "metadata": {},
   "outputs": [],
   "source": [
    "## merge the TOD to the dataframe\n",
    "qr_M1 = qr_M1.set_index('index')\n",
    "qr_M1 = qr_M1.merge(df[['tod','weekday_b_name','Station_Name']],left_index=True,right_index=True)\n",
    "qr_M5 = qr_M5.set_index('index')\n",
    "qr_M5 = qr_M5.merge(df[['tod','weekday_b_name','Station_Name']],left_index=True,right_index=True)"
   ]
  },
  {
   "cell_type": "code",
   "execution_count": 157,
   "id": "orange-winning",
   "metadata": {},
   "outputs": [
    {
     "name": "stdout",
     "output_type": "stream",
     "text": [
      "Baseline model\n",
      "Morning:\n",
      " MIL(5-95): 1338.0 ICP(5-95): 0.902   MIL(25-75): 370.0 ICP(25-75): 0.477\n",
      "Midday:\n",
      " MIL(5-95): 1419.0 ICP(5-95): 0.872   MIL(25-75): 431.0 ICP(25-75): 0.426\n",
      "Afternoon:\n",
      " MIL(5-95): 1078.0 ICP(5-95): 0.8   MIL(25-75): 428.0 ICP(25-75): 0.386\n",
      "Evening:\n",
      " MIL(5-95): 1903.0 ICP(5-95): 0.902   MIL(25-75): 408.0 ICP(25-75): 0.627\n"
     ]
    }
   ],
   "source": [
    "print(\"Baseline model\")\n",
    "for t in ['Morning', 'Midday', 'Afternoon', 'Evening']:\n",
    "    res = qr_M1[qr_M1['tod'] == t]\n",
    "    print(\"{}:\\n MIL(5-95): {} ICP(5-95): {}   MIL(25-75): {} ICP(25-75): {}\".format(t,round(np.mean(res['MIL5-95']),0),\n",
    "                                                  round(np.mean(res['ICP5-95']),3),\n",
    "                                                  round(np.mean(res['MIL25-75']),0),\n",
    "                                                  round(np.mean(res['ICP25-75']),3)))"
   ]
  },
  {
   "cell_type": "code",
   "execution_count": 158,
   "id": "dedicated-genealogy",
   "metadata": {},
   "outputs": [
    {
     "name": "stdout",
     "output_type": "stream",
     "text": [
      "Full model\n",
      "Morning:\n",
      " MIL(5-95): 1218.0 ICP(5-95): 0.917   MIL(25-75): 409.0 ICP(25-75): 0.485\n",
      "Midday:\n",
      " MIL(5-95): 1401.0 ICP(5-95): 0.87   MIL(25-75): 399.0 ICP(25-75): 0.455\n",
      "Afternoon:\n",
      " MIL(5-95): 1388.0 ICP(5-95): 0.834   MIL(25-75): 703.0 ICP(25-75): 0.41\n",
      "Evening:\n",
      " MIL(5-95): 1605.0 ICP(5-95): 0.882   MIL(25-75): 349.0 ICP(25-75): 0.565\n"
     ]
    }
   ],
   "source": [
    "print(\"Full model\")\n",
    "for t in ['Morning', 'Midday', 'Afternoon', 'Evening']:\n",
    "    res = qr_M5[qr_M5['tod'] == t]\n",
    "    print(\"{}:\\n MIL(5-95): {} ICP(5-95): {}   MIL(25-75): {} ICP(25-75): {}\".format(t,round(np.mean(res['MIL5-95']),0),\n",
    "                                                  round(np.mean(res['ICP5-95']),3),\n",
    "                                                  round(np.mean(res['MIL25-75']),0),\n",
    "                                                  round(np.mean(res['ICP25-75']),3)))"
   ]
  },
  {
   "cell_type": "code",
   "execution_count": 159,
   "id": "processed-nutrition",
   "metadata": {},
   "outputs": [
    {
     "name": "stdout",
     "output_type": "stream",
     "text": [
      "Base (5%-95%): MIL: 1432.62 ICP: 0.863\n",
      "Full (5%-95%): MIL: 1424.51 ICP: 0.869\n",
      "Base (25%-75%): MIL: 416.75 ICP: 0.472\n",
      "Full (25%-75%): MIL: 474.02 ICP: 0.474\n"
     ]
    }
   ],
   "source": [
    "print(\"Base (5%-95%): MIL: {} ICP: {}\".format(round(np.mean(qr_M1['MIL5-95']),2), \n",
    "                                            round(np.sum(qr_M1['ICP5-95'])/len(qr_M1),3)))\n",
    "print(\"Full (5%-95%): MIL: {} ICP: {}\".format(round(np.mean(qr_M5['MIL5-95']),2), \n",
    "                                            round(np.sum(qr_M5['ICP5-95'])/len(qr_M5),3)))\n",
    "\n",
    "print(\"Base (25%-75%): MIL: {} ICP: {}\".format(round(np.mean(qr_M1['MIL25-75']),2), \n",
    "                                            round(np.sum(qr_M1['ICP25-75'])/len(qr_M1),3)))\n",
    "print(\"Full (25%-75%): MIL: {} ICP: {}\".format(round(np.mean(qr_M5['MIL25-75']),2), \n",
    "                                            round(np.sum(qr_M5['ICP25-75'])/len(qr_M5),3)))\n"
   ]
  },
  {
   "cell_type": "markdown",
   "id": "iraqi-mongolia",
   "metadata": {},
   "source": [
    "Get regression metrics for the 50th percentile"
   ]
  },
  {
   "cell_type": "code",
   "execution_count": 160,
   "id": "nutritional-virginia",
   "metadata": {},
   "outputs": [],
   "source": [
    "results = {}"
   ]
  },
  {
   "cell_type": "code",
   "execution_count": 161,
   "id": "adopted-habitat",
   "metadata": {},
   "outputs": [],
   "source": [
    "MAE_test, RMSE_test, MSE_test, MAPE_test, NRMSE_test = test_model(qr_M1['true'],qr_M1['50th'])\n",
    "results['M1'] = {'RMSE_test':RMSE_test,'MAE_test':MAE_test,\n",
    "                      'rsq_test':r2_score(qr_M1['true'],qr_M1['50th']),\n",
    "                      'MAPE_test':MAPE_test,'NRMSE_test':NRMSE_test}\n",
    "MAE_test, RMSE_test, MSE_test, MAPE_test, NRMSE_test = test_model(qr_M5['true'],qr_M5['50th'])\n",
    "results['M5'] = {'RMSE_test':RMSE_test,'MAE_test':MAE_test,\n",
    "                      'rsq_test':r2_score(qr_M5['true'],qr_M5['50th']),\n",
    "                      'MAPE_test':MAPE_test,'NRMSE_test':NRMSE_test}"
   ]
  },
  {
   "cell_type": "code",
   "execution_count": 162,
   "id": "friendly-ceramic",
   "metadata": {},
   "outputs": [
    {
     "data": {
      "text/plain": [
       "{'M1': {'RMSE_test': 493.7849988438025,\n",
       "  'MAE_test': 300.1897648873799,\n",
       "  'rsq_test': -0.06798732172293254,\n",
       "  'MAPE_test': 1116.366377440992,\n",
       "  'NRMSE_test': 1.0694011604591802},\n",
       " 'M5': {'RMSE_test': 481.6415381856231,\n",
       "  'MAE_test': 297.19256142219837,\n",
       "  'rsq_test': -0.016104050546759563,\n",
       "  'MAPE_test': 1127.5307608131125,\n",
       "  'NRMSE_test': 1.0431017974767998}}"
      ]
     },
     "execution_count": 162,
     "metadata": {},
     "output_type": "execute_result"
    }
   ],
   "source": [
    "results"
   ]
  }
 ],
 "metadata": {
  "kernelspec": {
   "display_name": "Python 3",
   "language": "python",
   "name": "python3"
  },
  "language_info": {
   "codemirror_mode": {
    "name": "ipython",
    "version": 3
   },
   "file_extension": ".py",
   "mimetype": "text/x-python",
   "name": "python",
   "nbconvert_exporter": "python",
   "pygments_lexer": "ipython3",
   "version": "3.7.3"
  }
 },
 "nbformat": 4,
 "nbformat_minor": 5
}
