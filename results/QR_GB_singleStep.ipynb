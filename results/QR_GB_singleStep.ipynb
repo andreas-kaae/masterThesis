{
 "cells": [
  {
   "cell_type": "code",
   "execution_count": 1,
   "id": "linear-sunrise",
   "metadata": {},
   "outputs": [],
   "source": [
    "# imports\n",
    "import pandas as pd\n",
    "import numpy as np\n",
    "import matplotlib.pyplot as plt\n",
    "import datetime\n",
    "import pickle\n",
    "import pickle5\n",
    "import seaborn as sns\n",
    "from sklearn.model_selection import train_test_split\n",
    "from sklearn.linear_model import LinearRegression, Ridge, Lasso\n",
    "from sklearn.metrics import r2_score   \n",
    "from sklearn import metrics\n",
    "from sklearn.preprocessing import StandardScaler\n",
    "import folium\n",
    "from sklearn.ensemble import RandomForestRegressor\n",
    "from sklearn.neural_network import MLPRegressor\n",
    "from sklearn.model_selection import RandomizedSearchCV, GridSearchCV, cross_val_score, cross_val_predict\n",
    "from sklearn.ensemble import GradientBoostingRegressor\n",
    "\n",
    "## block warning\n",
    "import warnings\n",
    "warnings.filterwarnings('ignore')"
   ]
  },
  {
   "cell_type": "code",
   "execution_count": 2,
   "id": "straight-termination",
   "metadata": {},
   "outputs": [
    {
     "data": {
      "text/html": [
       "<div>\n",
       "<style scoped>\n",
       "    .dataframe tbody tr th:only-of-type {\n",
       "        vertical-align: middle;\n",
       "    }\n",
       "\n",
       "    .dataframe tbody tr th {\n",
       "        vertical-align: top;\n",
       "    }\n",
       "\n",
       "    .dataframe thead th {\n",
       "        text-align: right;\n",
       "    }\n",
       "</style>\n",
       "<table border=\"1\" class=\"dataframe\">\n",
       "  <thead>\n",
       "    <tr style=\"text-align: right;\">\n",
       "      <th></th>\n",
       "      <th>life_time</th>\n",
       "      <th>datetime_start</th>\n",
       "      <th>datetime_end</th>\n",
       "      <th>latitude</th>\n",
       "      <th>longitude</th>\n",
       "      <th>distance_center_km</th>\n",
       "      <th>Station_Name</th>\n",
       "      <th>weekday_b</th>\n",
       "      <th>weekday_b_name</th>\n",
       "      <th>hour_b</th>\n",
       "      <th>...</th>\n",
       "      <th>near_inactivity_6H</th>\n",
       "      <th>near_charge_events_6H</th>\n",
       "      <th>service</th>\n",
       "      <th>entertainment</th>\n",
       "      <th>food</th>\n",
       "      <th>childcare</th>\n",
       "      <th>medical</th>\n",
       "      <th>education</th>\n",
       "      <th>parking</th>\n",
       "      <th>waste-management</th>\n",
       "    </tr>\n",
       "  </thead>\n",
       "  <tbody>\n",
       "    <tr>\n",
       "      <th>0</th>\n",
       "      <td>928.5</td>\n",
       "      <td>2018-01-31 19:51:00</td>\n",
       "      <td>2018-02-01 11:19:30</td>\n",
       "      <td>40.018482</td>\n",
       "      <td>-105.281066</td>\n",
       "      <td>0.152203</td>\n",
       "      <td>COMM VITALITY / 1104 SPRUCE1</td>\n",
       "      <td>2</td>\n",
       "      <td>Wednesday</td>\n",
       "      <td>19</td>\n",
       "      <td>...</td>\n",
       "      <td>0.0</td>\n",
       "      <td>0</td>\n",
       "      <td>0.057343</td>\n",
       "      <td>0.109796</td>\n",
       "      <td>0.073649</td>\n",
       "      <td>3.517121</td>\n",
       "      <td>0.466518</td>\n",
       "      <td>0.631771</td>\n",
       "      <td>0.021832</td>\n",
       "      <td>1.145959</td>\n",
       "    </tr>\n",
       "    <tr>\n",
       "      <th>1</th>\n",
       "      <td>363.5</td>\n",
       "      <td>2018-02-01 14:03:00</td>\n",
       "      <td>2018-02-01 20:06:30</td>\n",
       "      <td>40.018482</td>\n",
       "      <td>-105.281066</td>\n",
       "      <td>0.152203</td>\n",
       "      <td>COMM VITALITY / 1104 SPRUCE1</td>\n",
       "      <td>3</td>\n",
       "      <td>Thursday</td>\n",
       "      <td>14</td>\n",
       "      <td>...</td>\n",
       "      <td>0.0</td>\n",
       "      <td>0</td>\n",
       "      <td>0.057343</td>\n",
       "      <td>0.109796</td>\n",
       "      <td>0.073649</td>\n",
       "      <td>3.517121</td>\n",
       "      <td>0.466518</td>\n",
       "      <td>0.631771</td>\n",
       "      <td>0.021832</td>\n",
       "      <td>1.145959</td>\n",
       "    </tr>\n",
       "    <tr>\n",
       "      <th>2</th>\n",
       "      <td>6828.5</td>\n",
       "      <td>2018-02-01 21:15:00</td>\n",
       "      <td>2018-02-06 15:03:30</td>\n",
       "      <td>40.018482</td>\n",
       "      <td>-105.281066</td>\n",
       "      <td>0.152203</td>\n",
       "      <td>COMM VITALITY / 1104 SPRUCE1</td>\n",
       "      <td>3</td>\n",
       "      <td>Thursday</td>\n",
       "      <td>21</td>\n",
       "      <td>...</td>\n",
       "      <td>0.0</td>\n",
       "      <td>0</td>\n",
       "      <td>0.057343</td>\n",
       "      <td>0.109796</td>\n",
       "      <td>0.073649</td>\n",
       "      <td>3.517121</td>\n",
       "      <td>0.466518</td>\n",
       "      <td>0.631771</td>\n",
       "      <td>0.021832</td>\n",
       "      <td>1.145959</td>\n",
       "    </tr>\n",
       "    <tr>\n",
       "      <th>3</th>\n",
       "      <td>5871.5</td>\n",
       "      <td>2018-02-06 15:27:00</td>\n",
       "      <td>2018-02-10 17:18:30</td>\n",
       "      <td>40.018482</td>\n",
       "      <td>-105.281066</td>\n",
       "      <td>0.152203</td>\n",
       "      <td>COMM VITALITY / 1104 SPRUCE1</td>\n",
       "      <td>1</td>\n",
       "      <td>Tuesday</td>\n",
       "      <td>15</td>\n",
       "      <td>...</td>\n",
       "      <td>0.0</td>\n",
       "      <td>0</td>\n",
       "      <td>0.057343</td>\n",
       "      <td>0.109796</td>\n",
       "      <td>0.073649</td>\n",
       "      <td>3.517121</td>\n",
       "      <td>0.466518</td>\n",
       "      <td>0.631771</td>\n",
       "      <td>0.021832</td>\n",
       "      <td>1.145959</td>\n",
       "    </tr>\n",
       "    <tr>\n",
       "      <th>4</th>\n",
       "      <td>1454.5</td>\n",
       "      <td>2018-02-10 18:26:00</td>\n",
       "      <td>2018-02-11 18:40:30</td>\n",
       "      <td>40.018482</td>\n",
       "      <td>-105.281066</td>\n",
       "      <td>0.152203</td>\n",
       "      <td>COMM VITALITY / 1104 SPRUCE1</td>\n",
       "      <td>5</td>\n",
       "      <td>Saturday</td>\n",
       "      <td>18</td>\n",
       "      <td>...</td>\n",
       "      <td>0.0</td>\n",
       "      <td>0</td>\n",
       "      <td>0.057343</td>\n",
       "      <td>0.109796</td>\n",
       "      <td>0.073649</td>\n",
       "      <td>3.517121</td>\n",
       "      <td>0.466518</td>\n",
       "      <td>0.631771</td>\n",
       "      <td>0.021832</td>\n",
       "      <td>1.145959</td>\n",
       "    </tr>\n",
       "  </tbody>\n",
       "</table>\n",
       "<p>5 rows × 71 columns</p>\n",
       "</div>"
      ],
      "text/plain": [
       "   life_time      datetime_start        datetime_end   latitude   longitude  \\\n",
       "0      928.5 2018-01-31 19:51:00 2018-02-01 11:19:30  40.018482 -105.281066   \n",
       "1      363.5 2018-02-01 14:03:00 2018-02-01 20:06:30  40.018482 -105.281066   \n",
       "2     6828.5 2018-02-01 21:15:00 2018-02-06 15:03:30  40.018482 -105.281066   \n",
       "3     5871.5 2018-02-06 15:27:00 2018-02-10 17:18:30  40.018482 -105.281066   \n",
       "4     1454.5 2018-02-10 18:26:00 2018-02-11 18:40:30  40.018482 -105.281066   \n",
       "\n",
       "   distance_center_km                  Station_Name  weekday_b weekday_b_name  \\\n",
       "0            0.152203  COMM VITALITY / 1104 SPRUCE1          2      Wednesday   \n",
       "1            0.152203  COMM VITALITY / 1104 SPRUCE1          3       Thursday   \n",
       "2            0.152203  COMM VITALITY / 1104 SPRUCE1          3       Thursday   \n",
       "3            0.152203  COMM VITALITY / 1104 SPRUCE1          1        Tuesday   \n",
       "4            0.152203  COMM VITALITY / 1104 SPRUCE1          5       Saturday   \n",
       "\n",
       "   hour_b  ...  near_inactivity_6H  near_charge_events_6H   service  \\\n",
       "0      19  ...                 0.0                      0  0.057343   \n",
       "1      14  ...                 0.0                      0  0.057343   \n",
       "2      21  ...                 0.0                      0  0.057343   \n",
       "3      15  ...                 0.0                      0  0.057343   \n",
       "4      18  ...                 0.0                      0  0.057343   \n",
       "\n",
       "   entertainment      food  childcare   medical  education   parking  \\\n",
       "0       0.109796  0.073649   3.517121  0.466518   0.631771  0.021832   \n",
       "1       0.109796  0.073649   3.517121  0.466518   0.631771  0.021832   \n",
       "2       0.109796  0.073649   3.517121  0.466518   0.631771  0.021832   \n",
       "3       0.109796  0.073649   3.517121  0.466518   0.631771  0.021832   \n",
       "4       0.109796  0.073649   3.517121  0.466518   0.631771  0.021832   \n",
       "\n",
       "   waste-management  \n",
       "0          1.145959  \n",
       "1          1.145959  \n",
       "2          1.145959  \n",
       "3          1.145959  \n",
       "4          1.145959  \n",
       "\n",
       "[5 rows x 71 columns]"
      ]
     },
     "execution_count": 2,
     "metadata": {},
     "output_type": "execute_result"
    }
   ],
   "source": [
    "with open(\"../data/ut_poiV6.pkl\", \"rb\") as fh:\n",
    "    df = pickle5.load(fh)\n",
    "    \n",
    "df.head()"
   ]
  },
  {
   "cell_type": "code",
   "execution_count": 3,
   "id": "unlikely-radius",
   "metadata": {},
   "outputs": [
    {
     "data": {
      "text/plain": [
       "(12711, 71)"
      ]
     },
     "execution_count": 3,
     "metadata": {},
     "output_type": "execute_result"
    }
   ],
   "source": [
    "df.shape"
   ]
  },
  {
   "cell_type": "markdown",
   "id": "continuous-mistress",
   "metadata": {},
   "source": [
    "### Remove events\n",
    "The features we have constructed means that we automatically will loose some data. To use the lagged feature we need to remove the 3 first observations. In the code below we check if the sum of the 3 first life times are above 3 hours. If they are then we do not need to remove additinal variables due to the 3 hours."
   ]
  },
  {
   "cell_type": "code",
   "execution_count": 4,
   "id": "allied-biodiversity",
   "metadata": {},
   "outputs": [],
   "source": [
    "names = df['Station_Name'].unique()"
   ]
  },
  {
   "cell_type": "code",
   "execution_count": 5,
   "id": "declared-zimbabwe",
   "metadata": {},
   "outputs": [
    {
     "name": "stdout",
     "output_type": "stream",
     "text": [
      "The station has the lagged\n",
      "BOULDER / REC CENTER\n",
      "The station has the lagged\n",
      "BOULDER / ATRIUM ST1\n",
      "The station has the lagged\n",
      "BOULDER / ALPINE ST1\n",
      "The station has the lagged\n",
      "COMM VITALITY / 1400 WALNUT1\n",
      "The station has the lagged\n",
      "BOULDER / FACILITIES ST1\n",
      "The station has the lagged\n",
      "COMM VITALITY / 1500PEARL\n",
      "The station has the lagged\n",
      "BOULDER / JUNCTION ST1\n",
      "The station has the lagged\n",
      "COMM VITALITY / BOULDER JCTN\n",
      "The station has the lagged\n",
      "COMM VITALITY / 1100WALNUT1\n",
      "The station has the lagged\n",
      "BOULDER / BOULDER PARK\n",
      "The station has the lagged\n",
      "COMM VITALITY / 2200 BROADWAY1\n",
      "The station has the lagged\n",
      "BOULDER / EAST REC\n",
      "The station has the lagged\n",
      "BOULDERJUNCTION / JUNCTION ST1\n"
     ]
    }
   ],
   "source": [
    "for name in names:\n",
    "    temp = df[df['Station_Name'] == name]\n",
    "    rows = temp[temp['lag3'].isna()]\n",
    "    if rows.life_time.sum() < 3*60:\n",
    "        print(\"The station has the lagged\")\n",
    "        print(name)\n",
    "\n",
    "# remove rows\n",
    "df = df.dropna()"
   ]
  },
  {
   "cell_type": "code",
   "execution_count": 6,
   "id": "extreme-arrangement",
   "metadata": {},
   "outputs": [
    {
     "data": {
      "text/plain": [
       "(12699, 71)"
      ]
     },
     "execution_count": 6,
     "metadata": {},
     "output_type": "execute_result"
    }
   ],
   "source": [
    "df.shape"
   ]
  },
  {
   "cell_type": "markdown",
   "id": "peaceful-pound",
   "metadata": {},
   "source": [
    "## Remove outliers\n",
    "Use boxplot outlier definition"
   ]
  },
  {
   "cell_type": "code",
   "execution_count": 7,
   "id": "cardiovascular-bolivia",
   "metadata": {},
   "outputs": [
    {
     "name": "stdout",
     "output_type": "stream",
     "text": [
      "COMM VITALITY / 1104 SPRUCE1: 57 (4.4 %)\n",
      "COMM VITALITY / 1000WALNUT: 48 (3.32 %)\n",
      "BOULDER / REC CENTER: 40 (3.51 %)\n",
      "BOULDER / BASELINE ST1: 42 (3.53 %)\n",
      "BOULDER / ATRIUM ST1: 65 (6.58 %)\n",
      "BOULDER / ALPINE ST1: 32 (8.96 %)\n",
      "COMM VITALITY / 1400 WALNUT1: 38 (7.29 %)\n",
      "BOULDER / FACILITIES ST1: 84 (16.28 %)\n",
      "COMM VITALITY / 1500PEARL: 41 (4.5 %)\n",
      "BOULDER / JUNCTION ST1: 35 (9.97 %)\n",
      "COMM VITALITY / BOULDER JCTN: 40 (5.28 %)\n",
      "COMM VITALITY / 1100WALNUT1: 39 (3.51 %)\n",
      "BOULDER / N BOULDER REC 1: 29 (2.07 %)\n",
      "BOULDER / BOULDER PARK: 8 (4.55 %)\n",
      "COMM VITALITY / 2200 BROADWAY1: 0 (0.0 %)\n",
      "BOULDER / EAST REC: 23 (5.42 %)\n",
      "BOULDERJUNCTION / JUNCTION ST1: 3 (3.0 %)\n",
      "\n",
      "The total amount of lost events: 624 (4.91 %)\n"
     ]
    }
   ],
   "source": [
    "# remove outliers\n",
    "drop_index = [] # list of indexes to keep\n",
    "names = df['Station_Name'].unique()\n",
    "\n",
    "for name in names:\n",
    "    temp = df[df['Station_Name'] == name]\n",
    "    # Get interquantile ranges\n",
    "    Q1, Q3 = temp.life_time.quantile([0.25, 0.75])\n",
    "    IQR = Q3-Q1\n",
    "    minimum = Q1 - 1.5*IQR\n",
    "    maximum = Q3 + 1.5*IQR\n",
    "    # Define observations which should be removed\n",
    "    temp2 = df[(df['life_time'] < minimum) | (df['life_time'] > maximum) &\n",
    "                  (df['Station_Name'] == name)]\n",
    "    print(\"{n}: {s} ({p} %)\".format(n=name, \n",
    "                                    s=temp2.shape[0], \n",
    "                                    p=round((temp2.shape[0]/temp.shape[0])*100,2)))\n",
    "    # Add the indexes which should be dropped\n",
    "    drop_index.extend(list(temp2.index))\n",
    "    \n",
    "print(\"\\nThe total amount of lost events: {n} ({p} %)\".format(n=len(drop_index), \n",
    "                                                              p=round(len(drop_index)/df.shape[0]*100,2)))\n",
    "\n",
    "df = df.drop(drop_index)\n",
    "df = df.reset_index(drop=True)"
   ]
  },
  {
   "cell_type": "code",
   "execution_count": 8,
   "id": "circular-rouge",
   "metadata": {},
   "outputs": [
    {
     "data": {
      "text/plain": [
       "(12075, 71)"
      ]
     },
     "execution_count": 8,
     "metadata": {},
     "output_type": "execute_result"
    }
   ],
   "source": [
    "df.shape"
   ]
  },
  {
   "cell_type": "markdown",
   "id": "flush-copyright",
   "metadata": {},
   "source": [
    "### Usefull functions"
   ]
  },
  {
   "cell_type": "code",
   "execution_count": 9,
   "id": "abroad-edmonton",
   "metadata": {},
   "outputs": [],
   "source": [
    "def mean_absolute_percentage_error(y_true, y_pred): \n",
    "    y_true, y_pred = np.array(y_true), np.array(y_pred)\n",
    "    return np.mean(np.abs((y_true - y_pred) / y_true))*100"
   ]
  },
  {
   "cell_type": "code",
   "execution_count": 10,
   "id": "suited-pavilion",
   "metadata": {},
   "outputs": [],
   "source": [
    "## To test model\n",
    "def test_model(y_test, y_pred):\n",
    "    MAE = metrics.mean_absolute_error(y_test, y_pred)\n",
    "    #print('MAE (Mean Absolute Error):', MAE)\n",
    "    MSE = metrics.mean_squared_error(y_test, y_pred)\n",
    "    #print('MSE (Mean Squared Error):', MSE)\n",
    "    RMSE = np.sqrt(metrics.mean_squared_error(y_test, y_pred))\n",
    "    #print('RMSE (Root Mean Squared Error):', RMSE)\n",
    "    MAPE = mean_absolute_percentage_error(y_test, y_pred)\n",
    "    \n",
    "    NRMSE = RMSE/np.mean(y_test)\n",
    "    return MAE, RMSE, MSE, MAPE, NRMSE"
   ]
  },
  {
   "cell_type": "markdown",
   "id": "caring-killer",
   "metadata": {},
   "source": [
    "### Prepare data"
   ]
  },
  {
   "cell_type": "markdown",
   "id": "appointed-confidentiality",
   "metadata": {},
   "source": [
    "Add aggregated features for modeling purposes. "
   ]
  },
  {
   "cell_type": "code",
   "execution_count": 11,
   "id": "julian-wesley",
   "metadata": {},
   "outputs": [],
   "source": [
    "def hour_label(X):\n",
    "    if (X >= 7) & (X <= 10):\n",
    "        return 'Morning'\n",
    "    elif (X >= 11) & (X <= 14):\n",
    "        return 'Midday'\n",
    "    elif (X >= 15) & (X <= 18):\n",
    "        return 'Afternoon'\n",
    "    elif (X >= 19) or (X < 1):\n",
    "        return 'Evening'\n",
    "    elif (X >= 1) & (X <= 6):\n",
    "        return 'Night'"
   ]
  },
  {
   "cell_type": "code",
   "execution_count": 12,
   "id": "aquatic-definition",
   "metadata": {},
   "outputs": [],
   "source": [
    "## Add time of day and day of week\n",
    "df['tod'] = df['hour_b'].apply(hour_label)"
   ]
  },
  {
   "cell_type": "code",
   "execution_count": 13,
   "id": "valid-serve",
   "metadata": {},
   "outputs": [],
   "source": [
    "df = df[df['tod'] != 'Night']"
   ]
  },
  {
   "cell_type": "markdown",
   "id": "acting-algeria",
   "metadata": {},
   "source": [
    "Limit to 4 stations"
   ]
  },
  {
   "cell_type": "code",
   "execution_count": 14,
   "id": "smooth-boundary",
   "metadata": {},
   "outputs": [],
   "source": [
    "station_subset = ['BOULDER / N BOULDER REC 1', 'COMM VITALITY / 1000WALNUT', \n",
    "        'COMM VITALITY / 1104 SPRUCE1', 'BOULDER / BASELINE ST1']\n",
    "df_stat = df[df['Station_Name'].isin(station_subset)]"
   ]
  },
  {
   "cell_type": "markdown",
   "id": "serious-primary",
   "metadata": {},
   "source": [
    "Add dummies"
   ]
  },
  {
   "cell_type": "code",
   "execution_count": 15,
   "id": "lasting-socket",
   "metadata": {},
   "outputs": [],
   "source": [
    "# Categorical features\n",
    "columns_categorical = ['weekday_b_name','tod','hour_b','Station_Name']\n",
    "df_stat = pd.get_dummies(df_stat, columns=columns_categorical, drop_first=True)"
   ]
  },
  {
   "cell_type": "code",
   "execution_count": 16,
   "id": "interesting-timer",
   "metadata": {},
   "outputs": [],
   "source": [
    "## M1\n",
    "features1 = ['weekday_b_name_Monday', 'weekday_b_name_Saturday',\n",
    "             'weekday_b_name_Sunday', 'weekday_b_name_Thursday',\n",
    "             'weekday_b_name_Tuesday', 'weekday_b_name_Wednesday',\n",
    "             'tod_Evening','tod_Midday', 'tod_Morning',\n",
    "             'Station_Name_BOULDER / N BOULDER REC 1',\n",
    "             'Station_Name_COMM VITALITY / 1000WALNUT',\n",
    "             'Station_Name_COMM VITALITY / 1104 SPRUCE1'] # dow + tod\n",
    "## M5\n",
    "features5_cat = ['weekday_b_name_Monday', 'weekday_b_name_Saturday',\n",
    "                 'weekday_b_name_Sunday', 'weekday_b_name_Thursday',\n",
    "                 'weekday_b_name_Tuesday', 'weekday_b_name_Wednesday',\n",
    "                 'tod_Evening','tod_Midday', 'tod_Morning',\n",
    "                 'Station_Name_BOULDER / N BOULDER REC 1',\n",
    "                 'Station_Name_COMM VITALITY / 1000WALNUT',\n",
    "                 'Station_Name_COMM VITALITY / 1104 SPRUCE1']\n",
    "features5_con = ['lag1', 'lag2', 'lag3','near_charge_time_4H', 'near_charge_energy_4H',\n",
    "                 'charge_time_4H', 'charge_energy_4H','service', 'entertainment', 'food', \n",
    "                 'childcare', 'medical', 'education','parking', 'waste-management'] # dow + agg. tod + lag + activ."
   ]
  },
  {
   "cell_type": "markdown",
   "id": "immune-watts",
   "metadata": {},
   "source": [
    "Test train split"
   ]
  },
  {
   "cell_type": "code",
   "execution_count": 17,
   "id": "alike-serbia",
   "metadata": {},
   "outputs": [],
   "source": [
    "split = 0.8"
   ]
  },
  {
   "cell_type": "markdown",
   "id": "positive-substance",
   "metadata": {},
   "source": [
    "## Quantile regression - Gradiant boosting"
   ]
  },
  {
   "cell_type": "markdown",
   "id": "encouraging-nicaragua",
   "metadata": {},
   "source": [
    "#### Get/split data"
   ]
  },
  {
   "cell_type": "code",
   "execution_count": 18,
   "id": "industrial-diary",
   "metadata": {},
   "outputs": [],
   "source": [
    "## Get X and y - M1\n",
    "df_stat = df_stat.sort_values(by=['datetime_start'])\n",
    "X = df_stat[features1]\n",
    "y = df_stat['life_time']\n",
    "\n",
    "## split data\n",
    "X_train1, X_test1 = np.split(X, [int(split * len(X))])\n",
    "y_train1, y_test1 = np.split(y, [int(split * len(X))])"
   ]
  },
  {
   "cell_type": "code",
   "execution_count": 19,
   "id": "institutional-brazil",
   "metadata": {},
   "outputs": [],
   "source": [
    "## Get X and y - M5\n",
    "X = df_stat[features5_cat+features5_con]\n",
    "y = df_stat['life_time']\n",
    "\n",
    "## split data\n",
    "X_train5, X_test5 = np.split(X, [int(split * len(X))])\n",
    "y_train5, y_test5 = np.split(y, [int(split * len(X))])\n",
    "\n",
    "## Standardize\n",
    "scaler = StandardScaler()\n",
    "X_train5[features5_con] = scaler.fit_transform(X_train5[features5_con])\n",
    "X_test5[features5_con] = scaler.transform(X_test5[features5_con])\n"
   ]
  },
  {
   "cell_type": "markdown",
   "id": "exposed-clear",
   "metadata": {},
   "source": [
    "#### Train Baseline"
   ]
  },
  {
   "cell_type": "code",
   "execution_count": 20,
   "id": "special-realtor",
   "metadata": {},
   "outputs": [],
   "source": [
    "quantile_labels = ['5th','25th','50th','75th','95th']\n",
    "qr_M1 = pd.DataFrame(columns=quantile_labels+['true'])\n",
    "qr_M1['true'] = y_test1"
   ]
  },
  {
   "cell_type": "markdown",
   "id": "illegal-wrist",
   "metadata": {},
   "source": [
    "Hyperparam taken from `210529-ML_4stat_singleStage_modelSelection`."
   ]
  },
  {
   "cell_type": "code",
   "execution_count": 21,
   "id": "knowing-tower",
   "metadata": {},
   "outputs": [],
   "source": [
    "quantiles = [0.05, 0.25, 0.5, 0.75, 0.95]\n",
    "for i in range(len(quantiles)):\n",
    "    reg = GradientBoostingRegressor(random_state=42, max_depth=2,\n",
    "                                        n_estimators=500, \n",
    "                                        learning_rate=0.5,\n",
    "                                        min_samples_split=2,\n",
    "                                        min_samples_leaf=3,\n",
    "                                        loss='quantile', alpha=quantiles[i])\n",
    "    reg.fit(X_train1,y_train1)\n",
    "    qr_M1[quantile_labels[i]] = reg.predict(X_test1)"
   ]
  },
  {
   "cell_type": "markdown",
   "id": "color-peoples",
   "metadata": {},
   "source": [
    "#### Train Full"
   ]
  },
  {
   "cell_type": "code",
   "execution_count": 22,
   "id": "collectible-timber",
   "metadata": {},
   "outputs": [],
   "source": [
    "quantile_labels = ['5th','25th','50th','75th','95th']\n",
    "\n",
    "qr_M5 = pd.DataFrame(columns=quantile_labels+['true'])\n",
    "qr_M5['true'] = y_test5"
   ]
  },
  {
   "cell_type": "code",
   "execution_count": 23,
   "id": "hearing-logistics",
   "metadata": {},
   "outputs": [],
   "source": [
    "for i in range(len(quantiles)):\n",
    "    reg = GradientBoostingRegressor(random_state=42, max_depth=3,\n",
    "                                        n_estimators=500, \n",
    "                                        learning_rate=0.01,\n",
    "                                        min_samples_split=5,\n",
    "                                        min_samples_leaf=5,\n",
    "                                        loss='quantile', alpha=quantiles[i])\n",
    "    reg.fit(X_train5,y_train5)\n",
    "    qr_M5[quantile_labels[i]] = reg.predict(X_test5)"
   ]
  },
  {
   "cell_type": "markdown",
   "id": "alone-fever",
   "metadata": {},
   "source": [
    "### Evaluate predictions"
   ]
  },
  {
   "cell_type": "code",
   "execution_count": 24,
   "id": "pregnant-dependence",
   "metadata": {},
   "outputs": [],
   "source": [
    "def ICP(q1, q2, true):\n",
    "    if (true >= q1) and (true <= q2):\n",
    "        return 1\n",
    "    else:\n",
    "        return 0"
   ]
  },
  {
   "cell_type": "code",
   "execution_count": 25,
   "id": "civilian-inspection",
   "metadata": {},
   "outputs": [],
   "source": [
    "#### 5%-95%\n",
    "## M1\n",
    "qr_M1['MIL5-95'] = qr_M1['95th']-qr_M1['5th']\n",
    "qr_M1 = qr_M1.reset_index()\n",
    "# Get ICP\n",
    "temp = []\n",
    "for i in range(len(y_test1)):\n",
    "    row = qr_M1.loc[i]\n",
    "    temp.append(ICP(row['5th'], row['95th'], row['true']))\n",
    "qr_M1['ICP5-95'] = temp\n",
    "\n",
    "## M5\n",
    "qr_M5['MIL5-95'] = qr_M5['95th']-qr_M5['5th']\n",
    "qr_M5 = qr_M5.reset_index()\n",
    "# Get ICP\n",
    "temp = []\n",
    "for i in range(len(y_test1)):\n",
    "    row = qr_M5.loc[i]\n",
    "    temp.append(ICP(row['5th'], row['95th'], row['true']))\n",
    "qr_M5['ICP5-95'] = temp\n",
    "\n",
    "\n",
    "#### 25%-75%\n",
    "## M1\n",
    "qr_M1['MIL25-75'] = qr_M1['75th']-qr_M1['25th']\n",
    "# Get ICP\n",
    "temp = []\n",
    "for i in range(len(y_test1)):\n",
    "    row = qr_M1.loc[i]\n",
    "    temp.append(ICP(row['25th'], row['75th'], row['true']))\n",
    "qr_M1['ICP25-75'] = temp\n",
    "\n",
    "## M5\n",
    "qr_M5['MIL25-75'] = qr_M5['75th']-qr_M5['25th']\n",
    "# Get ICP\n",
    "temp = []\n",
    "for i in range(len(y_test1)):\n",
    "    row = qr_M5.loc[i]\n",
    "    temp.append(ICP(row['25th'], row['75th'], row['true']))\n",
    "qr_M5['ICP25-75'] = temp\n"
   ]
  },
  {
   "cell_type": "code",
   "execution_count": 26,
   "id": "flush-enemy",
   "metadata": {},
   "outputs": [],
   "source": [
    "## merge the TOD to the dataframe\n",
    "qr_M1 = qr_M1.set_index('index')\n",
    "qr_M1 = qr_M1.merge(df[['tod','weekday_b_name','Station_Name']],left_index=True,right_index=True)\n",
    "qr_M5 = qr_M5.set_index('index')\n",
    "qr_M5 = qr_M5.merge(df[['tod','weekday_b_name','Station_Name']],left_index=True,right_index=True)"
   ]
  },
  {
   "cell_type": "code",
   "execution_count": 27,
   "id": "orange-winning",
   "metadata": {},
   "outputs": [
    {
     "name": "stdout",
     "output_type": "stream",
     "text": [
      "Baseline model\n",
      "Morning:\n",
      " MIL(5-95): 1197.0 ICP(5-95): 0.924   MIL(25-75): 293.0 ICP(25-75): 0.455\n",
      "Midday:\n",
      " MIL(5-95): 1289.0 ICP(5-95): 0.872   MIL(25-75): 375.0 ICP(25-75): 0.455\n",
      "Afternoon:\n",
      " MIL(5-95): 1416.0 ICP(5-95): 0.879   MIL(25-75): 889.0 ICP(25-75): 0.49\n",
      "Evening:\n",
      " MIL(5-95): 1102.0 ICP(5-95): 0.89   MIL(25-75): 298.0 ICP(25-75): 0.502\n"
     ]
    }
   ],
   "source": [
    "print(\"Baseline model\")\n",
    "for t in ['Morning', 'Midday', 'Afternoon', 'Evening']:\n",
    "    res = qr_M1[qr_M1['tod'] == t]\n",
    "    print(\"{}:\\n MIL(5-95): {} ICP(5-95): {}   MIL(25-75): {} ICP(25-75): {}\".format(t,round(np.mean(res['MIL5-95']),0),\n",
    "                                                  round(np.mean(res['ICP5-95']),3),\n",
    "                                                  round(np.mean(res['MIL25-75']),0),\n",
    "                                                  round(np.mean(res['ICP25-75']),3)))"
   ]
  },
  {
   "cell_type": "code",
   "execution_count": 28,
   "id": "dedicated-genealogy",
   "metadata": {},
   "outputs": [
    {
     "name": "stdout",
     "output_type": "stream",
     "text": [
      "Full model\n",
      "Morning:\n",
      " MIL(5-95): 1304.0 ICP(5-95): 0.894   MIL(25-75): 401.0 ICP(25-75): 0.508\n",
      "Midday:\n",
      " MIL(5-95): 1275.0 ICP(5-95): 0.864   MIL(25-75): 385.0 ICP(25-75): 0.443\n",
      "Afternoon:\n",
      " MIL(5-95): 1273.0 ICP(5-95): 0.855   MIL(25-75): 848.0 ICP(25-75): 0.434\n",
      "Evening:\n",
      " MIL(5-95): 1179.0 ICP(5-95): 0.902   MIL(25-75): 315.0 ICP(25-75): 0.533\n"
     ]
    }
   ],
   "source": [
    "print(\"Full model\")\n",
    "for t in ['Morning', 'Midday', 'Afternoon', 'Evening']:\n",
    "    res = qr_M5[qr_M5['tod'] == t]\n",
    "    print(\"{}:\\n MIL(5-95): {} ICP(5-95): {}   MIL(25-75): {} ICP(25-75): {}\".format(t,round(np.mean(res['MIL5-95']),0),\n",
    "                                                  round(np.mean(res['ICP5-95']),3),\n",
    "                                                  round(np.mean(res['MIL25-75']),0),\n",
    "                                                  round(np.mean(res['ICP25-75']),3)))"
   ]
  },
  {
   "cell_type": "code",
   "execution_count": 29,
   "id": "processed-nutrition",
   "metadata": {},
   "outputs": [
    {
     "name": "stdout",
     "output_type": "stream",
     "text": [
      "Base (5%-95%): MIL: 1266.32 ICP: 0.886\n",
      "Full (5%-95%): MIL: 1254.14 ICP: 0.875\n",
      "Base (25%-75%): MIL: 490.98 ICP: 0.477\n",
      "Full (25%-75%): MIL: 501.06 ICP: 0.472\n"
     ]
    }
   ],
   "source": [
    "print(\"Base (5%-95%): MIL: {} ICP: {}\".format(round(np.mean(qr_M1['MIL5-95']),2), \n",
    "                                            round(np.sum(qr_M1['ICP5-95'])/len(qr_M1),3)))\n",
    "print(\"Full (5%-95%): MIL: {} ICP: {}\".format(round(np.mean(qr_M5['MIL5-95']),2), \n",
    "                                            round(np.sum(qr_M5['ICP5-95'])/len(qr_M5),3)))\n",
    "\n",
    "print(\"Base (25%-75%): MIL: {} ICP: {}\".format(round(np.mean(qr_M1['MIL25-75']),2), \n",
    "                                            round(np.sum(qr_M1['ICP25-75'])/len(qr_M1),3)))\n",
    "print(\"Full (25%-75%): MIL: {} ICP: {}\".format(round(np.mean(qr_M5['MIL25-75']),2), \n",
    "                                            round(np.sum(qr_M5['ICP25-75'])/len(qr_M5),3)))\n"
   ]
  },
  {
   "cell_type": "markdown",
   "id": "iraqi-mongolia",
   "metadata": {},
   "source": [
    "Get regression metrics for the 50th percentile"
   ]
  },
  {
   "cell_type": "code",
   "execution_count": 30,
   "id": "nutritional-virginia",
   "metadata": {},
   "outputs": [],
   "source": [
    "results = {}"
   ]
  },
  {
   "cell_type": "code",
   "execution_count": 31,
   "id": "adopted-habitat",
   "metadata": {},
   "outputs": [],
   "source": [
    "MAE_test, RMSE_test, MSE_test, MAPE_test, NRMSE_test = test_model(qr_M1['true'],qr_M1['50th'])\n",
    "results['M1'] = {'RMSE_test':RMSE_test,'MAE_test':MAE_test,\n",
    "                      'rsq_test':r2_score(qr_M1['true'],qr_M1['50th']),\n",
    "                      'MAPE_test':MAPE_test,'NRMSE_test':NRMSE_test}\n",
    "MAE_test, RMSE_test, MSE_test, MAPE_test, NRMSE_test = test_model(qr_M5['true'],qr_M5['50th'])\n",
    "results['M5'] = {'RMSE_test':RMSE_test,'MAE_test':MAE_test,\n",
    "                      'rsq_test':r2_score(qr_M5['true'],qr_M5['50th']),\n",
    "                      'MAPE_test':MAPE_test,'NRMSE_test':NRMSE_test}"
   ]
  },
  {
   "cell_type": "code",
   "execution_count": 32,
   "id": "friendly-ceramic",
   "metadata": {},
   "outputs": [
    {
     "data": {
      "text/plain": [
       "{'M1': {'RMSE_test': 444.9267736319361,\n",
       "  'MAE_test': 285.43539466155914,\n",
       "  'rsq_test': 0.1329035784058682,\n",
       "  'MAPE_test': 1165.7692972582258,\n",
       "  'NRMSE_test': 0.9635878148494774},\n",
       " 'M5': {'RMSE_test': 451.1913249985513,\n",
       "  'MAE_test': 286.58090433277465,\n",
       "  'rsq_test': 0.1083143140194136,\n",
       "  'MAPE_test': 1070.2236625354722,\n",
       "  'NRMSE_test': 0.9771550931525869}}"
      ]
     },
     "execution_count": 32,
     "metadata": {},
     "output_type": "execute_result"
    }
   ],
   "source": [
    "results"
   ]
  },
  {
   "cell_type": "markdown",
   "id": "czech-automation",
   "metadata": {},
   "source": [
    "### Visualizations"
   ]
  },
  {
   "cell_type": "markdown",
   "id": "beginning-horror",
   "metadata": {},
   "source": [
    "Baseline"
   ]
  },
  {
   "cell_type": "code",
   "execution_count": 33,
   "id": "backed-prerequisite",
   "metadata": {},
   "outputs": [],
   "source": [
    "tods = ['Morning', 'Midday', 'Afternoon', 'Evening']#, 'Night'] \n",
    "\n",
    "## Get mean and standard deviation of each quantile and TOD combination\n",
    "results_mean = pd.DataFrame(columns=quantile_labels, index=tods)\n",
    "results_std = pd.DataFrame(columns=quantile_labels, index=tods)\n",
    "for t in tods:\n",
    "    temp = qr_M1[qr_M1['tod'] == t]\n",
    "    for q in quantile_labels:\n",
    "        temp2 = temp[q]\n",
    "        results_mean.loc[t][q] = np.mean(temp2.values)\n",
    "        results_std.loc[t][q] = np.std(temp2.values)"
   ]
  },
  {
   "cell_type": "code",
   "execution_count": 34,
   "id": "superior-electricity",
   "metadata": {},
   "outputs": [
    {
     "data": {
      "image/png": "[encoded data removed]",
      "text/plain": [
       "<Figure size 432x288 with 1 Axes>"
      ]
     },
     "metadata": {
      "needs_background": "light"
     },
     "output_type": "display_data"
    }
   ],
   "source": [
    "colors = ['red','blue','black','orange','green']\n",
    "quantile_labels2 = ['5%','25%','50%','75%','95%']\n",
    "\n",
    "for i in range(len(quantile_labels)):\n",
    "    q = quantile_labels[i] # get the quantile label\n",
    "   # t = tods['i'] # get the tod label\n",
    "    lower = list((results_mean[q] - results_std[q]*2))\n",
    "    upper = list((results_mean[q] + results_std[q]*2))\n",
    "    plt.fill_between(x=tods, y1=lower, y2=upper, alpha=0.2, color=colors[i])\n",
    "    plt.plot(results_mean[q], color=colors[i], label=quantile_labels2[i])\n",
    "    \n",
    "plt.legend(bbox_to_anchor=(1.04,1.03), loc=\"upper left\")\n",
    "plt.ylabel(\"Idle time (minutes)\")\n",
    "plt.show()"
   ]
  },
  {
   "cell_type": "markdown",
   "id": "large-victoria",
   "metadata": {},
   "source": [
    "Full"
   ]
  },
  {
   "cell_type": "code",
   "execution_count": 35,
   "id": "acting-floating",
   "metadata": {},
   "outputs": [],
   "source": [
    "tods = ['Morning', 'Midday', 'Afternoon', 'Evening']#, 'Night'] \n",
    "\n",
    "## Get mean and standard deviation of each quantile and TOD combination\n",
    "results_mean = pd.DataFrame(columns=quantile_labels, index=tods)\n",
    "results_std = pd.DataFrame(columns=quantile_labels, index=tods)\n",
    "for t in tods:\n",
    "    temp = qr_M5[qr_M5['tod'] == t]\n",
    "    for q in quantile_labels:\n",
    "        temp2 = temp[q]\n",
    "        results_mean.loc[t][q] = np.mean(temp2.values)\n",
    "        results_std.loc[t][q] = np.std(temp2.values)"
   ]
  },
  {
   "cell_type": "code",
   "execution_count": 36,
   "id": "colonial-death",
   "metadata": {},
   "outputs": [
    {
     "data": {
      "image/png": "[encoded data removed]",
      "text/plain": [
       "<Figure size 432x288 with 1 Axes>"
      ]
     },
     "metadata": {
      "needs_background": "light"
     },
     "output_type": "display_data"
    }
   ],
   "source": [
    "colors = ['red','blue','black','orange','green']\n",
    "\n",
    "for i in range(len(quantile_labels)):\n",
    "    q = quantile_labels[i] # get the quantile label\n",
    "   # t = tods['i'] # get the tod label\n",
    "    lower = list((results_mean[q] - results_std[q]*2))\n",
    "    upper = list((results_mean[q] + results_std[q]*2))\n",
    "    plt.fill_between(x=tods, y1=lower, y2=upper, alpha=0.2, color=colors[i])\n",
    "    plt.plot(results_mean[q], color=colors[i], label=quantile_labels2[i])\n",
    "    \n",
    "plt.legend(bbox_to_anchor=(1.04,1.03), loc=\"upper left\")\n",
    "plt.ylabel(\"Idle time (minutes)\")\n",
    "plt.show()"
   ]
  },
  {
   "cell_type": "code",
   "execution_count": 37,
   "id": "raising-recognition",
   "metadata": {},
   "outputs": [],
   "source": [
    "import matplotlib.ticker as ticker\n",
    "tick_spacing=250"
   ]
  },
  {
   "cell_type": "code",
   "execution_count": 38,
   "id": "freelance-omaha",
   "metadata": {},
   "outputs": [
    {
     "data": {
      "image/png": "[encoded data removed]",
      "text/plain": [
       "<Figure size 720x432 with 4 Axes>"
      ]
     },
     "metadata": {
      "needs_background": "light"
     },
     "output_type": "display_data"
    }
   ],
   "source": [
    "tods = ['Morning','Midday','Afternoon','Evening']\n",
    "stat_names = ['N BOULDER', '1000 WALNUT', '1104 SPRUCE', 'BASELINE']\n",
    "\n",
    "fig, axs = plt.subplots(2,2, figsize=(10,6), sharex=True, sharey=True)\n",
    "m = 0\n",
    "n = 0\n",
    "\n",
    "for i in range(len(station_subset)):\n",
    "    stat = station_subset[i]\n",
    "    temp = qr_M5[qr_M5['Station_Name'] == stat]\n",
    "    \n",
    "    ## Get mean and standard deviation of each quantile and TOD combination\n",
    "    results_mean = pd.DataFrame(columns=quantile_labels, index=tods)\n",
    "    results_std = pd.DataFrame(columns=quantile_labels, index=tods)\n",
    "    for t in tods:\n",
    "        temp2 = temp[temp['tod'] == t]\n",
    "        for q in quantile_labels:\n",
    "            temp3 = temp2[q]\n",
    "            results_mean.loc[t][q] = np.mean(temp3.values)\n",
    "            results_std.loc[t][q] = np.std(temp3.values)\n",
    "            \n",
    "    colors = ['red','blue','black','orange','green']\n",
    "\n",
    "    for j in range(len(quantile_labels)):\n",
    "        q = quantile_labels[j] # get the quantile label\n",
    "        lower = list((results_mean[q] - results_std[q]*2))\n",
    "        upper = list((results_mean[q] + results_std[q]*2))\n",
    "        axs[m,n].fill_between(x=tods, y1=lower, y2=upper, alpha=0.2, color=colors[j])\n",
    "        axs[m,n].plot(results_mean[q], color=colors[j], label=quantile_labels2[j])\n",
    "        axs[m,n].set_title(stat_names[i])\n",
    "        axs[m,n].grid()\n",
    "        axs[m,n].yaxis.set_major_locator(ticker.MultipleLocator(tick_spacing))\n",
    "                              \n",
    "    n += 1\n",
    "    if n == 2:\n",
    "        n = 0\n",
    "        m = 1\n",
    "\n",
    "handles, labels = axs[1,1].get_legend_handles_labels()\n",
    "fig.legend(handles, labels, bbox_to_anchor=(1.07,0.50), loc='center right')\n",
    "axs[0,0].set_ylabel(\"Idle time (minutes)\")\n",
    "axs[1,0].set_ylabel(\"Idle time (minutes)\")\n",
    "plt.tight_layout()\n",
    "plt.savefig('../visualization/QR_TOD_stat.pdf',bbox_inches='tight')\n",
    "plt.show()"
   ]
  },
  {
   "cell_type": "markdown",
   "id": "bright-aberdeen",
   "metadata": {},
   "source": [
    "### See most important features"
   ]
  },
  {
   "cell_type": "code",
   "execution_count": 39,
   "id": "extended-effectiveness",
   "metadata": {},
   "outputs": [],
   "source": [
    "q1 = 0.05\n",
    "q2 = 0.25\n",
    "q3 = 0.50\n",
    "q4 = 0.75\n",
    "q5 = 0.95\n",
    "reg1 = GradientBoostingRegressor(random_state=42, max_depth=3,\n",
    "                                    n_estimators=500, \n",
    "                                    learning_rate=0.01,\n",
    "                                    min_samples_split=5,\n",
    "                                    min_samples_leaf=5,\n",
    "                                    loss='quantile', alpha=q1)\n",
    "reg1.fit(X_train5,y_train5)\n",
    "important1 = reg1.feature_importances_\n",
    "\n",
    "reg2 = GradientBoostingRegressor(random_state=42, max_depth=3,\n",
    "                                    n_estimators=500, \n",
    "                                    learning_rate=0.01,\n",
    "                                    min_samples_split=5,\n",
    "                                    min_samples_leaf=5,\n",
    "                                    loss='quantile', alpha=q2)\n",
    "reg2.fit(X_train5,y_train5)\n",
    "important2 = reg2.feature_importances_\n",
    "\n",
    "reg3 = GradientBoostingRegressor(random_state=42, max_depth=3,\n",
    "                                    n_estimators=500, \n",
    "                                    learning_rate=0.01,\n",
    "                                    min_samples_split=5,\n",
    "                                    min_samples_leaf=5,\n",
    "                                    loss='quantile', alpha=q3)\n",
    "reg3.fit(X_train5,y_train5)\n",
    "important3 = reg3.feature_importances_\n",
    "\n",
    "reg4 = GradientBoostingRegressor(random_state=42, max_depth=3,\n",
    "                                    n_estimators=500, \n",
    "                                    learning_rate=0.01,\n",
    "                                    min_samples_split=5,\n",
    "                                    min_samples_leaf=5,\n",
    "                                    loss='quantile', alpha=q4)\n",
    "reg4.fit(X_train5,y_train5)\n",
    "important4 = reg4.feature_importances_\n",
    "\n",
    "reg5 = GradientBoostingRegressor(random_state=42, max_depth=3,\n",
    "                                    n_estimators=500, \n",
    "                                    learning_rate=0.01,\n",
    "                                    min_samples_split=5,\n",
    "                                    min_samples_leaf=5,\n",
    "                                    loss='quantile', alpha=q5)\n",
    "reg5.fit(X_train5,y_train5)\n",
    "important5 = reg5.feature_importances_\n",
    "cols = X_train5.columns"
   ]
  },
  {
   "cell_type": "markdown",
   "id": "seventh-season",
   "metadata": {},
   "source": [
    "The importance of different features for the 25% quantile and the 95% quantile."
   ]
  },
  {
   "cell_type": "code",
   "execution_count": 40,
   "id": "allied-belfast",
   "metadata": {},
   "outputs": [],
   "source": [
    "imp1 = pd.DataFrame(columns=['fea','importance'])\n",
    "imp1['fea'] = cols\n",
    "imp1['importance'] = important1\n",
    "imp1 = imp1.sort_values(by=['importance'], ascending=False)\n",
    "\n",
    "imp2 = pd.DataFrame(columns=['fea','importance'])\n",
    "imp2['fea'] = cols\n",
    "imp2['importance'] = important2\n",
    "imp2 = imp2.sort_values(by=['importance'],ascending=False)\n",
    "\n",
    "imp3 = pd.DataFrame(columns=['fea','importance'])\n",
    "imp3['fea'] = cols\n",
    "imp3['importance'] = important3\n",
    "imp3 = imp3.sort_values(by=['importance'],ascending=False)\n",
    "\n",
    "imp4 = pd.DataFrame(columns=['fea','importance'])\n",
    "imp4['fea'] = cols\n",
    "imp4['importance'] = important4\n",
    "imp4 = imp4.sort_values(by=['importance'],ascending=False)\n",
    "\n",
    "imp5 = pd.DataFrame(columns=['fea','importance'])\n",
    "imp5['fea'] = cols\n",
    "imp5['importance'] = important5\n",
    "imp5 = imp5.sort_values(by=['importance'],ascending=False)"
   ]
  },
  {
   "cell_type": "code",
   "execution_count": 41,
   "id": "pregnant-scout",
   "metadata": {},
   "outputs": [
    {
     "name": "stdout",
     "output_type": "stream",
     "text": [
      "5th quantile\n",
      "                      fea  importance\n",
      "17         charge_time_4H    0.505800\n",
      "13                   lag2    0.114747\n",
      "7              tod_Midday    0.105075\n",
      "14                   lag3    0.083704\n",
      "18       charge_energy_4H    0.081019\n",
      "12                   lag1    0.027428\n",
      "16  near_charge_energy_4H    0.019532\n",
      "\n",
      "25th quantile\n",
      "                 fea  importance\n",
      "6        tod_Evening    0.543888\n",
      "13              lag2    0.075313\n",
      "14              lag3    0.066248\n",
      "17    charge_time_4H    0.061278\n",
      "18  charge_energy_4H    0.046447\n",
      "23           medical    0.036909\n",
      "26  waste-management    0.024170\n",
      "\n",
      "50th quantile\n",
      "                 fea  importance\n",
      "6        tod_Evening    0.752927\n",
      "14              lag3    0.031783\n",
      "13              lag2    0.022727\n",
      "17    charge_time_4H    0.022214\n",
      "23           medical    0.021681\n",
      "26  waste-management    0.016641\n",
      "12              lag1    0.016596\n",
      "\n",
      "75th quantile\n",
      "               fea  importance\n",
      "7       tod_Midday    0.231280\n",
      "8      tod_Morning    0.212795\n",
      "13            lag2    0.088787\n",
      "17  charge_time_4H    0.058859\n",
      "23         medical    0.056381\n",
      "12            lag1    0.046617\n",
      "14            lag3    0.039981\n",
      "\n",
      "95th quantile\n",
      "                      fea  importance\n",
      "16  near_charge_energy_4H    0.205270\n",
      "12                   lag1    0.108548\n",
      "13                   lag2    0.107734\n",
      "14                   lag3    0.105295\n",
      "18       charge_energy_4H    0.081004\n",
      "23                medical    0.056247\n",
      "15    near_charge_time_4H    0.052582\n"
     ]
    }
   ],
   "source": [
    "print(\"5th quantile\")\n",
    "print(imp1.head(7))\n",
    "print(\"\\n25th quantile\")\n",
    "print(imp2.head(7))\n",
    "print(\"\\n50th quantile\")\n",
    "print(imp3.head(7))\n",
    "print(\"\\n75th quantile\")\n",
    "print(imp4.head(7))\n",
    "print(\"\\n95th quantile\")\n",
    "print(imp5.head(7))"
   ]
  },
  {
   "cell_type": "code",
   "execution_count": null,
   "id": "boring-executive",
   "metadata": {},
   "outputs": [],
   "source": []
  },
  {
   "cell_type": "code",
   "execution_count": null,
   "id": "saved-farmer",
   "metadata": {},
   "outputs": [],
   "source": []
  },
  {
   "cell_type": "code",
   "execution_count": null,
   "id": "impressive-society",
   "metadata": {},
   "outputs": [],
   "source": []
  },
  {
   "cell_type": "code",
   "execution_count": null,
   "id": "advised-security",
   "metadata": {},
   "outputs": [],
   "source": []
  },
  {
   "cell_type": "code",
   "execution_count": null,
   "id": "mental-relations",
   "metadata": {},
   "outputs": [],
   "source": []
  }
 ],
 "metadata": {
  "kernelspec": {
   "display_name": "Python 3",
   "language": "python",
   "name": "python3"
  },
  "language_info": {
   "codemirror_mode": {
    "name": "ipython",
    "version": 3
   },
   "file_extension": ".py",
   "mimetype": "text/x-python",
   "name": "python",
   "nbconvert_exporter": "python",
   "pygments_lexer": "ipython3",
   "version": "3.7.3"
  }
 },
 "nbformat": 4,
 "nbformat_minor": 5
}
