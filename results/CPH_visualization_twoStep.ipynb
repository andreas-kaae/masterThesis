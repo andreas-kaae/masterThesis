{
 "cells": [
  {
   "cell_type": "code",
   "execution_count": 429,
   "id": "african-pocket",
   "metadata": {},
   "outputs": [],
   "source": [
    "import pandas as pd\n",
    "import numpy as np \n",
    "import pickle5\n",
    "import matplotlib.pyplot as plt\n",
    "import datetime\n",
    "from pysurvival.models.semi_parametric import CoxPHModel\n",
    "from pysurvival.utils.display import display_loss_values\n",
    "from sklearn.preprocessing import StandardScaler\n",
    "from pysurvival.utils.display import compare_to_actual\n",
    "from pysurvival.utils import save_model, load_model\n",
    "from pysurvival.utils.sklearn_adapter import sklearn_adapter\n",
    "from sklearn.model_selection import GridSearchCV, KFold\n",
    "from sklearn.model_selection import cross_val_score, cross_val_predict\n",
    "from sklearn.metrics import mean_squared_error\n",
    "from sklearn.metrics import auc, r2_score"
   ]
  },
  {
   "cell_type": "code",
   "execution_count": 430,
   "id": "lightweight-broadcasting",
   "metadata": {},
   "outputs": [],
   "source": [
    "import warnings\n",
    "warnings.filterwarnings(\"ignore\")"
   ]
  },
  {
   "cell_type": "code",
   "execution_count": 431,
   "id": "prescribed-method",
   "metadata": {},
   "outputs": [
    {
     "data": {
      "text/html": [
       "<div>\n",
       "<style scoped>\n",
       "    .dataframe tbody tr th:only-of-type {\n",
       "        vertical-align: middle;\n",
       "    }\n",
       "\n",
       "    .dataframe tbody tr th {\n",
       "        vertical-align: top;\n",
       "    }\n",
       "\n",
       "    .dataframe thead th {\n",
       "        text-align: right;\n",
       "    }\n",
       "</style>\n",
       "<table border=\"1\" class=\"dataframe\">\n",
       "  <thead>\n",
       "    <tr style=\"text-align: right;\">\n",
       "      <th></th>\n",
       "      <th>life_time</th>\n",
       "      <th>datetime_start</th>\n",
       "      <th>datetime_end</th>\n",
       "      <th>latitude</th>\n",
       "      <th>longitude</th>\n",
       "      <th>distance_center_km</th>\n",
       "      <th>weekday_b</th>\n",
       "      <th>charging_ports</th>\n",
       "      <th>lag1</th>\n",
       "      <th>lag2</th>\n",
       "      <th>...</th>\n",
       "      <th>hour_b_22</th>\n",
       "      <th>hour_b_23</th>\n",
       "      <th>Station_Name_BOULDER / N BOULDER REC 1</th>\n",
       "      <th>Station_Name_COMM VITALITY / 1000WALNUT</th>\n",
       "      <th>Station_Name_COMM VITALITY / 1104 SPRUCE1</th>\n",
       "      <th>4Hsplit</th>\n",
       "      <th>y_pred</th>\n",
       "      <th>Station_Name</th>\n",
       "      <th>weekday_b_name</th>\n",
       "      <th>tod</th>\n",
       "    </tr>\n",
       "  </thead>\n",
       "  <tbody>\n",
       "    <tr>\n",
       "      <th>3734</th>\n",
       "      <td>118.5</td>\n",
       "      <td>2018-01-05 14:25:00</td>\n",
       "      <td>2018-01-05 16:23:30</td>\n",
       "      <td>40.000148</td>\n",
       "      <td>-105.282437</td>\n",
       "      <td>2.096847</td>\n",
       "      <td>4</td>\n",
       "      <td>2</td>\n",
       "      <td>1271.5</td>\n",
       "      <td>135.5</td>\n",
       "      <td>...</td>\n",
       "      <td>0</td>\n",
       "      <td>0</td>\n",
       "      <td>0</td>\n",
       "      <td>0</td>\n",
       "      <td>0</td>\n",
       "      <td>0</td>\n",
       "      <td>1</td>\n",
       "      <td>BOULDER / BASELINE ST1</td>\n",
       "      <td>Friday</td>\n",
       "      <td>Midday</td>\n",
       "    </tr>\n",
       "    <tr>\n",
       "      <th>3735</th>\n",
       "      <td>886.5</td>\n",
       "      <td>2018-01-05 17:02:00</td>\n",
       "      <td>2018-01-06 07:48:30</td>\n",
       "      <td>40.000148</td>\n",
       "      <td>-105.282437</td>\n",
       "      <td>2.096847</td>\n",
       "      <td>4</td>\n",
       "      <td>2</td>\n",
       "      <td>118.5</td>\n",
       "      <td>1271.5</td>\n",
       "      <td>...</td>\n",
       "      <td>0</td>\n",
       "      <td>0</td>\n",
       "      <td>0</td>\n",
       "      <td>0</td>\n",
       "      <td>0</td>\n",
       "      <td>1</td>\n",
       "      <td>1</td>\n",
       "      <td>BOULDER / BASELINE ST1</td>\n",
       "      <td>Friday</td>\n",
       "      <td>Afternoon</td>\n",
       "    </tr>\n",
       "    <tr>\n",
       "      <th>3736</th>\n",
       "      <td>326.5</td>\n",
       "      <td>2018-01-06 09:28:00</td>\n",
       "      <td>2018-01-06 14:54:30</td>\n",
       "      <td>40.000148</td>\n",
       "      <td>-105.282437</td>\n",
       "      <td>2.096847</td>\n",
       "      <td>5</td>\n",
       "      <td>2</td>\n",
       "      <td>886.5</td>\n",
       "      <td>118.5</td>\n",
       "      <td>...</td>\n",
       "      <td>0</td>\n",
       "      <td>0</td>\n",
       "      <td>0</td>\n",
       "      <td>0</td>\n",
       "      <td>0</td>\n",
       "      <td>1</td>\n",
       "      <td>0</td>\n",
       "      <td>BOULDER / BASELINE ST1</td>\n",
       "      <td>Saturday</td>\n",
       "      <td>Morning</td>\n",
       "    </tr>\n",
       "  </tbody>\n",
       "</table>\n",
       "<p>3 rows × 102 columns</p>\n",
       "</div>"
      ],
      "text/plain": [
       "      life_time      datetime_start        datetime_end   latitude  \\\n",
       "3734      118.5 2018-01-05 14:25:00 2018-01-05 16:23:30  40.000148   \n",
       "3735      886.5 2018-01-05 17:02:00 2018-01-06 07:48:30  40.000148   \n",
       "3736      326.5 2018-01-06 09:28:00 2018-01-06 14:54:30  40.000148   \n",
       "\n",
       "       longitude  distance_center_km  weekday_b  charging_ports    lag1  \\\n",
       "3734 -105.282437            2.096847          4               2  1271.5   \n",
       "3735 -105.282437            2.096847          4               2   118.5   \n",
       "3736 -105.282437            2.096847          5               2   886.5   \n",
       "\n",
       "        lag2  ...  hour_b_22  hour_b_23  \\\n",
       "3734   135.5  ...          0          0   \n",
       "3735  1271.5  ...          0          0   \n",
       "3736   118.5  ...          0          0   \n",
       "\n",
       "      Station_Name_BOULDER / N BOULDER REC 1  \\\n",
       "3734                                       0   \n",
       "3735                                       0   \n",
       "3736                                       0   \n",
       "\n",
       "      Station_Name_COMM VITALITY / 1000WALNUT  \\\n",
       "3734                                        0   \n",
       "3735                                        0   \n",
       "3736                                        0   \n",
       "\n",
       "      Station_Name_COMM VITALITY / 1104 SPRUCE1  4Hsplit  y_pred  \\\n",
       "3734                                          0        0       1   \n",
       "3735                                          0        1       1   \n",
       "3736                                          0        1       0   \n",
       "\n",
       "                Station_Name  weekday_b_name        tod  \n",
       "3734  BOULDER / BASELINE ST1          Friday     Midday  \n",
       "3735  BOULDER / BASELINE ST1          Friday  Afternoon  \n",
       "3736  BOULDER / BASELINE ST1        Saturday    Morning  \n",
       "\n",
       "[3 rows x 102 columns]"
      ]
     },
     "execution_count": 431,
     "metadata": {},
     "output_type": "execute_result"
    }
   ],
   "source": [
    "with open(\"../data/ut_V6_classification-4H.pkl\", \"rb\") as fh:\n",
    "    df = pickle5.load(fh)\n",
    "    \n",
    "df.head(3)"
   ]
  },
  {
   "cell_type": "code",
   "execution_count": 432,
   "id": "received-confusion",
   "metadata": {},
   "outputs": [],
   "source": [
    "df = df.reset_index(drop=True)"
   ]
  },
  {
   "cell_type": "code",
   "execution_count": 434,
   "id": "neutral-freight",
   "metadata": {},
   "outputs": [
    {
     "data": {
      "text/plain": [
       "(5110, 102)"
      ]
     },
     "execution_count": 434,
     "metadata": {},
     "output_type": "execute_result"
    }
   ],
   "source": [
    "df.shape"
   ]
  },
  {
   "cell_type": "markdown",
   "id": "scenic-mills",
   "metadata": {},
   "source": [
    "## Modeling features"
   ]
  },
  {
   "cell_type": "markdown",
   "id": "comfortable-willow",
   "metadata": {},
   "source": [
    "To make coding easier the names of the models are changed:\n",
    "- M1: Baseline\n",
    "- M5: Full"
   ]
  },
  {
   "cell_type": "code",
   "execution_count": 435,
   "id": "dressed-vegetation",
   "metadata": {},
   "outputs": [],
   "source": [
    "time_column = 'life_time'\n",
    "event_column = 'event'\n",
    "\n",
    "## M1\n",
    "features1 = ['weekday_b_name_Monday', 'weekday_b_name_Saturday',\n",
    "             'weekday_b_name_Sunday', 'weekday_b_name_Thursday',\n",
    "             'weekday_b_name_Tuesday', 'weekday_b_name_Wednesday',\n",
    "             'tod_Evening','tod_Midday', 'tod_Morning',\n",
    "             'Station_Name_BOULDER / N BOULDER REC 1',\n",
    "             'Station_Name_COMM VITALITY / 1000WALNUT',\n",
    "             'Station_Name_COMM VITALITY / 1104 SPRUCE1'] # dow + tod\n",
    "\n",
    "## M5\n",
    "features5_cat = ['weekday_b_name_Monday', 'weekday_b_name_Saturday',\n",
    "                 'weekday_b_name_Sunday', 'weekday_b_name_Thursday',\n",
    "                 'weekday_b_name_Tuesday', 'weekday_b_name_Wednesday',\n",
    "                 'tod_Evening','tod_Midday', 'tod_Morning',\n",
    "                 'Station_Name_BOULDER / N BOULDER REC 1',\n",
    "                 'Station_Name_COMM VITALITY / 1000WALNUT',\n",
    "                 'Station_Name_COMM VITALITY / 1104 SPRUCE1']\n",
    "features5_con = ['lag1', 'lag2', 'lag3','near_charge_time_4H', 'near_charge_energy_4H',\n",
    "                 'charge_time_4H', 'charge_energy_4H','service', 'entertainment', 'food', \n",
    "                 'childcare', 'medical', 'education', 'waste-management'] # dow + agg. tod + lag + activ."
   ]
  },
  {
   "cell_type": "markdown",
   "id": "focal-utility",
   "metadata": {},
   "source": [
    "### Split data"
   ]
  },
  {
   "cell_type": "code",
   "execution_count": 485,
   "id": "satisfied-lease",
   "metadata": {},
   "outputs": [
    {
     "name": "stdout",
     "output_type": "stream",
     "text": [
      "Training shape: (4088, 103)\n",
      "Testing shape: (1022, 103)\n",
      "SHORT: Train: 2433 Test: 629\n",
      "LONG: Train: 1655 Test: 393\n"
     ]
    }
   ],
   "source": [
    "df = df\n",
    "\n",
    "split = 0.8\n",
    "\n",
    "df['event'] = np.ones(len(df))\n",
    "\n",
    "train, test = np.split(df, [int(split * len(df))])\n",
    "print(\"Training shape:\",train.shape)\n",
    "print(\"Testing shape:\", test.shape)\n",
    "\n",
    "trainS = train[train['y_pred'] == 0]\n",
    "trainL = train[train['y_pred'] == 1]\n",
    "\n",
    "testS = test[test['y_pred'] == 0]\n",
    "testL = test[test['y_pred'] == 1]\n",
    "\n",
    "print(\"SHORT: Train: {} Test: {}\".format(trainS.shape[0], testS.shape[0]))\n",
    "print(\"LONG: Train: {} Test: {}\".format(trainL.shape[0], testL.shape[0]))"
   ]
  },
  {
   "cell_type": "code",
   "execution_count": 486,
   "id": "particular-terminology",
   "metadata": {},
   "outputs": [],
   "source": [
    "## Get X\n",
    "# Full\n",
    "X5_S = trainS[features5_cat+features5_con]\n",
    "scaler = StandardScaler()\n",
    "X5_S[features5_con] = scaler.fit_transform(X5_S[features5_con])\n",
    "X5_S_test = testS[features5_cat+features5_con]\n",
    "X5_S_test[features5_con] = scaler.transform(X5_S_test[features5_con])\n",
    "\n",
    "X5_L = trainL[features5_cat+features5_con]\n",
    "scaler = StandardScaler()\n",
    "X5_L[features5_con] = scaler.fit_transform(X5_L[features5_con])\n",
    "X5_L_test = testL[features5_cat+features5_con]\n",
    "X5_L_test[features5_con] = scaler.transform(X5_L_test[features5_con])\n",
    "\n",
    "## Get E -train\n",
    "E_S = trainS[event_column]\n",
    "E_L = trainL[event_column]\n",
    "\n",
    "## Get T - train\n",
    "T_S = trainS['life_time']\n",
    "T_L = trainL['life_time']\n",
    "\n",
    "## Get E - test\n",
    "E_S_test = testS[event_column]\n",
    "E_L_test = testL[event_column]\n",
    "\n",
    "## Get T - test\n",
    "T_S_test = testS['life_time']\n",
    "T_L_test = testL['life_time']"
   ]
  },
  {
   "cell_type": "markdown",
   "id": "earlier-hamburg",
   "metadata": {},
   "source": [
    "### Parameters"
   ]
  },
  {
   "cell_type": "code",
   "execution_count": 438,
   "id": "moderate-combat",
   "metadata": {},
   "outputs": [],
   "source": [
    "## Specify hyper params\n",
    "lr_s5 = 0.01\n",
    "l2_reg_s5 = 0.01\n",
    "lr_l5 = 0.1\n",
    "l2_reg_l5 = 0.1"
   ]
  },
  {
   "cell_type": "markdown",
   "id": "bored-stadium",
   "metadata": {},
   "source": [
    "## Modeling"
   ]
  },
  {
   "cell_type": "markdown",
   "id": "stock-remains",
   "metadata": {},
   "source": [
    "#### CPH - Full"
   ]
  },
  {
   "cell_type": "code",
   "execution_count": 504,
   "id": "arabic-tribe",
   "metadata": {},
   "outputs": [],
   "source": [
    "## Get X - train\n",
    "# Full\n",
    "X5_S = trainS[features5_cat+features5_con]\n",
    "scaler = StandardScaler()\n",
    "X5_S[features5_con] = scaler.fit_transform(X5_S[features5_con])\n",
    "X5_L = trainL[features5_cat+features5_con]\n",
    "scaler = StandardScaler()\n",
    "X5_L[features5_con] = scaler.fit_transform(X5_L[features5_con])\n",
    "\n",
    "## Get E -train\n",
    "E_S = trainS[event_column]\n",
    "E_L = trainL[event_column]\n",
    "\n",
    "## Get T - train\n",
    "T_S = trainS['life_time']\n",
    "T_L = trainL['life_time']\n",
    "\n",
    "## Get X - test\n",
    "# Full\n",
    "X5_S_test = testS[features5_cat+features5_con]\n",
    "scaler = StandardScaler()\n",
    "X5_S_test[features5_con] = scaler.fit_transform(X5_S_test[features5_con])\n",
    "X5_L_test = testL[features5_cat+features5_con]\n",
    "scaler = StandardScaler()\n",
    "X5_L_test[features5_con] = scaler.fit_transform(X5_L_test[features5_con])\n",
    "\n",
    "## Get E -train\n",
    "E_S_test = testS[event_column]\n",
    "E_L_test = testL[event_column]\n",
    "\n",
    "## Get T - train\n",
    "T_S_test = testS['life_time']\n",
    "T_L_test = testL['life_time']"
   ]
  },
  {
   "cell_type": "code",
   "execution_count": 505,
   "id": "continent-chemistry",
   "metadata": {},
   "outputs": [],
   "source": [
    "#########################################################\n",
    "####################  SURV RESULTS  #####################\n",
    "\n",
    "####################### short #######################\n",
    "regS = CoxPHModel()\n",
    "regS.fit(X5_S, T_S, E_S, lr=lr_s5, l2_reg = l2_reg_s5, \n",
    "        init_method='zeros', max_iter=800, verbose=False)\n",
    "\n",
    "survS = regS.predict_survival(X5_S_test[features5_cat+features5_con])\n",
    "####################### long #######################\n",
    "regL = CoxPHModel()\n",
    "regL.fit(X5_L, T_L, E_L, lr=lr_l5, l2_reg = l2_reg_l5, \n",
    "        init_method='zeros', max_iter=800, verbose=False)\n",
    "\n",
    "survL = regL.predict_survival(X5_L_test[features5_cat+features5_con])"
   ]
  },
  {
   "cell_type": "code",
   "execution_count": 508,
   "id": "lesser-transcript",
   "metadata": {},
   "outputs": [],
   "source": [
    "new_col = ['tod','weekday_b_name','Station_Name'] \n",
    "X5_S_test = X5_S_test.merge(df_orig[new_col], left_index=True, right_index=True)\n",
    "X5_S_test = X5_S_test.reset_index()\n",
    "X5_L_test = X5_L_test.merge(df_orig[new_col], left_index=True, right_index=True)\n",
    "X5_L_test = X5_L_test.reset_index()"
   ]
  },
  {
   "cell_type": "code",
   "execution_count": 515,
   "id": "biological-prerequisite",
   "metadata": {},
   "outputs": [],
   "source": [
    "timeS = regS.times\n",
    "timeL = regL.times"
   ]
  },
  {
   "cell_type": "code",
   "execution_count": 518,
   "id": "descending-bryan",
   "metadata": {},
   "outputs": [
    {
     "data": {
      "image/png": "[encoded data removed]",
      "text/plain": [
       "<Figure size 432x288 with 1 Axes>"
      ]
     },
     "metadata": {
      "needs_background": "light"
     },
     "output_type": "display_data"
    }
   ],
   "source": [
    "tods = ['Morning', 'Midday', 'Afternoon', 'Evening']#, 'Night']\n",
    "\n",
    "temp1 = X5_S_test[X5_S_test['Station_Name'] == 'BOULDER / N BOULDER REC 1']\n",
    "temp2 = X5_S_test[X5_S_test['Station_Name'] == 'COMM VITALITY / 1000WALNUT']\n",
    "temp3 = X5_S_test[X5_S_test['Station_Name'] == 'BOULDER / BASELINE ST1']\n",
    "temp4 = X5_S_test[X5_S_test['Station_Name'] == 'COMM VITALITY / 1104 SPRUCE1']\n",
    "\n",
    "N=2\n",
    "\n",
    "mean1 = []\n",
    "upper1 = []\n",
    "lower1 = []\n",
    "mean2 = []\n",
    "upper2 = []\n",
    "lower2 = []\n",
    "mean3 = []\n",
    "upper3 = []\n",
    "lower3 = []\n",
    "mean4 = []\n",
    "upper4 = []\n",
    "lower4 = []\n",
    "\n",
    "surv1 = survS[temp1.index]\n",
    "surv2 = survS[temp2.index]\n",
    "surv3 = survS[temp3.index]\n",
    "surv4 = survS[temp4.index]\n",
    "\n",
    "for k in range(len(timeS)):\n",
    "    ## REC 1\n",
    "    vals1 = surv1[:,k]\n",
    "    mean1.append(np.mean(vals1))\n",
    "    std1 = np.std(vals1)\n",
    "    upper1.append(np.mean(vals1)+std1*N)\n",
    "    lower1.append(np.mean(vals1)-std1*N)\n",
    "    ## 1000WALNUT\n",
    "    vals2 = surv2[:,k]\n",
    "    mean2.append(np.mean(vals2))\n",
    "    std2 = np.std(vals2)\n",
    "    upper2.append(np.mean(vals2)+std2*N)\n",
    "    lower2.append(np.mean(vals2)-std2*N)\n",
    "    ## BASELINE ST1\n",
    "    vals3 = surv3[:,k]\n",
    "    mean3.append(np.mean(vals3))\n",
    "    std3 = np.std(vals3)\n",
    "    upper3.append(np.mean(vals3)+std3*N)\n",
    "    lower3.append(np.mean(vals3)-std3*N)\n",
    "    ## 1104 SPRUCE1\n",
    "    vals4 = surv4[:,k]\n",
    "    mean4.append(np.mean(vals4))\n",
    "    std4 = np.std(vals4)\n",
    "    upper4.append(np.mean(vals4)+std4*N)\n",
    "    lower4.append(np.mean(vals4)-std4*N)\n",
    "    \n",
    "# plot\n",
    "plt.fill_between(x=timeS,y1=lower1,y2=upper1, alpha=0.2, color='k')\n",
    "plt.plot(timeS,mean1, label='N BOULDER', color='k')\n",
    "\n",
    "plt.fill_between(x=timeS,y1=lower2,y2=upper2, alpha=0.2, color='b')\n",
    "plt.plot(timeS,mean2, label='1000WALNUT', color='b')\n",
    "\n",
    "plt.fill_between(x=timeS,y1=lower3,y2=upper3, alpha=0.2, color='g')\n",
    "plt.plot(timeS,mean3, label='BASELINE', color='g')\n",
    "\n",
    "plt.fill_between(x=timeS,y1=lower4,y2=upper4, alpha=0.2, color='r')\n",
    "plt.plot(timeS,mean4, label='1104 SPRUCE', color='r')\n",
    "plt.legend()\n",
    "\n",
    "#plt.title(\"Short (<4H)\")\n",
    "plt.grid()\n",
    "plt.xlabel(\"Life-time (minutes)\")\n",
    "plt.ylabel(\"Survival probability\")\n",
    "# plt.tight_layout()\n",
    "plt.savefig('../visualization/SA_TOD_SHORT_twoStep.pdf',bbox_inches='tight')\n",
    "plt.show()"
   ]
  },
  {
   "cell_type": "markdown",
   "id": "searching-logging",
   "metadata": {},
   "source": [
    "#### Get table values"
   ]
  },
  {
   "cell_type": "code",
   "execution_count": 520,
   "id": "aboriginal-outreach",
   "metadata": {},
   "outputs": [
    {
     "data": {
      "text/plain": [
       "[30, 60, 120, 236, [408]]"
      ]
     },
     "execution_count": 520,
     "metadata": {},
     "output_type": "execute_result"
    }
   ],
   "source": [
    "hour_steps = [0.5*60,1*60,2*60,4*60,8*60]\n",
    "hour_steps_idx = []\n",
    "for hour in hour_steps:\n",
    "    #print(hour)\n",
    "    temp = []\n",
    "    for i in range(len(timeS)):\n",
    "        if (timeS[i] >= hour) and (timeS[i] < hour+2):\n",
    "            #print(\"{}H\".format(hour/60))\n",
    "            #print(i,time[i])\n",
    "            temp.append(i)\n",
    "    if len(temp) > 1:\n",
    "        hour_steps_idx.append(int(np.float_(temp[0])))\n",
    "    else:\n",
    "        hour_steps_idx.append(temp)\n",
    "hour_steps_idx"
   ]
  },
  {
   "cell_type": "code",
   "execution_count": 532,
   "id": "coral-cartridge",
   "metadata": {},
   "outputs": [
    {
     "name": "stdout",
     "output_type": "stream",
     "text": [
      "BOULDER / N BOULDER REC 1\n",
      "0.5 (30.0): mean: 0.85  std: 0.06\n",
      "1.0 (60): mean: 0.74  std: 0.08\n",
      "2.0 (120): mean: 0.57  std: 0.12\n",
      "4.0 (240): mean: 0.36  std: 0.14\n",
      "8.0 (480): mean: 0.21  std: 0.12\n",
      "COMM VITALITY / 1000WALNUT\n",
      "0.5 (30.0): mean: 0.85  std: 0.06\n",
      "1.0 (60): mean: 0.74  std: 0.08\n",
      "2.0 (120): mean: 0.56  std: 0.12\n",
      "4.0 (240): mean: 0.35  std: 0.14\n",
      "8.0 (480): mean: 0.2  std: 0.12\n",
      "COMM VITALITY / 1104 SPRUCE1\n",
      "0.5 (30.0): mean: 0.85  std: 0.04\n",
      "1.0 (60): mean: 0.74  std: 0.08\n",
      "2.0 (120): mean: 0.56  std: 0.12\n",
      "4.0 (240): mean: 0.34  std: 0.12\n",
      "8.0 (480): mean: 0.2  std: 0.1\n",
      "BOULDER / BASELINE ST1\n",
      "0.5 (30.0): mean: 0.84  std: 0.06\n",
      "1.0 (60): mean: 0.74  std: 0.08\n",
      "2.0 (120): mean: 0.56  std: 0.12\n",
      "4.0 (240): mean: 0.34  std: 0.14\n",
      "8.0 (480): mean: 0.2  std: 0.12\n",
      "\n",
      "\n"
     ]
    }
   ],
   "source": [
    "hour_steps_idx = [30, 60, 120, 236, 408]\n",
    "\n",
    "for stat in station_subset:\n",
    "    temp = X5_S_test[X5_S_test['Station_Name'] == stat]\n",
    "    temp_surv = survS[temp.index]\n",
    "    print(stat)\n",
    "    for i in range(len(hour_steps)):\n",
    "        h_surv = temp_surv[:,hour_steps_idx[i]]\n",
    "        m = round(np.mean(h_surv),2)\n",
    "        std = round(np.std(h_surv),2)*2\n",
    "        print(\"{} ({}): mean: {}  std: {}\".format(hour_steps[i]/60,hour_steps[i],m,std))\n",
    "print(\"\\n\")"
   ]
  },
  {
   "cell_type": "markdown",
   "id": "strategic-master",
   "metadata": {},
   "source": [
    "#### LONG"
   ]
  },
  {
   "cell_type": "code",
   "execution_count": 517,
   "id": "tight-session",
   "metadata": {},
   "outputs": [
    {
     "data": {
      "image/png": "[encoded data removed]",
      "text/plain": [
       "<Figure size 432x288 with 1 Axes>"
      ]
     },
     "metadata": {
      "needs_background": "light"
     },
     "output_type": "display_data"
    }
   ],
   "source": [
    "days = ['Monday', 'Tuesday', 'Wednesday', 'Thursday', 'Friday', 'Saturday', 'Sunday']\n",
    "tods = ['Morning', 'Midday', 'Afternoon', 'Evening']#, 'Night']\n",
    "\n",
    "temp1 = X5_L_test[X5_L_test['Station_Name'] == 'BOULDER / N BOULDER REC 1']\n",
    "temp2 = X5_L_test[X5_L_test['Station_Name'] == 'COMM VITALITY / 1000WALNUT']\n",
    "temp3 = X5_L_test[X5_L_test['Station_Name'] == 'BOULDER / BASELINE ST1']\n",
    "temp4 = X5_L_test[X5_L_test['Station_Name'] == 'COMM VITALITY / 1104 SPRUCE1']\n",
    "\n",
    "N = 2\n",
    "\n",
    "mean1 = []\n",
    "upper1 = []\n",
    "lower1 = []\n",
    "mean2 = []\n",
    "upper2 = []\n",
    "lower2 = []\n",
    "mean3 = []\n",
    "upper3 = []\n",
    "lower3 = []\n",
    "mean4 = []\n",
    "upper4 = []\n",
    "lower4 = []\n",
    "\n",
    "surv1 = survL[temp1.index]\n",
    "surv2 = survL[temp2.index]\n",
    "surv3 = survL[temp3.index]\n",
    "surv4 = survL[temp4.index]\n",
    "\n",
    "for k in range(len(timeL)):\n",
    "    ## REC 1\n",
    "    vals1 = surv1[:,k]\n",
    "    mean1.append(np.mean(vals1))\n",
    "    std1 = np.std(vals1)\n",
    "    upper1.append(np.mean(vals1)+std1*N)\n",
    "    lower1.append(np.mean(vals1)-std1*N)\n",
    "    ## 1000WALNUT\n",
    "    vals2 = surv2[:,k]\n",
    "    mean2.append(np.mean(vals2))\n",
    "    std2 = np.std(vals2)\n",
    "    upper2.append(np.mean(vals2)+std2*N)\n",
    "    lower2.append(np.mean(vals2)-std2*N)\n",
    "    ## BASELINE ST1\n",
    "    vals3 = surv3[:,k]\n",
    "    mean3.append(np.mean(vals3))\n",
    "    std3 = np.std(vals3)\n",
    "    upper3.append(np.mean(vals3)+std3*N)\n",
    "    lower3.append(np.mean(vals3)-std3*N)\n",
    "    ## 1104 SPRUCE1\n",
    "    vals4 = surv4[:,k]\n",
    "    mean4.append(np.mean(vals4))\n",
    "    std4 = np.std(vals4)\n",
    "    upper4.append(np.mean(vals4)+std4*N)\n",
    "    lower4.append(np.mean(vals4)-std4*N)\n",
    "    \n",
    "# plot\n",
    "plt.fill_between(x=timeL,y1=lower1,y2=upper1, alpha=0.2, color='k')\n",
    "plt.plot(timeL,mean1, label='N BOULDER', color='k')\n",
    "\n",
    "plt.fill_between(x=timeL,y1=lower2,y2=upper2, alpha=0.2, color='b')\n",
    "plt.plot(timeL,mean2, label='1000WALNUT', color='b')\n",
    "\n",
    "plt.fill_between(x=timeL,y1=lower3,y2=upper3, alpha=0.2, color='g')\n",
    "plt.plot(timeL,mean3, label='BASELINE', color='g')\n",
    "\n",
    "plt.fill_between(x=timeL,y1=lower4,y2=upper4, alpha=0.2, color='r')\n",
    "plt.plot(timeL,mean4, label='1104 SPRUCE', color='r')\n",
    "plt.legend()\n",
    "\n",
    "#plt.title(\"Long (>=4H)\")\n",
    "plt.grid()\n",
    "plt.xlabel(\"Life-time (minutes)\")\n",
    "plt.ylabel(\"Survival probability\")\n",
    "# plt.tight_layout()\n",
    "plt.savefig('../visualization/SA_TOD_LONG_twoStep.pdf',bbox_inches='tight')\n",
    "plt.show()"
   ]
  },
  {
   "cell_type": "markdown",
   "id": "lesbian-relief",
   "metadata": {},
   "source": [
    "#### Get table values"
   ]
  },
  {
   "cell_type": "code",
   "execution_count": 526,
   "id": "loaded-audio",
   "metadata": {},
   "outputs": [
    {
     "data": {
      "text/plain": [
       "[27, 53, [99], 155, [246]]"
      ]
     },
     "execution_count": 526,
     "metadata": {},
     "output_type": "execute_result"
    }
   ],
   "source": [
    "hour_steps = [0.5*60,1*60,2*60,4*60,8*60]\n",
    "hour_steps_idx = []\n",
    "for hour in hour_steps:\n",
    "    #print(hour)\n",
    "    temp = []\n",
    "    for i in range(len(timeL)):\n",
    "        if (timeL[i] >= hour) and (timeL[i] < hour+3):\n",
    "            #print(\"{}H\".format(hour/60))\n",
    "            #print(i,time[i])\n",
    "            temp.append(i)\n",
    "    if len(temp) > 1:\n",
    "        hour_steps_idx.append(int(np.float_(temp[0])))\n",
    "    else:\n",
    "        hour_steps_idx.append(temp)\n",
    "hour_steps_idx"
   ]
  },
  {
   "cell_type": "code",
   "execution_count": 529,
   "id": "raising-perfume",
   "metadata": {},
   "outputs": [
    {
     "name": "stdout",
     "output_type": "stream",
     "text": [
      "BOULDER / N BOULDER REC 1\n",
      "0.5 (30.0): mean: 0.95  std: 0.06\n",
      "1.0 (60): mean: 0.92  std: 0.08\n",
      "2.0 (120): mean: 0.87  std: 0.12\n",
      "4.0 (240): mean: 0.82  std: 0.16\n",
      "8.0 (480): mean: 0.76  std: 0.2\n",
      "COMM VITALITY / 1000WALNUT\n",
      "0.5 (30.0): mean: 0.95  std: 0.06\n",
      "1.0 (60): mean: 0.91  std: 0.08\n",
      "2.0 (120): mean: 0.86  std: 0.12\n",
      "4.0 (240): mean: 0.82  std: 0.16\n",
      "8.0 (480): mean: 0.75  std: 0.2\n",
      "COMM VITALITY / 1104 SPRUCE1\n",
      "0.5 (30.0): mean: 0.94  std: 0.06\n",
      "1.0 (60): mean: 0.91  std: 0.08\n",
      "2.0 (120): mean: 0.86  std: 0.14\n",
      "4.0 (240): mean: 0.81  std: 0.16\n",
      "8.0 (480): mean: 0.74  std: 0.22\n",
      "BOULDER / BASELINE ST1\n",
      "0.5 (30.0): mean: 0.94  std: 0.06\n",
      "1.0 (60): mean: 0.91  std: 0.08\n",
      "2.0 (120): mean: 0.85  std: 0.12\n",
      "4.0 (240): mean: 0.81  std: 0.16\n",
      "8.0 (480): mean: 0.73  std: 0.2\n",
      "\n",
      "\n"
     ]
    }
   ],
   "source": [
    "hour_steps_idx = [27, 53, 99, 155, 246]\n",
    "\n",
    "for stat in station_subset:\n",
    "    temp = X5_L_test[X5_L_test['Station_Name'] == stat]\n",
    "    temp_surv = survL[temp.index]\n",
    "    print(stat)\n",
    "    for i in range(len(hour_steps)):\n",
    "        h_surv = temp_surv[:,hour_steps_idx[i]]\n",
    "        m = round(np.mean(h_surv),2)\n",
    "        std = round(np.std(h_surv),2)*2\n",
    "        print(\"{} ({}): mean: {}  std: {}\".format(hour_steps[i]/60,hour_steps[i],m,std))\n",
    "print(\"\\n\")"
   ]
  }
 ],
 "metadata": {
  "kernelspec": {
   "display_name": "Python 3",
   "language": "python",
   "name": "python3"
  },
  "language_info": {
   "codemirror_mode": {
    "name": "ipython",
    "version": 3
   },
   "file_extension": ".py",
   "mimetype": "text/x-python",
   "name": "python",
   "nbconvert_exporter": "python",
   "pygments_lexer": "ipython3",
   "version": "3.7.3"
  }
 },
 "nbformat": 4,
 "nbformat_minor": 5
}
