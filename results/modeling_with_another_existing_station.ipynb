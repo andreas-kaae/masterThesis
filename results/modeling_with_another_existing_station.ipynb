{
 "cells": [
  {
   "cell_type": "code",
   "execution_count": 1,
   "id": "everyday-interference",
   "metadata": {},
   "outputs": [],
   "source": [
    "# imports\n",
    "import pandas as pd\n",
    "import numpy as np\n",
    "import matplotlib.pyplot as plt\n",
    "import datetime\n",
    "from collections import OrderedDict\n",
    "import pickle\n",
    "import pickle5\n",
    "import seaborn as sns\n",
    "import datetime as dt\n",
    "from sklearn.model_selection import train_test_split\n",
    "from sklearn.linear_model import LinearRegression, Ridge, Lasso\n",
    "from sklearn import metrics\n",
    "from sklearn.metrics import auc, r2_score\n",
    "from sklearn.preprocessing import StandardScaler\n",
    "from sklearn.ensemble import RandomForestRegressor\n",
    "from sklearn.neural_network import MLPRegressor\n",
    "from sklearn.model_selection import RandomizedSearchCV, GridSearchCV, cross_val_score, cross_val_predict\n",
    "from sklearn.ensemble import GradientBoostingRegressor\n",
    "from sklearn.dummy import DummyRegressor\n",
    "from sklearn.utils import resample\n",
    "from pysurvival.models.semi_parametric import CoxPHModel\n",
    "from lifelines.utils import concordance_index\n",
    "from sklearn.ensemble import GradientBoostingClassifier\n",
    "from sklearn.metrics import confusion_matrix, recall_score, accuracy_score, precision_score,classification_report, f1_score\n",
    "from sklearn.metrics import plot_confusion_matrix\n",
    "\n",
    "## block warning\n",
    "import warnings\n",
    "warnings.filterwarnings('ignore')"
   ]
  },
  {
   "cell_type": "code",
   "execution_count": 2,
   "id": "altered-trance",
   "metadata": {},
   "outputs": [
    {
     "data": {
      "text/html": [
       "<div>\n",
       "<style scoped>\n",
       "    .dataframe tbody tr th:only-of-type {\n",
       "        vertical-align: middle;\n",
       "    }\n",
       "\n",
       "    .dataframe tbody tr th {\n",
       "        vertical-align: top;\n",
       "    }\n",
       "\n",
       "    .dataframe thead th {\n",
       "        text-align: right;\n",
       "    }\n",
       "</style>\n",
       "<table border=\"1\" class=\"dataframe\">\n",
       "  <thead>\n",
       "    <tr style=\"text-align: right;\">\n",
       "      <th></th>\n",
       "      <th>life_time</th>\n",
       "      <th>datetime_start</th>\n",
       "      <th>datetime_end</th>\n",
       "      <th>latitude</th>\n",
       "      <th>longitude</th>\n",
       "      <th>distance_center_km</th>\n",
       "      <th>Station_Name</th>\n",
       "      <th>weekday_b</th>\n",
       "      <th>weekday_b_name</th>\n",
       "      <th>hour_b</th>\n",
       "      <th>...</th>\n",
       "      <th>near_inactivity_6H</th>\n",
       "      <th>near_charge_events_6H</th>\n",
       "      <th>service</th>\n",
       "      <th>entertainment</th>\n",
       "      <th>food</th>\n",
       "      <th>childcare</th>\n",
       "      <th>medical</th>\n",
       "      <th>education</th>\n",
       "      <th>parking</th>\n",
       "      <th>waste-management</th>\n",
       "    </tr>\n",
       "  </thead>\n",
       "  <tbody>\n",
       "    <tr>\n",
       "      <th>0</th>\n",
       "      <td>928.5</td>\n",
       "      <td>2018-01-31 19:51:00</td>\n",
       "      <td>2018-02-01 11:19:30</td>\n",
       "      <td>40.018482</td>\n",
       "      <td>-105.281066</td>\n",
       "      <td>0.152203</td>\n",
       "      <td>COMM VITALITY / 1104 SPRUCE1</td>\n",
       "      <td>2</td>\n",
       "      <td>Wednesday</td>\n",
       "      <td>19</td>\n",
       "      <td>...</td>\n",
       "      <td>0.0</td>\n",
       "      <td>0</td>\n",
       "      <td>0.057343</td>\n",
       "      <td>0.109796</td>\n",
       "      <td>0.073649</td>\n",
       "      <td>3.517121</td>\n",
       "      <td>0.466518</td>\n",
       "      <td>0.631771</td>\n",
       "      <td>0.021832</td>\n",
       "      <td>1.145959</td>\n",
       "    </tr>\n",
       "    <tr>\n",
       "      <th>1</th>\n",
       "      <td>363.5</td>\n",
       "      <td>2018-02-01 14:03:00</td>\n",
       "      <td>2018-02-01 20:06:30</td>\n",
       "      <td>40.018482</td>\n",
       "      <td>-105.281066</td>\n",
       "      <td>0.152203</td>\n",
       "      <td>COMM VITALITY / 1104 SPRUCE1</td>\n",
       "      <td>3</td>\n",
       "      <td>Thursday</td>\n",
       "      <td>14</td>\n",
       "      <td>...</td>\n",
       "      <td>0.0</td>\n",
       "      <td>0</td>\n",
       "      <td>0.057343</td>\n",
       "      <td>0.109796</td>\n",
       "      <td>0.073649</td>\n",
       "      <td>3.517121</td>\n",
       "      <td>0.466518</td>\n",
       "      <td>0.631771</td>\n",
       "      <td>0.021832</td>\n",
       "      <td>1.145959</td>\n",
       "    </tr>\n",
       "    <tr>\n",
       "      <th>2</th>\n",
       "      <td>6828.5</td>\n",
       "      <td>2018-02-01 21:15:00</td>\n",
       "      <td>2018-02-06 15:03:30</td>\n",
       "      <td>40.018482</td>\n",
       "      <td>-105.281066</td>\n",
       "      <td>0.152203</td>\n",
       "      <td>COMM VITALITY / 1104 SPRUCE1</td>\n",
       "      <td>3</td>\n",
       "      <td>Thursday</td>\n",
       "      <td>21</td>\n",
       "      <td>...</td>\n",
       "      <td>0.0</td>\n",
       "      <td>0</td>\n",
       "      <td>0.057343</td>\n",
       "      <td>0.109796</td>\n",
       "      <td>0.073649</td>\n",
       "      <td>3.517121</td>\n",
       "      <td>0.466518</td>\n",
       "      <td>0.631771</td>\n",
       "      <td>0.021832</td>\n",
       "      <td>1.145959</td>\n",
       "    </tr>\n",
       "    <tr>\n",
       "      <th>3</th>\n",
       "      <td>5871.5</td>\n",
       "      <td>2018-02-06 15:27:00</td>\n",
       "      <td>2018-02-10 17:18:30</td>\n",
       "      <td>40.018482</td>\n",
       "      <td>-105.281066</td>\n",
       "      <td>0.152203</td>\n",
       "      <td>COMM VITALITY / 1104 SPRUCE1</td>\n",
       "      <td>1</td>\n",
       "      <td>Tuesday</td>\n",
       "      <td>15</td>\n",
       "      <td>...</td>\n",
       "      <td>0.0</td>\n",
       "      <td>0</td>\n",
       "      <td>0.057343</td>\n",
       "      <td>0.109796</td>\n",
       "      <td>0.073649</td>\n",
       "      <td>3.517121</td>\n",
       "      <td>0.466518</td>\n",
       "      <td>0.631771</td>\n",
       "      <td>0.021832</td>\n",
       "      <td>1.145959</td>\n",
       "    </tr>\n",
       "    <tr>\n",
       "      <th>4</th>\n",
       "      <td>1454.5</td>\n",
       "      <td>2018-02-10 18:26:00</td>\n",
       "      <td>2018-02-11 18:40:30</td>\n",
       "      <td>40.018482</td>\n",
       "      <td>-105.281066</td>\n",
       "      <td>0.152203</td>\n",
       "      <td>COMM VITALITY / 1104 SPRUCE1</td>\n",
       "      <td>5</td>\n",
       "      <td>Saturday</td>\n",
       "      <td>18</td>\n",
       "      <td>...</td>\n",
       "      <td>0.0</td>\n",
       "      <td>0</td>\n",
       "      <td>0.057343</td>\n",
       "      <td>0.109796</td>\n",
       "      <td>0.073649</td>\n",
       "      <td>3.517121</td>\n",
       "      <td>0.466518</td>\n",
       "      <td>0.631771</td>\n",
       "      <td>0.021832</td>\n",
       "      <td>1.145959</td>\n",
       "    </tr>\n",
       "  </tbody>\n",
       "</table>\n",
       "<p>5 rows × 71 columns</p>\n",
       "</div>"
      ],
      "text/plain": [
       "   life_time      datetime_start        datetime_end   latitude   longitude  \\\n",
       "0      928.5 2018-01-31 19:51:00 2018-02-01 11:19:30  40.018482 -105.281066   \n",
       "1      363.5 2018-02-01 14:03:00 2018-02-01 20:06:30  40.018482 -105.281066   \n",
       "2     6828.5 2018-02-01 21:15:00 2018-02-06 15:03:30  40.018482 -105.281066   \n",
       "3     5871.5 2018-02-06 15:27:00 2018-02-10 17:18:30  40.018482 -105.281066   \n",
       "4     1454.5 2018-02-10 18:26:00 2018-02-11 18:40:30  40.018482 -105.281066   \n",
       "\n",
       "   distance_center_km                  Station_Name  weekday_b weekday_b_name  \\\n",
       "0            0.152203  COMM VITALITY / 1104 SPRUCE1          2      Wednesday   \n",
       "1            0.152203  COMM VITALITY / 1104 SPRUCE1          3       Thursday   \n",
       "2            0.152203  COMM VITALITY / 1104 SPRUCE1          3       Thursday   \n",
       "3            0.152203  COMM VITALITY / 1104 SPRUCE1          1        Tuesday   \n",
       "4            0.152203  COMM VITALITY / 1104 SPRUCE1          5       Saturday   \n",
       "\n",
       "   hour_b  ...  near_inactivity_6H  near_charge_events_6H   service  \\\n",
       "0      19  ...                 0.0                      0  0.057343   \n",
       "1      14  ...                 0.0                      0  0.057343   \n",
       "2      21  ...                 0.0                      0  0.057343   \n",
       "3      15  ...                 0.0                      0  0.057343   \n",
       "4      18  ...                 0.0                      0  0.057343   \n",
       "\n",
       "   entertainment      food  childcare   medical  education   parking  \\\n",
       "0       0.109796  0.073649   3.517121  0.466518   0.631771  0.021832   \n",
       "1       0.109796  0.073649   3.517121  0.466518   0.631771  0.021832   \n",
       "2       0.109796  0.073649   3.517121  0.466518   0.631771  0.021832   \n",
       "3       0.109796  0.073649   3.517121  0.466518   0.631771  0.021832   \n",
       "4       0.109796  0.073649   3.517121  0.466518   0.631771  0.021832   \n",
       "\n",
       "   waste-management  \n",
       "0          1.145959  \n",
       "1          1.145959  \n",
       "2          1.145959  \n",
       "3          1.145959  \n",
       "4          1.145959  \n",
       "\n",
       "[5 rows x 71 columns]"
      ]
     },
     "execution_count": 2,
     "metadata": {},
     "output_type": "execute_result"
    }
   ],
   "source": [
    "with open(\"../data/ut_poiV6.pkl\", \"rb\") as fh:\n",
    "    df = pickle5.load(fh)\n",
    "    \n",
    "df.head()"
   ]
  },
  {
   "cell_type": "markdown",
   "id": "following-sally",
   "metadata": {},
   "source": [
    "### Remove outliers & nan"
   ]
  },
  {
   "cell_type": "code",
   "execution_count": null,
   "id": "tamil-finland",
   "metadata": {},
   "outputs": [],
   "source": [
    "# remove rows\n",
    "df = df.dropna()"
   ]
  },
  {
   "cell_type": "code",
   "execution_count": 7,
   "id": "interracial-offset",
   "metadata": {},
   "outputs": [
    {
     "name": "stdout",
     "output_type": "stream",
     "text": [
      "COMM VITALITY / 1104 SPRUCE1: 57 (4.4 %)\n",
      "COMM VITALITY / 1000WALNUT: 48 (3.32 %)\n",
      "BOULDER / REC CENTER: 40 (3.51 %)\n",
      "BOULDER / BASELINE ST1: 42 (3.53 %)\n",
      "BOULDER / ATRIUM ST1: 65 (6.58 %)\n",
      "BOULDER / ALPINE ST1: 32 (8.96 %)\n",
      "COMM VITALITY / 1400 WALNUT1: 38 (7.29 %)\n",
      "BOULDER / FACILITIES ST1: 84 (16.28 %)\n",
      "COMM VITALITY / 1500PEARL: 41 (4.5 %)\n",
      "BOULDER / JUNCTION ST1: 35 (9.97 %)\n",
      "COMM VITALITY / BOULDER JCTN: 40 (5.28 %)\n",
      "COMM VITALITY / 1100WALNUT1: 39 (3.51 %)\n",
      "BOULDER / N BOULDER REC 1: 29 (2.07 %)\n",
      "BOULDER / BOULDER PARK: 8 (4.55 %)\n",
      "COMM VITALITY / 2200 BROADWAY1: 0 (0.0 %)\n",
      "BOULDER / EAST REC: 23 (5.42 %)\n",
      "BOULDERJUNCTION / JUNCTION ST1: 3 (3.0 %)\n",
      "\n",
      "The total amount of lost events: 624 (4.91 %)\n"
     ]
    }
   ],
   "source": [
    "# remove outliers\n",
    "drop_index = [] # list of indexes to keep\n",
    "names = df['Station_Name'].unique()\n",
    "\n",
    "for name in names:\n",
    "    temp = df[df['Station_Name'] == name]\n",
    "    # Get interquantile ranges\n",
    "    Q1, Q3 = temp.life_time.quantile([0.25, 0.75])\n",
    "    IQR = Q3-Q1\n",
    "    minimum = Q1 - 1.5*IQR\n",
    "    maximum = Q3 + 1.5*IQR\n",
    "    # Define observations which should be removed\n",
    "    temp2 = df[(df['life_time'] < minimum) | (df['life_time'] > maximum) &\n",
    "                  (df['Station_Name'] == name)]\n",
    "    print(\"{n}: {s} ({p} %)\".format(n=name, \n",
    "                                    s=temp2.shape[0], \n",
    "                                    p=round((temp2.shape[0]/temp.shape[0])*100,2)))\n",
    "    # Add the indexes which should be dropped\n",
    "    drop_index.extend(list(temp2.index))\n",
    "    \n",
    "print(\"\\nThe total amount of lost events: {n} ({p} %)\".format(n=len(drop_index), \n",
    "                                                              p=round(len(drop_index)/df.shape[0]*100,2)))\n",
    "\n",
    "df = df.drop(drop_index)\n",
    "df = df.reset_index(drop=True)"
   ]
  },
  {
   "cell_type": "code",
   "execution_count": 8,
   "id": "guided-spank",
   "metadata": {},
   "outputs": [
    {
     "data": {
      "text/plain": [
       "(12075, 71)"
      ]
     },
     "execution_count": 8,
     "metadata": {},
     "output_type": "execute_result"
    }
   ],
   "source": [
    "df.shape"
   ]
  },
  {
   "cell_type": "markdown",
   "id": "welcome-airport",
   "metadata": {},
   "source": [
    "### Usefull functions"
   ]
  },
  {
   "cell_type": "code",
   "execution_count": 9,
   "id": "charming-glory",
   "metadata": {},
   "outputs": [],
   "source": [
    "def mean_absolute_percentage_error(y_true, y_pred): \n",
    "    y_true, y_pred = np.array(y_true), np.array(y_pred)\n",
    "    return np.mean(np.abs((y_true - y_pred) / y_true))*100"
   ]
  },
  {
   "cell_type": "code",
   "execution_count": 10,
   "id": "compressed-investigation",
   "metadata": {},
   "outputs": [],
   "source": [
    "## To test model\n",
    "def test_model(y_test, y_pred):\n",
    "    MAE = metrics.mean_absolute_error(y_test, y_pred)\n",
    "    MSE = metrics.mean_squared_error(y_test, y_pred)\n",
    "    RMSE = np.sqrt(metrics.mean_squared_error(y_test, y_pred))\n",
    "    MAPE = mean_absolute_percentage_error(y_test, y_pred)\n",
    "    NRMSE = RMSE/np.mean(y_test)\n",
    "    return MAE, RMSE, MSE, MAPE, NRMSE"
   ]
  },
  {
   "cell_type": "code",
   "execution_count": 11,
   "id": "geographic-allen",
   "metadata": {},
   "outputs": [],
   "source": [
    "## Get point predictions\n",
    "def point_pred(model, X_test, X_train):\n",
    "    T_pred = []\n",
    "    T_pred_train = []\n",
    "    # Get survival curves\n",
    "    cph_pred = model.predict_survival(X_test)\n",
    "    cph_pred_train = model.predict_survival(X_train)\n",
    "    # get times of survival prediction\n",
    "    time = model.times\n",
    "    # test\n",
    "    for i in range(0,len(cph_pred)):\n",
    "        T_pred.append(auc(time,cph_pred[i]))\n",
    "    # train\n",
    "    for i in range(0,len(cph_pred_train)):\n",
    "        T_pred_train.append(auc(time,cph_pred_train[i]))\n",
    "    \n",
    "    return T_pred, T_pred_train"
   ]
  },
  {
   "cell_type": "code",
   "execution_count": 12,
   "id": "diverse-mortality",
   "metadata": {},
   "outputs": [],
   "source": [
    "## Get point predictions\n",
    "def point_pred_single(model, X_test):\n",
    "    T_pred = []\n",
    "    # Get survival curves\n",
    "    cph_pred = model.predict_survival(X_test)\n",
    "    # get times of survival prediction\n",
    "    time = model.times\n",
    "    # test\n",
    "    for i in range(0,len(cph_pred)):\n",
    "        T_pred.append(auc(time,cph_pred[i]))\n",
    "    \n",
    "    return T_pred"
   ]
  },
  {
   "cell_type": "code",
   "execution_count": 13,
   "id": "collective-species",
   "metadata": {},
   "outputs": [],
   "source": [
    "# function to evaluate only accuracy, precision, recall and f1 score\n",
    "def evaluate_scores(y_true, y_pred):\n",
    "    # calculate confusion matrix\n",
    "    labels = np.unique(y_true)\n",
    "    cm = confusion_matrix(y_true, y_pred, labels=labels)\n",
    "    # calculate precision, recall, and F1 score\n",
    "    accuracy = float(np.trace(cm)) / np.sum(cm)\n",
    "    precision = precision_score(y_true, y_pred, average=None, labels=labels)[1]\n",
    "    recall = recall_score(y_true, y_pred, average=None, labels=labels)[1]\n",
    "    f1 = 2 * precision * recall / (precision + recall)\n",
    "    print(\"accuracy:\", round(accuracy,2))\n",
    "    print(\"precision:\", round(precision,2))\n",
    "    print(\"recall:\", round(recall,2))\n",
    "    print(\"f1 score:\", round(f1,2))\n",
    "    return accuracy, precision, recall, f1"
   ]
  },
  {
   "cell_type": "markdown",
   "id": "planned-franklin",
   "metadata": {},
   "source": [
    "### Prepare data"
   ]
  },
  {
   "cell_type": "code",
   "execution_count": 14,
   "id": "answering-resident",
   "metadata": {},
   "outputs": [],
   "source": [
    "def hour_label(X):\n",
    "    if (X >= 7) & (X <= 10):\n",
    "        return 'Morning'\n",
    "    elif (X >= 11) & (X <= 14):\n",
    "        return 'Midday'\n",
    "    elif (X >= 15) & (X <= 18):\n",
    "        return 'Afternoon'\n",
    "    elif (X >= 19) or (X < 1):\n",
    "        return 'Evening'\n",
    "    elif (X >= 1) & (X <= 6):\n",
    "        return 'Night'"
   ]
  },
  {
   "cell_type": "code",
   "execution_count": 15,
   "id": "valid-adoption",
   "metadata": {},
   "outputs": [],
   "source": [
    "## Add time of day and day of week\n",
    "df['tod'] = df['hour_b'].apply(hour_label)"
   ]
  },
  {
   "cell_type": "code",
   "execution_count": 16,
   "id": "listed-heart",
   "metadata": {},
   "outputs": [],
   "source": [
    "df = df[df['tod'] != 'Night']"
   ]
  },
  {
   "cell_type": "code",
   "execution_count": 17,
   "id": "earned-geneva",
   "metadata": {},
   "outputs": [],
   "source": [
    "station_subset = ['BOULDER / N BOULDER REC 1', 'COMM VITALITY / 1000WALNUT', \n",
    "        'COMM VITALITY / 1104 SPRUCE1', 'BOULDER / BASELINE ST1']\n",
    "single_stat = 'COMM VITALITY / 1400 WALNUT1'\n",
    "df4 = df[df['Station_Name'].isin(station_subset)]\n",
    "dfSingle  = df[df['Station_Name'] == single_stat]"
   ]
  },
  {
   "cell_type": "code",
   "execution_count": 18,
   "id": "alone-guarantee",
   "metadata": {},
   "outputs": [
    {
     "name": "stdout",
     "output_type": "stream",
     "text": [
      "Shape df 4 station: (5110, 72)\n",
      "Shape of single1: (481, 72)\n",
      "Shape of single2: (297, 72)\n"
     ]
    }
   ],
   "source": [
    "print(\"Shape df 4 station:\", df4.shape)\n",
    "print(\"Shape of single1:\", dfSingle.shape)"
   ]
  },
  {
   "cell_type": "code",
   "execution_count": 19,
   "id": "periodic-ownership",
   "metadata": {},
   "outputs": [
    {
     "data": {
      "text/plain": [
       "1278.52079002079"
      ]
     },
     "execution_count": 19,
     "metadata": {},
     "output_type": "execute_result"
    }
   ],
   "source": [
    "np.mean(dfSingle['life_time'])"
   ]
  },
  {
   "cell_type": "markdown",
   "id": "genuine-basin",
   "metadata": {},
   "source": [
    "Add dummy variables"
   ]
  },
  {
   "cell_type": "code",
   "execution_count": 108,
   "id": "based-michigan",
   "metadata": {},
   "outputs": [],
   "source": [
    "dfSingle_orig = dfSingle"
   ]
  },
  {
   "cell_type": "code",
   "execution_count": 109,
   "id": "dense-nursery",
   "metadata": {},
   "outputs": [],
   "source": [
    "# Categorical features\n",
    "columns_categorical = ['weekday_b_name','tod','Station_Name']\n",
    "df4 = pd.get_dummies(df4, columns=columns_categorical)\n",
    "columns_categorical = ['weekday_b_name','tod']\n",
    "dfSingle = pd.get_dummies(dfSingle, columns=columns_categorical)\n",
    "dfSingle2 = pd.get_dummies(dfSingle2, columns=columns_categorical)"
   ]
  },
  {
   "cell_type": "markdown",
   "id": "deluxe-vertical",
   "metadata": {},
   "source": [
    "Sort dataframes"
   ]
  },
  {
   "cell_type": "code",
   "execution_count": 110,
   "id": "floating-belarus",
   "metadata": {},
   "outputs": [],
   "source": [
    "df4 = df4.sort_values(by=['datetime_start'])\n",
    "dfSingle = dfSingle.sort_values(by=['datetime_start'])"
   ]
  },
  {
   "cell_type": "markdown",
   "id": "advisory-upset",
   "metadata": {},
   "source": [
    "M4 is used as the name for the Full features constellation throughout the notebook."
   ]
  },
  {
   "cell_type": "code",
   "execution_count": 111,
   "id": "operational-reaction",
   "metadata": {},
   "outputs": [],
   "source": [
    "features4_cat = ['weekday_b_name_Monday', 'weekday_b_name_Saturday',\n",
    "                 'weekday_b_name_Sunday', 'weekday_b_name_Thursday',\n",
    "                 'weekday_b_name_Tuesday', 'weekday_b_name_Wednesday',\n",
    "                 'tod_Evening','tod_Midday', 'tod_Morning',\n",
    "                 'Station_Name_BOULDER / N BOULDER REC 1',\n",
    "                 'Station_Name_COMM VITALITY / 1000WALNUT',\n",
    "                 'Station_Name_COMM VITALITY / 1104 SPRUCE1']\n",
    "\n",
    "features4_con = ['lag1', 'lag2', 'lag3','near_charge_time_4H', 'near_charge_energy_4H',\n",
    "                 'charge_time_4H', 'charge_energy_4H','service', 'entertainment', 'food', \n",
    "                 'childcare', 'medical', 'education', 'waste-management']  # dow + agg. tod + lag + activ."
   ]
  },
  {
   "cell_type": "markdown",
   "id": "banned-maple",
   "metadata": {},
   "source": [
    "Split data"
   ]
  },
  {
   "cell_type": "code",
   "execution_count": 112,
   "id": "least-helicopter",
   "metadata": {},
   "outputs": [],
   "source": [
    "split = 0.8\n",
    "train4, test4 = np.split(df4, [int(split * len(df4))])"
   ]
  },
  {
   "cell_type": "code",
   "execution_count": 114,
   "id": "mighty-stamp",
   "metadata": {},
   "outputs": [],
   "source": [
    "split = 0.8\n",
    "\n",
    "## Get X and y - M5\n",
    "X = train4[features4_cat+features4_con]\n",
    "y = train4['life_time']\n",
    "\n",
    "## split data\n",
    "X_train4, X_test4 = np.split(X, [int(split * len(X))])\n",
    "y_train4, y_test4 = np.split(y, [int(split * len(X))])\n",
    "\n",
    "## Standardize\n",
    "scaler = StandardScaler()\n",
    "X_train4[features4_con] = scaler.fit_transform(X_train4[features4_con])\n",
    "X_test4[features4_con] = scaler.transform(X_test4[features4_con])"
   ]
  },
  {
   "cell_type": "markdown",
   "id": "pressed-friendship",
   "metadata": {},
   "source": [
    "Prepare the single dataframe:"
   ]
  },
  {
   "cell_type": "code",
   "execution_count": 116,
   "id": "collect-alloy",
   "metadata": {},
   "outputs": [],
   "source": [
    "stat_cols = ['Station_Name_BOULDER / N BOULDER REC 1',\n",
    "             'Station_Name_COMM VITALITY / 1000WALNUT',\n",
    "             'Station_Name_COMM VITALITY / 1104 SPRUCE1']\n",
    "for col in stat_cols:\n",
    "    dfSingle[col] = np.zeros(len(dfSingle))"
   ]
  },
  {
   "cell_type": "code",
   "execution_count": 117,
   "id": "apart-combination",
   "metadata": {},
   "outputs": [],
   "source": [
    "y_single = dfSingle['life_time']\n",
    "X_single = dfSingle[features4_cat + features4_con]\n",
    "scaler = StandardScaler()\n",
    "X_single[features4_con] = scaler.fit_transform(X_single[features4_con])"
   ]
  },
  {
   "cell_type": "markdown",
   "id": "fatty-bradford",
   "metadata": {},
   "source": [
    "As it is closest to 1000 WALNUT this features is activated"
   ]
  },
  {
   "cell_type": "code",
   "execution_count": 118,
   "id": "endangered-vector",
   "metadata": {},
   "outputs": [],
   "source": [
    "X_single['Station_Name_COMM VITALITY / 1000WALNUT'] = np.ones(len(X_single))"
   ]
  },
  {
   "cell_type": "markdown",
   "id": "restricted-contrary",
   "metadata": {},
   "source": [
    "## ML methods"
   ]
  },
  {
   "cell_type": "markdown",
   "id": "graduate-neutral",
   "metadata": {},
   "source": [
    "Specify hyper parameters"
   ]
  },
  {
   "cell_type": "code",
   "execution_count": 119,
   "id": "liable-chemistry",
   "metadata": {},
   "outputs": [],
   "source": [
    "params = {}\n",
    "params['M1'] = {}\n",
    "params['M4'] = {}\n",
    "params['M1']['LR'] = {'alpha':15}\n",
    "params['M4']['LR'] = {'alpha':15}\n",
    "params['M1']['RF'] = {'n_estimators': 500, 'min_samples_split': 2, 'min_samples_leaf': 15, 'max_depth': 7}\n",
    "params['M4']['RF'] = {'n_estimators': 500, 'min_samples_split': 3, 'min_samples_leaf': 10, 'max_depth': 7}\n",
    "params['M1']['MLP'] = {'hidden_layer_sizes': (128, 128, 128, 128), 'alpha': 0.001, 'activation': 'relu'}\n",
    "params['M4']['MLP'] = {'hidden_layer_sizes': 256, 'alpha': 0.001, 'activation': 'relu'}\n",
    "params['M1']['GB'] = {'n_estimators': 500, 'min_samples_split': 2, 'min_samples_leaf': 3, 'max_depth': 2, 'learning_rate': 0.5}\n",
    "params['M4']['GB'] = {'n_estimators': 500, 'min_samples_split': 5, 'min_samples_leaf': 5, 'max_depth': 3, 'learning_rate': 0.01}"
   ]
  },
  {
   "cell_type": "markdown",
   "id": "chronic-prince",
   "metadata": {},
   "source": [
    "**Linear regression**"
   ]
  },
  {
   "cell_type": "code",
   "execution_count": 120,
   "id": "developmental-fields",
   "metadata": {},
   "outputs": [
    {
     "data": {
      "text/plain": [
       "Ridge(alpha=15, random_state=42)"
      ]
     },
     "execution_count": 120,
     "metadata": {},
     "output_type": "execute_result"
    }
   ],
   "source": [
    "param = params['M4']['LR']\n",
    "reg_LR = Ridge(random_state=42, alpha=param['alpha'])\n",
    "reg_LR.fit(X_train4,y_train4)"
   ]
  },
  {
   "cell_type": "code",
   "execution_count": 121,
   "id": "stainless-louisiana",
   "metadata": {},
   "outputs": [
    {
     "name": "stdout",
     "output_type": "stream",
     "text": [
      "R2: -0.76 RMSE: 1387.0 MAE: 1005.0 MAPE: 428.0\n"
     ]
    }
   ],
   "source": [
    "pred = reg_LR.predict(X_single)\n",
    "MAE, RMSE, MSE, MAPE, NRMSE = test_model(y_single,pred)\n",
    "r_squarred = r2_score(y_single,pred)\n",
    "print(\"R2: {} RMSE: {} MAE: {} MAPE: {}\".format(round(r_squarred,2), round(RMSE,0),\n",
    "                                                round(MAE,0), round(MAPE,0)))"
   ]
  },
  {
   "cell_type": "markdown",
   "id": "manufactured-static",
   "metadata": {},
   "source": [
    "**Random forest**"
   ]
  },
  {
   "cell_type": "code",
   "execution_count": 122,
   "id": "completed-saint",
   "metadata": {},
   "outputs": [
    {
     "data": {
      "text/plain": [
       "RandomForestRegressor(max_depth=7, min_samples_leaf=10, min_samples_split=3,\n",
       "                      n_estimators=500, random_state=42)"
      ]
     },
     "execution_count": 122,
     "metadata": {},
     "output_type": "execute_result"
    }
   ],
   "source": [
    "param = params['M4']['RF']\n",
    "reg_RF = RandomForestRegressor(random_state=42, \n",
    "                            min_samples_split=param['min_samples_split'],\n",
    "                            min_samples_leaf=param['min_samples_leaf'],\n",
    "                            max_depth=param['max_depth'],\n",
    "                            n_estimators=param['n_estimators'])    \n",
    "reg_RF.fit(X_train4, y_train4) "
   ]
  },
  {
   "cell_type": "code",
   "execution_count": 123,
   "id": "major-rates",
   "metadata": {},
   "outputs": [
    {
     "name": "stdout",
     "output_type": "stream",
     "text": [
      "R2: -0.76 RMSE: 1389.0 MAE: 1024.0 MAPE: 417.0\n"
     ]
    }
   ],
   "source": [
    "pred = reg_RF.predict(X_single)\n",
    "MAE, RMSE, MSE, MAPE, NRMSE = test_model(y_single,pred)\n",
    "r_squarred = r2_score(y_single,pred)\n",
    "print(\"R2: {} RMSE: {} MAE: {} MAPE: {}\".format(round(r_squarred,2), round(RMSE,0),\n",
    "                                                round(MAE,0), round(MAPE,0)))"
   ]
  },
  {
   "cell_type": "markdown",
   "id": "synthetic-funeral",
   "metadata": {},
   "source": [
    "**Gradient boosting**"
   ]
  },
  {
   "cell_type": "code",
   "execution_count": 124,
   "id": "arctic-equivalent",
   "metadata": {},
   "outputs": [
    {
     "data": {
      "text/plain": [
       "GradientBoostingRegressor(learning_rate=0.01, min_samples_leaf=5,\n",
       "                          min_samples_split=5, n_estimators=500,\n",
       "                          random_state=42)"
      ]
     },
     "execution_count": 124,
     "metadata": {},
     "output_type": "execute_result"
    }
   ],
   "source": [
    "param = params['M4']['GB']\n",
    "reg1 = GradientBoostingRegressor(random_state=42, \n",
    "                                max_depth=param['max_depth'],\n",
    "                                min_samples_split=param['min_samples_split'],\n",
    "                                min_samples_leaf=param['min_samples_leaf'],\n",
    "                                n_estimators=param['n_estimators'], \n",
    "                                learning_rate=param['learning_rate'])\n",
    "reg1.fit(X_train4, y_train4)"
   ]
  },
  {
   "cell_type": "code",
   "execution_count": 125,
   "id": "about-exploration",
   "metadata": {},
   "outputs": [
    {
     "name": "stdout",
     "output_type": "stream",
     "text": [
      "R2: -0.73 RMSE: 1376.0 MAE: 1008.0 MAPE: 383.0\n"
     ]
    }
   ],
   "source": [
    "pred = reg1.predict(X_single)\n",
    "MAE, RMSE, MSE, MAPE, NRMSE = test_model(y_single,pred)\n",
    "r_squarred = r2_score(y_single,pred)\n",
    "print(\"R2: {} RMSE: {} MAE: {} MAPE: {}\".format(round(r_squarred,2), round(RMSE,0),\n",
    "                                                round(MAE,0), round(MAPE,0)))"
   ]
  },
  {
   "cell_type": "markdown",
   "id": "medium-sphere",
   "metadata": {},
   "source": [
    "**MLP**"
   ]
  },
  {
   "cell_type": "code",
   "execution_count": 126,
   "id": "universal-adaptation",
   "metadata": {},
   "outputs": [
    {
     "data": {
      "text/plain": [
       "MLPRegressor(alpha=0.001, early_stopping=True, hidden_layer_sizes=256,\n",
       "             max_iter=500, random_state=42)"
      ]
     },
     "execution_count": 126,
     "metadata": {},
     "output_type": "execute_result"
    }
   ],
   "source": [
    "param = params['M4']['MLP']\n",
    "reg_MLP = MLPRegressor(random_state=42, alpha=param['alpha'], \n",
    "                   hidden_layer_sizes=param['hidden_layer_sizes'],\n",
    "                   activation = param['activation'],\n",
    "                   max_iter=500, early_stopping=True)\n",
    "reg_MLP.fit(X_train4, y_train4)"
   ]
  },
  {
   "cell_type": "code",
   "execution_count": 127,
   "id": "suburban-examination",
   "metadata": {},
   "outputs": [
    {
     "name": "stdout",
     "output_type": "stream",
     "text": [
      "R2: -1.16 RMSE: 1538.0 MAE: 1146.0 MAPE: 251.0\n"
     ]
    }
   ],
   "source": [
    "pred = reg_MLP.predict(X_single)\n",
    "MAE, RMSE, MSE, MAPE, NRMSE = test_model(y_single,pred)\n",
    "r_squarred = r2_score(y_single,pred)\n",
    "print(\"R2: {} RMSE: {} MAE: {} MAPE: {}\".format(round(r_squarred,2), round(RMSE,0),\n",
    "                                                round(MAE,0), round(MAPE,0)))"
   ]
  },
  {
   "cell_type": "markdown",
   "id": "rental-province",
   "metadata": {},
   "source": [
    "## Quantile regression"
   ]
  },
  {
   "cell_type": "code",
   "execution_count": 128,
   "id": "enabling-lewis",
   "metadata": {},
   "outputs": [],
   "source": [
    "quantile_labels = ['5%','25%','50%','75%','95%']\n",
    "quantiles = [0.05, 0.25, 0.5, 0.75, 0.95]\n",
    "qr_M4 = pd.DataFrame(columns=quantile_labels)\n",
    "qr_M4['true'] = y_single.values"
   ]
  },
  {
   "cell_type": "code",
   "execution_count": 129,
   "id": "abstract-pioneer",
   "metadata": {},
   "outputs": [],
   "source": [
    "for i in range(len(quantiles)):\n",
    "    regGB = GradientBoostingRegressor(random_state=42, max_depth=3,\n",
    "                                        n_estimators=500, \n",
    "                                        learning_rate=0.01,\n",
    "                                        min_samples_split=5,\n",
    "                                        min_samples_leaf=5,\n",
    "                                        loss='quantile', alpha=quantiles[i])\n",
    "    regGB.fit(X_train4,y_train4)\n",
    "    qr_M4[quantile_labels[i]] = regGB.predict(X_single)"
   ]
  },
  {
   "cell_type": "code",
   "execution_count": 130,
   "id": "floppy-truth",
   "metadata": {},
   "outputs": [],
   "source": [
    "qr_M4['tod'] = dfSingle_orig['tod'].values"
   ]
  },
  {
   "cell_type": "code",
   "execution_count": 131,
   "id": "brazilian-adoption",
   "metadata": {},
   "outputs": [
    {
     "data": {
      "image/png": "[encoded data removed]",
      "text/plain": [
       "<Figure size 432x288 with 1 Axes>"
      ]
     },
     "metadata": {
      "needs_background": "light"
     },
     "output_type": "display_data"
    }
   ],
   "source": [
    "tods = ['Afternoon', 'Midday', 'Morning', 'Evening']\n",
    "\n",
    "## Get mean and standard deviation of each quantile and TOD combination\n",
    "results_mean = pd.DataFrame(columns=quantile_labels, index=tods)\n",
    "results_std = pd.DataFrame(columns=quantile_labels, index=tods)\n",
    "for t in tods:\n",
    "    temp = qr_M4[qr_M4['tod'] == t]\n",
    "    for q in quantile_labels:\n",
    "        temp2 = temp[q]\n",
    "        results_mean.loc[t][q] = np.mean(temp2.values)\n",
    "        results_std.loc[t][q] = np.std(temp2.values)\n",
    "        \n",
    "colors = ['red','blue','black','orange','green']\n",
    "\n",
    "for i in range(len(quantile_labels)):\n",
    "    q = quantile_labels[i] # get the quantile label\n",
    "    lower = list((results_mean[q] - results_std[q]*2))\n",
    "    upper = list((results_mean[q] + results_std[q]*2))\n",
    "    plt.fill_between(x=tods, y1=lower, y2=upper, alpha=0.2, color=colors[i])\n",
    "    plt.plot(results_mean[q], color=colors[i], label=q)\n",
    "    \n",
    "plt.legend(bbox_to_anchor=(1.04,1.03), loc=\"upper left\")\n",
    "plt.ylabel(\"Life-time (minutes)\")\n",
    "#plt.title(\"Quantiles for the life-time as a function of the time-of-day\")\n",
    "#plt.savefig('../Thesis - writing/Visualization/QR_TOD.pdf',bbox_inches='tight')\n",
    "plt.show()"
   ]
  },
  {
   "cell_type": "markdown",
   "id": "manufactured-characterization",
   "metadata": {},
   "source": [
    "Get the summary statistics."
   ]
  },
  {
   "cell_type": "code",
   "execution_count": 132,
   "id": "federal-primary",
   "metadata": {},
   "outputs": [
    {
     "name": "stdout",
     "output_type": "stream",
     "text": [
      "R2: -1.03 RMSE: 1491.0 MAE: 1106.0 MAPE: 163.0\n"
     ]
    }
   ],
   "source": [
    "MAE, RMSE, MSE, MAPE, NRMSE = test_model(y_single,qr_M4['50th'])\n",
    "r_squarred = r2_score(y_single,qr_M4['50th'])\n",
    "print(\"R2: {} RMSE: {} MAE: {} MAPE: {}\".format(round(r_squarred,2), round(RMSE,0),\n",
    "                                                round(MAE,0), round(MAPE,0)))"
   ]
  },
  {
   "cell_type": "code",
   "execution_count": 133,
   "id": "faced-disease",
   "metadata": {},
   "outputs": [],
   "source": [
    "def ICP(q1, q2, true):\n",
    "    if (true >= q1) and (true <= q2):\n",
    "        return 1\n",
    "    else:\n",
    "        return 0"
   ]
  },
  {
   "cell_type": "code",
   "execution_count": 134,
   "id": "judicial-receptor",
   "metadata": {},
   "outputs": [],
   "source": [
    "#### 5%-95%\n",
    "qr_M4['MIL5-95'] = qr_M4['95th']-qr_M4['5th']\n",
    "qr_M4 = qr_M4.reset_index()\n",
    "# Get ICP\n",
    "temp = []\n",
    "for i in range(len(y_single)):\n",
    "    row = qr_M4.loc[i]\n",
    "    temp.append(ICP(row['5th'], row['95th'], row['true']))\n",
    "qr_M4['ICP5-95'] = temp\n",
    "\n",
    "\n",
    "#### 25%-75%\n",
    "## M5\n",
    "qr_M4['MIL25-75'] = qr_M4['75th']-qr_M4['25th']\n",
    "# Get ICP\n",
    "temp = []\n",
    "for i in range(len(y_single)):\n",
    "    row = qr_M4.loc[i]\n",
    "    temp.append(ICP(row['25th'], row['75th'], row['true']))\n",
    "qr_M4['ICP25-75'] = temp\n"
   ]
  },
  {
   "cell_type": "code",
   "execution_count": 135,
   "id": "stable-croatia",
   "metadata": {},
   "outputs": [
    {
     "name": "stdout",
     "output_type": "stream",
     "text": [
      "Full (5%-95%): MIL: 1313.85 ICP: 0.632\n",
      "Full (25%-75%): MIL: 441.7 ICP: 0.191\n"
     ]
    }
   ],
   "source": [
    "print(\"Full (5%-95%): MIL: {} ICP: {}\".format(round(np.mean(qr_M4['MIL5-95']),2), \n",
    "                                            round(np.sum(qr_M4['ICP5-95'])/len(qr_M4),3)))\n",
    "print(\"Full (25%-75%): MIL: {} ICP: {}\".format(round(np.mean(qr_M4['MIL25-75']),2), \n",
    "                                            round(np.sum(qr_M4['ICP25-75'])/len(qr_M4),3)))"
   ]
  },
  {
   "cell_type": "markdown",
   "id": "pursuant-torture",
   "metadata": {},
   "source": [
    "### Survival analysis"
   ]
  },
  {
   "cell_type": "markdown",
   "id": "architectural-korea",
   "metadata": {},
   "source": [
    "Split the data for survival analysis"
   ]
  },
  {
   "cell_type": "code",
   "execution_count": 136,
   "id": "another-small",
   "metadata": {},
   "outputs": [
    {
     "data": {
      "text/plain": [
       "CoxPHModel"
      ]
     },
     "execution_count": 136,
     "metadata": {},
     "output_type": "execute_result"
    }
   ],
   "source": [
    "X_train = df4[features4_cat+features4_con]\n",
    "T_train = df4['life_time']\n",
    "E_train = np.ones(len(df4))\n",
    "\n",
    "reg = CoxPHModel()\n",
    "reg.fit(X_train, T_train, E_train, lr= 0.01, l2_reg=0.1, init_method='zeros', max_iter=800, verbose=False)"
   ]
  },
  {
   "cell_type": "code",
   "execution_count": 137,
   "id": "arctic-spoke",
   "metadata": {},
   "outputs": [],
   "source": [
    "surv = reg.predict_survival(x=X_single)\n",
    "time = reg.times"
   ]
  },
  {
   "cell_type": "code",
   "execution_count": 138,
   "id": "prospective-border",
   "metadata": {},
   "outputs": [
    {
     "data": {
      "image/png": "[encoded data removed]",
      "text/plain": [
       "<Figure size 432x288 with 1 Axes>"
      ]
     },
     "metadata": {
      "needs_background": "light"
     },
     "output_type": "display_data"
    }
   ],
   "source": [
    "mean = []\n",
    "upper = []\n",
    "lower = []\n",
    "\n",
    "N = 2\n",
    "\n",
    "for k in range(len(time)):\n",
    "    vals = surv[:,k]\n",
    "    mean.append(np.mean(vals))\n",
    "    std_ = np.std(vals)\n",
    "    upper.append(np.mean(vals)+std_*N)\n",
    "    lower.append(np.mean(vals)-std_*N)\n",
    "    \n",
    "plt.fill_between(x=time, y1=lower, y2=upper, alpha=0.2, color='k')\n",
    "plt.plot(time,mean, color='k')\n",
    "plt.show()"
   ]
  },
  {
   "cell_type": "code",
   "execution_count": 139,
   "id": "happy-mapping",
   "metadata": {},
   "outputs": [],
   "source": [
    "dfSingle_orig = dfSingle_orig.reset_index()"
   ]
  },
  {
   "cell_type": "code",
   "execution_count": 140,
   "id": "immediate-insight",
   "metadata": {},
   "outputs": [
    {
     "data": {
      "image/png": "[encoded data removed]",
      "text/plain": [
       "<Figure size 440x280 with 1 Axes>"
      ]
     },
     "metadata": {
      "needs_background": "light"
     },
     "output_type": "display_data"
    }
   ],
   "source": [
    "from matplotlib.pyplot import figure\n",
    "\n",
    "figure(figsize=(5.5, 3.5), dpi=80)\n",
    "\n",
    "mean = {}\n",
    "upper = {}\n",
    "lower = {}\n",
    "\n",
    "#temp = df_new[features4_cat+features4_con]\n",
    "tod = ['Morning', 'Midday', 'Afternoon', 'Evening']\n",
    "\n",
    "N = 2\n",
    "\n",
    "for t in tod:\n",
    "    idx = dfSingle_orig[dfSingle_orig['tod'] == t].index\n",
    "    temp_surv = surv[idx]\n",
    "    \n",
    "    temp_mean = []\n",
    "    temp_upper = []\n",
    "    temp_lower = []\n",
    "    for k in range(len(time)):\n",
    "        vals = temp_surv[:,k]\n",
    "        temp_mean.append(np.mean(vals))\n",
    "        std_ = np.std(vals)\n",
    "        temp_upper.append(np.mean(vals)+std_*N)\n",
    "        temp_lower.append(np.mean(vals)-std_*N)\n",
    "        \n",
    "    mean[t] = temp_mean\n",
    "    lower[t] = temp_lower\n",
    "    upper[t] = temp_upper\n",
    "#     axs[i,j]\n",
    "#     axs[i,j].fill_between(x=time, y1=lower, y2=upper, alpha=0.2, color='k')\n",
    "#     axs[i,j].plot(time,mean, color='k')\n",
    "\n",
    "tod_color = ['k','b','g','r']\n",
    "tod_label = ['Morning','Midday','Afternoon','Evening']\n",
    "for i in range(len(tod)):\n",
    "    plt.plot(time,mean[tod[i]], color=tod_color[i], label=tod_label[i])\n",
    "    plt.fill_between(x=time, y1=lower[tod[i]], y2=upper[tod[i]], color=tod_color[i],alpha=0.2)\n",
    "plt.grid()\n",
    "plt.xlabel(\"Vacancy time (minutes)\")\n",
    "plt.ylabel(\"Survival probability\")\n",
    "plt.legend()\n",
    "plt.show()"
   ]
  },
  {
   "cell_type": "markdown",
   "id": "arranged-opportunity",
   "metadata": {},
   "source": [
    "Point estimates predictions"
   ]
  },
  {
   "cell_type": "code",
   "execution_count": 141,
   "id": "coordinated-cosmetic",
   "metadata": {},
   "outputs": [],
   "source": [
    "point_predictions = point_pred_single(reg,X_single)"
   ]
  },
  {
   "cell_type": "code",
   "execution_count": 142,
   "id": "classified-office",
   "metadata": {},
   "outputs": [],
   "source": [
    "c_idx = concordance_index(y_single, point_predictions)"
   ]
  },
  {
   "cell_type": "code",
   "execution_count": 143,
   "id": "minor-merit",
   "metadata": {},
   "outputs": [
    {
     "name": "stdout",
     "output_type": "stream",
     "text": [
      "R2: -0.89 C-index: 0.52 RMSE: 1436.0 MAE: 1060.0 MAPE: 377.0\n"
     ]
    }
   ],
   "source": [
    "MAE, RMSE, MSE, MAPE, NRMSE = test_model(y_single,point_predictions)\n",
    "r_squarred = r2_score(y_single,point_predictions)\n",
    "print(\"R2: {} C-index: {} RMSE: {} MAE: {} MAPE: {}\".format(round(r_squarred,2), round(c_idx,2),\n",
    "                                                            round(RMSE,0), round(MAE,0),\n",
    "                                                            round(MAPE,0)))"
   ]
  },
  {
   "cell_type": "markdown",
   "id": "revolutionary-police",
   "metadata": {},
   "source": [
    "# Two-Step - predict for different station"
   ]
  },
  {
   "cell_type": "markdown",
   "id": "spiritual-dependence",
   "metadata": {},
   "source": [
    "Classify single station"
   ]
  },
  {
   "cell_type": "code",
   "execution_count": 144,
   "id": "north-thousand",
   "metadata": {},
   "outputs": [],
   "source": [
    "def hsplit(X):\n",
    "    if X >= 4*60:\n",
    "        return 1\n",
    "    else:\n",
    "        return 0"
   ]
  },
  {
   "cell_type": "code",
   "execution_count": 145,
   "id": "residential-suggestion",
   "metadata": {},
   "outputs": [],
   "source": [
    "y_train4C = y_train4.apply(hsplit)"
   ]
  },
  {
   "cell_type": "code",
   "execution_count": 146,
   "id": "duplicate-safety",
   "metadata": {},
   "outputs": [
    {
     "data": {
      "text/plain": [
       "GradientBoostingClassifier(learning_rate=0.01, min_samples_leaf=3,\n",
       "                           min_samples_split=5, n_estimators=500,\n",
       "                           random_state=42)"
      ]
     },
     "execution_count": 146,
     "metadata": {},
     "output_type": "execute_result"
    }
   ],
   "source": [
    "### Train classifier\n",
    "# Evaluate model\n",
    "clf = GradientBoostingClassifier(random_state=42, \n",
    "                                max_depth=3,\n",
    "                                min_samples_split=5,\n",
    "                                min_samples_leaf=3,\n",
    "                                n_estimators=500, \n",
    "                                learning_rate=0.01)\n",
    "clf.fit(X_train4,y_train4C)"
   ]
  },
  {
   "cell_type": "code",
   "execution_count": 147,
   "id": "underlying-cotton",
   "metadata": {},
   "outputs": [],
   "source": [
    "preds = clf.predict(X_single)\n",
    "dfSingle['pred_class'] = preds\n",
    "short_idx = dfSingle[dfSingle['pred_class'] == 0].index\n",
    "long_idx = dfSingle[dfSingle['pred_class'] == 1].index"
   ]
  },
  {
   "cell_type": "code",
   "execution_count": 148,
   "id": "printable-syria",
   "metadata": {},
   "outputs": [],
   "source": [
    "X_singleS = X_single.loc[short_idx]\n",
    "X_singleL = X_single.loc[long_idx]\n",
    "y_singleS = y_single.loc[short_idx]\n",
    "y_singleL = y_single.loc[long_idx]"
   ]
  },
  {
   "cell_type": "code",
   "execution_count": 149,
   "id": "collectible-studio",
   "metadata": {},
   "outputs": [],
   "source": [
    "dfSingle['real_class'] = dfSingle['life_time'].apply(hsplit)"
   ]
  },
  {
   "cell_type": "code",
   "execution_count": 150,
   "id": "social-security",
   "metadata": {},
   "outputs": [
    {
     "name": "stdout",
     "output_type": "stream",
     "text": [
      "Predicted: SHORT: 441 LONG: 40\n",
      "Real: SHORT 105 LONG: 376\n"
     ]
    }
   ],
   "source": [
    "print(\"Predicted: SHORT: {} LONG: {}\".format(len(X_singleS),len(X_singleL)))\n",
    "print(\"Real: SHORT {} LONG: {}\".format(len(dfSingle[dfSingle['real_class']==0]),\n",
    "                                       len(dfSingle[dfSingle['real_class']==1])))"
   ]
  },
  {
   "cell_type": "code",
   "execution_count": 151,
   "id": "sapphire-athletics",
   "metadata": {},
   "outputs": [
    {
     "data": {
      "image/png": "[encoded data removed]",
      "text/plain": [
       "<Figure size 432x288 with 2 Axes>"
      ]
     },
     "metadata": {
      "needs_background": "light"
     },
     "output_type": "display_data"
    }
   ],
   "source": [
    "class_names = ['SHORT (<4H)','LONG (>=4H)']\n",
    "plot_confusion_matrix(clf, X_single, dfSingle['real_class'], cmap=plt.cm.Blues, \n",
    "                      display_labels=class_names, normalize='true')\n",
    "plt.tight_layout()\n",
    "plt.show()"
   ]
  },
  {
   "cell_type": "code",
   "execution_count": 152,
   "id": "experienced-interpretation",
   "metadata": {},
   "outputs": [
    {
     "name": "stdout",
     "output_type": "stream",
     "text": [
      "accuracy: 0.3\n",
      "precision: 1.0\n",
      "recall: 0.11\n",
      "f1 score: 0.19\n"
     ]
    },
    {
     "data": {
      "text/plain": [
       "{'f1': 0.1923076923076923,\n",
       " 'accuracy': 0.30145530145530147,\n",
       " 'precision': 1.0,\n",
       " 'recall': 0.10638297872340426}"
      ]
     },
     "execution_count": 152,
     "metadata": {},
     "output_type": "execute_result"
    }
   ],
   "source": [
    "accuracy, precision, recall, f1 = evaluate_scores(dfSingle['real_class'],dfSingle['pred_class'])\n",
    "results_qr = {'f1':f1, 'accuracy':accuracy, 'precision':precision, 'recall':recall}\n",
    "results_qr"
   ]
  },
  {
   "cell_type": "markdown",
   "id": "earlier-girlfriend",
   "metadata": {},
   "source": [
    "Load classified 4 station data:"
   ]
  },
  {
   "cell_type": "code",
   "execution_count": 153,
   "id": "interstate-beijing",
   "metadata": {},
   "outputs": [
    {
     "data": {
      "text/html": [
       "<div>\n",
       "<style scoped>\n",
       "    .dataframe tbody tr th:only-of-type {\n",
       "        vertical-align: middle;\n",
       "    }\n",
       "\n",
       "    .dataframe tbody tr th {\n",
       "        vertical-align: top;\n",
       "    }\n",
       "\n",
       "    .dataframe thead th {\n",
       "        text-align: right;\n",
       "    }\n",
       "</style>\n",
       "<table border=\"1\" class=\"dataframe\">\n",
       "  <thead>\n",
       "    <tr style=\"text-align: right;\">\n",
       "      <th></th>\n",
       "      <th>life_time</th>\n",
       "      <th>datetime_start</th>\n",
       "      <th>datetime_end</th>\n",
       "      <th>latitude</th>\n",
       "      <th>longitude</th>\n",
       "      <th>distance_center_km</th>\n",
       "      <th>weekday_b</th>\n",
       "      <th>charging_ports</th>\n",
       "      <th>lag1</th>\n",
       "      <th>lag2</th>\n",
       "      <th>...</th>\n",
       "      <th>hour_b_22</th>\n",
       "      <th>hour_b_23</th>\n",
       "      <th>Station_Name_BOULDER / N BOULDER REC 1</th>\n",
       "      <th>Station_Name_COMM VITALITY / 1000WALNUT</th>\n",
       "      <th>Station_Name_COMM VITALITY / 1104 SPRUCE1</th>\n",
       "      <th>4Hsplit</th>\n",
       "      <th>y_pred</th>\n",
       "      <th>Station_Name</th>\n",
       "      <th>weekday_b_name</th>\n",
       "      <th>tod</th>\n",
       "    </tr>\n",
       "  </thead>\n",
       "  <tbody>\n",
       "    <tr>\n",
       "      <th>3734</th>\n",
       "      <td>118.5</td>\n",
       "      <td>2018-01-05 14:25:00</td>\n",
       "      <td>2018-01-05 16:23:30</td>\n",
       "      <td>40.000148</td>\n",
       "      <td>-105.282437</td>\n",
       "      <td>2.096847</td>\n",
       "      <td>4</td>\n",
       "      <td>2</td>\n",
       "      <td>1271.5</td>\n",
       "      <td>135.5</td>\n",
       "      <td>...</td>\n",
       "      <td>0</td>\n",
       "      <td>0</td>\n",
       "      <td>0</td>\n",
       "      <td>0</td>\n",
       "      <td>0</td>\n",
       "      <td>0</td>\n",
       "      <td>1</td>\n",
       "      <td>BOULDER / BASELINE ST1</td>\n",
       "      <td>Friday</td>\n",
       "      <td>Midday</td>\n",
       "    </tr>\n",
       "    <tr>\n",
       "      <th>3735</th>\n",
       "      <td>886.5</td>\n",
       "      <td>2018-01-05 17:02:00</td>\n",
       "      <td>2018-01-06 07:48:30</td>\n",
       "      <td>40.000148</td>\n",
       "      <td>-105.282437</td>\n",
       "      <td>2.096847</td>\n",
       "      <td>4</td>\n",
       "      <td>2</td>\n",
       "      <td>118.5</td>\n",
       "      <td>1271.5</td>\n",
       "      <td>...</td>\n",
       "      <td>0</td>\n",
       "      <td>0</td>\n",
       "      <td>0</td>\n",
       "      <td>0</td>\n",
       "      <td>0</td>\n",
       "      <td>1</td>\n",
       "      <td>1</td>\n",
       "      <td>BOULDER / BASELINE ST1</td>\n",
       "      <td>Friday</td>\n",
       "      <td>Afternoon</td>\n",
       "    </tr>\n",
       "    <tr>\n",
       "      <th>3736</th>\n",
       "      <td>326.5</td>\n",
       "      <td>2018-01-06 09:28:00</td>\n",
       "      <td>2018-01-06 14:54:30</td>\n",
       "      <td>40.000148</td>\n",
       "      <td>-105.282437</td>\n",
       "      <td>2.096847</td>\n",
       "      <td>5</td>\n",
       "      <td>2</td>\n",
       "      <td>886.5</td>\n",
       "      <td>118.5</td>\n",
       "      <td>...</td>\n",
       "      <td>0</td>\n",
       "      <td>0</td>\n",
       "      <td>0</td>\n",
       "      <td>0</td>\n",
       "      <td>0</td>\n",
       "      <td>1</td>\n",
       "      <td>0</td>\n",
       "      <td>BOULDER / BASELINE ST1</td>\n",
       "      <td>Saturday</td>\n",
       "      <td>Morning</td>\n",
       "    </tr>\n",
       "    <tr>\n",
       "      <th>3737</th>\n",
       "      <td>996.5</td>\n",
       "      <td>2018-01-06 17:09:00</td>\n",
       "      <td>2018-01-07 09:45:30</td>\n",
       "      <td>40.000148</td>\n",
       "      <td>-105.282437</td>\n",
       "      <td>2.096847</td>\n",
       "      <td>5</td>\n",
       "      <td>2</td>\n",
       "      <td>326.5</td>\n",
       "      <td>886.5</td>\n",
       "      <td>...</td>\n",
       "      <td>0</td>\n",
       "      <td>0</td>\n",
       "      <td>0</td>\n",
       "      <td>0</td>\n",
       "      <td>0</td>\n",
       "      <td>1</td>\n",
       "      <td>1</td>\n",
       "      <td>BOULDER / BASELINE ST1</td>\n",
       "      <td>Saturday</td>\n",
       "      <td>Afternoon</td>\n",
       "    </tr>\n",
       "    <tr>\n",
       "      <th>3738</th>\n",
       "      <td>52.5</td>\n",
       "      <td>2018-01-07 10:58:00</td>\n",
       "      <td>2018-01-07 11:50:30</td>\n",
       "      <td>40.000148</td>\n",
       "      <td>-105.282437</td>\n",
       "      <td>2.096847</td>\n",
       "      <td>6</td>\n",
       "      <td>2</td>\n",
       "      <td>996.5</td>\n",
       "      <td>326.5</td>\n",
       "      <td>...</td>\n",
       "      <td>0</td>\n",
       "      <td>0</td>\n",
       "      <td>0</td>\n",
       "      <td>0</td>\n",
       "      <td>0</td>\n",
       "      <td>0</td>\n",
       "      <td>0</td>\n",
       "      <td>BOULDER / BASELINE ST1</td>\n",
       "      <td>Sunday</td>\n",
       "      <td>Morning</td>\n",
       "    </tr>\n",
       "  </tbody>\n",
       "</table>\n",
       "<p>5 rows × 102 columns</p>\n",
       "</div>"
      ],
      "text/plain": [
       "      life_time      datetime_start        datetime_end   latitude  \\\n",
       "3734      118.5 2018-01-05 14:25:00 2018-01-05 16:23:30  40.000148   \n",
       "3735      886.5 2018-01-05 17:02:00 2018-01-06 07:48:30  40.000148   \n",
       "3736      326.5 2018-01-06 09:28:00 2018-01-06 14:54:30  40.000148   \n",
       "3737      996.5 2018-01-06 17:09:00 2018-01-07 09:45:30  40.000148   \n",
       "3738       52.5 2018-01-07 10:58:00 2018-01-07 11:50:30  40.000148   \n",
       "\n",
       "       longitude  distance_center_km  weekday_b  charging_ports    lag1  \\\n",
       "3734 -105.282437            2.096847          4               2  1271.5   \n",
       "3735 -105.282437            2.096847          4               2   118.5   \n",
       "3736 -105.282437            2.096847          5               2   886.5   \n",
       "3737 -105.282437            2.096847          5               2   326.5   \n",
       "3738 -105.282437            2.096847          6               2   996.5   \n",
       "\n",
       "        lag2  ...  hour_b_22  hour_b_23  \\\n",
       "3734   135.5  ...          0          0   \n",
       "3735  1271.5  ...          0          0   \n",
       "3736   118.5  ...          0          0   \n",
       "3737   886.5  ...          0          0   \n",
       "3738   326.5  ...          0          0   \n",
       "\n",
       "      Station_Name_BOULDER / N BOULDER REC 1  \\\n",
       "3734                                       0   \n",
       "3735                                       0   \n",
       "3736                                       0   \n",
       "3737                                       0   \n",
       "3738                                       0   \n",
       "\n",
       "      Station_Name_COMM VITALITY / 1000WALNUT  \\\n",
       "3734                                        0   \n",
       "3735                                        0   \n",
       "3736                                        0   \n",
       "3737                                        0   \n",
       "3738                                        0   \n",
       "\n",
       "      Station_Name_COMM VITALITY / 1104 SPRUCE1  4Hsplit  y_pred  \\\n",
       "3734                                          0        0       1   \n",
       "3735                                          0        1       1   \n",
       "3736                                          0        1       0   \n",
       "3737                                          0        1       1   \n",
       "3738                                          0        0       0   \n",
       "\n",
       "                Station_Name  weekday_b_name        tod  \n",
       "3734  BOULDER / BASELINE ST1          Friday     Midday  \n",
       "3735  BOULDER / BASELINE ST1          Friday  Afternoon  \n",
       "3736  BOULDER / BASELINE ST1        Saturday    Morning  \n",
       "3737  BOULDER / BASELINE ST1        Saturday  Afternoon  \n",
       "3738  BOULDER / BASELINE ST1          Sunday    Morning  \n",
       "\n",
       "[5 rows x 102 columns]"
      ]
     },
     "execution_count": 153,
     "metadata": {},
     "output_type": "execute_result"
    }
   ],
   "source": [
    "# under_utilization data\n",
    "with open(\"../data/ut_V6_classification-4H.pkl\", \"rb\") as fh:\n",
    "    dfC = pickle5.load(fh)\n",
    "    \n",
    "dfC.head()"
   ]
  },
  {
   "cell_type": "code",
   "execution_count": 154,
   "id": "interim-woman",
   "metadata": {},
   "outputs": [
    {
     "data": {
      "text/plain": [
       "y_pred\n",
       "0    3062\n",
       "1    2048\n",
       "Name: life_time, dtype: int64"
      ]
     },
     "execution_count": 154,
     "metadata": {},
     "output_type": "execute_result"
    }
   ],
   "source": [
    "dfC.groupby(['y_pred']).count().life_time"
   ]
  },
  {
   "cell_type": "code",
   "execution_count": 155,
   "id": "characteristic-front",
   "metadata": {},
   "outputs": [
    {
     "name": "stdout",
     "output_type": "stream",
     "text": [
      "Training shape: (4088, 102)\n",
      "Testing shape: (1022, 102)\n",
      "SHORT: Train: 2433 Test: 629\n",
      "LONG: Train: 1655 Test: 393\n"
     ]
    }
   ],
   "source": [
    "train, test = np.split(dfC, [int(split * len(dfC))])\n",
    "print(\"Training shape:\",train.shape)\n",
    "print(\"Testing shape:\", test.shape)\n",
    "\n",
    "trainS = train[train['y_pred'] == 0]\n",
    "trainL = train[train['y_pred'] == 1]\n",
    "\n",
    "testS = test[test['y_pred'] == 0]\n",
    "testL = test[test['y_pred'] == 1]\n",
    "\n",
    "print(\"SHORT: Train: {} Test: {}\".format(trainS.shape[0], testS.shape[0]))\n",
    "print(\"LONG: Train: {} Test: {}\".format(trainL.shape[0], testL.shape[0]))"
   ]
  },
  {
   "cell_type": "code",
   "execution_count": 156,
   "id": "talented-formula",
   "metadata": {},
   "outputs": [],
   "source": [
    "# Full\n",
    "X_S = trainS[features4_cat+features4_con]\n",
    "scaler = StandardScaler()\n",
    "X_S[features4_con] = scaler.fit_transform(X_S[features4_con])\n",
    "X_L = trainL[features4_cat+features4_con]\n",
    "scaler = StandardScaler()\n",
    "X_L[features4_con] = scaler.fit_transform(X_L[features4_con])\n",
    "\n",
    "## Get y - train\n",
    "y_S = trainS['life_time']\n",
    "y_L = trainL['life_time']"
   ]
  },
  {
   "cell_type": "markdown",
   "id": "physical-cheese",
   "metadata": {},
   "source": [
    "## Two-step approach, machine learning methods"
   ]
  },
  {
   "cell_type": "code",
   "execution_count": 157,
   "id": "australian-magic",
   "metadata": {},
   "outputs": [],
   "source": [
    "results_ML = {}"
   ]
  },
  {
   "cell_type": "markdown",
   "id": "synthetic-spine",
   "metadata": {},
   "source": [
    "Define parameters:"
   ]
  },
  {
   "cell_type": "code",
   "execution_count": 158,
   "id": "through-circular",
   "metadata": {},
   "outputs": [],
   "source": [
    "parameters = {}\n",
    "parameters['LR'] = {}\n",
    "parameters['LR']['S'] = {'alpha':20}\n",
    "parameters['LR']['L'] = {'alpha':20}\n",
    "parameters['RF'] = {}\n",
    "parameters['RF']['S'] = {'n_estimators': 500, 'min_samples_split': 2, 'min_samples_leaf': 15, 'max_depth': 7}\n",
    "parameters['RF']['L'] = {'n_estimators': 100, 'min_samples_split': 5, 'min_samples_leaf': 15, 'max_depth': 3}\n",
    "parameters['GB'] = {}\n",
    "parameters['GB']['S'] = {'n_estimators': 300, 'min_samples_split': 7, 'min_samples_leaf': 10, 'max_depth': 3, 'learning_rate': 0.01}\n",
    "parameters['GB']['L'] = {'n_estimators': 300, 'min_samples_split': 5, 'min_samples_leaf': 10, 'max_depth': 2, 'learning_rate': 0.01}\n",
    "parameters['MLP'] = {}\n",
    "parameters['MLP']['S'] = {'hidden_layer_sizes': 256, 'alpha': 10, 'activation': 'relu'}\n",
    "parameters['MLP']['L'] = {'hidden_layer_sizes': (32, 32), 'alpha': 0.0001, 'activation': 'relu'}"
   ]
  },
  {
   "cell_type": "code",
   "execution_count": 159,
   "id": "alert-compromise",
   "metadata": {},
   "outputs": [],
   "source": [
    "## LR\n",
    "results_ML['LR'] = {}\n",
    "\n",
    "paramS = parameters['LR']['S']\n",
    "paramL = parameters['LR']['L']\n",
    "\n",
    "regs = Ridge(random_state=42, alpha=paramS['alpha'], fit_intercept=False)\n",
    "regs.fit(X_S,y_S)\n",
    "regl = Ridge(random_state=42, alpha=paramL['alpha'], fit_intercept=False)\n",
    "regl.fit(X_L,y_L)\n",
    "\n",
    "y_test_predS = regs.predict(X_singleS)\n",
    "MAE, RMSE, MSE, MAPE, NRMSE = test_model(y_singleS,y_test_predS)\n",
    "## Save results\n",
    "results_ML['LR']['S'] = {'rsq':r2_score(y_singleS, y_test_predS),\n",
    "                         'RMSE':RMSE, 'MAE':MAE,\n",
    "                              'MAPE':MAPE,'NRMSE_train':NRMSE}\n",
    "y_test_predL = regl.predict(X_singleL)\n",
    "MAE, RMSE, MSE, MAPE, NRMSE = test_model(y_singleL,y_test_predL)\n",
    "## Save results\n",
    "results_ML['LR']['L'] = {'rsq':r2_score(y_singleL, y_test_predL),\n",
    "                         'RMSE':RMSE, 'MAE':MAE,\n",
    "                              'MAPE':MAPE,'NRMSE_train':NRMSE}\n",
    "\n",
    "## COMBINED\n",
    "y_combined_pred = np.concatenate([y_test_predS,y_test_predL])\n",
    "y_combined_real = pd.concat([y_singleS,y_singleL])\n",
    "MAE, RMSE, MSE, MAPE, NRMSE = test_model(y_combined_real,y_combined_pred)\n",
    "results_ML['LR']['Com'] = {'rsq':r2_score(y_singleL, y_test_predL),\n",
    "                         'RMSE':RMSE, 'MAE':MAE,\n",
    "                              'MAPE':MAPE,'NRMSE_train':NRMSE}\n"
   ]
  },
  {
   "cell_type": "code",
   "execution_count": 160,
   "id": "pressing-manor",
   "metadata": {},
   "outputs": [],
   "source": [
    "## RF\n",
    "results_ML['RF'] = {}\n",
    "\n",
    "paramS = parameters['RF']['S']\n",
    "paramL = parameters['RF']['L']\n",
    "\n",
    "regs = RandomForestRegressor(random_state=42, \n",
    "                            min_samples_split=paramS['min_samples_split'],\n",
    "                            min_samples_leaf=paramS['min_samples_leaf'],\n",
    "                            max_depth=paramS['max_depth'],\n",
    "                            n_estimators=paramS['n_estimators'])\n",
    "regs.fit(X_S,y_S)\n",
    "regl = RandomForestRegressor(random_state=42, \n",
    "                            min_samples_split=paramL['min_samples_split'],\n",
    "                            min_samples_leaf=paramL['min_samples_leaf'], \n",
    "                            max_depth=paramL['max_depth'],\n",
    "                            n_estimators=paramL['n_estimators'])\n",
    "regl.fit(X_L,y_L)\n",
    "\n",
    "y_test_predS = regs.predict(X_singleS)\n",
    "MAE, RMSE, MSE, MAPE, NRMSE = test_model(y_singleS,y_test_predS)\n",
    "## Save results\n",
    "results_ML['RF']['S'] = {'rsq':r2_score(y_singleS, y_test_predS),\n",
    "                         'RMSE':RMSE, 'MAE':MAE,\n",
    "                              'MAPE':MAPE,'NRMSE_train':NRMSE}\n",
    "y_test_predL = regl.predict(X_singleL)\n",
    "MAE, RMSE, MSE, MAPE, NRMSE = test_model(y_singleL,y_test_predL)\n",
    "## Save results\n",
    "results_ML['RF']['L'] = {'rsq':r2_score(y_singleL, y_test_predL),\n",
    "                         'RMSE':RMSE, 'MAE':MAE,\n",
    "                              'MAPE':MAPE,'NRMSE_train':NRMSE}\n",
    "\n",
    "## COMBINED\n",
    "y_combined_pred = np.concatenate([y_test_predS,y_test_predL])\n",
    "y_combined_real = pd.concat([y_singleS,y_singleL])\n",
    "MAE, RMSE, MSE, MAPE, NRMSE = test_model(y_combined_real,y_combined_pred)\n",
    "results_ML['RF']['Com'] = {'rsq':r2_score(y_singleL, y_test_predL),\n",
    "                         'RMSE':RMSE, 'MAE':MAE,\n",
    "                              'MAPE':MAPE,'NRMSE_train':NRMSE}\n"
   ]
  },
  {
   "cell_type": "code",
   "execution_count": 161,
   "id": "frozen-emerald",
   "metadata": {},
   "outputs": [],
   "source": [
    "## RF\n",
    "results_ML['MLP'] = {}\n",
    "\n",
    "paramS = parameters['MLP']['S']\n",
    "paramL = parameters['MLP']['L']\n",
    "\n",
    "regs = MLPRegressor(random_state=42, alpha=paramS['alpha'], \n",
    "                    hidden_layer_sizes=paramS['hidden_layer_sizes'],\n",
    "                    max_iter=500, early_stopping=True)\n",
    "regs.fit(X_S,y_S)\n",
    "regl = MLPRegressor(random_state=42, alpha=paramS['alpha'], \n",
    "                    hidden_layer_sizes=paramS['hidden_layer_sizes'],\n",
    "                    max_iter=500, early_stopping=True)\n",
    "regl.fit(X_L,y_L)\n",
    "\n",
    "y_test_predS = regs.predict(X_singleS)\n",
    "MAE, RMSE, MSE, MAPE, NRMSE = test_model(y_singleS,y_test_predS)\n",
    "## Save results\n",
    "results_ML['MLP']['S'] = {'rsq':r2_score(y_singleS, y_test_predS),\n",
    "                         'RMSE':RMSE, 'MAE':MAE,\n",
    "                              'MAPE':MAPE,'NRMSE_train':NRMSE}\n",
    "y_test_predL = regl.predict(X_singleL)\n",
    "MAE, RMSE, MSE, MAPE, NRMSE = test_model(y_singleL,y_test_predL)\n",
    "## Save results\n",
    "results_ML['MLP']['L'] = {'rsq':r2_score(y_singleL, y_test_predL),\n",
    "                         'RMSE':RMSE, 'MAE':MAE,\n",
    "                              'MAPE':MAPE,'NRMSE_train':NRMSE}\n",
    "\n",
    "## COMBINED\n",
    "y_combined_pred = np.concatenate([y_test_predS,y_test_predL])\n",
    "y_combined_real = pd.concat([y_singleS,y_singleL])\n",
    "MAE, RMSE, MSE, MAPE, NRMSE = test_model(y_combined_real,y_combined_pred)\n",
    "results_ML['MLP']['Com'] = {'rsq':r2_score(y_singleL, y_test_predL),\n",
    "                         'RMSE':RMSE, 'MAE':MAE,\n",
    "                              'MAPE':MAPE,'NRMSE_train':NRMSE}\n"
   ]
  },
  {
   "cell_type": "code",
   "execution_count": 162,
   "id": "prospective-talent",
   "metadata": {},
   "outputs": [],
   "source": [
    "## RF\n",
    "results_ML['GB'] = {}\n",
    "\n",
    "paramS = parameters['GB']['S']\n",
    "paramL = parameters['GB']['L']\n",
    "\n",
    "regs = GradientBoostingRegressor(random_state=42, \n",
    "                                max_depth=paramS['max_depth'],\n",
    "                                n_estimators=paramS['n_estimators'], \n",
    "                                learning_rate=paramS['learning_rate'])\n",
    "regs.fit(X_S,y_S)\n",
    "regl = GradientBoostingRegressor(random_state=42, \n",
    "                                max_depth=paramL['max_depth'],\n",
    "                                n_estimators=paramL['n_estimators'], \n",
    "                                learning_rate=paramL['learning_rate'])\n",
    "regl.fit(X_L,y_L)\n",
    "\n",
    "y_test_predS = regs.predict(X_singleS)\n",
    "MAE, RMSE, MSE, MAPE, NRMSE = test_model(y_singleS,y_test_predS)\n",
    "## Save results\n",
    "results_ML['GB']['S'] = {'rsq':r2_score(y_singleS, y_test_predS),\n",
    "                         'RMSE':RMSE, 'MAE':MAE,\n",
    "                              'MAPE':MAPE,'NRMSE_train':NRMSE}\n",
    "y_test_predL = regl.predict(X_singleL)\n",
    "MAE, RMSE, MSE, MAPE, NRMSE = test_model(y_singleL,y_test_predL)\n",
    "## Save results\n",
    "results_ML['GB']['L'] = {'rsq':r2_score(y_singleL, y_test_predL),\n",
    "                         'RMSE':RMSE, 'MAE':MAE,\n",
    "                              'MAPE':MAPE,'NRMSE_train':NRMSE}\n",
    "\n",
    "## COMBINED\n",
    "y_combined_pred = np.concatenate([y_test_predS,y_test_predL])\n",
    "y_combined_real = pd.concat([y_singleS,y_singleL])\n",
    "MAE, RMSE, MSE, MAPE, NRMSE = test_model(y_combined_real,y_combined_pred)\n",
    "results_ML['GB']['Com'] = {'rsq':r2_score(y_combined_real, y_combined_pred),\n",
    "                           'RMSE':RMSE, 'MAE':MAE,\n",
    "                           'MAPE':MAPE,'NRMSE_train':NRMSE}"
   ]
  },
  {
   "cell_type": "code",
   "execution_count": 163,
   "id": "curious-thesaurus",
   "metadata": {},
   "outputs": [
    {
     "name": "stdout",
     "output_type": "stream",
     "text": [
      "-------------------- COMBINED --------------------\n",
      "LR:  R2: -0.72 RMSE: 1432.0 MAE: 1051.0 MAPE: 309.0\n",
      "RF:  R2: -0.95 RMSE: 1407.0 MAE: 1036.0 MAPE: 358.0\n",
      "MLP:  R2: -2.15 RMSE: 1553.0 MAE: 1167.0 MAPE: 177.0\n",
      "GB:  R2: -0.77 RMSE: 1390.0 MAE: 1022.0 MAPE: 316.0\n",
      "\n",
      "\n"
     ]
    }
   ],
   "source": [
    "methods = ['LR', 'RF', 'MLP', 'GB']\n",
    "\n",
    "print(20*'-',\"COMBINED\",20*'-')\n",
    "for me in methods:\n",
    "    r = results_ML[me]['Com']\n",
    "    RMSE = r['RMSE']\n",
    "    R2 = r['rsq']\n",
    "    MAE = r['MAE']\n",
    "    MAPE = r['MAPE']\n",
    "    #NRMSE = r['NRMSE']\n",
    "    print(\"{}:  R2: {} RMSE: {} MAE: {} MAPE: {}\".format(me,\n",
    "                                                                  round(np.mean(R2),2),\n",
    "                                                                  round(np.mean(RMSE),0),\n",
    "                                                                  round(np.mean(MAE),0),\n",
    "                                                                  round(np.mean(MAPE),0)))        \n",
    "print(\"\\n\")"
   ]
  },
  {
   "cell_type": "markdown",
   "id": "metallic-tract",
   "metadata": {},
   "source": [
    "## Two-step approach, quantile regression"
   ]
  },
  {
   "cell_type": "code",
   "execution_count": 164,
   "id": "indoor-cemetery",
   "metadata": {},
   "outputs": [],
   "source": [
    "quantile_labels = ['5th','25th','50th','75th','95th']\n",
    "# M4 - Full\n",
    "qr_M4_S = pd.DataFrame(columns=quantile_labels+['true'])\n",
    "qr_M4_S['true'] = y_singleS\n",
    "qr_M4_L = pd.DataFrame(columns=quantile_labels+['true'])\n",
    "qr_M4_L['true'] = y_singleL"
   ]
  },
  {
   "cell_type": "code",
   "execution_count": 165,
   "id": "viral-westminster",
   "metadata": {},
   "outputs": [
    {
     "name": "stdout",
     "output_type": "stream",
     "text": [
      "SHORT, Q: 0.05\n",
      "SHORT, Q: 0.25\n",
      "SHORT, Q: 0.5\n",
      "SHORT, Q: 0.75\n",
      "SHORT, Q: 0.95\n",
      "LONG, Q: 0.05\n",
      "LONG, Q: 0.25\n",
      "LONG, Q: 0.5\n",
      "LONG, Q: 0.75\n",
      "LONG, Q: 0.95\n"
     ]
    }
   ],
   "source": [
    "## SHORT\n",
    "for i in range(len(quantiles)):\n",
    "    print(\"SHORT, Q: {}\".format(quantiles[i]))\n",
    "    reg = GradientBoostingRegressor(random_state=42, max_depth=3,\n",
    "                                    n_estimators=300,\n",
    "                                    min_samples_split=5,\n",
    "                                    min_samples_leaf=15,\n",
    "                                    learning_rate=0.01,\n",
    "                                    loss='quantile', alpha=quantiles[i])\n",
    "    reg.fit(X_S,y_S)\n",
    "    qr_M4_S[quantile_labels[i]] = reg.predict(X_singleS)\n",
    "    \n",
    "## LONG\n",
    "for i in range(len(quantiles)):\n",
    "    print(\"LONG, Q: {}\".format(quantiles[i]))\n",
    "    reg = GradientBoostingRegressor(random_state=42, max_depth=3,\n",
    "                                    n_estimators=300,\n",
    "                                    min_samples_split=5,\n",
    "                                    min_samples_leaf=15,\n",
    "                                    learning_rate=0.01,\n",
    "                                    loss='quantile', alpha=quantiles[i])\n",
    "    reg.fit(X_L,y_L)\n",
    "    qr_M4_L[quantile_labels[i]] = reg.predict(X_singleL)\n",
    "    "
   ]
  },
  {
   "cell_type": "code",
   "execution_count": 166,
   "id": "excess-influence",
   "metadata": {},
   "outputs": [],
   "source": [
    "M4_pred_com = qr_M4_S.append(qr_M4_L)"
   ]
  },
  {
   "cell_type": "code",
   "execution_count": 167,
   "id": "endless-preview",
   "metadata": {},
   "outputs": [],
   "source": [
    "results_QR = {}\n",
    "\n",
    "## Get metrics\n",
    "MAE_test, RMSE_test, MSE_test, MAPE_test, NRMSE_test = test_model(qr_M4_S['true'],qr_M4_S['50th'])\n",
    "results_QR['S'] = {'RMSE_test':RMSE_test,'MAE_test':MAE_test,\n",
    "                      'rsq_test':r2_score(qr_M4_S['true'],qr_M4_S['50th']),\n",
    "                      'MAPE_test':MAPE_test,'NRMSE_test':NRMSE_test}\n",
    "\n",
    "MAE_test, RMSE_test, MSE_test, MAPE_test, NRMSE_test = test_model(qr_M4_L['true'],qr_M4_L['50th'])\n",
    "results_QR['L'] = {'RMSE_test':RMSE_test,'MAE_test':MAE_test,\n",
    "                      'rsq_test':r2_score(qr_M4_L['true'],qr_M4_L['50th']),\n",
    "                      'MAPE_test':MAPE_test,'NRMSE_test':NRMSE_test}\n",
    "\n",
    "MAE_test, RMSE_test, MSE_test, MAPE_test, NRMSE_test = test_model(M4_pred_com['true'],M4_pred_com['50th'])\n",
    "results_QR['Com'] = {'RMSE_test':RMSE_test,'MAE_test':MAE_test,\n",
    "                      'rsq_test':r2_score(M4_pred_com['true'],M4_pred_com['50th']),\n",
    "                      'MAPE_test':MAPE_test,'NRMSE_test':NRMSE_test}"
   ]
  },
  {
   "cell_type": "code",
   "execution_count": 168,
   "id": "french-belgium",
   "metadata": {},
   "outputs": [
    {
     "data": {
      "text/plain": [
       "{'S': {'RMSE_test': 1507.8978567069241,\n",
       "  'MAE_test': 1119.6401809937265,\n",
       "  'rsq_test': -1.0874781371053093,\n",
       "  'MAPE_test': 181.15820674156268,\n",
       "  'NRMSE_test': 1.2186305994217377},\n",
       " 'L': {'RMSE_test': 1331.694924828998,\n",
       "  'MAE_test': 946.3878688541057,\n",
       "  'rsq_test': -0.923348380791938,\n",
       "  'MAPE_test': 40.07370494703027,\n",
       "  'NRMSE_test': 0.7687882027646911},\n",
       " 'Com': {'RMSE_test': 1494.0372317733145,\n",
       "  'MAE_test': 1105.232504308519,\n",
       "  'rsq_test': -1.0403520615265514,\n",
       "  'MAPE_test': 169.42560783973047,\n",
       "  'NRMSE_test': 1.1685670216978012}}"
      ]
     },
     "execution_count": 168,
     "metadata": {},
     "output_type": "execute_result"
    }
   ],
   "source": [
    "results_QR"
   ]
  },
  {
   "cell_type": "code",
   "execution_count": 169,
   "id": "patent-hammer",
   "metadata": {},
   "outputs": [],
   "source": [
    "######### M5 #########\n",
    "####### SHORT #######\n",
    "## 5%-95%\n",
    "qr_M4_S['MIL5-95'] = qr_M4_S['95th']-qr_M4_S['5th']\n",
    "qr_M4_S = qr_M4_S.reset_index()\n",
    "# Get ICP\n",
    "temp = []\n",
    "for i in range(len(y_singleS)):\n",
    "    row = qr_M4_S.loc[i]\n",
    "    temp.append(ICP(row['5th'], row['95th'], row['true']))\n",
    "qr_M4_S['ICP5-95'] = temp\n",
    "\n",
    "## 25%-75%\n",
    "qr_M4_S['MIL25-75'] = qr_M4_S['75th']-qr_M4_S['25th']\n",
    "# Get ICP\n",
    "temp = []\n",
    "for i in range(len(y_singleS)):\n",
    "    row = qr_M4_S.loc[i]\n",
    "    temp.append(ICP(row['25th'], row['75th'], row['true']))\n",
    "qr_M4_S['ICP25-75'] = temp\n",
    "\n",
    "####### LONG #######\n",
    "## 5%-95%\n",
    "qr_M4_L['MIL5-95'] = qr_M4_L['95th']-qr_M4_L['5th']\n",
    "qr_M4_L = qr_M4_L.reset_index()\n",
    "# Get ICP\n",
    "temp = []\n",
    "for i in range(len(y_singleL)):\n",
    "    row = qr_M4_L.loc[i]\n",
    "    temp.append(ICP(row['5th'], row['95th'], row['true']))\n",
    "qr_M4_L['ICP5-95'] = temp\n",
    "\n",
    "## 25%-75%\n",
    "qr_M4_L['MIL25-75'] = qr_M4_L['75th']-qr_M4_L['25th']\n",
    "# Get ICP\n",
    "temp = []\n",
    "for i in range(len(y_singleL)):\n",
    "    row = qr_M4_L.loc[i]\n",
    "    temp.append(ICP(row['25th'], row['75th'], row['true']))\n",
    "qr_M4_L['ICP25-75'] = temp\n",
    "\n",
    "####### COMBINED #######\n",
    "## 5%-95%\n",
    "M4_pred_com['MIL5-95'] = M4_pred_com['95th']-M4_pred_com['5th']\n",
    "M4_pred_com = M4_pred_com.reset_index()\n",
    "# Get ICP\n",
    "temp = []\n",
    "for i in range(len(M4_pred_com)):\n",
    "    row = M4_pred_com.loc[i]\n",
    "    temp.append(ICP(row['5th'], row['95th'], row['true']))\n",
    "M4_pred_com['ICP5-95'] = temp\n",
    "\n",
    "## 25%-75%\n",
    "M4_pred_com['MIL25-75'] = M4_pred_com['75th']-M4_pred_com['25th']\n",
    "# Get ICP\n",
    "temp = []\n",
    "for i in range(len(M4_pred_com)):\n",
    "    row = M4_pred_com.loc[i]\n",
    "    temp.append(ICP(row['25th'], row['75th'], row['true']))\n",
    "M4_pred_com['ICP25-75'] = temp\n"
   ]
  },
  {
   "cell_type": "code",
   "execution_count": 170,
   "id": "metropolitan-updating",
   "metadata": {},
   "outputs": [],
   "source": [
    "qr_M4_S = qr_M4_S.set_index('index')\n",
    "qr_M4_L = qr_M4_L.set_index('index')\n",
    "M4_pred_com = M4_pred_com.set_index('index')"
   ]
  },
  {
   "cell_type": "code",
   "execution_count": 171,
   "id": "legitimate-pulse",
   "metadata": {},
   "outputs": [],
   "source": [
    "qr_M4_S = qr_M4_S.merge(df[['tod','weekday_b_name','Station_Name']],left_index=True,right_index=True)\n",
    "qr_M4_L = qr_M4_L.merge(df[['tod','weekday_b_name','Station_Name']],left_index=True,right_index=True)\n",
    "M4_pred_com = M4_pred_com.merge(df[['tod','weekday_b_name','Station_Name']],left_index=True,right_index=True)"
   ]
  },
  {
   "cell_type": "code",
   "execution_count": 172,
   "id": "whole-prompt",
   "metadata": {},
   "outputs": [
    {
     "name": "stdout",
     "output_type": "stream",
     "text": [
      "------ SHORT ------ \n",
      "Full (5%-95%): MIL: 1144.33 ICP: 0.517\n",
      "Full (25%-75%): MIL: 407.08 ICP: 0.175\n",
      "\n",
      "------ LONG ------ \n",
      "Full (5%-95%): MIL: 1218.61 ICP: 0.475\n",
      "Full (25%-75%): MIL: 391.79 ICP: 0.35\n",
      "\n",
      "------ COMBIEND ------ \n",
      "Full (5%-95%): MIL: 1150.5 ICP: 0.514\n",
      "Full (25%-75%): MIL: 405.81 ICP: 0.189\n"
     ]
    }
   ],
   "source": [
    "print(\"------ SHORT ------ \")\n",
    "print(\"Full (5%-95%): MIL: {} ICP: {}\".format(round(np.mean(qr_M4_S['MIL5-95']),2), \n",
    "                                            round(np.sum(qr_M4_S['ICP5-95'])/len(qr_M4_S),3)))\n",
    "print(\"Full (25%-75%): MIL: {} ICP: {}\".format(round(np.mean(qr_M4_S['MIL25-75']),2), \n",
    "                                            round(np.sum(qr_M4_S['ICP25-75'])/len(qr_M4_S),3)))\n",
    "\n",
    "\n",
    "print(\"\\n------ LONG ------ \")\n",
    "print(\"Full (5%-95%): MIL: {} ICP: {}\".format(round(np.mean(qr_M4_L['MIL5-95']),2), \n",
    "                                            round(np.sum(qr_M4_L['ICP5-95'])/len(qr_M4_L),3)))\n",
    "print(\"Full (25%-75%): MIL: {} ICP: {}\".format(round(np.mean(qr_M4_L['MIL25-75']),2), \n",
    "                                            round(np.sum(qr_M4_L['ICP25-75'])/len(qr_M4_L),3)))\n",
    "\n",
    "print(\"\\n------ COMBIEND ------ \")\n",
    "print(\"Full (5%-95%): MIL: {} ICP: {}\".format(round(np.mean(M4_pred_com['MIL5-95']),2), \n",
    "                                            round(np.sum(M4_pred_com['ICP5-95'])/len(M4_pred_com),3)))\n",
    "print(\"Full (25%-75%): MIL: {} ICP: {}\".format(round(np.mean(M4_pred_com['MIL25-75']),2), \n",
    "                                            round(np.sum(M4_pred_com['ICP25-75'])/len(M4_pred_com),3)))"
   ]
  },
  {
   "cell_type": "markdown",
   "id": "pregnant-lease",
   "metadata": {},
   "source": [
    "## Two-step approach - Survival analysis "
   ]
  },
  {
   "cell_type": "code",
   "execution_count": 173,
   "id": "opened-mitchell",
   "metadata": {},
   "outputs": [],
   "source": [
    "## define hyperparameters\n",
    "lr_s4 = 0.01\n",
    "l2_reg_s4 = 0.01\n",
    "\n",
    "lr_l4 = 0.1\n",
    "l2_reg_l4 = 0.1"
   ]
  },
  {
   "cell_type": "code",
   "execution_count": 174,
   "id": "spectacular-postcard",
   "metadata": {},
   "outputs": [],
   "source": [
    "## Get E -train\n",
    "E_S = np.ones(len(trainS))\n",
    "E_L = np.ones(len(trainL))\n",
    "\n",
    "## Get T - train\n",
    "T_S = trainS['life_time']\n",
    "T_L = trainL['life_time']"
   ]
  },
  {
   "cell_type": "code",
   "execution_count": 175,
   "id": "ancient-knife",
   "metadata": {},
   "outputs": [],
   "source": [
    "## single stat data\n",
    "E_single_S = np.ones(len(y_singleS))\n",
    "E_single_L = np.ones(len(y_singleL))"
   ]
  },
  {
   "cell_type": "code",
   "execution_count": 176,
   "id": "lined-investigator",
   "metadata": {},
   "outputs": [
    {
     "data": {
      "text/plain": [
       "CoxPHModel"
      ]
     },
     "execution_count": 176,
     "metadata": {},
     "output_type": "execute_result"
    }
   ],
   "source": [
    "regs = CoxPHModel()\n",
    "regs.fit(X_S, T_S, E_S, lr=lr_s4, l2_reg = l2_reg_s4, \n",
    "        init_method='zeros', max_iter=800, verbose=False)\n",
    "regl = CoxPHModel()\n",
    "regl.fit(X_L, T_L, E_L, lr=lr_l4, l2_reg = l2_reg_l4, \n",
    "        init_method='zeros', max_iter=800, verbose=False)"
   ]
  },
  {
   "cell_type": "code",
   "execution_count": 177,
   "id": "christian-script",
   "metadata": {},
   "outputs": [],
   "source": [
    "results_SA = {}\n",
    "\n",
    "point_predictionsS = point_pred_single(regs, X_singleS)\n",
    "cS = concordance_index(y_singleS, point_predictionsS)\n",
    "MAE, RMSE, MSE, MAPE, NRMSE = test_model(y_singleS,point_predictionsS)\n",
    "## Save results\n",
    "results_SA['S'] = {'rsq':r2_score(y_singleS, point_predictionsS),\n",
    "                   'c-index':cS,'RMSE':RMSE, 'MAE':MAE,\n",
    "                   'MAPE':MAPE,'NRMSE_train':NRMSE}\n",
    "\n",
    "point_predictionsL = point_pred_single(regl, X_singleL)\n",
    "cL = concordance_index(y_singleL, point_predictionsL)\n",
    "MAE, RMSE, MSE, MAPE, NRMSE = test_model(y_singleL,point_predictionsL)\n",
    "## Save results\n",
    "results_SA['L'] = {'rsq':r2_score(y_singleL, point_predictionsL),\n",
    "                   'c-index':cL,'RMSE':RMSE, 'MAE':MAE,\n",
    "                   'MAPE':MAPE,'NRMSE_train':NRMSE}\n",
    "\n",
    "## COMBINED\n",
    "y_combined_pred = np.concatenate([point_predictionsS,point_predictionsL])\n",
    "y_combined_real = pd.concat([y_singleS,y_singleL])\n",
    "c_com = concordance_index(y_combined_real, y_combined_pred)\n",
    "MAE, RMSE, MSE, MAPE, NRMSE = test_model(y_combined_real,y_combined_pred)\n",
    "results_SA['Com'] = {'rsq':r2_score(y_combined_real, y_combined_pred),\n",
    "                           'c-index':c_com,\n",
    "                           'RMSE':RMSE, 'MAE':MAE,\n",
    "                           'MAPE':MAPE,'NRMSE_train':NRMSE}"
   ]
  },
  {
   "cell_type": "code",
   "execution_count": 178,
   "id": "national-helicopter",
   "metadata": {},
   "outputs": [
    {
     "name": "stdout",
     "output_type": "stream",
     "text": [
      "-------------------- COMBINED --------------------\n",
      "R2: -0.81 C-index: 0.51 RMSE: 1407.0 MAE: 1037.0 MAPE: 372.0\n"
     ]
    }
   ],
   "source": [
    "print(20*'-',\"COMBINED\",20*'-')\n",
    "r = results_SA['Com']\n",
    "RMSE = r['RMSE']\n",
    "R2 = r['rsq']\n",
    "MAE = r['MAE']\n",
    "MAPE = r['MAPE']\n",
    "C_idx = r['c-index']\n",
    "print(\"R2: {} C-index: {} RMSE: {} MAE: {} MAPE: {}\".format(\n",
    "                                                              round((R2),2),\n",
    "                                                              round(C_idx,2),\n",
    "                                                              round((RMSE),0),\n",
    "                                                              round((MAE),0),\n",
    "                                                              round((MAPE),0)))        \n"
   ]
  }
 ],
 "metadata": {
  "kernelspec": {
   "display_name": "Python 3",
   "language": "python",
   "name": "python3"
  },
  "language_info": {
   "codemirror_mode": {
    "name": "ipython",
    "version": 3
   },
   "file_extension": ".py",
   "mimetype": "text/x-python",
   "name": "python",
   "nbconvert_exporter": "python",
   "pygments_lexer": "ipython3",
   "version": "3.7.3"
  }
 },
 "nbformat": 4,
 "nbformat_minor": 5
}
