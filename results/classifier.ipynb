{
 "cells": [
  {
   "cell_type": "code",
   "execution_count": 1,
   "id": "african-pocket",
   "metadata": {},
   "outputs": [],
   "source": [
    "import pandas as pd\n",
    "import numpy as np \n",
    "import pickle5\n",
    "import matplotlib.pyplot as plt\n",
    "import datetime\n",
    "from sklearn.preprocessing import StandardScaler\n",
    "from sklearn.model_selection import RandomizedSearchCV\n",
    "from sklearn.metrics import r2_score\n",
    "from sklearn.ensemble import RandomForestClassifier"
   ]
  },
  {
   "cell_type": "code",
   "execution_count": 2,
   "id": "prescribed-method",
   "metadata": {},
   "outputs": [
    {
     "data": {
      "text/html": [
       "<div>\n",
       "<style scoped>\n",
       "    .dataframe tbody tr th:only-of-type {\n",
       "        vertical-align: middle;\n",
       "    }\n",
       "\n",
       "    .dataframe tbody tr th {\n",
       "        vertical-align: top;\n",
       "    }\n",
       "\n",
       "    .dataframe thead th {\n",
       "        text-align: right;\n",
       "    }\n",
       "</style>\n",
       "<table border=\"1\" class=\"dataframe\">\n",
       "  <thead>\n",
       "    <tr style=\"text-align: right;\">\n",
       "      <th></th>\n",
       "      <th>life_time</th>\n",
       "      <th>datetime_start</th>\n",
       "      <th>datetime_end</th>\n",
       "      <th>latitude</th>\n",
       "      <th>longitude</th>\n",
       "      <th>distance_center_km</th>\n",
       "      <th>Station_Name</th>\n",
       "      <th>weekday_b</th>\n",
       "      <th>weekday_b_name</th>\n",
       "      <th>hour_b</th>\n",
       "      <th>...</th>\n",
       "      <th>near_inactivity_6H</th>\n",
       "      <th>near_charge_events_6H</th>\n",
       "      <th>service</th>\n",
       "      <th>entertainment</th>\n",
       "      <th>food</th>\n",
       "      <th>childcare</th>\n",
       "      <th>medical</th>\n",
       "      <th>education</th>\n",
       "      <th>parking</th>\n",
       "      <th>waste-management</th>\n",
       "    </tr>\n",
       "  </thead>\n",
       "  <tbody>\n",
       "    <tr>\n",
       "      <th>0</th>\n",
       "      <td>928.5</td>\n",
       "      <td>2018-01-31 19:51:00</td>\n",
       "      <td>2018-02-01 11:19:30</td>\n",
       "      <td>40.018482</td>\n",
       "      <td>-105.281066</td>\n",
       "      <td>0.152203</td>\n",
       "      <td>COMM VITALITY / 1104 SPRUCE1</td>\n",
       "      <td>2</td>\n",
       "      <td>Wednesday</td>\n",
       "      <td>19</td>\n",
       "      <td>...</td>\n",
       "      <td>0.0</td>\n",
       "      <td>0</td>\n",
       "      <td>0.057343</td>\n",
       "      <td>0.109796</td>\n",
       "      <td>0.073649</td>\n",
       "      <td>3.517121</td>\n",
       "      <td>0.466518</td>\n",
       "      <td>0.631771</td>\n",
       "      <td>0.021832</td>\n",
       "      <td>1.145959</td>\n",
       "    </tr>\n",
       "    <tr>\n",
       "      <th>1</th>\n",
       "      <td>363.5</td>\n",
       "      <td>2018-02-01 14:03:00</td>\n",
       "      <td>2018-02-01 20:06:30</td>\n",
       "      <td>40.018482</td>\n",
       "      <td>-105.281066</td>\n",
       "      <td>0.152203</td>\n",
       "      <td>COMM VITALITY / 1104 SPRUCE1</td>\n",
       "      <td>3</td>\n",
       "      <td>Thursday</td>\n",
       "      <td>14</td>\n",
       "      <td>...</td>\n",
       "      <td>0.0</td>\n",
       "      <td>0</td>\n",
       "      <td>0.057343</td>\n",
       "      <td>0.109796</td>\n",
       "      <td>0.073649</td>\n",
       "      <td>3.517121</td>\n",
       "      <td>0.466518</td>\n",
       "      <td>0.631771</td>\n",
       "      <td>0.021832</td>\n",
       "      <td>1.145959</td>\n",
       "    </tr>\n",
       "    <tr>\n",
       "      <th>2</th>\n",
       "      <td>6828.5</td>\n",
       "      <td>2018-02-01 21:15:00</td>\n",
       "      <td>2018-02-06 15:03:30</td>\n",
       "      <td>40.018482</td>\n",
       "      <td>-105.281066</td>\n",
       "      <td>0.152203</td>\n",
       "      <td>COMM VITALITY / 1104 SPRUCE1</td>\n",
       "      <td>3</td>\n",
       "      <td>Thursday</td>\n",
       "      <td>21</td>\n",
       "      <td>...</td>\n",
       "      <td>0.0</td>\n",
       "      <td>0</td>\n",
       "      <td>0.057343</td>\n",
       "      <td>0.109796</td>\n",
       "      <td>0.073649</td>\n",
       "      <td>3.517121</td>\n",
       "      <td>0.466518</td>\n",
       "      <td>0.631771</td>\n",
       "      <td>0.021832</td>\n",
       "      <td>1.145959</td>\n",
       "    </tr>\n",
       "  </tbody>\n",
       "</table>\n",
       "<p>3 rows × 71 columns</p>\n",
       "</div>"
      ],
      "text/plain": [
       "   life_time      datetime_start        datetime_end   latitude   longitude  \\\n",
       "0      928.5 2018-01-31 19:51:00 2018-02-01 11:19:30  40.018482 -105.281066   \n",
       "1      363.5 2018-02-01 14:03:00 2018-02-01 20:06:30  40.018482 -105.281066   \n",
       "2     6828.5 2018-02-01 21:15:00 2018-02-06 15:03:30  40.018482 -105.281066   \n",
       "\n",
       "   distance_center_km                  Station_Name  weekday_b weekday_b_name  \\\n",
       "0            0.152203  COMM VITALITY / 1104 SPRUCE1          2      Wednesday   \n",
       "1            0.152203  COMM VITALITY / 1104 SPRUCE1          3       Thursday   \n",
       "2            0.152203  COMM VITALITY / 1104 SPRUCE1          3       Thursday   \n",
       "\n",
       "   hour_b  ...  near_inactivity_6H  near_charge_events_6H   service  \\\n",
       "0      19  ...                 0.0                      0  0.057343   \n",
       "1      14  ...                 0.0                      0  0.057343   \n",
       "2      21  ...                 0.0                      0  0.057343   \n",
       "\n",
       "   entertainment      food  childcare   medical  education   parking  \\\n",
       "0       0.109796  0.073649   3.517121  0.466518   0.631771  0.021832   \n",
       "1       0.109796  0.073649   3.517121  0.466518   0.631771  0.021832   \n",
       "2       0.109796  0.073649   3.517121  0.466518   0.631771  0.021832   \n",
       "\n",
       "   waste-management  \n",
       "0          1.145959  \n",
       "1          1.145959  \n",
       "2          1.145959  \n",
       "\n",
       "[3 rows x 71 columns]"
      ]
     },
     "execution_count": 2,
     "metadata": {},
     "output_type": "execute_result"
    }
   ],
   "source": [
    "with open(\"../data/ut_poiV6.pkl\", \"rb\") as fh:\n",
    "    df = pickle5.load(fh)\n",
    "    \n",
    "df.head(3)"
   ]
  },
  {
   "cell_type": "code",
   "execution_count": 3,
   "id": "neutral-freight",
   "metadata": {},
   "outputs": [
    {
     "data": {
      "text/plain": [
       "(12711, 71)"
      ]
     },
     "execution_count": 3,
     "metadata": {},
     "output_type": "execute_result"
    }
   ],
   "source": [
    "df.shape"
   ]
  },
  {
   "cell_type": "markdown",
   "id": "quarterly-sellers",
   "metadata": {},
   "source": [
    "### Remove outliers & nan"
   ]
  },
  {
   "cell_type": "code",
   "execution_count": null,
   "id": "conservative-montgomery",
   "metadata": {},
   "outputs": [],
   "source": [
    "# remove rows\n",
    "df = df.dropna()"
   ]
  },
  {
   "cell_type": "code",
   "execution_count": 7,
   "id": "friendly-ending",
   "metadata": {},
   "outputs": [
    {
     "name": "stdout",
     "output_type": "stream",
     "text": [
      "COMM VITALITY / 1104 SPRUCE1: 57 (4.4 %)\n",
      "COMM VITALITY / 1000WALNUT: 48 (3.32 %)\n",
      "BOULDER / REC CENTER: 40 (3.51 %)\n",
      "BOULDER / BASELINE ST1: 42 (3.53 %)\n",
      "BOULDER / ATRIUM ST1: 65 (6.58 %)\n",
      "BOULDER / ALPINE ST1: 32 (8.96 %)\n",
      "COMM VITALITY / 1400 WALNUT1: 38 (7.29 %)\n",
      "BOULDER / FACILITIES ST1: 84 (16.28 %)\n",
      "COMM VITALITY / 1500PEARL: 41 (4.5 %)\n",
      "BOULDER / JUNCTION ST1: 35 (9.97 %)\n",
      "COMM VITALITY / BOULDER JCTN: 40 (5.28 %)\n",
      "COMM VITALITY / 1100WALNUT1: 39 (3.51 %)\n",
      "BOULDER / N BOULDER REC 1: 29 (2.07 %)\n",
      "BOULDER / BOULDER PARK: 8 (4.55 %)\n",
      "COMM VITALITY / 2200 BROADWAY1: 0 (0.0 %)\n",
      "BOULDER / EAST REC: 23 (5.42 %)\n",
      "BOULDERJUNCTION / JUNCTION ST1: 3 (3.0 %)\n",
      "\n",
      "The total amount of lost events: 624 (4.91 %)\n"
     ]
    }
   ],
   "source": [
    "# remove outliers\n",
    "drop_index = [] # list of indexes to keep\n",
    "names = df['Station_Name'].unique()\n",
    "\n",
    "for name in names:\n",
    "    temp = df[df['Station_Name'] == name]\n",
    "    # Get interquantile ranges\n",
    "    Q1, Q3 = temp.life_time.quantile([0.25, 0.75])\n",
    "    IQR = Q3-Q1\n",
    "    minimum = Q1 - 1.5*IQR\n",
    "    maximum = Q3 + 1.5*IQR\n",
    "    # Define observations which should be removed\n",
    "    temp2 = df[(df['life_time'] < minimum) | (df['life_time'] > maximum) &\n",
    "                  (df['Station_Name'] == name)]\n",
    "    print(\"{n}: {s} ({p} %)\".format(n=name, \n",
    "                                    s=temp2.shape[0], \n",
    "                                    p=round((temp2.shape[0]/temp.shape[0])*100,2)))\n",
    "    # Add the indexes which should be dropped\n",
    "    drop_index.extend(list(temp2.index))\n",
    "    \n",
    "print(\"\\nThe total amount of lost events: {n} ({p} %)\".format(n=len(drop_index), \n",
    "                                                              p=round(len(drop_index)/df.shape[0]*100,2)))\n",
    "\n",
    "df = df.drop(drop_index)\n",
    "df = df.reset_index(drop=True)"
   ]
  },
  {
   "cell_type": "code",
   "execution_count": 8,
   "id": "czech-carrier",
   "metadata": {},
   "outputs": [
    {
     "data": {
      "text/plain": [
       "(12075, 71)"
      ]
     },
     "execution_count": 8,
     "metadata": {},
     "output_type": "execute_result"
    }
   ],
   "source": [
    "df.shape"
   ]
  },
  {
   "cell_type": "markdown",
   "id": "raised-heating",
   "metadata": {},
   "source": [
    "### Focus stations"
   ]
  },
  {
   "cell_type": "code",
   "execution_count": 9,
   "id": "preceding-olympus",
   "metadata": {},
   "outputs": [],
   "source": [
    "station_subset = ['BOULDER / N BOULDER REC 1', 'COMM VITALITY / 1000WALNUT', \n",
    "        'COMM VITALITY / 1104 SPRUCE1', 'BOULDER / BASELINE ST1']\n",
    "\n",
    "df = df[df['Station_Name'].isin(station_subset)]"
   ]
  },
  {
   "cell_type": "markdown",
   "id": "modular-capacity",
   "metadata": {},
   "source": [
    "### Modeling functions"
   ]
  },
  {
   "cell_type": "code",
   "execution_count": 10,
   "id": "confident-somerset",
   "metadata": {},
   "outputs": [],
   "source": [
    "## To test model\n",
    "def test_model(y_test, y_pred):\n",
    "    MAE = metrics.mean_absolute_error(y_test, y_pred)\n",
    "    print('MAE (Mean Absolute Error):', MAE)\n",
    "    MSE = metrics.mean_squared_error(y_test, y_pred)\n",
    "    print('MSE (Mean Squared Error):', MSE)\n",
    "    RMSE = np.sqrt(metrics.mean_squared_error(y_test, y_pred))\n",
    "    print('RMSE (Root Mean Squared Error):', RMSE)\n",
    "    return MAE, RMSE, MSE"
   ]
  },
  {
   "cell_type": "code",
   "execution_count": 12,
   "id": "necessary-assistant",
   "metadata": {},
   "outputs": [],
   "source": [
    "def hour_label(X):\n",
    "    if (X >= 7) & (X <= 10):\n",
    "        return 'Morning'\n",
    "    elif (X >= 11) & (X <= 14):\n",
    "        return 'Midday'\n",
    "    elif (X >= 15) & (X <= 18):\n",
    "        return 'Afternoon'\n",
    "    elif (X >= 19) or (X < 1):\n",
    "        return 'Evening'\n",
    "    elif (X >= 1) & (X <= 6):\n",
    "        return 'Night'"
   ]
  },
  {
   "cell_type": "code",
   "execution_count": 13,
   "id": "south-aging",
   "metadata": {},
   "outputs": [],
   "source": [
    "df['tod'] = df['hour_b'].apply(hour_label)"
   ]
  },
  {
   "cell_type": "code",
   "execution_count": 14,
   "id": "electronic-relations",
   "metadata": {},
   "outputs": [],
   "source": [
    "df = df[df['tod'] != 'Night']"
   ]
  },
  {
   "cell_type": "markdown",
   "id": "daily-investing",
   "metadata": {},
   "source": [
    "### Adding dummies\n",
    "We define `X`, the features, `T`, the time column and `E` the event columns. First though we need to dummify the categorical variables."
   ]
  },
  {
   "cell_type": "code",
   "execution_count": 15,
   "id": "enabling-lightweight",
   "metadata": {},
   "outputs": [],
   "source": [
    "df_copy = df.copy()"
   ]
  },
  {
   "cell_type": "code",
   "execution_count": 16,
   "id": "hairy-development",
   "metadata": {},
   "outputs": [],
   "source": [
    "# Categorical features\n",
    "columns_categorical = ['weekday_b_name','tod','hour_b','Station_Name']"
   ]
  },
  {
   "cell_type": "code",
   "execution_count": 17,
   "id": "solar-compound",
   "metadata": {},
   "outputs": [],
   "source": [
    "df = pd.get_dummies(df, columns=columns_categorical, drop_first=True)"
   ]
  },
  {
   "cell_type": "markdown",
   "id": "instrumental-saying",
   "metadata": {},
   "source": [
    "### Add split binary variable"
   ]
  },
  {
   "cell_type": "code",
   "execution_count": 18,
   "id": "oriented-noise",
   "metadata": {},
   "outputs": [],
   "source": [
    "def hsplit(X):\n",
    "    if X >= 4*60:\n",
    "        return 1\n",
    "    else:\n",
    "        return 0"
   ]
  },
  {
   "cell_type": "code",
   "execution_count": 19,
   "id": "enabling-hostel",
   "metadata": {},
   "outputs": [],
   "source": [
    "df['4Hsplit'] = df['life_time'].apply(hsplit)"
   ]
  },
  {
   "cell_type": "markdown",
   "id": "scenic-mills",
   "metadata": {},
   "source": [
    "## Modeling features"
   ]
  },
  {
   "cell_type": "markdown",
   "id": "mounted-zoning",
   "metadata": {},
   "source": [
    "To make coding easier the names of the models are changed:\n",
    "- M1: Baseline\n",
    "- M5: Full"
   ]
  },
  {
   "cell_type": "code",
   "execution_count": 20,
   "id": "dressed-vegetation",
   "metadata": {},
   "outputs": [],
   "source": [
    "## M1\n",
    "features1 = ['weekday_b_name_Monday', 'weekday_b_name_Saturday',\n",
    "             'weekday_b_name_Sunday', 'weekday_b_name_Thursday',\n",
    "             'weekday_b_name_Tuesday', 'weekday_b_name_Wednesday',\n",
    "             'tod_Evening','tod_Midday', 'tod_Morning',\n",
    "             'Station_Name_BOULDER / N BOULDER REC 1',\n",
    "             'Station_Name_COMM VITALITY / 1000WALNUT',\n",
    "             'Station_Name_COMM VITALITY / 1104 SPRUCE1'] # dow + tod\n",
    "\n",
    "## M5\n",
    "features5_cat = ['weekday_b_name_Monday', 'weekday_b_name_Saturday',\n",
    "                 'weekday_b_name_Sunday', 'weekday_b_name_Thursday',\n",
    "                 'weekday_b_name_Tuesday', 'weekday_b_name_Wednesday',\n",
    "                 'tod_Evening','tod_Midday', 'tod_Morning',\n",
    "                 'Station_Name_BOULDER / N BOULDER REC 1',\n",
    "                 'Station_Name_COMM VITALITY / 1000WALNUT',\n",
    "                 'Station_Name_COMM VITALITY / 1104 SPRUCE1']\n",
    "features5_con = ['lag1', 'lag2', 'lag3','near_charge_time_4H', 'near_charge_energy_4H',\n",
    "                 'charge_time_4H', 'charge_energy_4H','service', 'entertainment', 'food', \n",
    "                 'childcare', 'medical', 'education','parking', 'waste-management'] # dow + agg. tod + lag + activ."
   ]
  },
  {
   "cell_type": "code",
   "execution_count": 21,
   "id": "native-husband",
   "metadata": {},
   "outputs": [],
   "source": [
    "# dictionary to save results in \n",
    "results = {}\n",
    "\n",
    "split = 0.8\n",
    "b_params = {}"
   ]
  },
  {
   "cell_type": "markdown",
   "id": "understood-pizza",
   "metadata": {},
   "source": [
    "#### Evaluation metrics"
   ]
  },
  {
   "cell_type": "code",
   "execution_count": 22,
   "id": "regional-driving",
   "metadata": {},
   "outputs": [],
   "source": [
    "from sklearn.metrics import confusion_matrix, recall_score, accuracy_score, precision_score,classification_report, f1_score\n",
    "from sklearn.metrics import plot_confusion_matrix\n",
    "\n",
    "# function to evaluate predictions\n",
    "def confusion_ma(y_true, y_pred):\n",
    "    # calculate and display confusion matrix\n",
    "    labels = np.unique(y_true)\n",
    "    cm = confusion_matrix(y_true, y_pred)\n",
    "    plot_confusion_matrix(y_true, y_pred,normalize=True)\n",
    "    return plt.show()"
   ]
  },
  {
   "cell_type": "code",
   "execution_count": 24,
   "id": "interior-merchant",
   "metadata": {},
   "outputs": [],
   "source": [
    "# function to evaluate only accuracy, precision, recall and f1 score\n",
    "def evaluate_scores(y_true, y_pred):\n",
    "    # calculate confusion matrix\n",
    "    labels = np.unique(y_true)\n",
    "    cm = confusion_matrix(y_true, y_pred, labels=labels)\n",
    "    # calculate precision, recall, and F1 score\n",
    "    accuracy = float(np.trace(cm)) / np.sum(cm)\n",
    "    precision = precision_score(y_true, y_pred, average=None, labels=labels)[1]\n",
    "    recall = recall_score(y_true, y_pred, average=None, labels=labels)[1]\n",
    "    f1 = 2 * precision * recall / (precision + recall)\n",
    "    print(\"accuracy:\", round(accuracy,2))\n",
    "    print(\"precision:\", round(precision,2))\n",
    "    print(\"recall:\", round(recall,2))\n",
    "    print(\"f1 score:\", round(f1,2))\n",
    "    return accuracy, precision, recall, f1"
   ]
  },
  {
   "cell_type": "markdown",
   "id": "psychological-bench",
   "metadata": {},
   "source": [
    "### Check test and train data"
   ]
  },
  {
   "cell_type": "code",
   "execution_count": 25,
   "id": "certain-insider",
   "metadata": {},
   "outputs": [],
   "source": [
    "df = df.sort_values(by=['datetime_start'])"
   ]
  },
  {
   "cell_type": "code",
   "execution_count": 26,
   "id": "studied-lawyer",
   "metadata": {},
   "outputs": [],
   "source": [
    "y = df['4Hsplit']\n",
    "y_train, y_test = np.split(y, [int(split*len(df))])\n",
    "class_names = ['SHORT (< 4H)', 'LONG (>= 4H)']"
   ]
  },
  {
   "cell_type": "code",
   "execution_count": 27,
   "id": "tropical-python",
   "metadata": {},
   "outputs": [
    {
     "data": {
      "image/png": "[encoded data removed]",
      "text/plain": [
       "<Figure size 432x288 with 1 Axes>"
      ]
     },
     "metadata": {
      "needs_background": "light"
     },
     "output_type": "display_data"
    },
    {
     "data": {
      "image/png": "[encoded data removed]",
      "text/plain": [
       "<Figure size 432x288 with 1 Axes>"
      ]
     },
     "metadata": {
      "needs_background": "light"
     },
     "output_type": "display_data"
    }
   ],
   "source": [
    "# Train\n",
    "temp = np.unique(y_train, return_counts=True)\n",
    "plt.bar(class_names, temp[1], color='grey', edgecolor='k')\n",
    "plt.title(\"Train data\")\n",
    "plt.show()\n",
    "\n",
    "# Test\n",
    "temp = np.unique(y_test, return_counts=True)\n",
    "plt.bar(class_names, temp[1], color='grey', edgecolor='k')\n",
    "plt.title(\"Test data\")\n",
    "plt.show()"
   ]
  },
  {
   "cell_type": "markdown",
   "id": "mineral-pledge",
   "metadata": {},
   "source": [
    "An data imbalance is noticed. Therefore the `f1_micro` is used at scoring metric as this should try and take the imbalance into account."
   ]
  },
  {
   "cell_type": "code",
   "execution_count": 28,
   "id": "imported-seven",
   "metadata": {},
   "outputs": [
    {
     "name": "stdout",
     "output_type": "stream",
     "text": [
      "Combined data:   SHORT: 0.48% (2434)  LONG: 0.52% (2676)\n",
      "train data:      SHORT: 0.46% (1895)  LONG: 0.54% (2193)\n",
      "test data:       SHORT: 0.53% (539)   LONG: 0.47% (483)\n"
     ]
    }
   ],
   "source": [
    "bob = df.groupby(['4Hsplit']).count()['life_time']\n",
    "summ = bob[0]+bob[1]\n",
    "print(\"Combined data:   SHORT: {}% ({})  LONG: {}% ({})\".format(round(bob[0]/summ,2),bob[0],\n",
    "                                                          round(bob[1]/summ,2),bob[1]))\n",
    "\n",
    "bob = y_train.value_counts()\n",
    "summ = bob[0]+bob[1]\n",
    "print(\"train data:      SHORT: {}% ({})  LONG: {}% ({})\".format(round(bob[0]/summ,2),bob[0],\n",
    "                                                          round(bob[1]/summ,2),bob[1]))\n",
    "\n",
    "bob = y_test.value_counts()\n",
    "summ = bob[0]+bob[1]\n",
    "print(\"test data:       SHORT: {}% ({})   LONG: {}% ({})\".format(round(bob[0]/summ,2),bob[0],\n",
    "                                                          round(bob[1]/summ,2),bob[1]))"
   ]
  },
  {
   "cell_type": "markdown",
   "id": "compatible-delicious",
   "metadata": {},
   "source": [
    "## Random forest classifier"
   ]
  },
  {
   "cell_type": "code",
   "execution_count": 30,
   "id": "hungry-temperature",
   "metadata": {},
   "outputs": [],
   "source": [
    "results['RF'] = {}\n",
    "grid = {'n_estimators':[100,300,500,1000], 'min_samples_split':[2,3,5,7],\n",
    "           'min_samples_leaf':[3,5,10,15], 'max_depth':[2,3,5,7]}"
   ]
  },
  {
   "cell_type": "markdown",
   "id": "widespread-handy",
   "metadata": {},
   "source": [
    "#### RF - Model 1"
   ]
  },
  {
   "cell_type": "code",
   "execution_count": 31,
   "id": "pleased-mumbai",
   "metadata": {},
   "outputs": [
    {
     "name": "stdout",
     "output_type": "stream",
     "text": [
      "{'n_estimators': 500, 'min_samples_split': 7, 'min_samples_leaf': 3, 'max_depth': 7}\n",
      "accuracy: 0.73\n",
      "precision: 0.75\n",
      "recall: 0.66\n",
      "f1 score: 0.7\n",
      "              precision    recall  f1-score   support\n",
      "\n",
      "SHORT (< 4H)       0.72      0.80      0.76       539\n",
      "LONG (>= 4H)       0.75      0.66      0.70       483\n",
      "\n",
      "    accuracy                           0.73      1022\n",
      "   macro avg       0.73      0.73      0.73      1022\n",
      "weighted avg       0.73      0.73      0.73      1022\n",
      "\n"
     ]
    },
    {
     "data": {
      "image/png": "[encoded data removed]",
      "text/plain": [
       "<Figure size 432x288 with 2 Axes>"
      ]
     },
     "metadata": {
      "needs_background": "light"
     },
     "output_type": "display_data"
    }
   ],
   "source": [
    "X = df[features1]\n",
    "y = df['4Hsplit']\n",
    "X_train, X_test = np.split(X, [int(split*len(df))])\n",
    "y_train, y_test = np.split(y, [int(split*len(df))])\n",
    "\n",
    "# Estimator\n",
    "clf = RandomForestClassifier(random_state=42)\n",
    "\n",
    "# RandomizedSearchCV\n",
    "gs = RandomizedSearchCV(clf, grid, cv=5, random_state=42, \n",
    "                        n_iter=60, scoring='f1_micro')\n",
    "search = gs.fit(X_train, y_train)\n",
    "\n",
    "# Get best parameters\n",
    "param = search.best_params_\n",
    "print(param)\n",
    "\n",
    "# Evaluate model\n",
    "clf = RandomForestClassifier(random_state=42, n_estimators=param['n_estimators'],\n",
    "                             max_depth=param['max_depth'], \n",
    "                             min_samples_leaf=param['min_samples_leaf'],\n",
    "                             min_samples_split=param['min_samples_split'])\n",
    "clf.fit(X_train,y_train)\n",
    "\n",
    "#Results\n",
    "y_pred = clf.predict(X_test) # make predictions\n",
    "accuracy, precision, recall, f1 = evaluate_scores(y_test,y_pred)\n",
    "print(classification_report(y_test, y_pred, target_names=class_names))\n",
    "# get confusion matrix\n",
    "plot_confusion_matrix(clf, X_test, y_test, cmap=plt.cm.Blues, \n",
    "                      display_labels=class_names, normalize='true')\n",
    "plt.show()\n",
    "\n",
    "# save results\n",
    "results['RF']['M1'] = {'f1':f1, 'accuracy':accuracy, 'precision':precision, 'recall':recall,\n",
    "                       'param': param}"
   ]
  },
  {
   "cell_type": "markdown",
   "id": "collaborative-ridge",
   "metadata": {},
   "source": [
    "#### RF - Model 5"
   ]
  },
  {
   "cell_type": "code",
   "execution_count": 32,
   "id": "closing-election",
   "metadata": {},
   "outputs": [
    {
     "name": "stderr",
     "output_type": "stream",
     "text": [
      "C:\\Anaconda\\lib\\site-packages\\ipykernel_launcher.py:3: SettingWithCopyWarning: \n",
      "A value is trying to be set on a copy of a slice from a DataFrame.\n",
      "Try using .loc[row_indexer,col_indexer] = value instead\n",
      "\n",
      "See the caveats in the documentation: https://pandas.pydata.org/pandas-docs/stable/user_guide/indexing.html#returning-a-view-versus-a-copy\n",
      "  This is separate from the ipykernel package so we can avoid doing imports until\n",
      "C:\\Anaconda\\lib\\site-packages\\pandas\\core\\indexing.py:1738: SettingWithCopyWarning: \n",
      "A value is trying to be set on a copy of a slice from a DataFrame.\n",
      "Try using .loc[row_indexer,col_indexer] = value instead\n",
      "\n",
      "See the caveats in the documentation: https://pandas.pydata.org/pandas-docs/stable/user_guide/indexing.html#returning-a-view-versus-a-copy\n",
      "  self._setitem_single_column(loc, value[:, i].tolist(), pi)\n"
     ]
    },
    {
     "name": "stdout",
     "output_type": "stream",
     "text": [
      "{'n_estimators': 500, 'min_samples_split': 2, 'min_samples_leaf': 15, 'max_depth': 7}\n",
      "accuracy: 0.74\n",
      "precision: 0.77\n",
      "recall: 0.64\n",
      "f1 score: 0.7\n",
      "              precision    recall  f1-score   support\n",
      "\n",
      "SHORT (< 4H)       0.72      0.83      0.77       539\n",
      "LONG (>= 4H)       0.77      0.64      0.70       483\n",
      "\n",
      "    accuracy                           0.74      1022\n",
      "   macro avg       0.74      0.73      0.73      1022\n",
      "weighted avg       0.74      0.74      0.74      1022\n",
      "\n"
     ]
    },
    {
     "data": {
      "image/png": "[encoded data removed]",
      "text/plain": [
       "<Figure size 432x288 with 2 Axes>"
      ]
     },
     "metadata": {
      "needs_background": "light"
     },
     "output_type": "display_data"
    }
   ],
   "source": [
    "X = df[features5_cat+features5_con]\n",
    "y = df['4Hsplit']\n",
    "X_train, X_test = np.split(X, [int(split*len(df))])\n",
    "y_train, y_test = np.split(y, [int(split*len(df))])\n",
    "\n",
    "scaler = StandardScaler()\n",
    "X_train[features5_con] = scaler.fit_transform(X_train[features5_con])\n",
    "X_test[features5_con] = scaler.fit_transform(X_test[features5_con])\n",
    "\n",
    "# Estimator\n",
    "clf = RandomForestClassifier()\n",
    "\n",
    "# RandomizedSearchCV\n",
    "gs = RandomizedSearchCV(clf, grid, cv=5, random_state=42, \n",
    "                        n_iter=60, scoring='f1_micro')\n",
    "search = gs.fit(X_train, y_train)\n",
    "\n",
    "# Get best parameters\n",
    "param = search.best_params_\n",
    "print(param)\n",
    "\n",
    "# Evaluate model\n",
    "clf = RandomForestClassifier(random_state=42, n_estimators=param['n_estimators'],\n",
    "                             max_depth=param['max_depth'], \n",
    "                             min_samples_leaf=param['min_samples_leaf'],\n",
    "                             min_samples_split=param['min_samples_split'])\n",
    "clf.fit(X_train,y_train)\n",
    "\n",
    "#Results\n",
    "y_pred = clf.predict(X_test) # make predictions\n",
    "accuracy, precision, recall, f1 = evaluate_scores(y_test,y_pred)\n",
    "print(classification_report(y_test, y_pred, target_names=class_names))\n",
    "# get confusion matrix\n",
    "plot_confusion_matrix(clf, X_test, y_test, cmap=plt.cm.Blues, \n",
    "                      display_labels=class_names, normalize='true')\n",
    "plt.show()\n",
    "\n",
    "# save results\n",
    "results['RF']['M5'] = {'f1':f1, 'accuracy':accuracy, 'precision':precision, 'recall':recall,\n",
    "                       'param': param}"
   ]
  },
  {
   "cell_type": "markdown",
   "id": "christian-channels",
   "metadata": {},
   "source": [
    "## Gradient boosting classifier"
   ]
  },
  {
   "cell_type": "code",
   "execution_count": 33,
   "id": "upper-pipeline",
   "metadata": {},
   "outputs": [],
   "source": [
    "results['GB'] = {}\n",
    "\n",
    "grid = {'max_depth':[2,3,5,10],'n_estimators':[100,300,500,1000], \n",
    "           'learning_rate':[0.001,0.01,0.1,0.5,0.9], 'min_samples_split':[2,3,5,7],\n",
    "           'min_samples_leaf':[3,5,10,15]}"
   ]
  },
  {
   "cell_type": "code",
   "execution_count": 32,
   "id": "bottom-world",
   "metadata": {},
   "outputs": [],
   "source": [
    "from sklearn.ensemble import GradientBoostingClassifier"
   ]
  },
  {
   "cell_type": "markdown",
   "id": "gorgeous-retail",
   "metadata": {},
   "source": [
    "#### GB - Model 1"
   ]
  },
  {
   "cell_type": "code",
   "execution_count": 36,
   "id": "tired-hygiene",
   "metadata": {},
   "outputs": [
    {
     "name": "stdout",
     "output_type": "stream",
     "text": [
      "{'n_estimators': 100, 'min_samples_split': 7, 'min_samples_leaf': 5, 'max_depth': 3, 'learning_rate': 0.5}\n",
      "accuracy: 0.74\n",
      "precision: 0.75\n",
      "recall: 0.69\n",
      "f1 score: 0.72\n",
      "              precision    recall  f1-score   support\n",
      "\n",
      "SHORT (< 4H)       0.74      0.79      0.76       539\n",
      "LONG (>= 4H)       0.75      0.69      0.72       483\n",
      "\n",
      "    accuracy                           0.74      1022\n",
      "   macro avg       0.74      0.74      0.74      1022\n",
      "weighted avg       0.74      0.74      0.74      1022\n",
      "\n"
     ]
    },
    {
     "data": {
      "image/png": "[encoded data removed]",
      "text/plain": [
       "<Figure size 432x288 with 2 Axes>"
      ]
     },
     "metadata": {
      "needs_background": "light"
     },
     "output_type": "display_data"
    }
   ],
   "source": [
    "X = df[features1]\n",
    "y = df['4Hsplit']\n",
    "X_train, X_test = np.split(X, [int(split*len(df))])\n",
    "y_train, y_test = np.split(y, [int(split*len(df))])\n",
    "\n",
    "# Estimator\n",
    "clf = GradientBoostingClassifier(random_state=42)\n",
    "\n",
    "# RandomizedSearchCV\n",
    "gs = RandomizedSearchCV(clf, grid, cv=5, random_state=42, \n",
    "                        n_iter=60, scoring='f1_micro')\n",
    "search = gs.fit(X_train, y_train)\n",
    "\n",
    "# Get best parameters\n",
    "param = search.best_params_\n",
    "print(param)\n",
    "\n",
    "# Evaluate model\n",
    "clf = GradientBoostingClassifier(random_state=42, \n",
    "                                max_depth=param['max_depth'],\n",
    "                                min_samples_split=param['min_samples_split'],\n",
    "                                min_samples_leaf=param['min_samples_leaf'],\n",
    "                                n_estimators=param['n_estimators'], \n",
    "                                learning_rate=param['learning_rate'])\n",
    "clf.fit(X_train,y_train)\n",
    "\n",
    "#Results\n",
    "y_pred = clf.predict(X_test) # make predictions\n",
    "accuracy, precision, recall, f1 = evaluate_scores(y_test,y_pred)\n",
    "print(classification_report(y_test, y_pred, target_names=class_names))\n",
    "# get confusion matrix\n",
    "plot_confusion_matrix(clf, X_test, y_test, cmap=plt.cm.Blues, \n",
    "                      display_labels=class_names, normalize='true')\n",
    "plt.show()\n",
    "\n",
    "# save results\n",
    "results['GB']['M1'] = {'f1':f1, 'accuracy':accuracy, 'precision':precision, 'recall':recall,\n",
    "                       'param': param}"
   ]
  },
  {
   "cell_type": "markdown",
   "id": "operating-staff",
   "metadata": {},
   "source": [
    "#### GB - Model 5"
   ]
  },
  {
   "cell_type": "code",
   "execution_count": 37,
   "id": "aquatic-manitoba",
   "metadata": {},
   "outputs": [
    {
     "name": "stderr",
     "output_type": "stream",
     "text": [
      "C:\\Anaconda\\lib\\site-packages\\ipykernel_launcher.py:3: SettingWithCopyWarning: \n",
      "A value is trying to be set on a copy of a slice from a DataFrame.\n",
      "Try using .loc[row_indexer,col_indexer] = value instead\n",
      "\n",
      "See the caveats in the documentation: https://pandas.pydata.org/pandas-docs/stable/user_guide/indexing.html#returning-a-view-versus-a-copy\n",
      "  This is separate from the ipykernel package so we can avoid doing imports until\n",
      "C:\\Anaconda\\lib\\site-packages\\pandas\\core\\indexing.py:1738: SettingWithCopyWarning: \n",
      "A value is trying to be set on a copy of a slice from a DataFrame.\n",
      "Try using .loc[row_indexer,col_indexer] = value instead\n",
      "\n",
      "See the caveats in the documentation: https://pandas.pydata.org/pandas-docs/stable/user_guide/indexing.html#returning-a-view-versus-a-copy\n",
      "  self._setitem_single_column(loc, value[:, i].tolist(), pi)\n"
     ]
    },
    {
     "name": "stdout",
     "output_type": "stream",
     "text": [
      "{'n_estimators': 500, 'min_samples_split': 5, 'min_samples_leaf': 3, 'max_depth': 3, 'learning_rate': 0.01}\n",
      "accuracy: 0.76\n",
      "precision: 0.8\n",
      "recall: 0.65\n",
      "f1 score: 0.71\n",
      "              precision    recall  f1-score   support\n",
      "\n",
      "SHORT (< 4H)       0.73      0.85      0.79       539\n",
      "LONG (>= 4H)       0.80      0.65      0.71       483\n",
      "\n",
      "    accuracy                           0.76      1022\n",
      "   macro avg       0.76      0.75      0.75      1022\n",
      "weighted avg       0.76      0.76      0.75      1022\n",
      "\n"
     ]
    },
    {
     "data": {
      "image/png": "[encoded data removed]",
      "text/plain": [
       "<Figure size 432x288 with 2 Axes>"
      ]
     },
     "metadata": {
      "needs_background": "light"
     },
     "output_type": "display_data"
    }
   ],
   "source": [
    "X = df[features5_cat+features5_con]\n",
    "y = df['4Hsplit']\n",
    "X_train, X_test = np.split(X, [int(split*len(df))])\n",
    "y_train, y_test = np.split(y, [int(split*len(df))])\n",
    "\n",
    "scaler = StandardScaler()\n",
    "X_train[features5_con] = scaler.fit_transform(X_train[features5_con])\n",
    "X_test[features5_con] = scaler.fit_transform(X_test[features5_con])\n",
    "\n",
    "\n",
    "# Estimator\n",
    "clf = GradientBoostingClassifier(random_state=42)\n",
    "\n",
    "# RandomizedSearchCV\n",
    "gs = RandomizedSearchCV(clf, grid, cv=5, random_state=42, \n",
    "                        n_iter=60, scoring='f1_micro')\n",
    "search = gs.fit(X_train, y_train)\n",
    "\n",
    "# Get best parameters\n",
    "param = search.best_params_\n",
    "print(param)\n",
    "\n",
    "# Evaluate model\n",
    "clf = GradientBoostingClassifier(random_state=42, \n",
    "                                max_depth=param['max_depth'],\n",
    "                                min_samples_split=param['min_samples_split'],\n",
    "                                min_samples_leaf=param['min_samples_leaf'],\n",
    "                                n_estimators=param['n_estimators'], \n",
    "                                learning_rate=param['learning_rate'])\n",
    "clf.fit(X_train,y_train)\n",
    "\n",
    "#Results\n",
    "y_pred = clf.predict(X_test) # make predictions\n",
    "accuracy, precision, recall, f1 = evaluate_scores(y_test,y_pred)\n",
    "print(classification_report(y_test, y_pred, target_names=class_names))\n",
    "# get confusion matrix\n",
    "plot_confusion_matrix(clf, X_test, y_test, cmap=plt.cm.Blues, \n",
    "                      display_labels=class_names, normalize='true')\n",
    "plt.show()\n",
    "\n",
    "# save results\n",
    "results['GB']['M5'] = {'f1':f1, 'accuracy':accuracy, 'precision':precision, 'recall':recall,\n",
    "                       'param': param}"
   ]
  },
  {
   "cell_type": "code",
   "execution_count": null,
   "id": "average-azerbaijan",
   "metadata": {},
   "outputs": [],
   "source": [
    "# Evaluate model\n",
    "clf = GradientBoostingClassifier(random_state=42, \n",
    "                                max_depth=param['max_depth'],\n",
    "                                min_samples_split=param['min_samples_split'],\n",
    "                                min_samples_leaf=param['min_samples_leaf'],\n",
    "                                n_estimators=param['n_estimators'], \n",
    "                                learning_rate=param['learning_rate'])\n",
    "clf.fit(X_train,y_train)\n",
    "\n",
    "{'n_estimators': 500, 'min_samples_split': 5, 'min_samples_leaf': 3, 'max_depth': 3, 'learning_rate': 0.01}"
   ]
  },
  {
   "cell_type": "markdown",
   "id": "interracial-judge",
   "metadata": {},
   "source": [
    "### Neural network /MLP\n"
   ]
  },
  {
   "cell_type": "code",
   "execution_count": 38,
   "id": "theoretical-check",
   "metadata": {},
   "outputs": [],
   "source": [
    "results['NN'] = {}\n",
    "grid = {}\n",
    "\n",
    "grid = {'alpha':[0.0001,0.001,0.1,1,2,5,10], 'hidden_layer_sizes':\n",
    "            [(32),(32,32),(32,32),(32,32,32,32),(64),(64,64),(64,64,64),(64,64,64,64),\n",
    "             (128),(128,128),(128,128,128),(128,128,128,128),(256),(256,256),(256,256,256),\n",
    "             (256,256,256,256)],\n",
    "            'activation': ['tanh', 'relu', 'logistic']}"
   ]
  },
  {
   "cell_type": "code",
   "execution_count": 39,
   "id": "other-pointer",
   "metadata": {},
   "outputs": [],
   "source": [
    "from sklearn.neural_network import MLPClassifier"
   ]
  },
  {
   "cell_type": "markdown",
   "id": "capable-secret",
   "metadata": {},
   "source": [
    "#### NN - Model 1"
   ]
  },
  {
   "cell_type": "code",
   "execution_count": 40,
   "id": "editorial-trader",
   "metadata": {},
   "outputs": [
    {
     "name": "stdout",
     "output_type": "stream",
     "text": [
      "{'hidden_layer_sizes': 256, 'alpha': 0.001, 'activation': 'relu'}\n",
      "accuracy: 0.74\n",
      "precision: 0.77\n",
      "recall: 0.64\n",
      "f1 score: 0.7\n",
      "              precision    recall  f1-score   support\n",
      "\n",
      "SHORT (< 4H)       0.72      0.83      0.77       539\n",
      "LONG (>= 4H)       0.77      0.64      0.70       483\n",
      "\n",
      "    accuracy                           0.74      1022\n",
      "   macro avg       0.74      0.73      0.73      1022\n",
      "weighted avg       0.74      0.74      0.73      1022\n",
      "\n"
     ]
    },
    {
     "data": {
      "image/png": "[encoded data removed]",
      "text/plain": [
       "<Figure size 432x288 with 2 Axes>"
      ]
     },
     "metadata": {
      "needs_background": "light"
     },
     "output_type": "display_data"
    }
   ],
   "source": [
    "X = df[features1]\n",
    "y = df['4Hsplit']\n",
    "X_train, X_test = np.split(X, [int(split*len(df))])\n",
    "y_train, y_test = np.split(y, [int(split*len(df))])\n",
    "\n",
    "# Estimator\n",
    "clf = MLPRegressor(random_state=42, max_iter=1000, early_stopping=True)\n",
    "\n",
    "# RandomizedSearchCV\n",
    "gs = RandomizedSearchCV(clf, grid, cv=5, random_state=42, \n",
    "                        max_iter=60, scoring='f1_micro')\n",
    "search = gs.fit(X_train, y_train)\n",
    "\n",
    "# Get best parameters\n",
    "param = search.best_params_\n",
    "print(param)\n",
    "\n",
    "# Evaluate model\n",
    "clf = MLPClassifier(random_state=42, alpha=param['alpha'], \n",
    "                   hidden_layer_sizes=param['hidden_layer_sizes'],\n",
    "                   activation = param['activation'],max_iter=1000, early_stopping=True)\n",
    "clf.fit(X_train,y_train)\n",
    "\n",
    "#Results\n",
    "y_pred = clf.predict(X_test) # make predictions\n",
    "accuracy, precision, recall, f1 = evaluate_scores(y_test,y_pred)\n",
    "print(classification_report(y_test, y_pred, target_names=class_names))\n",
    "# get confusion matrix\n",
    "plot_confusion_matrix(clf, X_test, y_test, cmap=plt.cm.Blues, \n",
    "                      display_labels=class_names, normalize='true')\n",
    "plt.show()\n",
    "\n",
    "# save results\n",
    "results['NN']['M1'] = {'f1':f1, 'accuracy':accuracy, 'precision':precision, 'recall':recall,\n",
    "                       'param': param}"
   ]
  },
  {
   "cell_type": "markdown",
   "id": "noticed-omega",
   "metadata": {},
   "source": [
    "#### NN - Model 5"
   ]
  },
  {
   "cell_type": "code",
   "execution_count": 41,
   "id": "worth-costa",
   "metadata": {},
   "outputs": [
    {
     "name": "stderr",
     "output_type": "stream",
     "text": [
      "C:\\Anaconda\\lib\\site-packages\\ipykernel_launcher.py:3: SettingWithCopyWarning: \n",
      "A value is trying to be set on a copy of a slice from a DataFrame.\n",
      "Try using .loc[row_indexer,col_indexer] = value instead\n",
      "\n",
      "See the caveats in the documentation: https://pandas.pydata.org/pandas-docs/stable/user_guide/indexing.html#returning-a-view-versus-a-copy\n",
      "  This is separate from the ipykernel package so we can avoid doing imports until\n",
      "C:\\Anaconda\\lib\\site-packages\\pandas\\core\\indexing.py:1738: SettingWithCopyWarning: \n",
      "A value is trying to be set on a copy of a slice from a DataFrame.\n",
      "Try using .loc[row_indexer,col_indexer] = value instead\n",
      "\n",
      "See the caveats in the documentation: https://pandas.pydata.org/pandas-docs/stable/user_guide/indexing.html#returning-a-view-versus-a-copy\n",
      "  self._setitem_single_column(loc, value[:, i].tolist(), pi)\n",
      "C:\\Anaconda\\lib\\site-packages\\sklearn\\neural_network\\_multilayer_perceptron.py:585: ConvergenceWarning: Stochastic Optimizer: Maximum iterations (200) reached and the optimization hasn't converged yet.\n",
      "  % self.max_iter, ConvergenceWarning)\n",
      "C:\\Anaconda\\lib\\site-packages\\sklearn\\neural_network\\_multilayer_perceptron.py:585: ConvergenceWarning: Stochastic Optimizer: Maximum iterations (200) reached and the optimization hasn't converged yet.\n",
      "  % self.max_iter, ConvergenceWarning)\n",
      "C:\\Anaconda\\lib\\site-packages\\sklearn\\neural_network\\_multilayer_perceptron.py:585: ConvergenceWarning: Stochastic Optimizer: Maximum iterations (200) reached and the optimization hasn't converged yet.\n",
      "  % self.max_iter, ConvergenceWarning)\n",
      "C:\\Anaconda\\lib\\site-packages\\sklearn\\neural_network\\_multilayer_perceptron.py:585: ConvergenceWarning: Stochastic Optimizer: Maximum iterations (200) reached and the optimization hasn't converged yet.\n",
      "  % self.max_iter, ConvergenceWarning)\n",
      "C:\\Anaconda\\lib\\site-packages\\sklearn\\neural_network\\_multilayer_perceptron.py:585: ConvergenceWarning: Stochastic Optimizer: Maximum iterations (200) reached and the optimization hasn't converged yet.\n",
      "  % self.max_iter, ConvergenceWarning)\n",
      "C:\\Anaconda\\lib\\site-packages\\sklearn\\neural_network\\_multilayer_perceptron.py:585: ConvergenceWarning: Stochastic Optimizer: Maximum iterations (200) reached and the optimization hasn't converged yet.\n",
      "  % self.max_iter, ConvergenceWarning)\n",
      "C:\\Anaconda\\lib\\site-packages\\sklearn\\neural_network\\_multilayer_perceptron.py:585: ConvergenceWarning: Stochastic Optimizer: Maximum iterations (200) reached and the optimization hasn't converged yet.\n",
      "  % self.max_iter, ConvergenceWarning)\n",
      "C:\\Anaconda\\lib\\site-packages\\sklearn\\neural_network\\_multilayer_perceptron.py:585: ConvergenceWarning: Stochastic Optimizer: Maximum iterations (200) reached and the optimization hasn't converged yet.\n",
      "  % self.max_iter, ConvergenceWarning)\n",
      "C:\\Anaconda\\lib\\site-packages\\sklearn\\neural_network\\_multilayer_perceptron.py:585: ConvergenceWarning: Stochastic Optimizer: Maximum iterations (200) reached and the optimization hasn't converged yet.\n",
      "  % self.max_iter, ConvergenceWarning)\n",
      "C:\\Anaconda\\lib\\site-packages\\sklearn\\neural_network\\_multilayer_perceptron.py:585: ConvergenceWarning: Stochastic Optimizer: Maximum iterations (200) reached and the optimization hasn't converged yet.\n",
      "  % self.max_iter, ConvergenceWarning)\n"
     ]
    },
    {
     "name": "stdout",
     "output_type": "stream",
     "text": [
      "{'hidden_layer_sizes': (64, 64), 'alpha': 0.0001, 'activation': 'logistic'}\n"
     ]
    },
    {
     "name": "stderr",
     "output_type": "stream",
     "text": [
      "C:\\Anaconda\\lib\\site-packages\\sklearn\\neural_network\\_multilayer_perceptron.py:585: ConvergenceWarning: Stochastic Optimizer: Maximum iterations (200) reached and the optimization hasn't converged yet.\n",
      "  % self.max_iter, ConvergenceWarning)\n"
     ]
    },
    {
     "name": "stdout",
     "output_type": "stream",
     "text": [
      "accuracy: 0.67\n",
      "precision: 0.65\n",
      "recall: 0.66\n",
      "f1 score: 0.66\n",
      "              precision    recall  f1-score   support\n",
      "\n",
      "SHORT (< 4H)       0.69      0.68      0.69       539\n",
      "LONG (>= 4H)       0.65      0.66      0.66       483\n",
      "\n",
      "    accuracy                           0.67      1022\n",
      "   macro avg       0.67      0.67      0.67      1022\n",
      "weighted avg       0.67      0.67      0.67      1022\n",
      "\n"
     ]
    },
    {
     "data": {
      "image/png": "[encoded data removed]",
      "text/plain": [
       "<Figure size 432x288 with 2 Axes>"
      ]
     },
     "metadata": {
      "needs_background": "light"
     },
     "output_type": "display_data"
    }
   ],
   "source": [
    "X = df[features5_cat+features5_con]\n",
    "y = df['4Hsplit']\n",
    "X_train, X_test = np.split(X, [int(split*len(df))])\n",
    "y_train, y_test = np.split(y, [int(split*len(df))])\n",
    "\n",
    "scaler = StandardScaler()\n",
    "X_train[features5_con] = scaler.fit_transform(X_train[features5_con])\n",
    "X_test[features5_con] = scaler.fit_transform(X_test[features5_con])\n",
    "\n",
    "\n",
    "# Estimator\n",
    "clf = MLPRegressor(random_state=42, max_iter=1000, early_stopping=True)\n",
    "\n",
    "# RandomizedSearchCV\n",
    "gs = RandomizedSearchCV(clf, grid, cv=5, random_state=42, \n",
    "                        max_iter=60, scoring='f1_micro')\n",
    "search = gs.fit(X_train, y_train)\n",
    "\n",
    "# Get best parameters\n",
    "param = search.best_params_\n",
    "print(param)\n",
    "\n",
    "# Evaluate model\n",
    "clf = MLPClassifier(random_state=42, alpha=param['alpha'], \n",
    "                   hidden_layer_sizes=param['hidden_layer_sizes'],\n",
    "                   activation = param['activation'],max_iter=1000, early_stopping=True)\n",
    "clf.fit(X_train,y_train)\n",
    "\n",
    "#Results\n",
    "y_pred = clf.predict(X_test) # make predictions\n",
    "accuracy, precision, recall, f1 = evaluate_scores(y_test,y_pred)\n",
    "print(classification_report(y_test, y_pred, target_names=class_names))\n",
    "# get confusion matrix\n",
    "plot_confusion_matrix(clf, X_test, y_test, cmap=plt.cm.Blues, \n",
    "                      display_labels=class_names, normalize='true')\n",
    "plt.show()\n",
    "\n",
    "# save results\n",
    "results['NN']['M5'] = {'f1':f1, 'accuracy':accuracy, 'precision':precision, 'recall':recall,\n",
    "                       'param': param}"
   ]
  },
  {
   "cell_type": "markdown",
   "id": "arctic-birthday",
   "metadata": {},
   "source": [
    "### Logistic regression"
   ]
  },
  {
   "cell_type": "code",
   "execution_count": 42,
   "id": "english-assistant",
   "metadata": {},
   "outputs": [],
   "source": [
    "results['LR'] = {}\n",
    "grid = {'penalty':['l1','l2'] }"
   ]
  },
  {
   "cell_type": "code",
   "execution_count": 43,
   "id": "ideal-ancient",
   "metadata": {},
   "outputs": [],
   "source": [
    "from sklearn.linear_model import LogisticRegression"
   ]
  },
  {
   "cell_type": "markdown",
   "id": "entire-breast",
   "metadata": {},
   "source": [
    "#### LR - Model 1"
   ]
  },
  {
   "cell_type": "code",
   "execution_count": 44,
   "id": "convertible-nickname",
   "metadata": {},
   "outputs": [
    {
     "name": "stderr",
     "output_type": "stream",
     "text": [
      "C:\\Anaconda\\lib\\site-packages\\sklearn\\model_selection\\_search.py:282: UserWarning: The total space of parameters 2 is smaller than n_iter=10. Running 2 iterations. For exhaustive searches, use GridSearchCV.\n",
      "  % (grid_size, self.n_iter, grid_size), UserWarning)\n",
      "C:\\Anaconda\\lib\\site-packages\\sklearn\\model_selection\\_validation.py:552: FitFailedWarning: Estimator fit failed. The score on this train-test partition for these parameters will be set to nan. Details: \n",
      "Traceback (most recent call last):\n",
      "  File \"C:\\Anaconda\\lib\\site-packages\\sklearn\\model_selection\\_validation.py\", line 531, in _fit_and_score\n",
      "    estimator.fit(X_train, y_train, **fit_params)\n",
      "  File \"C:\\Anaconda\\lib\\site-packages\\sklearn\\linear_model\\_logistic.py\", line 1304, in fit\n",
      "    solver = _check_solver(self.solver, self.penalty, self.dual)\n",
      "  File \"C:\\Anaconda\\lib\\site-packages\\sklearn\\linear_model\\_logistic.py\", line 443, in _check_solver\n",
      "    \"got %s penalty.\" % (solver, penalty))\n",
      "ValueError: Solver lbfgs supports only 'l2' or 'none' penalties, got l1 penalty.\n",
      "\n",
      "  FitFailedWarning)\n"
     ]
    },
    {
     "name": "stdout",
     "output_type": "stream",
     "text": [
      "{'penalty': 'l2'}\n",
      "accuracy: 0.73\n",
      "precision: 0.75\n",
      "recall: 0.65\n",
      "f1 score: 0.7\n",
      "              precision    recall  f1-score   support\n",
      "\n",
      "SHORT (< 4H)       0.72      0.80      0.76       539\n",
      "LONG (>= 4H)       0.75      0.65      0.70       483\n",
      "\n",
      "    accuracy                           0.73      1022\n",
      "   macro avg       0.74      0.73      0.73      1022\n",
      "weighted avg       0.73      0.73      0.73      1022\n",
      "\n"
     ]
    },
    {
     "data": {
      "image/png": "[encoded data removed]",
      "text/plain": [
       "<Figure size 432x288 with 2 Axes>"
      ]
     },
     "metadata": {
      "needs_background": "light"
     },
     "output_type": "display_data"
    }
   ],
   "source": [
    "X = df[features1]\n",
    "y = df['4Hsplit']\n",
    "X_train, X_test = np.split(X, [int(split*len(df))])\n",
    "y_train, y_test = np.split(y, [int(split*len(df))])\n",
    "\n",
    "# Estimator\n",
    "clf = LogisticRegression(random_state=42)\n",
    "\n",
    "# RandomizedSearchCV\n",
    "gs = RandomizedSearchCV(clf, grid, cv=5, random_state=42, scoring='f1_micro')\n",
    "search = gs.fit(X_train, y_train)\n",
    "\n",
    "# Get best parameters\n",
    "param = search.best_params_\n",
    "print(param)\n",
    "\n",
    "# Evaluate model\n",
    "clf = LogisticRegression(penalty=param['penalty'], random_state=42)\n",
    "clf.fit(X_train,y_train)\n",
    "\n",
    "#Results\n",
    "y_pred = clf.predict(X_test) # make predictions\n",
    "accuracy, precision, recall, f1 = evaluate_scores(y_test,y_pred)\n",
    "print(classification_report(y_test, y_pred, target_names=class_names))\n",
    "# get confusion matrix\n",
    "plot_confusion_matrix(clf, X_test, y_test, cmap=plt.cm.Blues, \n",
    "                      display_labels=class_names, normalize='true')\n",
    "plt.show()\n",
    "\n",
    "# save results\n",
    "results['LR']['M1'] = {'f1':f1, 'accuracy':accuracy, \n",
    "                       'recall':recall, 'precision':precision}"
   ]
  },
  {
   "cell_type": "markdown",
   "id": "small-wagner",
   "metadata": {},
   "source": [
    "#### LR - Model 5"
   ]
  },
  {
   "cell_type": "code",
   "execution_count": 45,
   "id": "criminal-birthday",
   "metadata": {},
   "outputs": [
    {
     "name": "stderr",
     "output_type": "stream",
     "text": [
      "C:\\Anaconda\\lib\\site-packages\\ipykernel_launcher.py:3: SettingWithCopyWarning: \n",
      "A value is trying to be set on a copy of a slice from a DataFrame.\n",
      "Try using .loc[row_indexer,col_indexer] = value instead\n",
      "\n",
      "See the caveats in the documentation: https://pandas.pydata.org/pandas-docs/stable/user_guide/indexing.html#returning-a-view-versus-a-copy\n",
      "  This is separate from the ipykernel package so we can avoid doing imports until\n",
      "C:\\Anaconda\\lib\\site-packages\\pandas\\core\\indexing.py:1738: SettingWithCopyWarning: \n",
      "A value is trying to be set on a copy of a slice from a DataFrame.\n",
      "Try using .loc[row_indexer,col_indexer] = value instead\n",
      "\n",
      "See the caveats in the documentation: https://pandas.pydata.org/pandas-docs/stable/user_guide/indexing.html#returning-a-view-versus-a-copy\n",
      "  self._setitem_single_column(loc, value[:, i].tolist(), pi)\n"
     ]
    },
    {
     "name": "stdout",
     "output_type": "stream",
     "text": [
      "{'penalty': 'l2'}\n",
      "accuracy: 0.73\n",
      "precision: 0.75\n",
      "recall: 0.65\n",
      "f1 score: 0.7\n",
      "              precision    recall  f1-score   support\n",
      "\n",
      "SHORT (< 4H)       0.72      0.81      0.76       539\n",
      "LONG (>= 4H)       0.75      0.65      0.70       483\n",
      "\n",
      "    accuracy                           0.73      1022\n",
      "   macro avg       0.74      0.73      0.73      1022\n",
      "weighted avg       0.74      0.73      0.73      1022\n",
      "\n"
     ]
    },
    {
     "data": {
      "image/png": "[encoded data removed]",
      "text/plain": [
       "<Figure size 432x288 with 2 Axes>"
      ]
     },
     "metadata": {
      "needs_background": "light"
     },
     "output_type": "display_data"
    }
   ],
   "source": [
    "X = df[features5_cat+features5_con]\n",
    "y = df['4Hsplit']\n",
    "X_train, X_test = np.split(X, [int(split*len(df))])\n",
    "y_train, y_test = np.split(y, [int(split*len(df))])\n",
    "\n",
    "scaler = StandardScaler()\n",
    "X_train[features5_con] = scaler.fit_transform(X_train[features5_con])\n",
    "X_test[features5_con] = scaler.fit_transform(X_test[features5_con])\n",
    "\n",
    "\n",
    "# Estimator\n",
    "clf = LogisticRegression(random_state=42)\n",
    "\n",
    "# Get best parameters\n",
    "param = search.best_params_\n",
    "print(param)\n",
    "\n",
    "# Evaluate model\n",
    "clf = LogisticRegression(penalty=param['penalty'], random_state=42)\n",
    "clf.fit(X_train,y_train)\n",
    "\n",
    "#Results\n",
    "y_pred = clf.predict(X_test) # make predictions\n",
    "accuracy, precision, recall, f1 = evaluate_scores(y_test,y_pred)\n",
    "print(classification_report(y_test, y_pred, target_names=class_names))\n",
    "# get confusion matrix\n",
    "plot_confusion_matrix(clf, X_test, y_test, cmap=plt.cm.Blues, \n",
    "                      display_labels=class_names, normalize='true')\n",
    "plt.show()\n",
    "\n",
    "# save results\n",
    "results['LR']['M5'] = {'f1':f1, 'accuracy':accuracy, \n",
    "                       'recall':recall, 'precision':precision}"
   ]
  },
  {
   "cell_type": "markdown",
   "id": "monetary-empty",
   "metadata": {},
   "source": [
    "### Results"
   ]
  },
  {
   "cell_type": "markdown",
   "id": "arbitrary-toolbox",
   "metadata": {},
   "source": [
    "#### Save results"
   ]
  },
  {
   "cell_type": "code",
   "execution_count": 63,
   "id": "identical-utilization",
   "metadata": {},
   "outputs": [
    {
     "name": "stdout",
     "output_type": "stream",
     "text": [
      "--------------- RF ---------------\n",
      "M1:   f1: 0.7   accuracy: 0.733   precision: 0.75   recall: 0.66\n",
      "M5:   f1: 0.698   accuracy: 0.739   precision: 0.77   recall: 0.64\n",
      "--------------- GB ---------------\n",
      "M1:   f1: 0.716   accuracy: 0.743   precision: 0.75   recall: 0.69\n",
      "M5:   f1: 0.715   accuracy: 0.755   precision: 0.8   recall: 0.65\n",
      "--------------- NN ---------------\n",
      "M1:   f1: 0.696   accuracy: 0.738   precision: 0.77   recall: 0.64\n",
      "M5:   f1: 0.656   accuracy: 0.672   precision: 0.65   recall: 0.66\n",
      "--------------- LR ---------------\n",
      "M1:   f1: 0.698   accuracy: 0.733   precision: 0.75   recall: 0.65\n",
      "M5:   f1: 0.699   accuracy: 0.734   precision: 0.75   recall: 0.65\n"
     ]
    }
   ],
   "source": [
    "models = ['M1','M5']\n",
    "\n",
    "for m in results.keys():\n",
    "    print(15*'-',m,15*'-')\n",
    "    for M in results[m].keys():\n",
    "        res = results[m][M]\n",
    "        print(\"{}:   f1: {}   accuracy: {}   precision: {}   recall: {}\".format(M,\n",
    "              round(res['f1'],3), round(res['accuracy'],3), round(res['precision'],2),\n",
    "              round(res['recall'],2)))"
   ]
  },
  {
   "cell_type": "markdown",
   "id": "treated-hanging",
   "metadata": {},
   "source": [
    "### Add classifier result to dataframe\n",
    "Choose GB M5. Train model for all data."
   ]
  },
  {
   "cell_type": "code",
   "execution_count": 33,
   "id": "studied-winter",
   "metadata": {},
   "outputs": [
    {
     "data": {
      "image/png": "[encoded data removed]",
      "text/plain": [
       "<Figure size 432x288 with 2 Axes>"
      ]
     },
     "metadata": {
      "needs_background": "light"
     },
     "output_type": "display_data"
    }
   ],
   "source": [
    "X = df[features5_cat+features5_con]\n",
    "y = df['4Hsplit']\n",
    "X_train, X_test = np.split(X, [int(split*len(df))])\n",
    "y_train, y_test = np.split(y, [int(split*len(df))])\n",
    "\n",
    "scaler = StandardScaler()\n",
    "X_train[features5_con] = scaler.fit_transform(X_train[features5_con])\n",
    "X_test[features5_con] = scaler.fit_transform(X_test[features5_con])\n",
    "\n",
    "\n",
    "# Evaluate model\n",
    "clf = GradientBoostingClassifier(random_state=42, \n",
    "                                max_depth=3,\n",
    "                                min_samples_split=5,\n",
    "                                min_samples_leaf=3,\n",
    "                                n_estimators=500, \n",
    "                                learning_rate=0.01)\n",
    "clf.fit(X_train,y_train)\n",
    "\n",
    "#Results\n",
    "y_pred_test = clf.predict(X_test) # make predictions\n",
    "y_pred_train = clf.predict(X_train)\n",
    "\n",
    "plot_confusion_matrix(clf, X_test, y_test, cmap=plt.cm.Blues, \n",
    "                      display_labels=class_names, normalize='true')\n",
    "plt.tight_layout()\n",
    "plt.savefig(\"../Thesis - writing/Visualization/confusionMatrix4H.pdf\")\n",
    "plt.show()"
   ]
  },
  {
   "cell_type": "markdown",
   "id": "prompt-episode",
   "metadata": {},
   "source": [
    "Add predicted train and test to the original dataframe."
   ]
  },
  {
   "cell_type": "code",
   "execution_count": 65,
   "id": "relevant-robert",
   "metadata": {},
   "outputs": [],
   "source": [
    "X_test['y_pred'] = y_pred_test\n",
    "X_train['y_pred'] = y_pred_train"
   ]
  },
  {
   "cell_type": "code",
   "execution_count": 37,
   "id": "legislative-vinyl",
   "metadata": {},
   "outputs": [],
   "source": [
    "coefs = clf.feature_importances_\n",
    "names = X_train.columns\n",
    "fea_impor = pd.DataFrame(columns=['fea','coef'])\n",
    "fea_impor['fea'] = names\n",
    "fea_impor['coef'] = coefs"
   ]
  },
  {
   "cell_type": "code",
   "execution_count": 42,
   "id": "weighted-atlantic",
   "metadata": {},
   "outputs": [
    {
     "data": {
      "text/html": [
       "<div>\n",
       "<style scoped>\n",
       "    .dataframe tbody tr th:only-of-type {\n",
       "        vertical-align: middle;\n",
       "    }\n",
       "\n",
       "    .dataframe tbody tr th {\n",
       "        vertical-align: top;\n",
       "    }\n",
       "\n",
       "    .dataframe thead th {\n",
       "        text-align: right;\n",
       "    }\n",
       "</style>\n",
       "<table border=\"1\" class=\"dataframe\">\n",
       "  <thead>\n",
       "    <tr style=\"text-align: right;\">\n",
       "      <th></th>\n",
       "      <th>fea</th>\n",
       "      <th>coef</th>\n",
       "    </tr>\n",
       "  </thead>\n",
       "  <tbody>\n",
       "    <tr>\n",
       "      <th>6</th>\n",
       "      <td>tod_Evening</td>\n",
       "      <td>0.665226</td>\n",
       "    </tr>\n",
       "    <tr>\n",
       "      <th>14</th>\n",
       "      <td>lag3</td>\n",
       "      <td>0.039020</td>\n",
       "    </tr>\n",
       "    <tr>\n",
       "      <th>13</th>\n",
       "      <td>lag2</td>\n",
       "      <td>0.036695</td>\n",
       "    </tr>\n",
       "    <tr>\n",
       "      <th>26</th>\n",
       "      <td>waste-management</td>\n",
       "      <td>0.033764</td>\n",
       "    </tr>\n",
       "    <tr>\n",
       "      <th>17</th>\n",
       "      <td>charge_time_4H</td>\n",
       "      <td>0.031334</td>\n",
       "    </tr>\n",
       "    <tr>\n",
       "      <th>12</th>\n",
       "      <td>lag1</td>\n",
       "      <td>0.025396</td>\n",
       "    </tr>\n",
       "    <tr>\n",
       "      <th>23</th>\n",
       "      <td>medical</td>\n",
       "      <td>0.022092</td>\n",
       "    </tr>\n",
       "    <tr>\n",
       "      <th>21</th>\n",
       "      <td>food</td>\n",
       "      <td>0.022030</td>\n",
       "    </tr>\n",
       "    <tr>\n",
       "      <th>18</th>\n",
       "      <td>charge_energy_4H</td>\n",
       "      <td>0.019895</td>\n",
       "    </tr>\n",
       "    <tr>\n",
       "      <th>8</th>\n",
       "      <td>tod_Morning</td>\n",
       "      <td>0.017713</td>\n",
       "    </tr>\n",
       "  </tbody>\n",
       "</table>\n",
       "</div>"
      ],
      "text/plain": [
       "                 fea      coef\n",
       "6        tod_Evening  0.665226\n",
       "14              lag3  0.039020\n",
       "13              lag2  0.036695\n",
       "26  waste-management  0.033764\n",
       "17    charge_time_4H  0.031334\n",
       "12              lag1  0.025396\n",
       "23           medical  0.022092\n",
       "21              food  0.022030\n",
       "18  charge_energy_4H  0.019895\n",
       "8        tod_Morning  0.017713"
      ]
     },
     "execution_count": 42,
     "metadata": {},
     "output_type": "execute_result"
    }
   ],
   "source": [
    "fea_impor.sort_values(by=['coef'],ascending=False)[0:10]"
   ]
  },
  {
   "cell_type": "code",
   "execution_count": 66,
   "id": "premium-delhi",
   "metadata": {},
   "outputs": [],
   "source": [
    "temp1 = X_train['y_pred']\n",
    "temp2 = X_test['y_pred']\n",
    "temp_combined = pd.concat([temp1,temp2])"
   ]
  },
  {
   "cell_type": "code",
   "execution_count": 67,
   "id": "moral-lecture",
   "metadata": {},
   "outputs": [],
   "source": [
    "# Get prdictions\n",
    "df = df.merge(temp_combined, left_index=True, right_index=True, how='inner')"
   ]
  },
  {
   "cell_type": "code",
   "execution_count": 68,
   "id": "green-forum",
   "metadata": {},
   "outputs": [],
   "source": [
    "df['Station_Name'] = df_copy['Station_Name']\n",
    "df['weekday_b_name'] = df_copy['weekday_b_name']\n",
    "df['tod'] = df_copy['tod']"
   ]
  },
  {
   "cell_type": "code",
   "execution_count": 69,
   "id": "brutal-publication",
   "metadata": {},
   "outputs": [],
   "source": [
    "# save dataframe\n",
    "df.to_pickle(\"../data/ut_V6_classification-4H.pkl\")"
   ]
  },
  {
   "cell_type": "code",
   "execution_count": null,
   "id": "major-passport",
   "metadata": {},
   "outputs": [],
   "source": []
  }
 ],
 "metadata": {
  "kernelspec": {
   "display_name": "Python 3",
   "language": "python",
   "name": "python3"
  },
  "language_info": {
   "codemirror_mode": {
    "name": "ipython",
    "version": 3
   },
   "file_extension": ".py",
   "mimetype": "text/x-python",
   "name": "python",
   "nbconvert_exporter": "python",
   "pygments_lexer": "ipython3",
   "version": "3.7.3"
  }
 },
 "nbformat": 4,
 "nbformat_minor": 5
}
