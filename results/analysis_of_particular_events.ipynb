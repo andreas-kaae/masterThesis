{
 "cells": [
  {
   "cell_type": "code",
   "execution_count": 1,
   "id": "everyday-interference",
   "metadata": {},
   "outputs": [],
   "source": [
    "# imports\n",
    "import pandas as pd\n",
    "import numpy as np\n",
    "import matplotlib.pyplot as plt\n",
    "from matplotlib.pyplot import figure\n",
    "import datetime\n",
    "from collections import OrderedDict\n",
    "import pickle\n",
    "import pickle5\n",
    "import seaborn as sns\n",
    "import datetime as dt\n",
    "from sklearn.model_selection import train_test_split\n",
    "from sklearn.linear_model import LinearRegression, Ridge, Lasso\n",
    "from sklearn import metrics\n",
    "from sklearn.metrics import auc, r2_score\n",
    "from sklearn.preprocessing import StandardScaler\n",
    "from sklearn.ensemble import RandomForestRegressor\n",
    "from sklearn.neural_network import MLPRegressor\n",
    "from sklearn.model_selection import RandomizedSearchCV, GridSearchCV, cross_val_score, cross_val_predict\n",
    "from sklearn.ensemble import GradientBoostingRegressor\n",
    "from sklearn.dummy import DummyRegressor\n",
    "from sklearn.utils import resample\n",
    "from pysurvival.models.semi_parametric import CoxPHModel\n",
    "from lifelines.utils import concordance_index\n",
    "from sklearn.ensemble import GradientBoostingClassifier\n",
    "from sklearn.metrics import confusion_matrix, recall_score, accuracy_score, precision_score,classification_report, f1_score\n",
    "from sklearn.metrics import plot_confusion_matrix\n",
    "\n",
    "## block warning\n",
    "import warnings\n",
    "warnings.filterwarnings('ignore')"
   ]
  },
  {
   "cell_type": "code",
   "execution_count": 2,
   "id": "altered-trance",
   "metadata": {},
   "outputs": [
    {
     "data": {
      "text/html": [
       "<div>\n",
       "<style scoped>\n",
       "    .dataframe tbody tr th:only-of-type {\n",
       "        vertical-align: middle;\n",
       "    }\n",
       "\n",
       "    .dataframe tbody tr th {\n",
       "        vertical-align: top;\n",
       "    }\n",
       "\n",
       "    .dataframe thead th {\n",
       "        text-align: right;\n",
       "    }\n",
       "</style>\n",
       "<table border=\"1\" class=\"dataframe\">\n",
       "  <thead>\n",
       "    <tr style=\"text-align: right;\">\n",
       "      <th></th>\n",
       "      <th>life_time</th>\n",
       "      <th>datetime_start</th>\n",
       "      <th>datetime_end</th>\n",
       "      <th>latitude</th>\n",
       "      <th>longitude</th>\n",
       "      <th>distance_center_km</th>\n",
       "      <th>Station_Name</th>\n",
       "      <th>weekday_b</th>\n",
       "      <th>weekday_b_name</th>\n",
       "      <th>hour_b</th>\n",
       "      <th>...</th>\n",
       "      <th>near_inactivity_6H</th>\n",
       "      <th>near_charge_events_6H</th>\n",
       "      <th>service</th>\n",
       "      <th>entertainment</th>\n",
       "      <th>food</th>\n",
       "      <th>childcare</th>\n",
       "      <th>medical</th>\n",
       "      <th>education</th>\n",
       "      <th>parking</th>\n",
       "      <th>waste-management</th>\n",
       "    </tr>\n",
       "  </thead>\n",
       "  <tbody>\n",
       "    <tr>\n",
       "      <th>0</th>\n",
       "      <td>928.5</td>\n",
       "      <td>2018-01-31 19:51:00</td>\n",
       "      <td>2018-02-01 11:19:30</td>\n",
       "      <td>40.018482</td>\n",
       "      <td>-105.281066</td>\n",
       "      <td>0.152203</td>\n",
       "      <td>COMM VITALITY / 1104 SPRUCE1</td>\n",
       "      <td>2</td>\n",
       "      <td>Wednesday</td>\n",
       "      <td>19</td>\n",
       "      <td>...</td>\n",
       "      <td>0.0</td>\n",
       "      <td>0</td>\n",
       "      <td>0.057343</td>\n",
       "      <td>0.109796</td>\n",
       "      <td>0.073649</td>\n",
       "      <td>3.517121</td>\n",
       "      <td>0.466518</td>\n",
       "      <td>0.631771</td>\n",
       "      <td>0.021832</td>\n",
       "      <td>1.145959</td>\n",
       "    </tr>\n",
       "    <tr>\n",
       "      <th>1</th>\n",
       "      <td>363.5</td>\n",
       "      <td>2018-02-01 14:03:00</td>\n",
       "      <td>2018-02-01 20:06:30</td>\n",
       "      <td>40.018482</td>\n",
       "      <td>-105.281066</td>\n",
       "      <td>0.152203</td>\n",
       "      <td>COMM VITALITY / 1104 SPRUCE1</td>\n",
       "      <td>3</td>\n",
       "      <td>Thursday</td>\n",
       "      <td>14</td>\n",
       "      <td>...</td>\n",
       "      <td>0.0</td>\n",
       "      <td>0</td>\n",
       "      <td>0.057343</td>\n",
       "      <td>0.109796</td>\n",
       "      <td>0.073649</td>\n",
       "      <td>3.517121</td>\n",
       "      <td>0.466518</td>\n",
       "      <td>0.631771</td>\n",
       "      <td>0.021832</td>\n",
       "      <td>1.145959</td>\n",
       "    </tr>\n",
       "    <tr>\n",
       "      <th>2</th>\n",
       "      <td>6828.5</td>\n",
       "      <td>2018-02-01 21:15:00</td>\n",
       "      <td>2018-02-06 15:03:30</td>\n",
       "      <td>40.018482</td>\n",
       "      <td>-105.281066</td>\n",
       "      <td>0.152203</td>\n",
       "      <td>COMM VITALITY / 1104 SPRUCE1</td>\n",
       "      <td>3</td>\n",
       "      <td>Thursday</td>\n",
       "      <td>21</td>\n",
       "      <td>...</td>\n",
       "      <td>0.0</td>\n",
       "      <td>0</td>\n",
       "      <td>0.057343</td>\n",
       "      <td>0.109796</td>\n",
       "      <td>0.073649</td>\n",
       "      <td>3.517121</td>\n",
       "      <td>0.466518</td>\n",
       "      <td>0.631771</td>\n",
       "      <td>0.021832</td>\n",
       "      <td>1.145959</td>\n",
       "    </tr>\n",
       "    <tr>\n",
       "      <th>3</th>\n",
       "      <td>5871.5</td>\n",
       "      <td>2018-02-06 15:27:00</td>\n",
       "      <td>2018-02-10 17:18:30</td>\n",
       "      <td>40.018482</td>\n",
       "      <td>-105.281066</td>\n",
       "      <td>0.152203</td>\n",
       "      <td>COMM VITALITY / 1104 SPRUCE1</td>\n",
       "      <td>1</td>\n",
       "      <td>Tuesday</td>\n",
       "      <td>15</td>\n",
       "      <td>...</td>\n",
       "      <td>0.0</td>\n",
       "      <td>0</td>\n",
       "      <td>0.057343</td>\n",
       "      <td>0.109796</td>\n",
       "      <td>0.073649</td>\n",
       "      <td>3.517121</td>\n",
       "      <td>0.466518</td>\n",
       "      <td>0.631771</td>\n",
       "      <td>0.021832</td>\n",
       "      <td>1.145959</td>\n",
       "    </tr>\n",
       "    <tr>\n",
       "      <th>4</th>\n",
       "      <td>1454.5</td>\n",
       "      <td>2018-02-10 18:26:00</td>\n",
       "      <td>2018-02-11 18:40:30</td>\n",
       "      <td>40.018482</td>\n",
       "      <td>-105.281066</td>\n",
       "      <td>0.152203</td>\n",
       "      <td>COMM VITALITY / 1104 SPRUCE1</td>\n",
       "      <td>5</td>\n",
       "      <td>Saturday</td>\n",
       "      <td>18</td>\n",
       "      <td>...</td>\n",
       "      <td>0.0</td>\n",
       "      <td>0</td>\n",
       "      <td>0.057343</td>\n",
       "      <td>0.109796</td>\n",
       "      <td>0.073649</td>\n",
       "      <td>3.517121</td>\n",
       "      <td>0.466518</td>\n",
       "      <td>0.631771</td>\n",
       "      <td>0.021832</td>\n",
       "      <td>1.145959</td>\n",
       "    </tr>\n",
       "  </tbody>\n",
       "</table>\n",
       "<p>5 rows × 71 columns</p>\n",
       "</div>"
      ],
      "text/plain": [
       "   life_time      datetime_start        datetime_end   latitude   longitude  \\\n",
       "0      928.5 2018-01-31 19:51:00 2018-02-01 11:19:30  40.018482 -105.281066   \n",
       "1      363.5 2018-02-01 14:03:00 2018-02-01 20:06:30  40.018482 -105.281066   \n",
       "2     6828.5 2018-02-01 21:15:00 2018-02-06 15:03:30  40.018482 -105.281066   \n",
       "3     5871.5 2018-02-06 15:27:00 2018-02-10 17:18:30  40.018482 -105.281066   \n",
       "4     1454.5 2018-02-10 18:26:00 2018-02-11 18:40:30  40.018482 -105.281066   \n",
       "\n",
       "   distance_center_km                  Station_Name  weekday_b weekday_b_name  \\\n",
       "0            0.152203  COMM VITALITY / 1104 SPRUCE1          2      Wednesday   \n",
       "1            0.152203  COMM VITALITY / 1104 SPRUCE1          3       Thursday   \n",
       "2            0.152203  COMM VITALITY / 1104 SPRUCE1          3       Thursday   \n",
       "3            0.152203  COMM VITALITY / 1104 SPRUCE1          1        Tuesday   \n",
       "4            0.152203  COMM VITALITY / 1104 SPRUCE1          5       Saturday   \n",
       "\n",
       "   hour_b  ...  near_inactivity_6H  near_charge_events_6H   service  \\\n",
       "0      19  ...                 0.0                      0  0.057343   \n",
       "1      14  ...                 0.0                      0  0.057343   \n",
       "2      21  ...                 0.0                      0  0.057343   \n",
       "3      15  ...                 0.0                      0  0.057343   \n",
       "4      18  ...                 0.0                      0  0.057343   \n",
       "\n",
       "   entertainment      food  childcare   medical  education   parking  \\\n",
       "0       0.109796  0.073649   3.517121  0.466518   0.631771  0.021832   \n",
       "1       0.109796  0.073649   3.517121  0.466518   0.631771  0.021832   \n",
       "2       0.109796  0.073649   3.517121  0.466518   0.631771  0.021832   \n",
       "3       0.109796  0.073649   3.517121  0.466518   0.631771  0.021832   \n",
       "4       0.109796  0.073649   3.517121  0.466518   0.631771  0.021832   \n",
       "\n",
       "   waste-management  \n",
       "0          1.145959  \n",
       "1          1.145959  \n",
       "2          1.145959  \n",
       "3          1.145959  \n",
       "4          1.145959  \n",
       "\n",
       "[5 rows x 71 columns]"
      ]
     },
     "execution_count": 2,
     "metadata": {},
     "output_type": "execute_result"
    }
   ],
   "source": [
    "with open(\"../data/ut_poiV6.pkl\", \"rb\") as fh:\n",
    "    df = pickle5.load(fh)\n",
    "    \n",
    "df.head()"
   ]
  },
  {
   "cell_type": "markdown",
   "id": "velvet-acquisition",
   "metadata": {},
   "source": [
    "### Remove events"
   ]
  },
  {
   "cell_type": "code",
   "execution_count": 3,
   "id": "twenty-overview",
   "metadata": {},
   "outputs": [
    {
     "name": "stdout",
     "output_type": "stream",
     "text": [
      "The station has the lagged\n",
      "BOULDER / REC CENTER\n",
      "The station has the lagged\n",
      "BOULDER / ATRIUM ST1\n",
      "The station has the lagged\n",
      "BOULDER / ALPINE ST1\n",
      "The station has the lagged\n",
      "COMM VITALITY / 1400 WALNUT1\n",
      "The station has the lagged\n",
      "BOULDER / FACILITIES ST1\n",
      "The station has the lagged\n",
      "COMM VITALITY / 1500PEARL\n",
      "The station has the lagged\n",
      "BOULDER / JUNCTION ST1\n",
      "The station has the lagged\n",
      "COMM VITALITY / BOULDER JCTN\n",
      "The station has the lagged\n",
      "COMM VITALITY / 1100WALNUT1\n",
      "The station has the lagged\n",
      "BOULDER / BOULDER PARK\n",
      "The station has the lagged\n",
      "COMM VITALITY / 2200 BROADWAY1\n",
      "The station has the lagged\n",
      "BOULDER / EAST REC\n",
      "The station has the lagged\n",
      "BOULDERJUNCTION / JUNCTION ST1\n"
     ]
    }
   ],
   "source": [
    "names = df['Station_Name'].unique()\n",
    "\n",
    "for name in names:\n",
    "    temp = df[df['Station_Name'] == name]\n",
    "    rows = temp[temp['lag3'].isna()]\n",
    "    if rows.life_time.sum() < 3*60:\n",
    "        print(\"The station has the lagged\")\n",
    "        print(name)\n",
    "\n",
    "# remove rows\n",
    "df = df.dropna()"
   ]
  },
  {
   "cell_type": "code",
   "execution_count": 4,
   "id": "dynamic-couple",
   "metadata": {},
   "outputs": [
    {
     "data": {
      "text/plain": [
       "(12699, 71)"
      ]
     },
     "execution_count": 4,
     "metadata": {},
     "output_type": "execute_result"
    }
   ],
   "source": [
    "df.shape"
   ]
  },
  {
   "cell_type": "code",
   "execution_count": 5,
   "id": "unable-thursday",
   "metadata": {},
   "outputs": [],
   "source": [
    "## Limit to only top 10 stations\n",
    "temp = df.groupby(['Station_Name']).count().latitude # group the data for each station\n",
    "names = temp.sort_values(ascending=False)\n",
    "names = names.index.values"
   ]
  },
  {
   "cell_type": "markdown",
   "id": "following-sally",
   "metadata": {},
   "source": [
    "### Remove outliers"
   ]
  },
  {
   "cell_type": "code",
   "execution_count": 7,
   "id": "interracial-offset",
   "metadata": {},
   "outputs": [
    {
     "name": "stdout",
     "output_type": "stream",
     "text": [
      "COMM VITALITY / 1104 SPRUCE1: 57 (4.4 %)\n",
      "COMM VITALITY / 1000WALNUT: 48 (3.32 %)\n",
      "BOULDER / REC CENTER: 40 (3.51 %)\n",
      "BOULDER / BASELINE ST1: 42 (3.53 %)\n",
      "BOULDER / ATRIUM ST1: 65 (6.58 %)\n",
      "BOULDER / ALPINE ST1: 32 (8.96 %)\n",
      "COMM VITALITY / 1400 WALNUT1: 38 (7.29 %)\n",
      "BOULDER / FACILITIES ST1: 84 (16.28 %)\n",
      "COMM VITALITY / 1500PEARL: 41 (4.5 %)\n",
      "BOULDER / JUNCTION ST1: 35 (9.97 %)\n",
      "COMM VITALITY / BOULDER JCTN: 40 (5.28 %)\n",
      "COMM VITALITY / 1100WALNUT1: 39 (3.51 %)\n",
      "BOULDER / N BOULDER REC 1: 29 (2.07 %)\n",
      "BOULDER / BOULDER PARK: 8 (4.55 %)\n",
      "COMM VITALITY / 2200 BROADWAY1: 0 (0.0 %)\n",
      "BOULDER / EAST REC: 23 (5.42 %)\n",
      "BOULDERJUNCTION / JUNCTION ST1: 3 (3.0 %)\n",
      "\n",
      "The total amount of lost events: 624 (4.91 %)\n"
     ]
    }
   ],
   "source": [
    "# remove outliers\n",
    "drop_index = [] # list of indexes to keep\n",
    "names = df['Station_Name'].unique()\n",
    "\n",
    "for name in names:\n",
    "    temp = df[df['Station_Name'] == name]\n",
    "    # Get interquantile ranges\n",
    "    Q1, Q3 = temp.life_time.quantile([0.25, 0.75])\n",
    "    IQR = Q3-Q1\n",
    "    minimum = Q1 - 1.5*IQR\n",
    "    maximum = Q3 + 1.5*IQR\n",
    "    # Define observations which should be removed\n",
    "    temp2 = df[(df['life_time'] < minimum) | (df['life_time'] > maximum) &\n",
    "                  (df['Station_Name'] == name)]\n",
    "    print(\"{n}: {s} ({p} %)\".format(n=name, \n",
    "                                    s=temp2.shape[0], \n",
    "                                    p=round((temp2.shape[0]/temp.shape[0])*100,2)))\n",
    "    # Add the indexes which should be dropped\n",
    "    drop_index.extend(list(temp2.index))\n",
    "    \n",
    "print(\"\\nThe total amount of lost events: {n} ({p} %)\".format(n=len(drop_index), \n",
    "                                                              p=round(len(drop_index)/df.shape[0]*100,2)))\n",
    "\n",
    "df = df.drop(drop_index)\n",
    "df = df.reset_index(drop=True)"
   ]
  },
  {
   "cell_type": "code",
   "execution_count": 8,
   "id": "guided-spank",
   "metadata": {},
   "outputs": [
    {
     "data": {
      "text/plain": [
       "(12075, 71)"
      ]
     },
     "execution_count": 8,
     "metadata": {},
     "output_type": "execute_result"
    }
   ],
   "source": [
    "df.shape"
   ]
  },
  {
   "cell_type": "markdown",
   "id": "welcome-airport",
   "metadata": {},
   "source": [
    "### Usefull functions"
   ]
  },
  {
   "cell_type": "code",
   "execution_count": 9,
   "id": "charming-glory",
   "metadata": {},
   "outputs": [],
   "source": [
    "def mean_absolute_percentage_error(y_true, y_pred): \n",
    "    y_true, y_pred = np.array(y_true), np.array(y_pred)\n",
    "    return np.mean(np.abs((y_true - y_pred) / y_true))*100"
   ]
  },
  {
   "cell_type": "code",
   "execution_count": 10,
   "id": "compressed-investigation",
   "metadata": {},
   "outputs": [],
   "source": [
    "## To test model\n",
    "def test_model(y_test, y_pred):\n",
    "    MAE = metrics.mean_absolute_error(y_test, y_pred)\n",
    "    MSE = metrics.mean_squared_error(y_test, y_pred)\n",
    "    RMSE = np.sqrt(metrics.mean_squared_error(y_test, y_pred))\n",
    "    MAPE = mean_absolute_percentage_error(y_test, y_pred)\n",
    "    NRMSE = RMSE/np.mean(y_test)\n",
    "    return MAE, RMSE, MSE, MAPE, NRMSE"
   ]
  },
  {
   "cell_type": "code",
   "execution_count": 11,
   "id": "geographic-allen",
   "metadata": {},
   "outputs": [],
   "source": [
    "## Get point predictions\n",
    "def point_pred(model, X_test, X_train):\n",
    "    T_pred = []\n",
    "    T_pred_train = []\n",
    "    # Get survival curves\n",
    "    cph_pred = model.predict_survival(X_test)\n",
    "    cph_pred_train = model.predict_survival(X_train)\n",
    "    # get times of survival prediction\n",
    "    time = model.times\n",
    "    # test\n",
    "    for i in range(0,len(cph_pred)):\n",
    "        T_pred.append(auc(time,cph_pred[i]))\n",
    "    # train\n",
    "    for i in range(0,len(cph_pred_train)):\n",
    "        T_pred_train.append(auc(time,cph_pred_train[i]))\n",
    "    \n",
    "    return T_pred, T_pred_train"
   ]
  },
  {
   "cell_type": "code",
   "execution_count": 12,
   "id": "diverse-mortality",
   "metadata": {},
   "outputs": [],
   "source": [
    "## Get point predictions\n",
    "def point_pred_single(model, X_test):\n",
    "    T_pred = []\n",
    "    # Get survival curves\n",
    "    cph_pred = model.predict_survival(X_test)\n",
    "    # get times of survival prediction\n",
    "    time = model.times\n",
    "    # test\n",
    "    for i in range(0,len(cph_pred)):\n",
    "        T_pred.append(auc(time,cph_pred[i]))\n",
    "    \n",
    "    return T_pred"
   ]
  },
  {
   "cell_type": "code",
   "execution_count": 13,
   "id": "marine-hierarchy",
   "metadata": {},
   "outputs": [],
   "source": [
    "# function to evaluate only accuracy, precision, recall and f1 score\n",
    "def evaluate_scores(y_true, y_pred):\n",
    "    # calculate confusion matrix\n",
    "    labels = np.unique(y_true)\n",
    "    cm = confusion_matrix(y_true, y_pred, labels=labels)\n",
    "    # calculate precision, recall, and F1 score\n",
    "    accuracy = float(np.trace(cm)) / np.sum(cm)\n",
    "    precision = precision_score(y_true, y_pred, average=None, labels=labels)[1]\n",
    "    recall = recall_score(y_true, y_pred, average=None, labels=labels)[1]\n",
    "    f1 = 2 * precision * recall / (precision + recall)\n",
    "    print(\"accuracy:\", round(accuracy,2))\n",
    "    print(\"precision:\", round(precision,2))\n",
    "    print(\"recall:\", round(recall,2))\n",
    "    print(\"f1 score:\", round(f1,2))\n",
    "    return accuracy, precision, recall, f1"
   ]
  },
  {
   "cell_type": "markdown",
   "id": "planned-franklin",
   "metadata": {},
   "source": [
    "### Prepare data"
   ]
  },
  {
   "cell_type": "code",
   "execution_count": 14,
   "id": "answering-resident",
   "metadata": {},
   "outputs": [],
   "source": [
    "def hour_label(X):\n",
    "    if (X >= 7) & (X <= 10):\n",
    "        return 'Morning'\n",
    "    elif (X >= 11) & (X <= 14):\n",
    "        return 'Midday'\n",
    "    elif (X >= 15) & (X <= 18):\n",
    "        return 'Afternoon'\n",
    "    elif (X >= 19) or (X < 1):\n",
    "        return 'Evening'\n",
    "    elif (X >= 1) & (X <= 6):\n",
    "        return 'Night'"
   ]
  },
  {
   "cell_type": "code",
   "execution_count": 15,
   "id": "valid-adoption",
   "metadata": {},
   "outputs": [],
   "source": [
    "## Add time of day and day of week\n",
    "df['tod'] = df['hour_b'].apply(hour_label)"
   ]
  },
  {
   "cell_type": "code",
   "execution_count": 16,
   "id": "listed-heart",
   "metadata": {},
   "outputs": [],
   "source": [
    "df = df[df['tod'] != 'Night']"
   ]
  },
  {
   "cell_type": "code",
   "execution_count": 17,
   "id": "earned-geneva",
   "metadata": {},
   "outputs": [],
   "source": [
    "station_subset = ['BOULDER / N BOULDER REC 1', 'COMM VITALITY / 1000WALNUT', \n",
    "        'COMM VITALITY / 1104 SPRUCE1', 'BOULDER / BASELINE ST1']\n",
    "df4 = df[df['Station_Name'].isin(station_subset)]"
   ]
  },
  {
   "cell_type": "code",
   "execution_count": 18,
   "id": "alone-guarantee",
   "metadata": {},
   "outputs": [
    {
     "name": "stdout",
     "output_type": "stream",
     "text": [
      "Shape df 4 station: (5110, 72)\n"
     ]
    }
   ],
   "source": [
    "print(\"Shape df 4 station:\", df4.shape)"
   ]
  },
  {
   "cell_type": "markdown",
   "id": "genuine-basin",
   "metadata": {},
   "source": [
    "Add dummy variables"
   ]
  },
  {
   "cell_type": "code",
   "execution_count": 22,
   "id": "dense-nursery",
   "metadata": {},
   "outputs": [],
   "source": [
    "# Categorical features\n",
    "columns_categorical = ['weekday_b_name','tod','Station_Name']\n",
    "df4 = pd.get_dummies(df4, columns=columns_categorical)"
   ]
  },
  {
   "cell_type": "markdown",
   "id": "deluxe-vertical",
   "metadata": {},
   "source": [
    "Sort dataframes"
   ]
  },
  {
   "cell_type": "code",
   "execution_count": 23,
   "id": "floating-belarus",
   "metadata": {},
   "outputs": [],
   "source": [
    "df4 = df4.sort_values(by=['datetime_start'])"
   ]
  },
  {
   "cell_type": "markdown",
   "id": "backed-mixture",
   "metadata": {},
   "source": [
    "Features"
   ]
  },
  {
   "cell_type": "markdown",
   "id": "advisory-upset",
   "metadata": {},
   "source": [
    "M4 and is used as the name for the Full features constellation throughout the notebook."
   ]
  },
  {
   "cell_type": "code",
   "execution_count": 24,
   "id": "operational-reaction",
   "metadata": {},
   "outputs": [],
   "source": [
    "features4_cat = ['weekday_b_name_Monday', 'weekday_b_name_Saturday',\n",
    "                 'weekday_b_name_Sunday', 'weekday_b_name_Thursday',\n",
    "                 'weekday_b_name_Tuesday', 'weekday_b_name_Wednesday',\n",
    "                 'tod_Evening','tod_Midday', 'tod_Morning',\n",
    "                 'Station_Name_BOULDER / N BOULDER REC 1',\n",
    "                 'Station_Name_COMM VITALITY / 1000WALNUT',\n",
    "                 'Station_Name_COMM VITALITY / 1104 SPRUCE1']\n",
    "\n",
    "features4_con = ['lag1', 'lag2', 'lag3','near_charge_time_4H', 'near_charge_energy_4H',\n",
    "                 'charge_time_4H', 'charge_energy_4H','service', 'entertainment', 'food', \n",
    "                 'childcare', 'medical', 'education','parking', 'waste-management']  # dow + agg. tod + lag + activ."
   ]
  },
  {
   "cell_type": "markdown",
   "id": "molecular-hormone",
   "metadata": {},
   "source": [
    "### Check poi features for each station:"
   ]
  },
  {
   "cell_type": "code",
   "execution_count": 25,
   "id": "least-helicopter",
   "metadata": {},
   "outputs": [],
   "source": [
    "split = 0.8\n",
    "\n",
    "train4, test4 = np.split(df4, [int(split * len(df4))])"
   ]
  },
  {
   "cell_type": "code",
   "execution_count": 26,
   "id": "accredited-commerce",
   "metadata": {
    "scrolled": true
   },
   "outputs": [
    {
     "name": "stdout",
     "output_type": "stream",
     "text": [
      "COMM VITALITY / 1104 SPRUCE1 548.0998383185125\n",
      "COMM VITALITY / 1000WALNUT 475.53235082674337\n",
      "BOULDER / REC CENTER 697.0075329566855\n",
      "BOULDER / BASELINE ST1 668.2641843971631\n",
      "BOULDER / ATRIUM ST1 684.9809248554914\n",
      "BOULDER / ALPINE ST1 1768.3383838383838\n",
      "COMM VITALITY / 1400 WALNUT1 1278.52079002079\n",
      "BOULDER / FACILITIES ST1 807.0337209302326\n",
      "COMM VITALITY / 1500PEARL 833.5865051903114\n",
      "BOULDER / JUNCTION ST1 1517.3200692041523\n"
     ]
    }
   ],
   "source": [
    "for name in names[0:10]:\n",
    "    temp = df[df['Station_Name'] == name]\n",
    "    print(name, np.mean(temp['life_time']))\n",
    "#     print(temp[temporal_features].iloc[0])"
   ]
  },
  {
   "cell_type": "code",
   "execution_count": 27,
   "id": "mighty-stamp",
   "metadata": {},
   "outputs": [],
   "source": [
    "split = 0.8\n",
    "\n",
    "## Get X and y - M5\n",
    "X = train4[features4_cat+features4_con]\n",
    "y = train4['life_time']\n",
    "\n",
    "## split data\n",
    "X_train4, X_test4 = np.split(X, [int(split * len(X))])\n",
    "y_train4, y_test4 = np.split(y, [int(split * len(X))])\n",
    "\n",
    "## Standardize\n",
    "scaler = StandardScaler()\n",
    "X_train4[features4_con] = scaler.fit_transform(X_train4[features4_con])\n",
    "X_test4[features4_con] = scaler.transform(X_test4[features4_con])"
   ]
  },
  {
   "cell_type": "markdown",
   "id": "statistical-orientation",
   "metadata": {},
   "source": [
    "# Single-Step - Specific events\n",
    "\n",
    "The last experiment is simply to make predictions for some specific events. In total I choose 4 events. One during monday midday and one during saturday evening for 1000 WALNUT station. \n",
    "\n",
    "- Event 1) Monday midday events in test set for N BOULDER. Choose index 11002. \n",
    "- Event 2) Saturday evening events in test set for 1000 WALNUT. Choose index 2193."
   ]
  },
  {
   "cell_type": "code",
   "execution_count": 28,
   "id": "creative-alert",
   "metadata": {},
   "outputs": [],
   "source": [
    "idx1 = X_test4[(X_test4['Station_Name_BOULDER / N BOULDER REC 1'] == 1) & (X_test4['weekday_b_name_Monday'] == 1) & (X_test4['tod_Midday'] == 1)].index"
   ]
  },
  {
   "cell_type": "code",
   "execution_count": 29,
   "id": "bearing-allah",
   "metadata": {},
   "outputs": [
    {
     "data": {
      "text/plain": [
       "10850    123.5\n",
       "10870     32.5\n",
       "10882     55.5\n",
       "10883     11.5\n",
       "10911    179.5\n",
       "10933     25.5\n",
       "10957    106.5\n",
       "10971     26.5\n",
       "11002    183.5\n",
       "11030    194.5\n",
       "11053    447.5\n",
       "Name: life_time, dtype: float64"
      ]
     },
     "execution_count": 29,
     "metadata": {},
     "output_type": "execute_result"
    }
   ],
   "source": [
    "y_test4[idx1]"
   ]
  },
  {
   "cell_type": "code",
   "execution_count": 30,
   "id": "cross-density",
   "metadata": {},
   "outputs": [],
   "source": [
    "idx2 = X_test4[(X_test4['Station_Name_COMM VITALITY / 1000WALNUT'] == 1) & (X_test4['weekday_b_name_Saturday'] == 1) & (X_test4['tod_Evening'] == 1)].index"
   ]
  },
  {
   "cell_type": "code",
   "execution_count": 31,
   "id": "appointed-cloud",
   "metadata": {},
   "outputs": [
    {
     "data": {
      "text/plain": [
       "2193     947.5\n",
       "2207     915.5\n",
       "2240    1061.5\n",
       "2259     113.5\n",
       "2271     886.5\n",
       "2288     846.5\n",
       "2308     877.5\n",
       "2324    1098.5\n",
       "2342       0.5\n",
       "2343     978.5\n",
       "2362    1102.5\n",
       "2377     816.5\n",
       "Name: life_time, dtype: float64"
      ]
     },
     "execution_count": 31,
     "metadata": {},
     "output_type": "execute_result"
    }
   ],
   "source": [
    "y_test4[idx2]"
   ]
  },
  {
   "cell_type": "code",
   "execution_count": 33,
   "id": "level-collection",
   "metadata": {},
   "outputs": [],
   "source": [
    "index_specific =  [11002, 2193]\n",
    "X_specific = X_test4.loc[index_specific]\n",
    "y_specific = y_test4.loc[index_specific]\n",
    "\n",
    "## Standardize\n",
    "X_specific[features4_con] = scaler.transform(X_specific[features4_con])"
   ]
  },
  {
   "cell_type": "code",
   "execution_count": 38,
   "id": "looking-burner",
   "metadata": {},
   "outputs": [
    {
     "data": {
      "text/plain": [
       "11002   2019-08-19 12:35:00\n",
       "2193    2019-06-08 19:47:00\n",
       "Name: datetime_start, dtype: datetime64[ns]"
      ]
     },
     "execution_count": 38,
     "metadata": {},
     "output_type": "execute_result"
    }
   ],
   "source": [
    "df.loc[index_specific]['datetime_start']"
   ]
  },
  {
   "cell_type": "code",
   "execution_count": 39,
   "id": "incorrect-plate",
   "metadata": {},
   "outputs": [
    {
     "data": {
      "text/plain": [
       "11002    183.5\n",
       "2193     947.5\n",
       "Name: life_time, dtype: float64"
      ]
     },
     "execution_count": 39,
     "metadata": {},
     "output_type": "execute_result"
    }
   ],
   "source": [
    "y_specific"
   ]
  },
  {
   "cell_type": "markdown",
   "id": "restricted-contrary",
   "metadata": {},
   "source": [
    "## Traditional regression methods"
   ]
  },
  {
   "cell_type": "markdown",
   "id": "graduate-neutral",
   "metadata": {},
   "source": [
    "Specify hyper parameters"
   ]
  },
  {
   "cell_type": "code",
   "execution_count": 40,
   "id": "liable-chemistry",
   "metadata": {},
   "outputs": [],
   "source": [
    "params = {}\n",
    "params['M1'] = {}\n",
    "params['M4'] = {}\n",
    "params['M4']['LR'] = {'alpha':15}\n",
    "params['M4']['RF'] = {'n_estimators': 500, 'min_samples_split': 3, 'min_samples_leaf': 10, 'max_depth': 7}\n",
    "params['M4']['MLP'] = {'hidden_layer_sizes': 256, 'alpha': 0.001, 'activation': 'relu'}\n",
    "params['M4']['GB'] = {'n_estimators': 500, 'min_samples_split': 5, 'min_samples_leaf': 5, 'max_depth': 3, 'learning_rate': 0.01}"
   ]
  },
  {
   "cell_type": "markdown",
   "id": "chronic-prince",
   "metadata": {},
   "source": [
    "**Linear regression**"
   ]
  },
  {
   "cell_type": "code",
   "execution_count": 41,
   "id": "developmental-fields",
   "metadata": {},
   "outputs": [
    {
     "data": {
      "text/plain": [
       "Ridge(alpha=15, random_state=42)"
      ]
     },
     "execution_count": 41,
     "metadata": {},
     "output_type": "execute_result"
    }
   ],
   "source": [
    "param = params['M4']['LR']\n",
    "reg_LR = Ridge(random_state=42, alpha=param['alpha'])\n",
    "reg_LR.fit(X_train4,y_train4)"
   ]
  },
  {
   "cell_type": "code",
   "execution_count": 42,
   "id": "stainless-louisiana",
   "metadata": {},
   "outputs": [
    {
     "data": {
      "text/plain": [
       "array([-57.72000644, 693.55793485])"
      ]
     },
     "execution_count": 42,
     "metadata": {},
     "output_type": "execute_result"
    }
   ],
   "source": [
    "pred = reg_LR.predict(X_specific)\n",
    "pred"
   ]
  },
  {
   "cell_type": "markdown",
   "id": "manufactured-static",
   "metadata": {},
   "source": [
    "**Random forest**"
   ]
  },
  {
   "cell_type": "code",
   "execution_count": 43,
   "id": "completed-saint",
   "metadata": {},
   "outputs": [
    {
     "data": {
      "text/plain": [
       "RandomForestRegressor(max_depth=7, min_samples_leaf=10, min_samples_split=3,\n",
       "                      n_estimators=500, random_state=42)"
      ]
     },
     "execution_count": 43,
     "metadata": {},
     "output_type": "execute_result"
    }
   ],
   "source": [
    "param = params['M4']['RF']\n",
    "reg_RF = RandomForestRegressor(random_state=42, \n",
    "                            min_samples_split=param['min_samples_split'],\n",
    "                            min_samples_leaf=param['min_samples_leaf'],\n",
    "                            max_depth=param['max_depth'],\n",
    "                            n_estimators=param['n_estimators'])    \n",
    "reg_RF.fit(X_train4, y_train4) "
   ]
  },
  {
   "cell_type": "code",
   "execution_count": 44,
   "id": "major-rates",
   "metadata": {},
   "outputs": [
    {
     "data": {
      "text/plain": [
       "array([444.59911084, 695.95203687])"
      ]
     },
     "execution_count": 44,
     "metadata": {},
     "output_type": "execute_result"
    }
   ],
   "source": [
    "pred = reg_RF.predict(X_specific)\n",
    "pred            "
   ]
  },
  {
   "cell_type": "markdown",
   "id": "synthetic-funeral",
   "metadata": {},
   "source": [
    "**Gradient boosting**"
   ]
  },
  {
   "cell_type": "code",
   "execution_count": 45,
   "id": "arctic-equivalent",
   "metadata": {},
   "outputs": [
    {
     "data": {
      "text/plain": [
       "GradientBoostingRegressor(learning_rate=0.01, min_samples_leaf=5,\n",
       "                          min_samples_split=5, n_estimators=500,\n",
       "                          random_state=42)"
      ]
     },
     "execution_count": 45,
     "metadata": {},
     "output_type": "execute_result"
    }
   ],
   "source": [
    "param = params['M4']['GB']\n",
    "reg_GB = GradientBoostingRegressor(random_state=42, \n",
    "                                max_depth=param['max_depth'],\n",
    "                                min_samples_split=param['min_samples_split'],\n",
    "                                min_samples_leaf=param['min_samples_leaf'],\n",
    "                                n_estimators=param['n_estimators'], \n",
    "                                learning_rate=param['learning_rate'])\n",
    "reg_GB.fit(X_train4, y_train4)"
   ]
  },
  {
   "cell_type": "code",
   "execution_count": 46,
   "id": "about-exploration",
   "metadata": {},
   "outputs": [
    {
     "data": {
      "text/plain": [
       "array([330.73098969, 695.14024633])"
      ]
     },
     "execution_count": 46,
     "metadata": {},
     "output_type": "execute_result"
    }
   ],
   "source": [
    "pred = reg_GB.predict(X_specific)\n",
    "pred"
   ]
  },
  {
   "cell_type": "markdown",
   "id": "medium-sphere",
   "metadata": {},
   "source": [
    "**MLP**"
   ]
  },
  {
   "cell_type": "code",
   "execution_count": 47,
   "id": "universal-adaptation",
   "metadata": {},
   "outputs": [
    {
     "data": {
      "text/plain": [
       "MLPRegressor(alpha=0.001, early_stopping=True, hidden_layer_sizes=256,\n",
       "             max_iter=500, random_state=42)"
      ]
     },
     "execution_count": 47,
     "metadata": {},
     "output_type": "execute_result"
    }
   ],
   "source": [
    "param = params['M4']['MLP']\n",
    "reg_MLP = MLPRegressor(random_state=42, alpha=param['alpha'], \n",
    "                   hidden_layer_sizes=param['hidden_layer_sizes'],\n",
    "                   activation = param['activation'],\n",
    "                   max_iter=500, early_stopping=True)\n",
    "reg_MLP.fit(X_train4, y_train4)"
   ]
  },
  {
   "cell_type": "code",
   "execution_count": 48,
   "id": "suburban-examination",
   "metadata": {},
   "outputs": [
    {
     "data": {
      "text/plain": [
       "array([ 409.89682868, 1141.53155363])"
      ]
     },
     "execution_count": 48,
     "metadata": {},
     "output_type": "execute_result"
    }
   ],
   "source": [
    "pred = reg_MLP.predict(X_specific)\n",
    "pred"
   ]
  },
  {
   "cell_type": "markdown",
   "id": "rental-province",
   "metadata": {},
   "source": [
    "## Quantile regression"
   ]
  },
  {
   "cell_type": "code",
   "execution_count": 49,
   "id": "enabling-lewis",
   "metadata": {},
   "outputs": [],
   "source": [
    "quantile_labels = ['5th','25th','50th','75th','95th']\n",
    "quantiles = [0.05, 0.25, 0.5, 0.75, 0.95]\n",
    "qr_M4 = pd.DataFrame(columns=quantile_labels)\n",
    "qr_M4['true'] = y_specific.values"
   ]
  },
  {
   "cell_type": "code",
   "execution_count": 50,
   "id": "abstract-pioneer",
   "metadata": {},
   "outputs": [],
   "source": [
    "for i in range(len(quantiles)):\n",
    "    regCPH = GradientBoostingRegressor(random_state=42, max_depth=3,\n",
    "                                        n_estimators=500, \n",
    "                                        learning_rate=0.01,\n",
    "                                        min_samples_split=5,\n",
    "                                        min_samples_leaf=5,\n",
    "                                        loss='quantile', alpha=quantiles[i])\n",
    "    regCPH.fit(X_train4,y_train4)\n",
    "    qr_M4[quantile_labels[i]] = regCPH.predict(X_specific)"
   ]
  },
  {
   "cell_type": "code",
   "execution_count": 51,
   "id": "conservative-repeat",
   "metadata": {},
   "outputs": [
    {
     "data": {
      "text/html": [
       "<div>\n",
       "<style scoped>\n",
       "    .dataframe tbody tr th:only-of-type {\n",
       "        vertical-align: middle;\n",
       "    }\n",
       "\n",
       "    .dataframe tbody tr th {\n",
       "        vertical-align: top;\n",
       "    }\n",
       "\n",
       "    .dataframe thead th {\n",
       "        text-align: right;\n",
       "    }\n",
       "</style>\n",
       "<table border=\"1\" class=\"dataframe\">\n",
       "  <thead>\n",
       "    <tr style=\"text-align: right;\">\n",
       "      <th></th>\n",
       "      <th>5th</th>\n",
       "      <th>25th</th>\n",
       "      <th>50th</th>\n",
       "      <th>75th</th>\n",
       "      <th>95th</th>\n",
       "      <th>true</th>\n",
       "    </tr>\n",
       "  </thead>\n",
       "  <tbody>\n",
       "    <tr>\n",
       "      <th>0</th>\n",
       "      <td>13.667754</td>\n",
       "      <td>54.251126</td>\n",
       "      <td>190.660101</td>\n",
       "      <td>432.897375</td>\n",
       "      <td>1294.003691</td>\n",
       "      <td>183.5</td>\n",
       "    </tr>\n",
       "    <tr>\n",
       "      <th>1</th>\n",
       "      <td>32.341910</td>\n",
       "      <td>473.668320</td>\n",
       "      <td>738.600083</td>\n",
       "      <td>827.736667</td>\n",
       "      <td>1121.837532</td>\n",
       "      <td>947.5</td>\n",
       "    </tr>\n",
       "  </tbody>\n",
       "</table>\n",
       "</div>"
      ],
      "text/plain": [
       "         5th        25th        50th        75th         95th   true\n",
       "0  13.667754   54.251126  190.660101  432.897375  1294.003691  183.5\n",
       "1  32.341910  473.668320  738.600083  827.736667  1121.837532  947.5"
      ]
     },
     "execution_count": 51,
     "metadata": {},
     "output_type": "execute_result"
    }
   ],
   "source": [
    "qr_M4"
   ]
  },
  {
   "cell_type": "markdown",
   "id": "pursuant-torture",
   "metadata": {},
   "source": [
    "### Survival analysis"
   ]
  },
  {
   "cell_type": "markdown",
   "id": "architectural-korea",
   "metadata": {},
   "source": [
    "Split the data for survival analysis"
   ]
  },
  {
   "cell_type": "code",
   "execution_count": 52,
   "id": "another-small",
   "metadata": {},
   "outputs": [
    {
     "data": {
      "text/plain": [
       "CoxPHModel"
      ]
     },
     "execution_count": 52,
     "metadata": {},
     "output_type": "execute_result"
    }
   ],
   "source": [
    "X_train = df4[features4_cat+features4_con]\n",
    "T_train = df4['life_time']\n",
    "E_train = np.ones(len(df4))\n",
    "\n",
    "reg = CoxPHModel()\n",
    "reg.fit(X_train, T_train, E_train, lr= 0.01, l2_reg=0.1, init_method='zeros', max_iter=800, verbose=False)"
   ]
  },
  {
   "cell_type": "code",
   "execution_count": 53,
   "id": "prospective-border",
   "metadata": {},
   "outputs": [
    {
     "data": {
      "image/png": "[encoded data removed]",
      "text/plain": [
       "<Figure size 440x280 with 1 Axes>"
      ]
     },
     "metadata": {
      "needs_background": "light"
     },
     "output_type": "display_data"
    }
   ],
   "source": [
    "surv = reg.predict_survival(x=X_specific)\n",
    "time = reg.times\n",
    "\n",
    "figure(figsize=(5.5, 3.5), dpi=80)\n",
    "\n",
    "colors = ['k','b']\n",
    "for i in range(0,len(surv)):\n",
    "    mean = []\n",
    "    upper = []\n",
    "    lower = []\n",
    "    \n",
    "    surv_temp = surv[i]\n",
    "\n",
    "    N = 2\n",
    "\n",
    "    for k in range(len(time)):\n",
    "        vals = surv_temp[k]\n",
    "        mean.append(np.mean(vals))\n",
    "    plt.plot(time,mean, color=colors[i], label=index_specific[i])\n",
    "plt.legend()\n",
    "plt.xlabel(\"Idle time (minutes)\")\n",
    "plt.ylabel(\"Survival probability\")\n",
    "plt.grid()\n",
    "plt.show()"
   ]
  },
  {
   "cell_type": "markdown",
   "id": "arranged-opportunity",
   "metadata": {},
   "source": [
    "Point estimates predictions"
   ]
  },
  {
   "cell_type": "code",
   "execution_count": 54,
   "id": "coordinated-cosmetic",
   "metadata": {},
   "outputs": [
    {
     "data": {
      "text/plain": [
       "[27.194941624501837, 504.14947469533774]"
      ]
     },
     "execution_count": 54,
     "metadata": {},
     "output_type": "execute_result"
    }
   ],
   "source": [
    "point_predictions = point_pred_single(reg,X_specific)\n",
    "point_predictions"
   ]
  },
  {
   "cell_type": "markdown",
   "id": "revolutionary-police",
   "metadata": {},
   "source": [
    "# Two-Step - predict for different station"
   ]
  },
  {
   "cell_type": "markdown",
   "id": "fewer-teddy",
   "metadata": {},
   "source": [
    "Classify single station"
   ]
  },
  {
   "cell_type": "code",
   "execution_count": 55,
   "id": "multiple-breach",
   "metadata": {},
   "outputs": [],
   "source": [
    "def hsplit(X):\n",
    "    if X >= 4*60:\n",
    "        return 1\n",
    "    else:\n",
    "        return 0"
   ]
  },
  {
   "cell_type": "code",
   "execution_count": 56,
   "id": "internal-compromise",
   "metadata": {},
   "outputs": [],
   "source": [
    "y_train4C = y_train4.apply(hsplit)"
   ]
  },
  {
   "cell_type": "code",
   "execution_count": 57,
   "id": "stunning-buyer",
   "metadata": {},
   "outputs": [
    {
     "data": {
      "text/plain": [
       "GradientBoostingClassifier(learning_rate=0.01, min_samples_leaf=3,\n",
       "                           min_samples_split=5, n_estimators=500,\n",
       "                           random_state=42)"
      ]
     },
     "execution_count": 57,
     "metadata": {},
     "output_type": "execute_result"
    }
   ],
   "source": [
    "### Train classifier\n",
    "# Evaluate model\n",
    "clf = GradientBoostingClassifier(random_state=42, \n",
    "                                max_depth=3,\n",
    "                                min_samples_split=5,\n",
    "                                min_samples_leaf=3,\n",
    "                                n_estimators=500, \n",
    "                                learning_rate=0.01)\n",
    "clf.fit(X_train4,y_train4C)"
   ]
  },
  {
   "cell_type": "code",
   "execution_count": 58,
   "id": "smaller-priority",
   "metadata": {},
   "outputs": [
    {
     "data": {
      "text/plain": [
       "array([0, 1], dtype=int64)"
      ]
     },
     "execution_count": 58,
     "metadata": {},
     "output_type": "execute_result"
    }
   ],
   "source": [
    "pred = clf.predict(X_specific)\n",
    "pred"
   ]
  },
  {
   "cell_type": "code",
   "execution_count": 59,
   "id": "collect-thumbnail",
   "metadata": {},
   "outputs": [],
   "source": [
    "X_specificS = X_specific.iloc[0]\n",
    "X_specificS = X_specificS.to_numpy().reshape(1,-1)\n",
    "X_specificL = X_specific.iloc[1]\n",
    "X_specificL = X_specificL.to_numpy().reshape(1,-1)\n",
    "\n",
    "\n",
    "y_specificS = y_specific.iloc[0]\n",
    "y_specificL = y_specific.iloc[1]"
   ]
  },
  {
   "cell_type": "markdown",
   "id": "cubic-typing",
   "metadata": {},
   "source": [
    "Load classified 4 station data:"
   ]
  },
  {
   "cell_type": "code",
   "execution_count": 60,
   "id": "interstate-beijing",
   "metadata": {},
   "outputs": [
    {
     "data": {
      "text/html": [
       "<div>\n",
       "<style scoped>\n",
       "    .dataframe tbody tr th:only-of-type {\n",
       "        vertical-align: middle;\n",
       "    }\n",
       "\n",
       "    .dataframe tbody tr th {\n",
       "        vertical-align: top;\n",
       "    }\n",
       "\n",
       "    .dataframe thead th {\n",
       "        text-align: right;\n",
       "    }\n",
       "</style>\n",
       "<table border=\"1\" class=\"dataframe\">\n",
       "  <thead>\n",
       "    <tr style=\"text-align: right;\">\n",
       "      <th></th>\n",
       "      <th>life_time</th>\n",
       "      <th>datetime_start</th>\n",
       "      <th>datetime_end</th>\n",
       "      <th>latitude</th>\n",
       "      <th>longitude</th>\n",
       "      <th>distance_center_km</th>\n",
       "      <th>weekday_b</th>\n",
       "      <th>charging_ports</th>\n",
       "      <th>lag1</th>\n",
       "      <th>lag2</th>\n",
       "      <th>...</th>\n",
       "      <th>hour_b_22</th>\n",
       "      <th>hour_b_23</th>\n",
       "      <th>Station_Name_BOULDER / N BOULDER REC 1</th>\n",
       "      <th>Station_Name_COMM VITALITY / 1000WALNUT</th>\n",
       "      <th>Station_Name_COMM VITALITY / 1104 SPRUCE1</th>\n",
       "      <th>4Hsplit</th>\n",
       "      <th>y_pred</th>\n",
       "      <th>Station_Name</th>\n",
       "      <th>weekday_b_name</th>\n",
       "      <th>tod</th>\n",
       "    </tr>\n",
       "  </thead>\n",
       "  <tbody>\n",
       "    <tr>\n",
       "      <th>3734</th>\n",
       "      <td>118.5</td>\n",
       "      <td>2018-01-05 14:25:00</td>\n",
       "      <td>2018-01-05 16:23:30</td>\n",
       "      <td>40.000148</td>\n",
       "      <td>-105.282437</td>\n",
       "      <td>2.096847</td>\n",
       "      <td>4</td>\n",
       "      <td>2</td>\n",
       "      <td>1271.5</td>\n",
       "      <td>135.5</td>\n",
       "      <td>...</td>\n",
       "      <td>0</td>\n",
       "      <td>0</td>\n",
       "      <td>0</td>\n",
       "      <td>0</td>\n",
       "      <td>0</td>\n",
       "      <td>0</td>\n",
       "      <td>1</td>\n",
       "      <td>BOULDER / BASELINE ST1</td>\n",
       "      <td>Friday</td>\n",
       "      <td>Midday</td>\n",
       "    </tr>\n",
       "    <tr>\n",
       "      <th>3735</th>\n",
       "      <td>886.5</td>\n",
       "      <td>2018-01-05 17:02:00</td>\n",
       "      <td>2018-01-06 07:48:30</td>\n",
       "      <td>40.000148</td>\n",
       "      <td>-105.282437</td>\n",
       "      <td>2.096847</td>\n",
       "      <td>4</td>\n",
       "      <td>2</td>\n",
       "      <td>118.5</td>\n",
       "      <td>1271.5</td>\n",
       "      <td>...</td>\n",
       "      <td>0</td>\n",
       "      <td>0</td>\n",
       "      <td>0</td>\n",
       "      <td>0</td>\n",
       "      <td>0</td>\n",
       "      <td>1</td>\n",
       "      <td>1</td>\n",
       "      <td>BOULDER / BASELINE ST1</td>\n",
       "      <td>Friday</td>\n",
       "      <td>Afternoon</td>\n",
       "    </tr>\n",
       "    <tr>\n",
       "      <th>3736</th>\n",
       "      <td>326.5</td>\n",
       "      <td>2018-01-06 09:28:00</td>\n",
       "      <td>2018-01-06 14:54:30</td>\n",
       "      <td>40.000148</td>\n",
       "      <td>-105.282437</td>\n",
       "      <td>2.096847</td>\n",
       "      <td>5</td>\n",
       "      <td>2</td>\n",
       "      <td>886.5</td>\n",
       "      <td>118.5</td>\n",
       "      <td>...</td>\n",
       "      <td>0</td>\n",
       "      <td>0</td>\n",
       "      <td>0</td>\n",
       "      <td>0</td>\n",
       "      <td>0</td>\n",
       "      <td>1</td>\n",
       "      <td>0</td>\n",
       "      <td>BOULDER / BASELINE ST1</td>\n",
       "      <td>Saturday</td>\n",
       "      <td>Morning</td>\n",
       "    </tr>\n",
       "    <tr>\n",
       "      <th>3737</th>\n",
       "      <td>996.5</td>\n",
       "      <td>2018-01-06 17:09:00</td>\n",
       "      <td>2018-01-07 09:45:30</td>\n",
       "      <td>40.000148</td>\n",
       "      <td>-105.282437</td>\n",
       "      <td>2.096847</td>\n",
       "      <td>5</td>\n",
       "      <td>2</td>\n",
       "      <td>326.5</td>\n",
       "      <td>886.5</td>\n",
       "      <td>...</td>\n",
       "      <td>0</td>\n",
       "      <td>0</td>\n",
       "      <td>0</td>\n",
       "      <td>0</td>\n",
       "      <td>0</td>\n",
       "      <td>1</td>\n",
       "      <td>1</td>\n",
       "      <td>BOULDER / BASELINE ST1</td>\n",
       "      <td>Saturday</td>\n",
       "      <td>Afternoon</td>\n",
       "    </tr>\n",
       "    <tr>\n",
       "      <th>3738</th>\n",
       "      <td>52.5</td>\n",
       "      <td>2018-01-07 10:58:00</td>\n",
       "      <td>2018-01-07 11:50:30</td>\n",
       "      <td>40.000148</td>\n",
       "      <td>-105.282437</td>\n",
       "      <td>2.096847</td>\n",
       "      <td>6</td>\n",
       "      <td>2</td>\n",
       "      <td>996.5</td>\n",
       "      <td>326.5</td>\n",
       "      <td>...</td>\n",
       "      <td>0</td>\n",
       "      <td>0</td>\n",
       "      <td>0</td>\n",
       "      <td>0</td>\n",
       "      <td>0</td>\n",
       "      <td>0</td>\n",
       "      <td>0</td>\n",
       "      <td>BOULDER / BASELINE ST1</td>\n",
       "      <td>Sunday</td>\n",
       "      <td>Morning</td>\n",
       "    </tr>\n",
       "  </tbody>\n",
       "</table>\n",
       "<p>5 rows × 102 columns</p>\n",
       "</div>"
      ],
      "text/plain": [
       "      life_time      datetime_start        datetime_end   latitude  \\\n",
       "3734      118.5 2018-01-05 14:25:00 2018-01-05 16:23:30  40.000148   \n",
       "3735      886.5 2018-01-05 17:02:00 2018-01-06 07:48:30  40.000148   \n",
       "3736      326.5 2018-01-06 09:28:00 2018-01-06 14:54:30  40.000148   \n",
       "3737      996.5 2018-01-06 17:09:00 2018-01-07 09:45:30  40.000148   \n",
       "3738       52.5 2018-01-07 10:58:00 2018-01-07 11:50:30  40.000148   \n",
       "\n",
       "       longitude  distance_center_km  weekday_b  charging_ports    lag1  \\\n",
       "3734 -105.282437            2.096847          4               2  1271.5   \n",
       "3735 -105.282437            2.096847          4               2   118.5   \n",
       "3736 -105.282437            2.096847          5               2   886.5   \n",
       "3737 -105.282437            2.096847          5               2   326.5   \n",
       "3738 -105.282437            2.096847          6               2   996.5   \n",
       "\n",
       "        lag2  ...  hour_b_22  hour_b_23  \\\n",
       "3734   135.5  ...          0          0   \n",
       "3735  1271.5  ...          0          0   \n",
       "3736   118.5  ...          0          0   \n",
       "3737   886.5  ...          0          0   \n",
       "3738   326.5  ...          0          0   \n",
       "\n",
       "      Station_Name_BOULDER / N BOULDER REC 1  \\\n",
       "3734                                       0   \n",
       "3735                                       0   \n",
       "3736                                       0   \n",
       "3737                                       0   \n",
       "3738                                       0   \n",
       "\n",
       "      Station_Name_COMM VITALITY / 1000WALNUT  \\\n",
       "3734                                        0   \n",
       "3735                                        0   \n",
       "3736                                        0   \n",
       "3737                                        0   \n",
       "3738                                        0   \n",
       "\n",
       "      Station_Name_COMM VITALITY / 1104 SPRUCE1  4Hsplit  y_pred  \\\n",
       "3734                                          0        0       1   \n",
       "3735                                          0        1       1   \n",
       "3736                                          0        1       0   \n",
       "3737                                          0        1       1   \n",
       "3738                                          0        0       0   \n",
       "\n",
       "                Station_Name  weekday_b_name        tod  \n",
       "3734  BOULDER / BASELINE ST1          Friday     Midday  \n",
       "3735  BOULDER / BASELINE ST1          Friday  Afternoon  \n",
       "3736  BOULDER / BASELINE ST1        Saturday    Morning  \n",
       "3737  BOULDER / BASELINE ST1        Saturday  Afternoon  \n",
       "3738  BOULDER / BASELINE ST1          Sunday    Morning  \n",
       "\n",
       "[5 rows x 102 columns]"
      ]
     },
     "execution_count": 60,
     "metadata": {},
     "output_type": "execute_result"
    }
   ],
   "source": [
    "# under_utilization data\n",
    "with open(\"../Data/Boulder/ut_V6_classification-4H.pkl\", \"rb\") as fh:\n",
    "    dfC = pickle5.load(fh)\n",
    "    \n",
    "dfC.head()"
   ]
  },
  {
   "cell_type": "code",
   "execution_count": 61,
   "id": "defensive-deficit",
   "metadata": {},
   "outputs": [
    {
     "data": {
      "text/plain": [
       "y_pred\n",
       "0    3062\n",
       "1    2048\n",
       "Name: life_time, dtype: int64"
      ]
     },
     "execution_count": 61,
     "metadata": {},
     "output_type": "execute_result"
    }
   ],
   "source": [
    "dfC.groupby(['y_pred']).count().life_time"
   ]
  },
  {
   "cell_type": "code",
   "execution_count": 62,
   "id": "sophisticated-smith",
   "metadata": {},
   "outputs": [
    {
     "name": "stdout",
     "output_type": "stream",
     "text": [
      "Training shape: (4088, 102)\n",
      "Testing shape: (1022, 102)\n",
      "SHORT: Train: 2433 Test: 629\n",
      "LONG: Train: 1655 Test: 393\n"
     ]
    }
   ],
   "source": [
    "train, test = np.split(dfC, [int(split * len(dfC))])\n",
    "print(\"Training shape:\",train.shape)\n",
    "print(\"Testing shape:\", test.shape)\n",
    "\n",
    "trainS = train[train['y_pred'] == 0]\n",
    "trainL = train[train['y_pred'] == 1]\n",
    "\n",
    "testS = test[test['y_pred'] == 0]\n",
    "testL = test[test['y_pred'] == 1]\n",
    "\n",
    "print(\"SHORT: Train: {} Test: {}\".format(trainS.shape[0], testS.shape[0]))\n",
    "print(\"LONG: Train: {} Test: {}\".format(trainL.shape[0], testL.shape[0]))"
   ]
  },
  {
   "cell_type": "code",
   "execution_count": 63,
   "id": "signed-unemployment",
   "metadata": {},
   "outputs": [],
   "source": [
    "# Full\n",
    "X_S = trainS[features4_cat+features4_con]\n",
    "scaler = StandardScaler()\n",
    "X_S[features4_con] = scaler.fit_transform(X_S[features4_con])\n",
    "X_L = trainL[features4_cat+features4_con]\n",
    "scaler = StandardScaler()\n",
    "X_L[features4_con] = scaler.fit_transform(X_L[features4_con])\n",
    "\n",
    "## Get y - train\n",
    "y_S = trainS['life_time']\n",
    "y_L = trainL['life_time']"
   ]
  },
  {
   "cell_type": "markdown",
   "id": "clear-america",
   "metadata": {},
   "source": [
    "## Two-step approach, traditional regression methods"
   ]
  },
  {
   "cell_type": "code",
   "execution_count": 64,
   "id": "muslim-theology",
   "metadata": {},
   "outputs": [],
   "source": [
    "results_ML = {}"
   ]
  },
  {
   "cell_type": "markdown",
   "id": "phantom-senior",
   "metadata": {},
   "source": [
    "Define parameters:"
   ]
  },
  {
   "cell_type": "code",
   "execution_count": 65,
   "id": "indirect-mentor",
   "metadata": {},
   "outputs": [],
   "source": [
    "parameters = {}\n",
    "parameters['LR'] = {}\n",
    "parameters['LR']['S'] = {'alpha':20}\n",
    "parameters['LR']['L'] = {'alpha':20}\n",
    "parameters['RF'] = {}\n",
    "parameters['RF']['S'] = {'n_estimators': 500, 'min_samples_split': 2, 'min_samples_leaf': 15, 'max_depth': 7}\n",
    "parameters['RF']['L'] = {'n_estimators': 100, 'min_samples_split': 5, 'min_samples_leaf': 15, 'max_depth': 3}\n",
    "parameters['GB'] = {}\n",
    "parameters['GB']['S'] = {'n_estimators': 300, 'min_samples_split': 7, 'min_samples_leaf': 10, 'max_depth': 3, 'learning_rate': 0.01}\n",
    "parameters['GB']['L'] = {'n_estimators': 300, 'min_samples_split': 5, 'min_samples_leaf': 10, 'max_depth': 2, 'learning_rate': 0.01}\n",
    "parameters['MLP'] = {}\n",
    "parameters['MLP']['S'] = {'hidden_layer_sizes': 256, 'alpha': 10, 'activation': 'relu'}\n",
    "parameters['MLP']['L'] = {'hidden_layer_sizes': (32, 32), 'alpha': 0.0001, 'activation': 'relu'}"
   ]
  },
  {
   "cell_type": "code",
   "execution_count": 66,
   "id": "collective-billy",
   "metadata": {},
   "outputs": [
    {
     "name": "stdout",
     "output_type": "stream",
     "text": [
      "Short: [-112.80073245]\n",
      "Long: [800.56019381]\n"
     ]
    }
   ],
   "source": [
    "## LR\n",
    "results_ML['LR'] = {}\n",
    "\n",
    "paramS = parameters['LR']['S']\n",
    "paramL = parameters['LR']['L']\n",
    "\n",
    "regs = Ridge(random_state=42, alpha=paramS['alpha'], fit_intercept=False)\n",
    "regs.fit(X_S,y_S)\n",
    "regl = Ridge(random_state=42, alpha=paramL['alpha'], fit_intercept=False)\n",
    "regl.fit(X_L,y_L)\n",
    "\n",
    "predS = regs.predict(X_specificS)\n",
    "print(\"Short:\", predS)\n",
    "\n",
    "predL = regl.predict(X_specificL)\n",
    "print(\"Long:\", predL)"
   ]
  },
  {
   "cell_type": "code",
   "execution_count": 67,
   "id": "associate-attack",
   "metadata": {},
   "outputs": [
    {
     "name": "stdout",
     "output_type": "stream",
     "text": [
      "Short: [247.97665595]\n",
      "Long: [723.358352]\n"
     ]
    }
   ],
   "source": [
    "## RF\n",
    "results_ML['RF'] = {}\n",
    "\n",
    "paramS = parameters['RF']['S']\n",
    "paramL = parameters['RF']['L']\n",
    "\n",
    "regs = RandomForestRegressor(random_state=42, \n",
    "                            min_samples_split=paramS['min_samples_split'],\n",
    "                            min_samples_leaf=paramS['min_samples_leaf'],\n",
    "                            max_depth=paramS['max_depth'],\n",
    "                            n_estimators=paramS['n_estimators'])\n",
    "regs.fit(X_S,y_S)\n",
    "regl = RandomForestRegressor(random_state=42, \n",
    "                            min_samples_split=paramL['min_samples_split'],\n",
    "                            min_samples_leaf=paramL['min_samples_leaf'], \n",
    "                            max_depth=paramL['max_depth'],\n",
    "                            n_estimators=paramL['n_estimators'])\n",
    "regl.fit(X_L,y_L)\n",
    "\n",
    "predS = regs.predict(X_specificS)\n",
    "print(\"Short:\", predS)\n",
    "\n",
    "predL = regl.predict(X_specificL)\n",
    "print(\"Long:\", predL)"
   ]
  },
  {
   "cell_type": "code",
   "execution_count": 69,
   "id": "adjusted-spyware",
   "metadata": {},
   "outputs": [
    {
     "name": "stdout",
     "output_type": "stream",
     "text": [
      "Short: [450.58777859]\n",
      "Long: [1239.47755086]\n"
     ]
    }
   ],
   "source": [
    "## MLP\n",
    "results_ML['MLP'] = {}\n",
    "\n",
    "paramS = parameters['MLP']['S']\n",
    "paramL = parameters['MLP']['L']\n",
    "\n",
    "regs = MLPRegressor(random_state=42, alpha=paramS['alpha'], \n",
    "                    hidden_layer_sizes=paramS['hidden_layer_sizes'],\n",
    "                    max_iter=500, early_stopping=True)\n",
    "regs.fit(X_S,y_S)\n",
    "regl = MLPRegressor(random_state=42, alpha=paramS['alpha'], \n",
    "                    hidden_layer_sizes=paramS['hidden_layer_sizes'],\n",
    "                    max_iter=500, early_stopping=True)\n",
    "regl.fit(X_L,y_L)\n",
    "\n",
    "y_test_predS = regs.predict(X_specificS)\n",
    "\n",
    "predS = regs.predict(X_specificS)\n",
    "print(\"Short:\", predS)\n",
    "\n",
    "predL = regl.predict(X_specificL)\n",
    "print(\"Long:\", predL)"
   ]
  },
  {
   "cell_type": "code",
   "execution_count": 70,
   "id": "outstanding-weekly",
   "metadata": {},
   "outputs": [
    {
     "name": "stdout",
     "output_type": "stream",
     "text": [
      "Short: [258.5478245]\n",
      "Long: [754.35229838]\n"
     ]
    }
   ],
   "source": [
    "## RF\n",
    "results_ML['GB'] = {}\n",
    "\n",
    "paramS = parameters['GB']['S']\n",
    "paramL = parameters['GB']['L']\n",
    "\n",
    "regs = GradientBoostingRegressor(random_state=42, \n",
    "                                max_depth=paramS['max_depth'],\n",
    "                                n_estimators=paramS['n_estimators'], \n",
    "                                learning_rate=paramS['learning_rate'])\n",
    "regs.fit(X_S,y_S)\n",
    "regl = GradientBoostingRegressor(random_state=42, \n",
    "                                max_depth=paramL['max_depth'],\n",
    "                                n_estimators=paramL['n_estimators'], \n",
    "                                learning_rate=paramL['learning_rate'])\n",
    "regl.fit(X_L,y_L)\n",
    "\n",
    "predS = regs.predict(X_specificS)\n",
    "print(\"Short:\", predS)\n",
    "\n",
    "predL = regl.predict(X_specificL)\n",
    "print(\"Long:\", predL)"
   ]
  },
  {
   "cell_type": "markdown",
   "id": "trying-bahrain",
   "metadata": {},
   "source": [
    "## Two-step approach, quantile regression"
   ]
  },
  {
   "cell_type": "code",
   "execution_count": 71,
   "id": "average-reason",
   "metadata": {},
   "outputs": [
    {
     "data": {
      "text/plain": [
       "183.5"
      ]
     },
     "execution_count": 71,
     "metadata": {},
     "output_type": "execute_result"
    }
   ],
   "source": [
    "y_specificS"
   ]
  },
  {
   "cell_type": "code",
   "execution_count": 72,
   "id": "musical-gabriel",
   "metadata": {},
   "outputs": [],
   "source": [
    "quantile_labels = ['5th','25th','50th','75th','95th']\n",
    "# M4 - Full\n",
    "qr_M4_S = pd.DataFrame(columns=quantile_labels+['true'])\n",
    "qr_M4_S['true'] = [y_specificS]\n",
    "qr_M4_L = pd.DataFrame(columns=quantile_labels+['true'])\n",
    "qr_M4_L['true'] = [y_specificL]"
   ]
  },
  {
   "cell_type": "code",
   "execution_count": 73,
   "id": "august-excuse",
   "metadata": {},
   "outputs": [
    {
     "name": "stdout",
     "output_type": "stream",
     "text": [
      "SHORT, Q: 0.05\n",
      "SHORT, Q: 0.25\n",
      "SHORT, Q: 0.5\n",
      "SHORT, Q: 0.75\n",
      "SHORT, Q: 0.95\n",
      "LONG, Q: 0.05\n",
      "LONG, Q: 0.25\n",
      "LONG, Q: 0.5\n",
      "LONG, Q: 0.75\n",
      "LONG, Q: 0.95\n"
     ]
    }
   ],
   "source": [
    "## SHORT\n",
    "for i in range(len(quantiles)):\n",
    "    print(\"SHORT, Q: {}\".format(quantiles[i]))\n",
    "    reg = GradientBoostingRegressor(random_state=42, max_depth=3,\n",
    "                                    n_estimators=300,\n",
    "                                    min_samples_split=5,\n",
    "                                    min_samples_leaf=15,\n",
    "                                    learning_rate=0.01,\n",
    "                                    loss='quantile', alpha=quantiles[i])\n",
    "    reg.fit(X_S,y_S)\n",
    "    qr_M4_S[quantile_labels[i]] = reg.predict(X_specificS)\n",
    "    \n",
    "## LONG\n",
    "for i in range(len(quantiles)):\n",
    "    print(\"LONG, Q: {}\".format(quantiles[i]))\n",
    "    reg = GradientBoostingRegressor(random_state=42, max_depth=3,\n",
    "                                    n_estimators=300,\n",
    "                                    min_samples_split=5,\n",
    "                                    min_samples_leaf=15,\n",
    "                                    learning_rate=0.01,\n",
    "                                    loss='quantile', alpha=quantiles[i])\n",
    "    reg.fit(X_L,y_L)\n",
    "    qr_M5_L[quantile_labels[i]] = reg.predict(X_specificL)\n",
    "    "
   ]
  },
  {
   "cell_type": "code",
   "execution_count": 74,
   "id": "desirable-proof",
   "metadata": {},
   "outputs": [
    {
     "data": {
      "text/html": [
       "<div>\n",
       "<style scoped>\n",
       "    .dataframe tbody tr th:only-of-type {\n",
       "        vertical-align: middle;\n",
       "    }\n",
       "\n",
       "    .dataframe tbody tr th {\n",
       "        vertical-align: top;\n",
       "    }\n",
       "\n",
       "    .dataframe thead th {\n",
       "        text-align: right;\n",
       "    }\n",
       "</style>\n",
       "<table border=\"1\" class=\"dataframe\">\n",
       "  <thead>\n",
       "    <tr style=\"text-align: right;\">\n",
       "      <th></th>\n",
       "      <th>5th</th>\n",
       "      <th>25th</th>\n",
       "      <th>50th</th>\n",
       "      <th>75th</th>\n",
       "      <th>95th</th>\n",
       "      <th>true</th>\n",
       "    </tr>\n",
       "  </thead>\n",
       "  <tbody>\n",
       "    <tr>\n",
       "      <th>0</th>\n",
       "      <td>2.048471</td>\n",
       "      <td>57.95144</td>\n",
       "      <td>146.056586</td>\n",
       "      <td>244.706978</td>\n",
       "      <td>873.339308</td>\n",
       "      <td>183.5</td>\n",
       "    </tr>\n",
       "  </tbody>\n",
       "</table>\n",
       "</div>"
      ],
      "text/plain": [
       "        5th      25th        50th        75th        95th   true\n",
       "0  2.048471  57.95144  146.056586  244.706978  873.339308  183.5"
      ]
     },
     "execution_count": 74,
     "metadata": {},
     "output_type": "execute_result"
    }
   ],
   "source": [
    "qr_M4_S"
   ]
  },
  {
   "cell_type": "code",
   "execution_count": 75,
   "id": "isolated-identifier",
   "metadata": {},
   "outputs": [
    {
     "data": {
      "text/html": [
       "<div>\n",
       "<style scoped>\n",
       "    .dataframe tbody tr th:only-of-type {\n",
       "        vertical-align: middle;\n",
       "    }\n",
       "\n",
       "    .dataframe tbody tr th {\n",
       "        vertical-align: top;\n",
       "    }\n",
       "\n",
       "    .dataframe thead th {\n",
       "        text-align: right;\n",
       "    }\n",
       "</style>\n",
       "<table border=\"1\" class=\"dataframe\">\n",
       "  <thead>\n",
       "    <tr style=\"text-align: right;\">\n",
       "      <th></th>\n",
       "      <th>5th</th>\n",
       "      <th>25th</th>\n",
       "      <th>50th</th>\n",
       "      <th>75th</th>\n",
       "      <th>95th</th>\n",
       "      <th>true</th>\n",
       "    </tr>\n",
       "  </thead>\n",
       "  <tbody>\n",
       "    <tr>\n",
       "      <th>0</th>\n",
       "      <td>38.263657</td>\n",
       "      <td>575.728605</td>\n",
       "      <td>794.529869</td>\n",
       "      <td>883.978</td>\n",
       "      <td>1315.502161</td>\n",
       "      <td>947.5</td>\n",
       "    </tr>\n",
       "  </tbody>\n",
       "</table>\n",
       "</div>"
      ],
      "text/plain": [
       "         5th        25th        50th     75th         95th   true\n",
       "0  38.263657  575.728605  794.529869  883.978  1315.502161  947.5"
      ]
     },
     "execution_count": 75,
     "metadata": {},
     "output_type": "execute_result"
    }
   ],
   "source": [
    "4qr_M5_L"
   ]
  },
  {
   "cell_type": "markdown",
   "id": "floppy-thermal",
   "metadata": {},
   "source": [
    "## Two-step approach - Survival analysis "
   ]
  },
  {
   "cell_type": "code",
   "execution_count": 76,
   "id": "removable-accounting",
   "metadata": {},
   "outputs": [],
   "source": [
    "## define hyperparameters\n",
    "lr_s4 = 0.01\n",
    "l2_reg_s4 = 0.01\n",
    "\n",
    "lr_l4 = 0.1\n",
    "l2_reg_l4 = 0.1"
   ]
  },
  {
   "cell_type": "code",
   "execution_count": 77,
   "id": "mighty-difference",
   "metadata": {},
   "outputs": [],
   "source": [
    "## Get E -train\n",
    "E_S = np.ones(len(trainS))\n",
    "E_L = np.ones(len(trainL))\n",
    "\n",
    "## Get T - train\n",
    "T_S = trainS['life_time']\n",
    "T_L = trainL['life_time']"
   ]
  },
  {
   "cell_type": "code",
   "execution_count": 81,
   "id": "forced-circumstances",
   "metadata": {},
   "outputs": [
    {
     "data": {
      "text/plain": [
       "183.5"
      ]
     },
     "execution_count": 81,
     "metadata": {},
     "output_type": "execute_result"
    }
   ],
   "source": [
    "y_specificS"
   ]
  },
  {
   "cell_type": "code",
   "execution_count": 83,
   "id": "friendly-surgery",
   "metadata": {},
   "outputs": [],
   "source": [
    "## single stat data\n",
    "E_single_S = np.ones(1)\n",
    "E_single_L = np.ones(1)"
   ]
  },
  {
   "cell_type": "code",
   "execution_count": 84,
   "id": "alpine-sigma",
   "metadata": {},
   "outputs": [
    {
     "data": {
      "text/plain": [
       "CoxPHModel"
      ]
     },
     "execution_count": 84,
     "metadata": {},
     "output_type": "execute_result"
    }
   ],
   "source": [
    "regs = CoxPHModel()\n",
    "regs.fit(X_S, T_S, E_S, lr=lr_s4, l2_reg = l2_reg_s4, \n",
    "        init_method='zeros', max_iter=800, verbose=False)\n",
    "regl = CoxPHModel()\n",
    "regl.fit(X_L, T_L, E_L, lr=lr_l4, l2_reg = l2_reg_l4, \n",
    "        init_method='zeros', max_iter=800, verbose=False)"
   ]
  },
  {
   "cell_type": "code",
   "execution_count": 85,
   "id": "noticed-restoration",
   "metadata": {},
   "outputs": [
    {
     "data": {
      "text/plain": [
       "[181.727580755253]"
      ]
     },
     "execution_count": 85,
     "metadata": {},
     "output_type": "execute_result"
    }
   ],
   "source": [
    "point_predictionsS = point_pred_single(regs, X_specificS)\n",
    "point_predictionsS"
   ]
  },
  {
   "cell_type": "code",
   "execution_count": 86,
   "id": "emotional-pressure",
   "metadata": {},
   "outputs": [
    {
     "data": {
      "text/plain": [
       "[718.9554521946602]"
      ]
     },
     "execution_count": 86,
     "metadata": {},
     "output_type": "execute_result"
    }
   ],
   "source": [
    "point_predictionsL = point_pred_single(regl, X_specificL)\n",
    "point_predictionsL"
   ]
  },
  {
   "cell_type": "code",
   "execution_count": 87,
   "id": "recovered-monte",
   "metadata": {},
   "outputs": [],
   "source": [
    "survS = regs.predict_survival(x=X_specificS)\n",
    "timeS = regs.times\n",
    "\n",
    "survL = regl.predict_survival(x=X_specificL)\n",
    "timeL = regl.times"
   ]
  },
  {
   "cell_type": "code",
   "execution_count": 88,
   "id": "controlled-approval",
   "metadata": {},
   "outputs": [
    {
     "data": {
      "text/plain": [
       "[11002, 2193]"
      ]
     },
     "execution_count": 88,
     "metadata": {},
     "output_type": "execute_result"
    }
   ],
   "source": [
    "index_specific"
   ]
  },
  {
   "cell_type": "code",
   "execution_count": 90,
   "id": "intense-auction",
   "metadata": {},
   "outputs": [
    {
     "data": {
      "image/png": "[encoded data removed]",
      "text/plain": [
       "<Figure size 396x252 with 1 Axes>"
      ]
     },
     "metadata": {
      "needs_background": "light"
     },
     "output_type": "display_data"
    }
   ],
   "source": [
    "fig = plt.figure(figsize=(5.5, 3.5))\n",
    "\n",
    "mean = []\n",
    "upper = []\n",
    "lower = []\n",
    "temp_surv = survS[0]\n",
    "for k in range(len(timeS)):\n",
    "    vals = temp_surv[k]\n",
    "    mean.append(np.mean(vals))\n",
    "plt.plot(timeS,mean, color='k', label=index_specific[0])\n",
    "\n",
    "mean = []\n",
    "upper = []\n",
    "lower = []\n",
    "temp_surv = survL[0]\n",
    "for k in range(len(timeL)):\n",
    "    vals = temp_surv[k]\n",
    "    mean.append(np.mean(vals))\n",
    "plt.plot(timeL,mean, color='b', label=index_specific[1])\n",
    "\n",
    "plt.legend()\n",
    "plt.xlabel(\"Idle time (minutes)\")\n",
    "plt.ylabel(\"Survival probability\")\n",
    "plt.grid()\n",
    "plt.savefig('../visualization/SA_specificEvents.pdf',bbox_inches='tight')\n",
    "plt.show()"
   ]
  }
 ],
 "metadata": {
  "kernelspec": {
   "display_name": "Python 3",
   "language": "python",
   "name": "python3"
  },
  "language_info": {
   "codemirror_mode": {
    "name": "ipython",
    "version": 3
   },
   "file_extension": ".py",
   "mimetype": "text/x-python",
   "name": "python",
   "nbconvert_exporter": "python",
   "pygments_lexer": "ipython3",
   "version": "3.7.3"
  }
 },
 "nbformat": 4,
 "nbformat_minor": 5
}
